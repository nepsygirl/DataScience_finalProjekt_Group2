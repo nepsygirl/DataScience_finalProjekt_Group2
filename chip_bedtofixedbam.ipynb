

from pickle import TRUE
import subprocess

path = '/home/melika/analysis/' 
path_bw= '/home/melika/analysis/H2K4me1/' 


import os

files = os.listdir(path)
for file in files:
  if file.endswith('.gz'):
        files.remove(file) 
files = [x[:-4] if x.endswith('.bed') else x for x in files]



#this script was for conversion the chip-seq from bed to bam format 
#and creat the count matrix from bam files for each chip modification.
#But unfortunately it did not work.


for file in files:

  #bed to bam format
  bedToBam = "bedToBam -i " + path + file + ".bed -g " + path + "hg19.txt > " + path + file + ".bam" 
  subprocess.call(bedToBam,shell=True)

  #check the header of bam file
  samtools = "samtools view -H " + path + file + ".bam > " + path + file + ".txt"
  subprocess.call(samtools, shell=True)
  
  #Because bedtools enforces that each BAM has the same set and order of chromosomes in the BAM headers.
  #replace the header in all bam files, because all bam file should have the same sorted header to create the count matrix
  samtools1 =  "samtools reheader " + path + file + ".txt " + path + file + ".bam > " + path + file + "fixed.bam"
  subprocess.call(samtools1,shell=True)
  
  #Indexing a sorted bam file enables rapid extraction of alignments that overlap with specific genomic regions.
  #we needed this fixed bams and merged bed files containing the merged peaks to generate the count matrix 
  samtools2 = "samtools index " + path + file + "fixed.bam "
  subprocess.call(samtools2, shell=True)
  
