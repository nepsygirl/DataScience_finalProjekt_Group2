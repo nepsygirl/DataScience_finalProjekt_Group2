{
 "cells": [
  {
   "cell_type": "markdown",
   "id": "6678a3bf-e7b9-4c41-aaa3-9a71d026376c",
   "metadata": {},
   "source": [
    "# Data Science | Final Project | Group 02\n",
    "\n",
    "## Identify epigenetic alterations associated with Alzheimer’s disease and classification of gene expressions between healthy and sick patients\n",
    "\n",
    "#### Carmen Calle Huerta, Christina Kirschbaum, Pushpa Koirala, Melika Moradi"
   ]
  },
  {
   "cell_type": "markdown",
   "id": "e7b47320-9337-494f-a0af-932f496c4ca3",
   "metadata": {},
   "source": [
    "## Our Project\n",
    "\n",
    "Alzheimer’s disease is the most prevalent kind of dementia and a fatal brain ailment. More study into this illness might lead to a better understanding of the condition and more effective treatment options. \n",
    "\n",
    "In this project, ChIP-seq data for H3K27ac, H3K9ac, H3K122ac and H3K4me1 as well as RNA-seq data from the from the lateral temporal lobe of the human brain for young healthy patients, old heathy patients and patients with Alzheimers disease will be analyzed and the differences between normal aging and cognitive impairment will be explored. The epigenomic or transcriptomic profiles will be analyzed to find relevant epigenetic alterations associated with the disease and help to better understand the molecular pathophysiology underlying.\n",
    "\n",
    "Afterwards, with Machine Learning models the presence and absence of Alzheimer’s disease based on the data. The models will be built with Support Vector Machines and Random Forest.\n",
    "\n",
    "Finally, the findings will be compared to them in related papers, we will look into relevant *in vivo* experiments with model organisms and use the Genome Browser to generate ChIP-seq tracks.\n",
    "\n",
    "For our project we were inspirated by the paper:\n",
    "Nativio R, Lan Y, Donahue G et al. [\"An integrated multi-omics approach identifies\n",
    "epigenetic alterations associated with Alzheimer’s disease.\"](https://www.ncbi.nlm.nih.gov/pmc/articles/PMC8098004/)\n",
    "\n",
    "The data is derived from GEO, [Series GSE153875](https://www.ncbi.nlm.nih.gov/geo/query/acc.cgi?acc=GSE153875), for the CHiP-seq data and the raw RNA-seq data [Series GSE159699](https://www.ncbi.nlm.nih.gov/Traces/study/?acc=PRJNA670209&o=acc_s%3Aa). "
   ]
  },
  {
   "cell_type": "markdown",
   "id": "2e7a13d3",
   "metadata": {},
   "source": [
    "## Import packages\n",
    "\n",
    "First, we import some of the most frequently used packages in Python. [NumPy](https://numpy.org/doc/stable/) for working with arrays, matrices and linear algebra, [pandas](https://pandas.pydata.org/docs/) for data analysis and manipulation, [matplotlib](https://matplotlib.org/) and [seaborn](https://seaborn.pydata.org/) for visualizations."
   ]
  },
  {
   "cell_type": "code",
   "execution_count": 1,
   "id": "d313e8ca",
   "metadata": {},
   "outputs": [],
   "source": [
    "import numpy as np\n",
    "import pandas as pd\n",
    "import matplotlib.pyplot as plt\n",
    "import seaborn as sns"
   ]
  },
  {
   "cell_type": "markdown",
   "id": "a67bd37d-c0e3-41d2-98ec-f7d302110cf1",
   "metadata": {},
   "source": [
    "## Data Integration and Preprocessing RNA-seq\n",
    "\n",
    "In the next step, we import our RNA-seq data from the SubSeries GSE159699 of the SuperSeries GSE153875 with SRA-Toolkit and fastq-dump. To integrate this process into Python, the package subrocess is used."
   ]
  },
  {
   "cell_type": "code",
   "execution_count": 2,
   "id": "cf943bf2-5f35-439d-ade7-2116ab5aaa0e",
   "metadata": {},
   "outputs": [],
   "source": [
    "import subprocess\n",
    "\n",
    "# sra numbers from accession list of our RNA-seq data from SuperSeries GSE153875 / SubSeries GSE159699\n",
    "sra_numbers = [\n",
    "    \"SRR12850830\", \"SRR12850831\", \"SRR12850832\", \"SRR12850833\", \"SRR12850834\",\n",
    "    \"SRR12850835\", \"SRR12850836\", \"SRR12850837\", \"SRR12850838\", \"SRR12850839\",\n",
    "    \"SRR12850840\", \"SRR12850841\", \"SRR12850842\", \"SRR12850843\", \"SRR12850844\",\n",
    "    \"SRR12850845\", \"SRR12850846\", \"SRR12850847\", \"SRR12850848\", \"SRR12850849\",\n",
    "    \"SRR12850850\", \"SRR12850851\", \"SRR12850852\", \"SRR12850853\", \"SRR12850854\",\n",
    "    \"SRR12850855\", \"SRR12850856\", \"SRR12850857\", \"SRR12850858\", \"SRR12850859\"\n",
    "    ]"
   ]
  },
  {
   "cell_type": "code",
   "execution_count": null,
   "id": "d844c8bf-c638-4e31-85c2-6bb4b16ba761",
   "metadata": {
    "scrolled": true,
    "tags": []
   },
   "outputs": [],
   "source": [
    "# code from https://erilu.github.io/python-fastq-downloader/\n",
    "\n",
    "# this will download the .sra files to ~/ncbi/public/sra/ \n",
    "for sra_id in sra_numbers:\n",
    "    print (\"Currently downloading: \" + sra_id)\n",
    "    prefetch = \"prefetch \" + sra_id\n",
    "    print (\"The command used was: \" + prefetch)\n",
    "    subprocess.call(prefetch, shell=True)\n",
    "\n",
    "# this will extract the .sra files from above into a folder named 'fastq'\n",
    "for sra_id in sra_numbers:\n",
    "    print (\"Generating fastq for: \" + sra_id)\n",
    "    fastq_dump = \"fastq-dump --outdir fastq --gzip --skip-technical  --readids --read-filter pass --dumpbase --split-3 --clip ~/ncbi/public/sra/\" + sra_id + \".sra\"\n",
    "    print (\"The command used was: \" + fastq_dump)\n",
    "    subprocess.call(fastq_dump, shell=True)"
   ]
  },
  {
   "cell_type": "markdown",
   "id": "78a150c2-3234-4dad-a697-6288ee49256a",
   "metadata": {},
   "source": [
    "## Data Integration for ChIP-seq\n",
    "\n",
    "The .bed and .bw files for the ChIP-seq data were downloaded. They are available as supplementary files of the SuperSeries GSE153875 from GEO. We split them into folders for H3K27ac, H3K9ac, H3K122ac and H3K4me1 (and peaks) to get smaller sets."
   ]
  },
  {
   "cell_type": "code",
   "execution_count": null,
   "id": "6e548718-125b-49d6-92cc-4b3a11b97248",
   "metadata": {},
   "outputs": [],
   "source": [
    "# The following code can get the metadata (if needed) for the ChIP-seq data with the library GEOparse (similar to GEOquery).\n",
    "import GEOparse\n",
    "\n",
    "gse = GEOparse.get_GEO(geo=\"GSE153875\", destdir=\"./\")"
   ]
  },
  {
   "cell_type": "code",
   "execution_count": null,
   "id": "e548f025-56f7-4b10-8776-fa3f6f29742a",
   "metadata": {},
   "outputs": [],
   "source": [
    "# prints the metadata for the first sample\n",
    "for gsm_name, gsm in gse.gsms.items():\n",
    "    print(\"Name: \", gsm_name)\n",
    "    print(\"Metadata:\",)\n",
    "    for key, value in gsm.metadata.items():\n",
    "        print(\" - %s : %s\" % (key, \", \".join(value)))\n",
    "    break"
   ]
  },
  {
   "cell_type": "markdown",
   "id": "d84557ac-8979-413f-b64e-b8b20fe0b3bb",
   "metadata": {},
   "source": [
    "## Quality Control RNA-seq\n",
    "\n",
    "### FastQC\n",
    "\n",
    "For the Quality Control of the RNA-seq data, [FastQC](https://www.bioinformatics.babraham.ac.uk/projects/fastqc/) was downloaded and reports were generated for every sequence. The reports can be found in the repository in the folder MultiQC_RNA."
   ]
  },
  {
   "cell_type": "code",
   "execution_count": 58,
   "id": "0b427ad5-0d72-4c4a-9e5f-c35f538d7375",
   "metadata": {},
   "outputs": [],
   "source": [
    "import subprocess\n",
    "\n",
    "path = \"/mnt/c/Users/Christina/Documents/GitHub/DataScience_finalProjekt_Group2/data/\"\n",
    "path_genomeDir = \"/mnt/c/Users/Christina/Documents/GitHub/DataScience_finalProjekt_Group2/GenomeDir/\"\n",
    "path_fastq = \"/mnt/c/Users/Christina/Documents/GitHub/DataScience_finalProjekt_Group2/data/fastq/\""
   ]
  },
  {
   "cell_type": "code",
   "execution_count": 6,
   "id": "b371367f-3c35-445e-8b69-56d614419b58",
   "metadata": {},
   "outputs": [],
   "source": [
    "# unzip data\n",
    "for fastq in sra_numbers:\n",
    "    gunzip = \"gunzip \" + path_fastq + fastq + \"_pass.fastq.gz\"\n",
    "    subprocess.call(gunzip, shell=True)"
   ]
  },
  {
   "cell_type": "code",
   "execution_count": null,
   "id": "1e66c3ed-eda3-4485-8a23-3d1702658898",
   "metadata": {},
   "outputs": [],
   "source": [
    "for fastq in sra_numbers:\n",
    "    fastqc = \"/home/christina/FastQC/fastqc \\\n",
    "              --readFilesIn \" + path_fastq + fastq + \"_pass.fastq\"\n",
    "    subprocess.call(fastqc, shell=True)"
   ]
  },
  {
   "cell_type": "markdown",
   "id": "d4f5fdba-0d9e-4a51-9c1e-0d7f9bbdd596",
   "metadata": {},
   "source": [
    "### STAR\n",
    "\n",
    "Afterwards, we will now preprocess the data with STAR, an aligner for RNA-seq data mapping. Like in the paper of *Nativio et al.*, we will align our RNA-seq reads to the human reference genome (assembly GRCh37.75/hg19) using [STAR](https://github.com/alexdobin/STAR) with default parameters.\n",
    "The [fasta](http://ftp.ensembl.org/pub/release-75/fasta/homo_sapiens/dna/) and the [gtf](http://ftp.ensembl.org/pub/release-75/gtf/homo_sapiens/) file used for the genomeGenerate run were downloaded from Ensembl. \n",
    "\n",
    "This will create .sam files out of the .fastq files. The logfiles for all sequences are saved in the folder MultiQC_RNA."
   ]
  },
  {
   "cell_type": "code",
   "execution_count": 4,
   "id": "28ee4c4e-2a4a-4ff5-9ecb-ce708b582a42",
   "metadata": {},
   "outputs": [
    {
     "data": {
      "text/plain": [
       "134"
      ]
     },
     "execution_count": 4,
     "metadata": {},
     "output_type": "execute_result"
    }
   ],
   "source": [
    "# get Genome Index (assembly GRCh37.75)\n",
    "genomeIndex = \"STAR --runThreadN 2 \\\n",
    "               --runMode genomeGenerate \\\n",
    "               --genomeDir \" + path_genomeDir + \" \\\n",
    "               --genomeFastaFiles \" + path + \"Homo_sapiens.GRCh37.75.dna_sm.primary_assembly.fa \\\n",
    "               --sjdbGTFfile \" + path + \"Homo_sapiens.GRCh37.75.gtf\"\n",
    "subprocess.call(genomeIndex, shell=True)"
   ]
  },
  {
   "cell_type": "markdown",
   "id": "775a6438-c2b4-4699-9e30-bf198bdde1ff",
   "metadata": {},
   "source": [
    "The logfile for genomeGenerate included many warnings for assembly GRCh37.75/h19, so the most recent version available was taken from Ensembl to check. The [fasta](http://ftp.ensembl.org/pub/release-106/fasta/homo_sapiens/dna/) (primary assembly soft masked) and the [gtf](http://ftp.ensembl.org/pub/release-106/gtf/homo_sapiens/) file can be found following the links.\n",
    "\n",
    "In the check with the most recent version of GRCh38, the warnings were absent. \n",
    "The problem was that the patches, which suggest how gaps in the genome sequence can be filled, are not integrated in the version GRCh37.75/h19, but in the most recent version of GRCh38."
   ]
  },
  {
   "cell_type": "code",
   "execution_count": 10,
   "id": "07d24f8b-fb8e-4e4d-b08e-35e9c296819f",
   "metadata": {},
   "outputs": [
    {
     "data": {
      "text/plain": [
       "134"
      ]
     },
     "execution_count": 10,
     "metadata": {},
     "output_type": "execute_result"
    }
   ],
   "source": [
    "# get Genome Index (most recent)\n",
    "genomeIndex = \"STAR --runThreadN 2 \\\n",
    "               --runMode genomeGenerate \\\n",
    "               --genomeDir \" + path_genomeDir + \" \\\n",
    "               --genomeFastaFiles \" + path + \"Homo_sapiens.GRCh38.dna_sm.primary_assembly.fa \\\n",
    "               --sjdbGTFfile \" + path + \"Homo_sapiens.GRCh38.106.gtf\"\n",
    "subprocess.call(genomeIndex, shell=True)"
   ]
  },
  {
   "cell_type": "markdown",
   "id": "515bf67a-c9ee-49ee-8073-f35efd37ef00",
   "metadata": {},
   "source": [
    "To get rid of the warnings, the patches were removed from the assembly and the Genome Index was built with the new file. Due to the removed patches the read count can be distorted because reads that should align to the patches align somewhere else.\n",
    "\n",
    "The argument `genomeSAindexNbases` was added and set to 10 according to the formula min(14, log2(GenomeLength)/2-1). The value is 14 by default and typically between 10 and 15. Longer strings use more memory but allow faster searches."
   ]
  },
  {
   "cell_type": "code",
   "execution_count": 7,
   "id": "36dfd0b8-6183-4472-bccd-bd30066c1155",
   "metadata": {},
   "outputs": [
    {
     "data": {
      "text/plain": [
       "0"
      ]
     },
     "execution_count": 7,
     "metadata": {},
     "output_type": "execute_result"
    }
   ],
   "source": [
    "# unzip files without patches\n",
    "gunzip = \"gunzip \" + path + \"/without_patches/Homo_sapiens.GRCh37.75.dna_sm.*.fa.gz\"\n",
    "subprocess.call(gunzip, shell=True)"
   ]
  },
  {
   "cell_type": "code",
   "execution_count": 59,
   "id": "2de720bb-53b2-4a43-834a-3cc3665de988",
   "metadata": {},
   "outputs": [
    {
     "data": {
      "text/plain": [
       "137"
      ]
     },
     "execution_count": 59,
     "metadata": {},
     "output_type": "execute_result"
    }
   ],
   "source": [
    "genomeIndex = \"STAR --runThreadN 2 \\\n",
    "               --runMode genomeGenerate \\\n",
    "               --genomeDir \" + path_genomeDir + \" \\\n",
    "               --genomeFastaFiles \" + path + \"Homo_sapiens.GRCh37.75.dna_sm.primary_assembly.fa \\\n",
    "               --sjdbGTFfile \" + path + \"Homo_sapiens.GRCh37.75.without_patch.gtf \\\n",
    "               --genomeSAindexNbases 10\"\n",
    "subprocess.call(genomeIndex, shell=True)"
   ]
  },
  {
   "cell_type": "code",
   "execution_count": 6,
   "id": "02b890a6-a841-4a7c-b4a9-71750bd76aa0",
   "metadata": {},
   "outputs": [
    {
     "name": "stdout",
     "output_type": "stream",
     "text": [
      "Currently processing: SRR12850830\n",
      "Currently processing: SRR12850831\n",
      "Currently processing: SRR12850832\n",
      "Currently processing: SRR12850833\n",
      "Currently processing: SRR12850834\n",
      "Currently processing: SRR12850835\n",
      "Currently processing: SRR12850836\n",
      "Currently processing: SRR12850837\n",
      "Currently processing: SRR12850838\n",
      "Currently processing: SRR12850839\n",
      "Currently processing: SRR12850840\n",
      "Currently processing: SRR12850841\n",
      "Currently processing: SRR12850842\n",
      "Currently processing: SRR12850843\n",
      "Currently processing: SRR12850844\n",
      "Currently processing: SRR12850845\n",
      "Currently processing: SRR12850846\n",
      "Currently processing: SRR12850847\n",
      "Currently processing: SRR12850848\n",
      "Currently processing: SRR12850849\n",
      "Currently processing: SRR12850850\n",
      "Currently processing: SRR12850851\n",
      "Currently processing: SRR12850852\n",
      "Currently processing: SRR12850853\n",
      "Currently processing: SRR12850854\n",
      "Currently processing: SRR12850855\n",
      "Currently processing: SRR12850856\n",
      "Currently processing: SRR12850857\n",
      "Currently processing: SRR12850858\n",
      "Currently processing: SRR12850859\n"
     ]
    }
   ],
   "source": [
    "# Run mapping\n",
    "for fastq in sra_numbers:\n",
    "    print (\"Currently processing: \" + fastq)\n",
    "    mapping = \"STAR --runThreadN 2 \\\n",
    "               --genomeDir \" + path_genomeDir + \" \\\n",
    "               --readFilesIn \" + path_fastq + fastq + \"_pass.fastq \\\n",
    "               --outFileNamePrefix \" + path + fastq + \"/\"\n",
    "    subprocess.call(mapping, shell=True)"
   ]
  },
  {
   "cell_type": "markdown",
   "id": "5289dd68-2c1c-405a-aef9-2a60d3d36c19",
   "metadata": {},
   "source": [
    "### featureCounts\n",
    "\n",
    "Finally, they used featureCounts in the paper. featureCounts is part of the [Subread/RSubread](http://subread.sourceforge.net/) package."
   ]
  },
  {
   "cell_type": "code",
   "execution_count": null,
   "id": "b4a86eb3-8e8a-4156-92e8-4178fb8b55ba",
   "metadata": {},
   "outputs": [],
   "source": [
    "for sam in sra_numbers:\n",
    "    print (\"Currently processing: \" + sam)\n",
    "    featurecounts = \"featureCounts -T 2 -t exon -g gene_id \\\n",
    "                     -a Homo_sapiens.GRCh37.75.gtf \\\n",
    "                     -o \" + path + \"/MultiQC_RNA/\" + sam + \".txt \\\n",
    "                     Aligned_\" + sam + \".out.sam\"\n",
    "    subprocess.call(featurecounts, shell=True)"
   ]
  },
  {
   "cell_type": "markdown",
   "id": "dc52bff2-1365-4030-b23d-333e321ed55e",
   "metadata": {},
   "source": [
    "### MultiQC\n",
    "\n",
    "Now all the generated reports and logfiles for the RNA-seq will be summarized by the tool [MultiQC](https://multiqc.info/)."
   ]
  },
  {
   "cell_type": "code",
   "execution_count": 11,
   "id": "fc53aff7-74db-4a86-ad23-4e3501e99e4a",
   "metadata": {},
   "outputs": [
    {
     "data": {
      "text/plain": [
       "0"
      ]
     },
     "execution_count": 11,
     "metadata": {},
     "output_type": "execute_result"
    }
   ],
   "source": [
    "#multiqc = \"multiqc /mnt/c/Users/Christina/Documents/GitHub/DataScience_finalProjekt_Group2/MultiQC_RNA/\"\n",
    "#subprocess.call(multiqc, shell=True)\n",
    "\n",
    "import multiqc\n",
    "multiqc.run(\"/mnt/c/Users/Christina/Documents/GitHub/DataScience_finalProjekt_Group2/MultiQC_RNA/\")"
   ]
  },
  {
   "cell_type": "markdown",
   "id": "2f42f17e-2537-411f-a1e2-04c9c86f8208",
   "metadata": {},
   "source": [
    "## Quality Control ChIP-seq\n",
    "\n",
    "Script for bw to fastq, Melika or Pushpa please try\n",
    "\n",
    "Change paths to your directory:\n",
    "\n",
    "path = where your hg19.fa is, can be deleted when it is in the directory you run it in\n",
    "\n",
    "path_bw = path to the folder with the bw files"
   ]
  },
  {
   "cell_type": "code",
   "execution_count": 53,
   "id": "950ee6d8-be66-4444-b466-9f59fb70998e",
   "metadata": {},
   "outputs": [],
   "source": [
    "import subprocess\n",
    "\n",
    "path = \"/mnt/c/Users/Christina/Documents/GitHub/DataScience_finalProjekt_Group2/data/\"\n",
    "path_bw = \"/mnt/c/Users/Christina/Documents/GitHub/DataScience_finalProjekt_Group2/data/H3K122ac/\""
   ]
  },
  {
   "cell_type": "code",
   "execution_count": 54,
   "id": "24adaf77-2229-42b6-aa7d-7a7e4f72f8d3",
   "metadata": {},
   "outputs": [],
   "source": [
    "import os\n",
    "\n",
    "files = os.listdir(path_bw)\n",
    "for file in files:\n",
    "    if file.endswith('.gz'):\n",
    "        files.remove(file) \n",
    "files = [x[:-3] if x.endswith('.bw') else x for x in files]"
   ]
  },
  {
   "cell_type": "code",
   "execution_count": 57,
   "id": "dfaedd55-796d-4c8e-a131-0e7324aebb17",
   "metadata": {},
   "outputs": [],
   "source": [
    "# for .bw files\n",
    "\n",
    "for file in files:\n",
    "    bigwigtowig = \"bigWigToWig \" + path_bw + file + \".bw \" + path_bw + file +\".wig\"\n",
    "    subprocess.call(bigwigtowig, shell=True)\n",
    "\n",
    "    wigtobed = \"wig2bed < \" + path_bw + file + \".wig > \" + path_bw + file + \".bed\"\n",
    "    subprocess.call(wigtobed, shell=True)\n",
    "\n",
    "    getfasta = \"bedtools getfasta -fi \" + path + \"hg19.fa -bed \" + path_bw + file + \".bw -fo \" + path_bw + file + \".fa\"\n",
    "    subprocess.call(getfasta, shell=True)\n",
    "\n",
    "    perl = \"perl \" + path + \"fasta_to_fastq.pl\" + path_bw + file + \".fa > \" + path_bw + file + \".fq\"\n",
    "    subprocess.call(perl, shell=True)"
   ]
  },
  {
   "cell_type": "code",
   "execution_count": null,
   "id": "37231250-6ae2-4806-ac99-d6a143d6d633",
   "metadata": {},
   "outputs": [],
   "source": []
  },
  {
   "cell_type": "markdown",
   "id": "11393845-4a5f-496a-8fea-64bed8ee0ede",
   "metadata": {},
   "source": [
    "## Exploratory Data Analysis"
   ]
  }
 ],
 "metadata": {
  "kernelspec": {
   "display_name": "Python 3 (ipykernel)",
   "language": "python",
   "name": "python3"
  },
  "language_info": {
   "codemirror_mode": {
    "name": "ipython",
    "version": 3
   },
   "file_extension": ".py",
   "mimetype": "text/x-python",
   "name": "python",
   "nbconvert_exporter": "python",
   "pygments_lexer": "ipython3",
   "version": "3.9.13"
  },
  "vscode": {
   "interpreter": {
    "hash": "77efda19133223beae4d8202f64c0ed7ef77e02bd33099328534a5c00204ca3d"
   }
  }
 },
 "nbformat": 4,
 "nbformat_minor": 5
}
