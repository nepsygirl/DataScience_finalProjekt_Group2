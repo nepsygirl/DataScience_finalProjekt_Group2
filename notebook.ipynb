{
 "cells": [
  {
   "cell_type": "markdown",
   "id": "6678a3bf-e7b9-4c41-aaa3-9a71d026376c",
   "metadata": {},
   "source": [
    "# Data Science | Final Project | Group 02\n",
    "\n",
    "## Identify epigenetic alterations associated with Alzheimer’s disease and classification of gene expressions between healthy and sick patients\n",
    "\n",
    "#### Christina Kirschbaum, Pushpa Koirala, Melika Moradi"
   ]
  },
  {
   "cell_type": "markdown",
   "id": "e7b47320-9337-494f-a0af-932f496c4ca3",
   "metadata": {},
   "source": [
    "## Our Project\n",
    "\n",
    "Alzheimer’s disease is the most prevalent kind of dementia and a fatal brain ailment. More study into this illness might lead to a better understanding of the condition and more effective treatment options. \n",
    "\n",
    "In this project, ChIP-seq data for H3K27ac, H3K9ac, H3K122ac and H3K4me1 as well as RNA-seq data from the from the lateral temporal lobe of the human brain for young healthy patients, old heathy patients and patients with Alzheimers disease will be analyzed and the differences between normal aging and cognitive impairment will be explored. The epigenomic or transcriptomic profiles will be analyzed to find relevant epigenetic alterations associated with the disease and help to better understand the molecular pathophysiology underlying.\n",
    "\n",
    "Afterwards, with Machine Learning models the presence and absence of Alzheimer’s disease based on the data. The models will be built with Support Vector Machines and Random Forest.\n",
    "\n",
    "Finally, the findings will be compared to them in related papers, we will look into relevant *in vivo* experiments with model organisms and use the Genome Browser to generate ChIP-seq tracks.\n",
    "\n",
    "For our project we were inspirated by the paper:\n",
    "Nativio R, Lan Y, Donahue G et al. [\"An integrated multi-omics approach identifies\n",
    "epigenetic alterations associated with Alzheimer’s disease.\"](https://www.ncbi.nlm.nih.gov/pmc/articles/PMC8098004/)\n",
    "\n",
    "The data is derived from GEO, [Series GSE153875](https://www.ncbi.nlm.nih.gov/geo/query/acc.cgi?acc=GSE153875), for the CHiP-seq data and the raw RNA-seq data [Series GSE159699](https://www.ncbi.nlm.nih.gov/Traces/study/?acc=PRJNA670209&o=acc_s%3Aa). "
   ]
  },
  {
   "cell_type": "markdown",
   "id": "a67bd37d-c0e3-41d2-98ec-f7d302110cf1",
   "metadata": {},
   "source": [
    "## Data Integration and Preprocessing RNA-seq\n",
    "\n",
    "In the next step, we import our RNA-seq data from the SubSeries GSE159699 of the SuperSeries GSE153875 with SRA-Toolkit and fastq-dump. To integrate this process into Python, the package subrocess is used."
   ]
  },
  {
   "cell_type": "code",
   "execution_count": 3,
   "id": "cf943bf2-5f35-439d-ade7-2116ab5aaa0e",
   "metadata": {},
   "outputs": [],
   "source": [
    "import subprocess\n",
    "\n",
    "# sra numbers from accession list of our RNA-seq data from SuperSeries GSE153875 / SubSeries GSE159699\n",
    "sra_numbers = [\n",
    "    \"SRR12850830\", \"SRR12850831\", \"SRR12850832\", \"SRR12850833\", \"SRR12850834\",\n",
    "    \"SRR12850835\", \"SRR12850836\", \"SRR12850837\", \"SRR12850838\", \"SRR12850839\",\n",
    "    \"SRR12850840\", \"SRR12850841\", \"SRR12850842\", \"SRR12850843\", \"SRR12850844\",\n",
    "    \"SRR12850845\", \"SRR12850846\", \"SRR12850847\", \"SRR12850848\", \"SRR12850849\",\n",
    "    \"SRR12850850\", \"SRR12850851\", \"SRR12850852\", \"SRR12850853\", \"SRR12850854\",\n",
    "    \"SRR12850855\", \"SRR12850856\", \"SRR12850857\", \"SRR12850858\", \"SRR12850859\"\n",
    "    ]"
   ]
  },
  {
   "cell_type": "code",
   "execution_count": null,
   "id": "d844c8bf-c638-4e31-85c2-6bb4b16ba761",
   "metadata": {
    "scrolled": true,
    "tags": []
   },
   "outputs": [],
   "source": [
    "# code from https://erilu.github.io/python-fastq-downloader/\n",
    "\n",
    "# this will download the .sra files to ~/ncbi/public/sra/ \n",
    "for sra_id in sra_numbers:\n",
    "    print (\"Currently downloading: \" + sra_id)\n",
    "    prefetch = \"prefetch \" + sra_id\n",
    "    print (\"The command used was: \" + prefetch)\n",
    "    subprocess.call(prefetch, shell=True)\n",
    "\n",
    "# this will extract the .sra files from above into a folder named 'fastq'\n",
    "for sra_id in sra_numbers:\n",
    "    print (\"Generating fastq for: \" + sra_id)\n",
    "    fastq_dump = \"fastq-dump --outdir fastq --gzip --skip-technical  --readids --read-filter pass --dumpbase --split-3 --clip ~/ncbi/public/sra/\" + sra_id + \".sra\"\n",
    "    print (\"The command used was: \" + fastq_dump)\n",
    "    subprocess.call(fastq_dump, shell=True)"
   ]
  },
  {
   "cell_type": "markdown",
   "id": "78a150c2-3234-4dad-a697-6288ee49256a",
   "metadata": {},
   "source": [
    "## Data Integration for ChIP-seq\n",
    "\n",
    "The .bed and .bw files for the ChIP-seq data were downloaded. They are available as supplementary files of the SuperSeries GSE153875 from GEO. We split them into folders for H3K27ac, H3K9ac, H3K122ac and H3K4me1 (and peaks) to get smaller sets."
   ]
  },
  {
   "cell_type": "code",
   "execution_count": null,
   "id": "6e548718-125b-49d6-92cc-4b3a11b97248",
   "metadata": {},
   "outputs": [],
   "source": [
    "# The following code can get the metadata (if needed) for the ChIP-seq data with the library GEOparse (similar to GEOquery).\n",
    "import GEOparse\n",
    "\n",
    "gse = GEOparse.get_GEO(geo=\"GSE153875\", destdir=\"./\")"
   ]
  },
  {
   "cell_type": "code",
   "execution_count": null,
   "id": "e548f025-56f7-4b10-8776-fa3f6f29742a",
   "metadata": {},
   "outputs": [],
   "source": [
    "# prints the metadata for the first sample\n",
    "for gsm_name, gsm in gse.gsms.items():\n",
    "    print(\"Name: \", gsm_name)\n",
    "    print(\"Metadata:\",)\n",
    "    for key, value in gsm.metadata.items():\n",
    "        print(\" - %s : %s\" % (key, \", \".join(value)))\n",
    "    break"
   ]
  },
  {
   "cell_type": "markdown",
   "id": "d84557ac-8979-413f-b64e-b8b20fe0b3bb",
   "metadata": {},
   "source": [
    "## Quality Control RNA-seq\n",
    "\n",
    "### FastQC\n",
    "\n",
    "For the Quality Control of the RNA-seq data, [FastQC](https://www.bioinformatics.babraham.ac.uk/projects/fastqc/) was downloaded and reports were generated for every sequence. The reports can be found in the repository in the folder MultiQC_RNA."
   ]
  },
  {
   "cell_type": "code",
   "execution_count": 1,
   "id": "0b427ad5-0d72-4c4a-9e5f-c35f538d7375",
   "metadata": {},
   "outputs": [],
   "source": [
    "import subprocess\n",
    "\n",
    "path = \"/mnt/c/Users/Christina/Documents/GitHub/DataScience_finalProjekt_Group2/data/\"\n",
    "path_genomeDir = \"/mnt/c/Users/Christina/Documents/GitHub/DataScience_finalProjekt_Group2/GenomeDir/\"\n",
    "path_fastq = \"/mnt/c/Users/Christina/Documents/GitHub/DataScience_finalProjekt_Group2/data/fastq/\""
   ]
  },
  {
   "cell_type": "code",
   "execution_count": null,
   "id": "b371367f-3c35-445e-8b69-56d614419b58",
   "metadata": {},
   "outputs": [],
   "source": [
    "# unzip data\n",
    "for fastq in sra_numbers:\n",
    "    gunzip = \"gunzip \" + path_fastq + fastq + \"_pass.fastq.gz\"\n",
    "    subprocess.call(gunzip, shell=True)"
   ]
  },
  {
   "cell_type": "code",
   "execution_count": 5,
   "id": "1e66c3ed-eda3-4485-8a23-3d1702658898",
   "metadata": {},
   "outputs": [
    {
     "name": "stderr",
     "output_type": "stream",
     "text": [
      "Unknown option: readfilesin\n",
      "Started analysis of SRR12850830_pass.fastq\n",
      "Approx 5% complete for SRR12850830_pass.fastq\n",
      "Approx 10% complete for SRR12850830_pass.fastq\n",
      "Approx 15% complete for SRR12850830_pass.fastq\n",
      "Approx 20% complete for SRR12850830_pass.fastq\n",
      "Approx 25% complete for SRR12850830_pass.fastq\n",
      "Approx 30% complete for SRR12850830_pass.fastq\n",
      "Approx 35% complete for SRR12850830_pass.fastq\n",
      "Approx 40% complete for SRR12850830_pass.fastq\n",
      "Approx 45% complete for SRR12850830_pass.fastq\n",
      "Approx 50% complete for SRR12850830_pass.fastq\n",
      "Approx 55% complete for SRR12850830_pass.fastq\n",
      "Approx 60% complete for SRR12850830_pass.fastq\n",
      "Approx 65% complete for SRR12850830_pass.fastq\n",
      "Approx 70% complete for SRR12850830_pass.fastq\n",
      "Approx 75% complete for SRR12850830_pass.fastq\n",
      "Approx 80% complete for SRR12850830_pass.fastq\n",
      "Approx 85% complete for SRR12850830_pass.fastq\n",
      "Approx 90% complete for SRR12850830_pass.fastq\n",
      "Approx 95% complete for SRR12850830_pass.fastq\n"
     ]
    },
    {
     "name": "stdout",
     "output_type": "stream",
     "text": [
      "Analysis complete for SRR12850830_pass.fastq\n"
     ]
    },
    {
     "name": "stderr",
     "output_type": "stream",
     "text": [
      "Unknown option: readfilesin\n",
      "Started analysis of SRR12850831_pass.fastq\n",
      "Approx 5% complete for SRR12850831_pass.fastq\n",
      "Approx 10% complete for SRR12850831_pass.fastq\n",
      "Approx 15% complete for SRR12850831_pass.fastq\n",
      "Approx 20% complete for SRR12850831_pass.fastq\n",
      "Approx 25% complete for SRR12850831_pass.fastq\n",
      "Approx 30% complete for SRR12850831_pass.fastq\n",
      "Approx 35% complete for SRR12850831_pass.fastq\n",
      "Approx 40% complete for SRR12850831_pass.fastq\n",
      "Approx 45% complete for SRR12850831_pass.fastq\n",
      "Approx 50% complete for SRR12850831_pass.fastq\n",
      "Approx 55% complete for SRR12850831_pass.fastq\n",
      "Approx 60% complete for SRR12850831_pass.fastq\n",
      "Approx 65% complete for SRR12850831_pass.fastq\n",
      "Approx 70% complete for SRR12850831_pass.fastq\n",
      "Approx 75% complete for SRR12850831_pass.fastq\n",
      "Approx 80% complete for SRR12850831_pass.fastq\n",
      "Approx 85% complete for SRR12850831_pass.fastq\n",
      "Approx 90% complete for SRR12850831_pass.fastq\n",
      "Approx 95% complete for SRR12850831_pass.fastq\n"
     ]
    },
    {
     "name": "stdout",
     "output_type": "stream",
     "text": [
      "Analysis complete for SRR12850831_pass.fastq\n"
     ]
    },
    {
     "name": "stderr",
     "output_type": "stream",
     "text": [
      "Unknown option: readfilesin\n",
      "Started analysis of SRR12850832_pass.fastq\n",
      "Approx 5% complete for SRR12850832_pass.fastq\n",
      "Approx 10% complete for SRR12850832_pass.fastq\n",
      "Approx 15% complete for SRR12850832_pass.fastq\n",
      "Approx 20% complete for SRR12850832_pass.fastq\n",
      "Approx 25% complete for SRR12850832_pass.fastq\n",
      "Approx 30% complete for SRR12850832_pass.fastq\n",
      "Approx 35% complete for SRR12850832_pass.fastq\n",
      "Approx 40% complete for SRR12850832_pass.fastq\n",
      "Approx 45% complete for SRR12850832_pass.fastq\n",
      "Approx 50% complete for SRR12850832_pass.fastq\n",
      "Approx 55% complete for SRR12850832_pass.fastq\n",
      "Approx 60% complete for SRR12850832_pass.fastq\n",
      "Approx 65% complete for SRR12850832_pass.fastq\n",
      "Approx 70% complete for SRR12850832_pass.fastq\n",
      "Approx 75% complete for SRR12850832_pass.fastq\n",
      "Approx 80% complete for SRR12850832_pass.fastq\n",
      "Approx 85% complete for SRR12850832_pass.fastq\n",
      "Approx 90% complete for SRR12850832_pass.fastq\n",
      "Approx 95% complete for SRR12850832_pass.fastq\n"
     ]
    },
    {
     "name": "stdout",
     "output_type": "stream",
     "text": [
      "Analysis complete for SRR12850832_pass.fastq\n"
     ]
    },
    {
     "name": "stderr",
     "output_type": "stream",
     "text": [
      "Unknown option: readfilesin\n",
      "Started analysis of SRR12850833_pass.fastq\n",
      "Approx 5% complete for SRR12850833_pass.fastq\n",
      "Approx 10% complete for SRR12850833_pass.fastq\n",
      "Approx 15% complete for SRR12850833_pass.fastq\n",
      "Approx 20% complete for SRR12850833_pass.fastq\n",
      "Approx 25% complete for SRR12850833_pass.fastq\n",
      "Approx 30% complete for SRR12850833_pass.fastq\n",
      "Approx 35% complete for SRR12850833_pass.fastq\n",
      "Approx 40% complete for SRR12850833_pass.fastq\n",
      "Approx 45% complete for SRR12850833_pass.fastq\n",
      "Approx 50% complete for SRR12850833_pass.fastq\n",
      "Approx 55% complete for SRR12850833_pass.fastq\n",
      "Approx 60% complete for SRR12850833_pass.fastq\n",
      "Approx 65% complete for SRR12850833_pass.fastq\n",
      "Approx 70% complete for SRR12850833_pass.fastq\n",
      "Approx 75% complete for SRR12850833_pass.fastq\n",
      "Approx 80% complete for SRR12850833_pass.fastq\n",
      "Approx 85% complete for SRR12850833_pass.fastq\n",
      "Approx 90% complete for SRR12850833_pass.fastq\n",
      "Approx 95% complete for SRR12850833_pass.fastq\n"
     ]
    },
    {
     "name": "stdout",
     "output_type": "stream",
     "text": [
      "Analysis complete for SRR12850833_pass.fastq\n"
     ]
    },
    {
     "name": "stderr",
     "output_type": "stream",
     "text": [
      "Unknown option: readfilesin\n",
      "Started analysis of SRR12850834_pass.fastq\n",
      "Approx 5% complete for SRR12850834_pass.fastq\n",
      "Approx 10% complete for SRR12850834_pass.fastq\n",
      "Approx 15% complete for SRR12850834_pass.fastq\n",
      "Approx 20% complete for SRR12850834_pass.fastq\n",
      "Approx 25% complete for SRR12850834_pass.fastq\n",
      "Approx 30% complete for SRR12850834_pass.fastq\n",
      "Approx 35% complete for SRR12850834_pass.fastq\n",
      "Approx 40% complete for SRR12850834_pass.fastq\n",
      "Approx 45% complete for SRR12850834_pass.fastq\n",
      "Approx 50% complete for SRR12850834_pass.fastq\n",
      "Approx 55% complete for SRR12850834_pass.fastq\n",
      "Approx 60% complete for SRR12850834_pass.fastq\n",
      "Approx 65% complete for SRR12850834_pass.fastq\n",
      "Approx 70% complete for SRR12850834_pass.fastq\n",
      "Approx 75% complete for SRR12850834_pass.fastq\n",
      "Approx 80% complete for SRR12850834_pass.fastq\n",
      "Approx 85% complete for SRR12850834_pass.fastq\n",
      "Approx 90% complete for SRR12850834_pass.fastq\n",
      "Approx 95% complete for SRR12850834_pass.fastq\n"
     ]
    },
    {
     "name": "stdout",
     "output_type": "stream",
     "text": [
      "Analysis complete for SRR12850834_pass.fastq\n"
     ]
    },
    {
     "name": "stderr",
     "output_type": "stream",
     "text": [
      "Unknown option: readfilesin\n",
      "Started analysis of SRR12850835_pass.fastq\n",
      "Approx 5% complete for SRR12850835_pass.fastq\n",
      "Approx 10% complete for SRR12850835_pass.fastq\n",
      "Approx 15% complete for SRR12850835_pass.fastq\n",
      "Approx 20% complete for SRR12850835_pass.fastq\n",
      "Approx 25% complete for SRR12850835_pass.fastq\n",
      "Approx 30% complete for SRR12850835_pass.fastq\n",
      "Approx 35% complete for SRR12850835_pass.fastq\n",
      "Approx 40% complete for SRR12850835_pass.fastq\n",
      "Approx 45% complete for SRR12850835_pass.fastq\n",
      "Approx 50% complete for SRR12850835_pass.fastq\n",
      "Approx 55% complete for SRR12850835_pass.fastq\n",
      "Approx 60% complete for SRR12850835_pass.fastq\n",
      "Approx 65% complete for SRR12850835_pass.fastq\n",
      "Approx 70% complete for SRR12850835_pass.fastq\n",
      "Approx 75% complete for SRR12850835_pass.fastq\n",
      "Approx 80% complete for SRR12850835_pass.fastq\n",
      "Approx 85% complete for SRR12850835_pass.fastq\n",
      "Approx 90% complete for SRR12850835_pass.fastq\n",
      "Approx 95% complete for SRR12850835_pass.fastq\n"
     ]
    },
    {
     "name": "stdout",
     "output_type": "stream",
     "text": [
      "Analysis complete for SRR12850835_pass.fastq\n"
     ]
    },
    {
     "name": "stderr",
     "output_type": "stream",
     "text": [
      "Unknown option: readfilesin\n",
      "Started analysis of SRR12850836_pass.fastq\n",
      "Approx 5% complete for SRR12850836_pass.fastq\n",
      "Approx 10% complete for SRR12850836_pass.fastq\n",
      "Approx 15% complete for SRR12850836_pass.fastq\n",
      "Approx 20% complete for SRR12850836_pass.fastq\n",
      "Approx 25% complete for SRR12850836_pass.fastq\n",
      "Approx 30% complete for SRR12850836_pass.fastq\n",
      "Approx 35% complete for SRR12850836_pass.fastq\n",
      "Approx 40% complete for SRR12850836_pass.fastq\n",
      "Approx 45% complete for SRR12850836_pass.fastq\n",
      "Approx 50% complete for SRR12850836_pass.fastq\n",
      "Approx 55% complete for SRR12850836_pass.fastq\n",
      "Approx 60% complete for SRR12850836_pass.fastq\n",
      "Approx 65% complete for SRR12850836_pass.fastq\n",
      "Approx 70% complete for SRR12850836_pass.fastq\n",
      "Approx 75% complete for SRR12850836_pass.fastq\n",
      "Approx 80% complete for SRR12850836_pass.fastq\n",
      "Approx 85% complete for SRR12850836_pass.fastq\n",
      "Approx 90% complete for SRR12850836_pass.fastq\n",
      "Approx 95% complete for SRR12850836_pass.fastq\n"
     ]
    },
    {
     "name": "stdout",
     "output_type": "stream",
     "text": [
      "Analysis complete for SRR12850836_pass.fastq\n"
     ]
    },
    {
     "name": "stderr",
     "output_type": "stream",
     "text": [
      "Unknown option: readfilesin\n",
      "Started analysis of SRR12850837_pass.fastq\n",
      "Approx 5% complete for SRR12850837_pass.fastq\n",
      "Approx 10% complete for SRR12850837_pass.fastq\n",
      "Approx 15% complete for SRR12850837_pass.fastq\n",
      "Approx 20% complete for SRR12850837_pass.fastq\n",
      "Approx 25% complete for SRR12850837_pass.fastq\n",
      "Approx 30% complete for SRR12850837_pass.fastq\n",
      "Approx 35% complete for SRR12850837_pass.fastq\n",
      "Approx 40% complete for SRR12850837_pass.fastq\n",
      "Approx 45% complete for SRR12850837_pass.fastq\n",
      "Approx 50% complete for SRR12850837_pass.fastq\n",
      "Approx 55% complete for SRR12850837_pass.fastq\n",
      "Approx 60% complete for SRR12850837_pass.fastq\n",
      "Approx 65% complete for SRR12850837_pass.fastq\n",
      "Approx 70% complete for SRR12850837_pass.fastq\n",
      "Approx 75% complete for SRR12850837_pass.fastq\n",
      "Approx 80% complete for SRR12850837_pass.fastq\n",
      "Approx 85% complete for SRR12850837_pass.fastq\n",
      "Approx 90% complete for SRR12850837_pass.fastq\n",
      "Approx 95% complete for SRR12850837_pass.fastq\n"
     ]
    },
    {
     "name": "stdout",
     "output_type": "stream",
     "text": [
      "Analysis complete for SRR12850837_pass.fastq\n"
     ]
    },
    {
     "name": "stderr",
     "output_type": "stream",
     "text": [
      "Unknown option: readfilesin\n",
      "Started analysis of SRR12850838_pass.fastq\n",
      "Approx 5% complete for SRR12850838_pass.fastq\n",
      "Approx 10% complete for SRR12850838_pass.fastq\n",
      "Approx 15% complete for SRR12850838_pass.fastq\n",
      "Approx 20% complete for SRR12850838_pass.fastq\n",
      "Approx 25% complete for SRR12850838_pass.fastq\n",
      "Approx 30% complete for SRR12850838_pass.fastq\n",
      "Approx 35% complete for SRR12850838_pass.fastq\n",
      "Approx 40% complete for SRR12850838_pass.fastq\n",
      "Approx 45% complete for SRR12850838_pass.fastq\n",
      "Approx 50% complete for SRR12850838_pass.fastq\n",
      "Approx 55% complete for SRR12850838_pass.fastq\n",
      "Approx 60% complete for SRR12850838_pass.fastq\n",
      "Approx 65% complete for SRR12850838_pass.fastq\n",
      "Approx 70% complete for SRR12850838_pass.fastq\n",
      "Approx 75% complete for SRR12850838_pass.fastq\n",
      "Approx 80% complete for SRR12850838_pass.fastq\n",
      "Approx 85% complete for SRR12850838_pass.fastq\n",
      "Approx 90% complete for SRR12850838_pass.fastq\n",
      "Approx 95% complete for SRR12850838_pass.fastq\n"
     ]
    },
    {
     "name": "stdout",
     "output_type": "stream",
     "text": [
      "Analysis complete for SRR12850838_pass.fastq\n"
     ]
    },
    {
     "name": "stderr",
     "output_type": "stream",
     "text": [
      "Unknown option: readfilesin\n",
      "Started analysis of SRR12850839_pass.fastq\n",
      "Approx 5% complete for SRR12850839_pass.fastq\n",
      "Approx 10% complete for SRR12850839_pass.fastq\n",
      "Approx 15% complete for SRR12850839_pass.fastq\n",
      "Approx 20% complete for SRR12850839_pass.fastq\n",
      "Approx 25% complete for SRR12850839_pass.fastq\n",
      "Approx 30% complete for SRR12850839_pass.fastq\n",
      "Approx 35% complete for SRR12850839_pass.fastq\n",
      "Approx 40% complete for SRR12850839_pass.fastq\n",
      "Approx 45% complete for SRR12850839_pass.fastq\n",
      "Approx 50% complete for SRR12850839_pass.fastq\n",
      "Approx 55% complete for SRR12850839_pass.fastq\n",
      "Approx 60% complete for SRR12850839_pass.fastq\n",
      "Approx 65% complete for SRR12850839_pass.fastq\n",
      "Approx 70% complete for SRR12850839_pass.fastq\n",
      "Approx 75% complete for SRR12850839_pass.fastq\n",
      "Approx 80% complete for SRR12850839_pass.fastq\n",
      "Approx 85% complete for SRR12850839_pass.fastq\n",
      "Approx 90% complete for SRR12850839_pass.fastq\n",
      "Approx 95% complete for SRR12850839_pass.fastq\n"
     ]
    },
    {
     "name": "stdout",
     "output_type": "stream",
     "text": [
      "Analysis complete for SRR12850839_pass.fastq\n"
     ]
    },
    {
     "name": "stderr",
     "output_type": "stream",
     "text": [
      "Unknown option: readfilesin\n",
      "Started analysis of SRR12850840_pass.fastq\n",
      "Approx 5% complete for SRR12850840_pass.fastq\n",
      "Approx 10% complete for SRR12850840_pass.fastq\n",
      "Approx 15% complete for SRR12850840_pass.fastq\n",
      "Approx 20% complete for SRR12850840_pass.fastq\n",
      "Approx 25% complete for SRR12850840_pass.fastq\n",
      "Approx 30% complete for SRR12850840_pass.fastq\n",
      "Approx 35% complete for SRR12850840_pass.fastq\n",
      "Approx 40% complete for SRR12850840_pass.fastq\n",
      "Approx 45% complete for SRR12850840_pass.fastq\n",
      "Approx 50% complete for SRR12850840_pass.fastq\n",
      "Approx 55% complete for SRR12850840_pass.fastq\n",
      "Approx 60% complete for SRR12850840_pass.fastq\n",
      "Approx 65% complete for SRR12850840_pass.fastq\n",
      "Approx 70% complete for SRR12850840_pass.fastq\n",
      "Approx 75% complete for SRR12850840_pass.fastq\n",
      "Approx 80% complete for SRR12850840_pass.fastq\n",
      "Approx 85% complete for SRR12850840_pass.fastq\n",
      "Approx 90% complete for SRR12850840_pass.fastq\n",
      "Approx 95% complete for SRR12850840_pass.fastq\n"
     ]
    },
    {
     "name": "stdout",
     "output_type": "stream",
     "text": [
      "Analysis complete for SRR12850840_pass.fastq\n"
     ]
    },
    {
     "name": "stderr",
     "output_type": "stream",
     "text": [
      "Unknown option: readfilesin\n",
      "Started analysis of SRR12850841_pass.fastq\n",
      "Approx 5% complete for SRR12850841_pass.fastq\n",
      "Approx 10% complete for SRR12850841_pass.fastq\n",
      "Approx 15% complete for SRR12850841_pass.fastq\n",
      "Approx 20% complete for SRR12850841_pass.fastq\n",
      "Approx 25% complete for SRR12850841_pass.fastq\n",
      "Approx 30% complete for SRR12850841_pass.fastq\n",
      "Approx 35% complete for SRR12850841_pass.fastq\n",
      "Approx 40% complete for SRR12850841_pass.fastq\n",
      "Approx 45% complete for SRR12850841_pass.fastq\n",
      "Approx 50% complete for SRR12850841_pass.fastq\n",
      "Approx 55% complete for SRR12850841_pass.fastq\n",
      "Approx 60% complete for SRR12850841_pass.fastq\n",
      "Approx 65% complete for SRR12850841_pass.fastq\n",
      "Approx 70% complete for SRR12850841_pass.fastq\n",
      "Approx 75% complete for SRR12850841_pass.fastq\n",
      "Approx 80% complete for SRR12850841_pass.fastq\n",
      "Approx 85% complete for SRR12850841_pass.fastq\n",
      "Approx 90% complete for SRR12850841_pass.fastq\n",
      "Approx 95% complete for SRR12850841_pass.fastq\n"
     ]
    },
    {
     "name": "stdout",
     "output_type": "stream",
     "text": [
      "Analysis complete for SRR12850841_pass.fastq\n"
     ]
    },
    {
     "name": "stderr",
     "output_type": "stream",
     "text": [
      "Unknown option: readfilesin\n",
      "Started analysis of SRR12850842_pass.fastq\n",
      "Approx 5% complete for SRR12850842_pass.fastq\n",
      "Approx 10% complete for SRR12850842_pass.fastq\n",
      "Approx 15% complete for SRR12850842_pass.fastq\n",
      "Approx 20% complete for SRR12850842_pass.fastq\n",
      "Approx 25% complete for SRR12850842_pass.fastq\n",
      "Approx 30% complete for SRR12850842_pass.fastq\n",
      "Approx 35% complete for SRR12850842_pass.fastq\n",
      "Approx 40% complete for SRR12850842_pass.fastq\n",
      "Approx 45% complete for SRR12850842_pass.fastq\n",
      "Approx 50% complete for SRR12850842_pass.fastq\n",
      "Approx 55% complete for SRR12850842_pass.fastq\n",
      "Approx 60% complete for SRR12850842_pass.fastq\n",
      "Approx 65% complete for SRR12850842_pass.fastq\n",
      "Approx 70% complete for SRR12850842_pass.fastq\n",
      "Approx 75% complete for SRR12850842_pass.fastq\n",
      "Approx 80% complete for SRR12850842_pass.fastq\n",
      "Approx 85% complete for SRR12850842_pass.fastq\n",
      "Approx 90% complete for SRR12850842_pass.fastq\n",
      "Approx 95% complete for SRR12850842_pass.fastq\n"
     ]
    },
    {
     "name": "stdout",
     "output_type": "stream",
     "text": [
      "Analysis complete for SRR12850842_pass.fastq\n"
     ]
    },
    {
     "name": "stderr",
     "output_type": "stream",
     "text": [
      "Unknown option: readfilesin\n",
      "Started analysis of SRR12850843_pass.fastq\n",
      "Approx 5% complete for SRR12850843_pass.fastq\n",
      "Approx 10% complete for SRR12850843_pass.fastq\n",
      "Approx 15% complete for SRR12850843_pass.fastq\n",
      "Approx 20% complete for SRR12850843_pass.fastq\n",
      "Approx 25% complete for SRR12850843_pass.fastq\n",
      "Approx 30% complete for SRR12850843_pass.fastq\n",
      "Approx 35% complete for SRR12850843_pass.fastq\n",
      "Approx 40% complete for SRR12850843_pass.fastq\n",
      "Approx 45% complete for SRR12850843_pass.fastq\n",
      "Approx 50% complete for SRR12850843_pass.fastq\n",
      "Approx 55% complete for SRR12850843_pass.fastq\n",
      "Approx 60% complete for SRR12850843_pass.fastq\n",
      "Approx 65% complete for SRR12850843_pass.fastq\n",
      "Approx 70% complete for SRR12850843_pass.fastq\n",
      "Approx 75% complete for SRR12850843_pass.fastq\n",
      "Approx 80% complete for SRR12850843_pass.fastq\n",
      "Approx 85% complete for SRR12850843_pass.fastq\n",
      "Approx 90% complete for SRR12850843_pass.fastq\n",
      "Approx 95% complete for SRR12850843_pass.fastq\n"
     ]
    },
    {
     "name": "stdout",
     "output_type": "stream",
     "text": [
      "Analysis complete for SRR12850843_pass.fastq\n"
     ]
    },
    {
     "name": "stderr",
     "output_type": "stream",
     "text": [
      "Unknown option: readfilesin\n",
      "Started analysis of SRR12850844_pass.fastq\n",
      "Approx 5% complete for SRR12850844_pass.fastq\n",
      "Approx 10% complete for SRR12850844_pass.fastq\n",
      "Approx 15% complete for SRR12850844_pass.fastq\n",
      "Approx 20% complete for SRR12850844_pass.fastq\n",
      "Approx 25% complete for SRR12850844_pass.fastq\n",
      "Approx 30% complete for SRR12850844_pass.fastq\n",
      "Approx 35% complete for SRR12850844_pass.fastq\n",
      "Approx 40% complete for SRR12850844_pass.fastq\n",
      "Approx 45% complete for SRR12850844_pass.fastq\n",
      "Approx 50% complete for SRR12850844_pass.fastq\n",
      "Approx 55% complete for SRR12850844_pass.fastq\n",
      "Approx 60% complete for SRR12850844_pass.fastq\n",
      "Approx 65% complete for SRR12850844_pass.fastq\n",
      "Approx 70% complete for SRR12850844_pass.fastq\n",
      "Approx 75% complete for SRR12850844_pass.fastq\n",
      "Approx 80% complete for SRR12850844_pass.fastq\n",
      "Approx 85% complete for SRR12850844_pass.fastq\n",
      "Approx 90% complete for SRR12850844_pass.fastq\n",
      "Approx 95% complete for SRR12850844_pass.fastq\n"
     ]
    },
    {
     "name": "stdout",
     "output_type": "stream",
     "text": [
      "Analysis complete for SRR12850844_pass.fastq\n"
     ]
    },
    {
     "name": "stderr",
     "output_type": "stream",
     "text": [
      "Unknown option: readfilesin\n",
      "Started analysis of SRR12850845_pass.fastq\n",
      "Approx 5% complete for SRR12850845_pass.fastq\n",
      "Approx 10% complete for SRR12850845_pass.fastq\n",
      "Approx 15% complete for SRR12850845_pass.fastq\n",
      "Approx 20% complete for SRR12850845_pass.fastq\n",
      "Approx 25% complete for SRR12850845_pass.fastq\n",
      "Approx 30% complete for SRR12850845_pass.fastq\n",
      "Approx 35% complete for SRR12850845_pass.fastq\n",
      "Approx 40% complete for SRR12850845_pass.fastq\n",
      "Approx 45% complete for SRR12850845_pass.fastq\n",
      "Approx 50% complete for SRR12850845_pass.fastq\n",
      "Approx 55% complete for SRR12850845_pass.fastq\n",
      "Approx 60% complete for SRR12850845_pass.fastq\n",
      "Approx 65% complete for SRR12850845_pass.fastq\n",
      "Approx 70% complete for SRR12850845_pass.fastq\n",
      "Approx 75% complete for SRR12850845_pass.fastq\n",
      "Approx 80% complete for SRR12850845_pass.fastq\n",
      "Approx 85% complete for SRR12850845_pass.fastq\n",
      "Approx 90% complete for SRR12850845_pass.fastq\n",
      "Approx 95% complete for SRR12850845_pass.fastq\n"
     ]
    },
    {
     "name": "stdout",
     "output_type": "stream",
     "text": [
      "Analysis complete for SRR12850845_pass.fastq\n"
     ]
    },
    {
     "name": "stderr",
     "output_type": "stream",
     "text": [
      "Unknown option: readfilesin\n",
      "Started analysis of SRR12850846_pass.fastq\n",
      "Approx 5% complete for SRR12850846_pass.fastq\n",
      "Approx 10% complete for SRR12850846_pass.fastq\n",
      "Approx 15% complete for SRR12850846_pass.fastq\n",
      "Approx 20% complete for SRR12850846_pass.fastq\n",
      "Approx 25% complete for SRR12850846_pass.fastq\n",
      "Approx 30% complete for SRR12850846_pass.fastq\n",
      "Approx 35% complete for SRR12850846_pass.fastq\n",
      "Approx 40% complete for SRR12850846_pass.fastq\n",
      "Approx 45% complete for SRR12850846_pass.fastq\n",
      "Approx 50% complete for SRR12850846_pass.fastq\n",
      "Approx 55% complete for SRR12850846_pass.fastq\n",
      "Approx 60% complete for SRR12850846_pass.fastq\n",
      "Approx 65% complete for SRR12850846_pass.fastq\n",
      "Approx 70% complete for SRR12850846_pass.fastq\n",
      "Approx 75% complete for SRR12850846_pass.fastq\n",
      "Approx 80% complete for SRR12850846_pass.fastq\n",
      "Approx 85% complete for SRR12850846_pass.fastq\n",
      "Approx 90% complete for SRR12850846_pass.fastq\n",
      "Approx 95% complete for SRR12850846_pass.fastq\n"
     ]
    },
    {
     "name": "stdout",
     "output_type": "stream",
     "text": [
      "Analysis complete for SRR12850846_pass.fastq\n"
     ]
    },
    {
     "name": "stderr",
     "output_type": "stream",
     "text": [
      "Unknown option: readfilesin\n",
      "Started analysis of SRR12850847_pass.fastq\n",
      "Approx 5% complete for SRR12850847_pass.fastq\n",
      "Approx 10% complete for SRR12850847_pass.fastq\n",
      "Approx 15% complete for SRR12850847_pass.fastq\n",
      "Approx 20% complete for SRR12850847_pass.fastq\n",
      "Approx 25% complete for SRR12850847_pass.fastq\n",
      "Approx 30% complete for SRR12850847_pass.fastq\n",
      "Approx 35% complete for SRR12850847_pass.fastq\n",
      "Approx 40% complete for SRR12850847_pass.fastq\n",
      "Approx 45% complete for SRR12850847_pass.fastq\n",
      "Approx 50% complete for SRR12850847_pass.fastq\n",
      "Approx 55% complete for SRR12850847_pass.fastq\n",
      "Approx 60% complete for SRR12850847_pass.fastq\n",
      "Approx 65% complete for SRR12850847_pass.fastq\n",
      "Approx 70% complete for SRR12850847_pass.fastq\n",
      "Approx 75% complete for SRR12850847_pass.fastq\n",
      "Approx 80% complete for SRR12850847_pass.fastq\n",
      "Approx 85% complete for SRR12850847_pass.fastq\n",
      "Approx 90% complete for SRR12850847_pass.fastq\n",
      "Approx 95% complete for SRR12850847_pass.fastq\n"
     ]
    },
    {
     "name": "stdout",
     "output_type": "stream",
     "text": [
      "Analysis complete for SRR12850847_pass.fastq\n"
     ]
    },
    {
     "name": "stderr",
     "output_type": "stream",
     "text": [
      "Unknown option: readfilesin\n",
      "Started analysis of SRR12850848_pass.fastq\n",
      "Approx 5% complete for SRR12850848_pass.fastq\n",
      "Approx 10% complete for SRR12850848_pass.fastq\n",
      "Approx 15% complete for SRR12850848_pass.fastq\n",
      "Approx 20% complete for SRR12850848_pass.fastq\n",
      "Approx 25% complete for SRR12850848_pass.fastq\n",
      "Approx 30% complete for SRR12850848_pass.fastq\n",
      "Approx 35% complete for SRR12850848_pass.fastq\n",
      "Approx 40% complete for SRR12850848_pass.fastq\n",
      "Approx 45% complete for SRR12850848_pass.fastq\n",
      "Approx 50% complete for SRR12850848_pass.fastq\n",
      "Approx 55% complete for SRR12850848_pass.fastq\n",
      "Approx 60% complete for SRR12850848_pass.fastq\n",
      "Approx 65% complete for SRR12850848_pass.fastq\n",
      "Approx 70% complete for SRR12850848_pass.fastq\n",
      "Approx 75% complete for SRR12850848_pass.fastq\n",
      "Approx 80% complete for SRR12850848_pass.fastq\n",
      "Approx 85% complete for SRR12850848_pass.fastq\n",
      "Approx 90% complete for SRR12850848_pass.fastq\n",
      "Approx 95% complete for SRR12850848_pass.fastq\n"
     ]
    },
    {
     "name": "stdout",
     "output_type": "stream",
     "text": [
      "Analysis complete for SRR12850848_pass.fastq\n"
     ]
    },
    {
     "name": "stderr",
     "output_type": "stream",
     "text": [
      "Unknown option: readfilesin\n",
      "Started analysis of SRR12850849_pass.fastq\n",
      "Approx 5% complete for SRR12850849_pass.fastq\n",
      "Approx 10% complete for SRR12850849_pass.fastq\n",
      "Approx 15% complete for SRR12850849_pass.fastq\n",
      "Approx 20% complete for SRR12850849_pass.fastq\n",
      "Approx 25% complete for SRR12850849_pass.fastq\n",
      "Approx 30% complete for SRR12850849_pass.fastq\n",
      "Approx 35% complete for SRR12850849_pass.fastq\n",
      "Approx 40% complete for SRR12850849_pass.fastq\n",
      "Approx 45% complete for SRR12850849_pass.fastq\n",
      "Approx 50% complete for SRR12850849_pass.fastq\n",
      "Approx 55% complete for SRR12850849_pass.fastq\n",
      "Approx 60% complete for SRR12850849_pass.fastq\n",
      "Approx 65% complete for SRR12850849_pass.fastq\n",
      "Approx 70% complete for SRR12850849_pass.fastq\n",
      "Approx 75% complete for SRR12850849_pass.fastq\n",
      "Approx 80% complete for SRR12850849_pass.fastq\n",
      "Approx 85% complete for SRR12850849_pass.fastq\n",
      "Approx 90% complete for SRR12850849_pass.fastq\n",
      "Approx 95% complete for SRR12850849_pass.fastq\n"
     ]
    },
    {
     "name": "stdout",
     "output_type": "stream",
     "text": [
      "Analysis complete for SRR12850849_pass.fastq\n"
     ]
    },
    {
     "name": "stderr",
     "output_type": "stream",
     "text": [
      "Unknown option: readfilesin\n",
      "Started analysis of SRR12850850_pass.fastq\n",
      "Approx 5% complete for SRR12850850_pass.fastq\n",
      "Approx 10% complete for SRR12850850_pass.fastq\n",
      "Approx 15% complete for SRR12850850_pass.fastq\n",
      "Approx 20% complete for SRR12850850_pass.fastq\n",
      "Approx 25% complete for SRR12850850_pass.fastq\n",
      "Approx 30% complete for SRR12850850_pass.fastq\n",
      "Approx 35% complete for SRR12850850_pass.fastq\n",
      "Approx 40% complete for SRR12850850_pass.fastq\n",
      "Approx 45% complete for SRR12850850_pass.fastq\n",
      "Approx 50% complete for SRR12850850_pass.fastq\n",
      "Approx 55% complete for SRR12850850_pass.fastq\n",
      "Approx 60% complete for SRR12850850_pass.fastq\n",
      "Approx 65% complete for SRR12850850_pass.fastq\n",
      "Approx 70% complete for SRR12850850_pass.fastq\n",
      "Approx 75% complete for SRR12850850_pass.fastq\n",
      "Approx 80% complete for SRR12850850_pass.fastq\n",
      "Approx 85% complete for SRR12850850_pass.fastq\n",
      "Approx 90% complete for SRR12850850_pass.fastq\n",
      "Approx 95% complete for SRR12850850_pass.fastq\n"
     ]
    },
    {
     "name": "stdout",
     "output_type": "stream",
     "text": [
      "Analysis complete for SRR12850850_pass.fastq\n"
     ]
    },
    {
     "name": "stderr",
     "output_type": "stream",
     "text": [
      "Unknown option: readfilesin\n",
      "Started analysis of SRR12850851_pass.fastq\n",
      "Approx 5% complete for SRR12850851_pass.fastq\n",
      "Approx 10% complete for SRR12850851_pass.fastq\n",
      "Approx 15% complete for SRR12850851_pass.fastq\n",
      "Approx 20% complete for SRR12850851_pass.fastq\n",
      "Approx 25% complete for SRR12850851_pass.fastq\n",
      "Approx 30% complete for SRR12850851_pass.fastq\n",
      "Approx 35% complete for SRR12850851_pass.fastq\n",
      "Approx 40% complete for SRR12850851_pass.fastq\n",
      "Approx 45% complete for SRR12850851_pass.fastq\n",
      "Approx 50% complete for SRR12850851_pass.fastq\n",
      "Approx 55% complete for SRR12850851_pass.fastq\n",
      "Approx 60% complete for SRR12850851_pass.fastq\n",
      "Approx 65% complete for SRR12850851_pass.fastq\n",
      "Approx 70% complete for SRR12850851_pass.fastq\n",
      "Approx 75% complete for SRR12850851_pass.fastq\n",
      "Approx 80% complete for SRR12850851_pass.fastq\n",
      "Approx 85% complete for SRR12850851_pass.fastq\n",
      "Approx 90% complete for SRR12850851_pass.fastq\n",
      "Approx 95% complete for SRR12850851_pass.fastq\n"
     ]
    },
    {
     "name": "stdout",
     "output_type": "stream",
     "text": [
      "Analysis complete for SRR12850851_pass.fastq\n"
     ]
    },
    {
     "name": "stderr",
     "output_type": "stream",
     "text": [
      "Unknown option: readfilesin\n",
      "Started analysis of SRR12850852_pass.fastq\n",
      "Approx 5% complete for SRR12850852_pass.fastq\n",
      "Approx 10% complete for SRR12850852_pass.fastq\n",
      "Approx 15% complete for SRR12850852_pass.fastq\n",
      "Approx 20% complete for SRR12850852_pass.fastq\n",
      "Approx 25% complete for SRR12850852_pass.fastq\n",
      "Approx 30% complete for SRR12850852_pass.fastq\n",
      "Approx 35% complete for SRR12850852_pass.fastq\n",
      "Approx 40% complete for SRR12850852_pass.fastq\n",
      "Approx 45% complete for SRR12850852_pass.fastq\n",
      "Approx 50% complete for SRR12850852_pass.fastq\n",
      "Approx 55% complete for SRR12850852_pass.fastq\n",
      "Approx 60% complete for SRR12850852_pass.fastq\n",
      "Approx 65% complete for SRR12850852_pass.fastq\n",
      "Approx 70% complete for SRR12850852_pass.fastq\n",
      "Approx 75% complete for SRR12850852_pass.fastq\n",
      "Approx 80% complete for SRR12850852_pass.fastq\n",
      "Approx 85% complete for SRR12850852_pass.fastq\n",
      "Approx 90% complete for SRR12850852_pass.fastq\n",
      "Approx 95% complete for SRR12850852_pass.fastq\n"
     ]
    },
    {
     "name": "stdout",
     "output_type": "stream",
     "text": [
      "Analysis complete for SRR12850852_pass.fastq\n"
     ]
    },
    {
     "name": "stderr",
     "output_type": "stream",
     "text": [
      "Unknown option: readfilesin\n",
      "Started analysis of SRR12850853_pass.fastq\n",
      "Approx 5% complete for SRR12850853_pass.fastq\n",
      "Approx 10% complete for SRR12850853_pass.fastq\n",
      "Approx 15% complete for SRR12850853_pass.fastq\n",
      "Approx 20% complete for SRR12850853_pass.fastq\n",
      "Approx 25% complete for SRR12850853_pass.fastq\n",
      "Approx 30% complete for SRR12850853_pass.fastq\n",
      "Approx 35% complete for SRR12850853_pass.fastq\n",
      "Approx 40% complete for SRR12850853_pass.fastq\n",
      "Approx 45% complete for SRR12850853_pass.fastq\n",
      "Approx 50% complete for SRR12850853_pass.fastq\n",
      "Approx 55% complete for SRR12850853_pass.fastq\n",
      "Approx 60% complete for SRR12850853_pass.fastq\n",
      "Approx 65% complete for SRR12850853_pass.fastq\n",
      "Approx 70% complete for SRR12850853_pass.fastq\n",
      "Approx 75% complete for SRR12850853_pass.fastq\n",
      "Approx 80% complete for SRR12850853_pass.fastq\n",
      "Approx 85% complete for SRR12850853_pass.fastq\n",
      "Approx 90% complete for SRR12850853_pass.fastq\n",
      "Approx 95% complete for SRR12850853_pass.fastq\n"
     ]
    },
    {
     "name": "stdout",
     "output_type": "stream",
     "text": [
      "Analysis complete for SRR12850853_pass.fastq\n"
     ]
    },
    {
     "name": "stderr",
     "output_type": "stream",
     "text": [
      "Unknown option: readfilesin\n",
      "Started analysis of SRR12850854_pass.fastq\n",
      "Approx 5% complete for SRR12850854_pass.fastq\n",
      "Approx 10% complete for SRR12850854_pass.fastq\n",
      "Approx 15% complete for SRR12850854_pass.fastq\n",
      "Approx 20% complete for SRR12850854_pass.fastq\n",
      "Approx 25% complete for SRR12850854_pass.fastq\n",
      "Approx 30% complete for SRR12850854_pass.fastq\n",
      "Approx 35% complete for SRR12850854_pass.fastq\n",
      "Approx 40% complete for SRR12850854_pass.fastq\n",
      "Approx 45% complete for SRR12850854_pass.fastq\n",
      "Approx 50% complete for SRR12850854_pass.fastq\n",
      "Approx 55% complete for SRR12850854_pass.fastq\n",
      "Approx 60% complete for SRR12850854_pass.fastq\n",
      "Approx 65% complete for SRR12850854_pass.fastq\n",
      "Approx 70% complete for SRR12850854_pass.fastq\n",
      "Approx 75% complete for SRR12850854_pass.fastq\n",
      "Approx 80% complete for SRR12850854_pass.fastq\n",
      "Approx 85% complete for SRR12850854_pass.fastq\n",
      "Approx 90% complete for SRR12850854_pass.fastq\n",
      "Approx 95% complete for SRR12850854_pass.fastq\n"
     ]
    },
    {
     "name": "stdout",
     "output_type": "stream",
     "text": [
      "Analysis complete for SRR12850854_pass.fastq\n"
     ]
    },
    {
     "name": "stderr",
     "output_type": "stream",
     "text": [
      "Unknown option: readfilesin\n",
      "Started analysis of SRR12850855_pass.fastq\n",
      "Approx 5% complete for SRR12850855_pass.fastq\n",
      "Approx 10% complete for SRR12850855_pass.fastq\n",
      "Approx 15% complete for SRR12850855_pass.fastq\n",
      "Approx 20% complete for SRR12850855_pass.fastq\n",
      "Approx 25% complete for SRR12850855_pass.fastq\n",
      "Approx 30% complete for SRR12850855_pass.fastq\n",
      "Approx 35% complete for SRR12850855_pass.fastq\n",
      "Approx 40% complete for SRR12850855_pass.fastq\n",
      "Approx 45% complete for SRR12850855_pass.fastq\n",
      "Approx 50% complete for SRR12850855_pass.fastq\n",
      "Approx 55% complete for SRR12850855_pass.fastq\n",
      "Approx 60% complete for SRR12850855_pass.fastq\n",
      "Approx 65% complete for SRR12850855_pass.fastq\n",
      "Approx 70% complete for SRR12850855_pass.fastq\n",
      "Approx 75% complete for SRR12850855_pass.fastq\n",
      "Approx 80% complete for SRR12850855_pass.fastq\n",
      "Approx 85% complete for SRR12850855_pass.fastq\n",
      "Approx 90% complete for SRR12850855_pass.fastq\n",
      "Approx 95% complete for SRR12850855_pass.fastq\n"
     ]
    },
    {
     "name": "stdout",
     "output_type": "stream",
     "text": [
      "Analysis complete for SRR12850855_pass.fastq\n"
     ]
    },
    {
     "name": "stderr",
     "output_type": "stream",
     "text": [
      "Unknown option: readfilesin\n",
      "Started analysis of SRR12850856_pass.fastq\n",
      "Approx 5% complete for SRR12850856_pass.fastq\n",
      "Approx 10% complete for SRR12850856_pass.fastq\n",
      "Approx 15% complete for SRR12850856_pass.fastq\n",
      "Approx 20% complete for SRR12850856_pass.fastq\n",
      "Approx 25% complete for SRR12850856_pass.fastq\n",
      "Approx 30% complete for SRR12850856_pass.fastq\n",
      "Approx 35% complete for SRR12850856_pass.fastq\n",
      "Approx 40% complete for SRR12850856_pass.fastq\n",
      "Approx 45% complete for SRR12850856_pass.fastq\n",
      "Approx 50% complete for SRR12850856_pass.fastq\n",
      "Approx 55% complete for SRR12850856_pass.fastq\n",
      "Approx 60% complete for SRR12850856_pass.fastq\n",
      "Approx 65% complete for SRR12850856_pass.fastq\n",
      "Approx 70% complete for SRR12850856_pass.fastq\n",
      "Approx 75% complete for SRR12850856_pass.fastq\n",
      "Approx 80% complete for SRR12850856_pass.fastq\n",
      "Approx 85% complete for SRR12850856_pass.fastq\n",
      "Approx 90% complete for SRR12850856_pass.fastq\n",
      "Approx 95% complete for SRR12850856_pass.fastq\n"
     ]
    },
    {
     "name": "stdout",
     "output_type": "stream",
     "text": [
      "Analysis complete for SRR12850856_pass.fastq\n"
     ]
    },
    {
     "name": "stderr",
     "output_type": "stream",
     "text": [
      "Unknown option: readfilesin\n",
      "Started analysis of SRR12850857_pass.fastq\n",
      "Approx 5% complete for SRR12850857_pass.fastq\n",
      "Approx 10% complete for SRR12850857_pass.fastq\n",
      "Approx 15% complete for SRR12850857_pass.fastq\n",
      "Approx 20% complete for SRR12850857_pass.fastq\n",
      "Approx 25% complete for SRR12850857_pass.fastq\n",
      "Approx 30% complete for SRR12850857_pass.fastq\n",
      "Approx 35% complete for SRR12850857_pass.fastq\n",
      "Approx 40% complete for SRR12850857_pass.fastq\n",
      "Approx 45% complete for SRR12850857_pass.fastq\n",
      "Approx 50% complete for SRR12850857_pass.fastq\n",
      "Approx 55% complete for SRR12850857_pass.fastq\n",
      "Approx 60% complete for SRR12850857_pass.fastq\n",
      "Approx 65% complete for SRR12850857_pass.fastq\n",
      "Approx 70% complete for SRR12850857_pass.fastq\n",
      "Approx 75% complete for SRR12850857_pass.fastq\n",
      "Approx 80% complete for SRR12850857_pass.fastq\n",
      "Approx 85% complete for SRR12850857_pass.fastq\n",
      "Approx 90% complete for SRR12850857_pass.fastq\n",
      "Approx 95% complete for SRR12850857_pass.fastq\n"
     ]
    },
    {
     "name": "stdout",
     "output_type": "stream",
     "text": [
      "Analysis complete for SRR12850857_pass.fastq\n"
     ]
    },
    {
     "name": "stderr",
     "output_type": "stream",
     "text": [
      "Unknown option: readfilesin\n",
      "Started analysis of SRR12850858_pass.fastq\n",
      "Approx 5% complete for SRR12850858_pass.fastq\n",
      "Approx 10% complete for SRR12850858_pass.fastq\n",
      "Approx 15% complete for SRR12850858_pass.fastq\n",
      "Approx 20% complete for SRR12850858_pass.fastq\n",
      "Approx 25% complete for SRR12850858_pass.fastq\n",
      "Approx 30% complete for SRR12850858_pass.fastq\n",
      "Approx 35% complete for SRR12850858_pass.fastq\n",
      "Approx 40% complete for SRR12850858_pass.fastq\n",
      "Approx 45% complete for SRR12850858_pass.fastq\n",
      "Approx 50% complete for SRR12850858_pass.fastq\n",
      "Approx 55% complete for SRR12850858_pass.fastq\n",
      "Approx 60% complete for SRR12850858_pass.fastq\n",
      "Approx 65% complete for SRR12850858_pass.fastq\n",
      "Approx 70% complete for SRR12850858_pass.fastq\n",
      "Approx 75% complete for SRR12850858_pass.fastq\n",
      "Approx 80% complete for SRR12850858_pass.fastq\n",
      "Approx 85% complete for SRR12850858_pass.fastq\n",
      "Approx 90% complete for SRR12850858_pass.fastq\n",
      "Approx 95% complete for SRR12850858_pass.fastq\n"
     ]
    },
    {
     "name": "stdout",
     "output_type": "stream",
     "text": [
      "Analysis complete for SRR12850858_pass.fastq\n"
     ]
    },
    {
     "name": "stderr",
     "output_type": "stream",
     "text": [
      "Unknown option: readfilesin\n",
      "Started analysis of SRR12850859_pass.fastq\n",
      "Approx 5% complete for SRR12850859_pass.fastq\n",
      "Approx 10% complete for SRR12850859_pass.fastq\n",
      "Approx 15% complete for SRR12850859_pass.fastq\n",
      "Approx 20% complete for SRR12850859_pass.fastq\n",
      "Approx 25% complete for SRR12850859_pass.fastq\n",
      "Approx 30% complete for SRR12850859_pass.fastq\n",
      "Approx 35% complete for SRR12850859_pass.fastq\n",
      "Approx 40% complete for SRR12850859_pass.fastq\n",
      "Approx 45% complete for SRR12850859_pass.fastq\n",
      "Approx 50% complete for SRR12850859_pass.fastq\n",
      "Approx 55% complete for SRR12850859_pass.fastq\n",
      "Approx 60% complete for SRR12850859_pass.fastq\n",
      "Approx 65% complete for SRR12850859_pass.fastq\n",
      "Approx 70% complete for SRR12850859_pass.fastq\n",
      "Approx 75% complete for SRR12850859_pass.fastq\n",
      "Approx 80% complete for SRR12850859_pass.fastq\n",
      "Approx 85% complete for SRR12850859_pass.fastq\n",
      "Approx 90% complete for SRR12850859_pass.fastq\n",
      "Approx 95% complete for SRR12850859_pass.fastq\n"
     ]
    },
    {
     "name": "stdout",
     "output_type": "stream",
     "text": [
      "Analysis complete for SRR12850859_pass.fastq\n"
     ]
    }
   ],
   "source": [
    "for fastq in sra_numbers:\n",
    "    fastqc = \"/home/christina/FastQC/fastqc \\\n",
    "              --readFilesIn \" + path_fastq + fastq + \"_pass.fastq\"\n",
    "    subprocess.call(fastqc, shell=True)"
   ]
  },
  {
   "cell_type": "markdown",
   "id": "d4f5fdba-0d9e-4a51-9c1e-0d7f9bbdd596",
   "metadata": {},
   "source": [
    "### STAR\n",
    "\n",
    "Afterwards, we will now preprocess the data with STAR, an aligner for RNA-seq data mapping. Like in the paper of *Nativio et al.*, we will align our RNA-seq reads to the human reference genome (assembly GRCh37.75/hg19) using [STAR](https://github.com/alexdobin/STAR) with default parameters.\n",
    "The [fasta](http://ftp.ensembl.org/pub/release-75/fasta/homo_sapiens/dna/) and the [gtf](http://ftp.ensembl.org/pub/release-75/gtf/homo_sapiens/) file used for the genomeGenerate run were downloaded from Ensembl. \n",
    "\n",
    "This will create .sam files out of the .fastq files. The logfiles for all sequences are saved in the folder MultiQC_RNA."
   ]
  },
  {
   "cell_type": "code",
   "execution_count": null,
   "id": "28ee4c4e-2a4a-4ff5-9ecb-ce708b582a42",
   "metadata": {},
   "outputs": [],
   "source": [
    "# get Genome Index (assembly GRCh37.75)\n",
    "genomeIndex = \"STAR --runThreadN 4 \\\n",
    "               --runMode genomeGenerate \\\n",
    "               --genomeDir \" + path_genomeDir + \" \\\n",
    "               --genomeFastaFiles \" + path + \"Homo_sapiens.GRCh37.75.dna_sm.primary_assembly.fa \\\n",
    "               --sjdbGTFfile \" + path + \"Homo_sapiens.GRCh37.75.gtf\"\n",
    "subprocess.call(genomeIndex, shell=True)"
   ]
  },
  {
   "cell_type": "markdown",
   "id": "775a6438-c2b4-4699-9e30-bf198bdde1ff",
   "metadata": {},
   "source": [
    "The logfile for genomeGenerate included many warnings for assembly GRCh37.75/h19, so the most recent version available was taken from Ensembl to check. The [fasta](http://ftp.ensembl.org/pub/release-106/fasta/homo_sapiens/dna/) (primary assembly soft masked) and the [gtf](http://ftp.ensembl.org/pub/release-106/gtf/homo_sapiens/) file can be found following the links.\n",
    "\n",
    "In the check with the most recent version of GRCh38, the warnings were absent. \n",
    "The problem was that the patches, which suggest how gaps in the genome sequence can be filled, are not integrated in the version GRCh37.75/h19, but in the most recent version of GRCh38."
   ]
  },
  {
   "cell_type": "code",
   "execution_count": null,
   "id": "07d24f8b-fb8e-4e4d-b08e-35e9c296819f",
   "metadata": {},
   "outputs": [],
   "source": [
    "# get Genome Index (most recent)\n",
    "genomeIndex = \"STAR --runThreadN 4 \\\n",
    "               --runMode genomeGenerate \\\n",
    "               --genomeDir \" + path_genomeDir + \" \\\n",
    "               --genomeFastaFiles \" + path + \"Homo_sapiens.GRCh38.dna_sm.primary_assembly.fa \\\n",
    "               --sjdbGTFfile \" + path + \"Homo_sapiens.GRCh38.106.gtf\"\n",
    "subprocess.call(genomeIndex, shell=True)"
   ]
  },
  {
   "cell_type": "markdown",
   "id": "515bf67a-c9ee-49ee-8073-f35efd37ef00",
   "metadata": {},
   "source": [
    "To get rid of the warnings, the patches were removed from the assembly and the Genome Index was built with the new file. Due to the removed patches the read count can be distorted because reads that should align to the patches align somewhere else.\n",
    "\n",
    "The argument `genomeSAindexNbases` was added and set to 12 according to the formula min(14, log2(GenomeLength)/2-1). The value is 14 by default and typically between 10 and 15. Longer strings use more memory but allow faster searches. Also, `genomeSAsparseD` was added and set to 3 because of the memory. This are also the recommended values for 16GB RAM from the inventor of STAR."
   ]
  },
  {
   "cell_type": "code",
   "execution_count": null,
   "id": "2de720bb-53b2-4a43-834a-3cc3665de988",
   "metadata": {},
   "outputs": [],
   "source": [
    "genomeIndex = \"STAR --runThreadN 4 \\\n",
    "               --runMode genomeGenerate \\\n",
    "               --genomeDir \" + path_genomeDir + \" \\\n",
    "               --genomeFastaFiles \" + path + \"Homo_sapiens.GRCh37.75.dna_sm.primary_assembly.fa \\\n",
    "               --sjdbGTFfile \" + path + \"Homo_sapiens.GRCh37.75.without_patch.gtf \\\n",
    "               --genomeSAindexNbases 10\"\n",
    "subprocess.call(genomeIndex, shell=True)"
   ]
  },
  {
   "cell_type": "code",
   "execution_count": null,
   "id": "02b890a6-a841-4a7c-b4a9-71750bd76aa0",
   "metadata": {},
   "outputs": [],
   "source": [
    "# Run mapping\n",
    "for fastq in sra_numbers:\n",
    "    mapping = \"STAR --runThreadN 4 \\\n",
    "               --genomeDir \" + path_genomeDir + \" \\\n",
    "               --readFilesIn \" + path_fastq + fastq + \"_pass.fastq \\\n",
    "               --outFileNamePrefix \" + path + fastq + \"/\"\n",
    "    subprocess.call(mapping, shell=True)"
   ]
  },
  {
   "cell_type": "markdown",
   "id": "881facc4-6803-4db9-9fb8-f342aa2078c4",
   "metadata": {},
   "source": [
    "In the end, the STAR process was killed on several computers in the step \"... sorting Suffix Array chunks and saving them to disk...\". This also happened with `genomeSAindexNbases 10`. We decided to apply a pseudoalignment with kallisto instead, since it needs much less memory.\n",
    "\n",
    "### kallisto\n",
    "\n",
    "First of all, we build an index with [kallisto](https://github.com/pachterlab/kallisto) to from the file [Homo_sapiens.GRCh37.75.cdna.all.fa.gz](http://ftp.ensembl.org/pub/release-75/fasta/homo_sapiens/cdna/)."
   ]
  },
  {
   "cell_type": "code",
   "execution_count": 4,
   "id": "89741066-e2c5-49c7-af6d-de5405ca2c66",
   "metadata": {},
   "outputs": [
    {
     "name": "stderr",
     "output_type": "stream",
     "text": [
      "\n",
      "[build] loading fasta file /mnt/c/Users/Christina/Documents/GitHub/DataScience_finalProjekt_Group2/data/Homo_sapiens.GRCh37.75.cdna.all.fa.gz\n",
      "[build] k-mer length: 31\n",
      "[build] warning: clipped off poly-A tail (longer than 10)\n",
      "        from 1401 target sequences\n",
      "[build] counting k-mers ... done.\n",
      "[build] building target de Bruijn graph ...  done \n",
      "[build] creating equivalence classes ...  done\n",
      "[build] target de Bruijn graph has 1022307 contigs and contains 101446106 k-mers \n",
      "\n"
     ]
    },
    {
     "data": {
      "text/plain": [
       "0"
      ]
     },
     "execution_count": 4,
     "metadata": {},
     "output_type": "execute_result"
    }
   ],
   "source": [
    "import subprocess\n",
    "\n",
    "kallistoIndex = \"kallisto index -i Homo_sapiens.idx /mnt/c/Users/Christina/Documents/GitHub/DataScience_finalProjekt_Group2/data/Homo_sapiens.GRCh37.75.cdna.all.fa.gz\"\n",
    "subprocess.call(kallistoIndex, shell=True)"
   ]
  },
  {
   "cell_type": "markdown",
   "id": "9e5a1fb4-415c-40c8-b7c1-efcb01e7f3b5",
   "metadata": {},
   "source": [
    "In the second step, we align all our RNA sequences. Because we want .bam files for featureCounts, the parameters `genomebam` and `gtf` need to be added."
   ]
  },
  {
   "cell_type": "code",
   "execution_count": 2,
   "id": "cae666c5-38ae-4a19-b9fb-697ea65e1436",
   "metadata": {},
   "outputs": [],
   "source": [
    "for fastq in sra_numbers:\n",
    "    kallisto = \"(kallisto quant -t 2 --single -l 200 -s 30 \\\n",
    "                --genomebam --gtf /mnt/c/Users/Christina/Documents/GitHub/DataScience_finalProjekt_Group2/data/Homo_sapiens.GRCh37.75.without_patch.gtf \\\n",
    "                -i Homo_sapiens.idx \\\n",
    "                -o /mnt/c/Users/Christina/Documents/GitHub/DataScience_finalProjekt_Group2/data/\" + fastq + \" \\\n",
    "                /mnt/c/Users/Christina/Documents/GitHub/DataScience_finalProjekt_Group2/data/fastq/\" + fastq + \"_pass.fastq) \\\n",
    "                2>\" + fastq + \".log\"\n",
    "    subprocess.call(kallisto, shell=True)"
   ]
  },
  {
   "cell_type": "markdown",
   "id": "5289dd68-2c1c-405a-aef9-2a60d3d36c19",
   "metadata": {},
   "source": [
    "### featureCounts\n",
    "\n",
    "Finally, they used featureCounts in the paper. featureCounts is part of the [Subread/RSubread](http://subread.sourceforge.net/) package."
   ]
  },
  {
   "cell_type": "code",
   "execution_count": 9,
   "id": "8b2a9916-5dad-45fc-aea0-368ceac5c0f7",
   "metadata": {},
   "outputs": [
    {
     "data": {
      "text/plain": [
       "0"
      ]
     },
     "execution_count": 9,
     "metadata": {},
     "output_type": "execute_result"
    }
   ],
   "source": [
    "path = \"/mnt/c/Users/Christina/Documents/GitHub/DataScience_finalProjekt_Group2/\"\n",
    "\n",
    "featurecounts = \"(/home/christina/subread-2.0.3-Linux-x86_64/bin/featureCounts -T 2 -t exon -g gene_id \\\n",
    "                 -a \" + path + \"data/Homo_sapiens.GRCh37.75.gtf \\\n",
    "                 -o \" + path + \"/MultiQC_RNA/counts.txt \\\n",
    "                 \" + path + \"/data/*.bam) \\\n",
    "                 2> counts.log\"\n",
    "subprocess.call(featurecounts, shell=True)"
   ]
  },
  {
   "cell_type": "markdown",
   "id": "dc52bff2-1365-4030-b23d-333e321ed55e",
   "metadata": {},
   "source": [
    "### MultiQC\n",
    "\n",
    "Now all the generated reports and logfiles for the RNA-seq will be summarized by the tool [MultiQC](https://multiqc.info/).\n",
    "\n",
    "Note that MultiQC can not run in JupyterLab because JavaScript is blocked and so the figures in the report are not created. Alternatively, it can run in JupyterNotebook or Visual Studio Code. It can also be applied through running the multiqc command in the terminal."
   ]
  },
  {
   "cell_type": "code",
   "execution_count": null,
   "id": "fc53aff7-74db-4a86-ad23-4e3501e99e4a",
   "metadata": {},
   "outputs": [],
   "source": [
    "#multiqc = \"multiqc /mnt/c/Users/Christina/Documents/GitHub/DataScience_finalProjekt_Group2/MultiQC_RNA/\"\n",
    "#subprocess.call(multiqc, shell=True)\n",
    "\n",
    "import multiqc\n",
    "multiqc.run(\"/mnt/c/Users/Christina/Documents/GitHub/DataScience_finalProjekt_Group2/MultiQC_RNA/\")"
   ]
  },
  {
   "cell_type": "markdown",
   "id": "2f42f17e-2537-411f-a1e2-04c9c86f8208",
   "metadata": {},
   "source": [
    "## Quality Control ChIP-seq\n",
    "\n",
    "To get an insight into the quality of the BigWig files which are used for the peak analysis, they were converted to fastq files so that FastQC could be applied. The following commands were used for the conversion, in this example the file GSM3752862_O-10A-H3K27ac.bw was converted:\n",
    "\n",
    "`bigWigTowig GSM3752862_O-10A-H3K27ac.bw GSM3752862_O-10A-H3K27ac.wig`\n",
    "\n",
    "For the `wig2bed` command, the -x was added. `bigWigToWig` generates zero-indexed, half-open WIG files. The option allows to generate coordinate output without reindexing.\n",
    "\n",
    "`wig2bed -x  < GSM3752862_O-10A-H3K27ac.wig > GSM3752862_O-10A-H3K27ac.bed`\n",
    "\n",
    "The file [hg19.fa](https://hgdownload.soe.ucsc.edu/goldenPath/hg19/bigZips/) was downloaded from the link and unzipped before the first usage of bedtools.\n",
    "\n",
    "`bedtools getfasta -fi hg19.fa -bed GSM3752862_O-10A-H3K27ac.bed -fo GSM3752862_O-10A-H3K27ac.fa`\n",
    "\n",
    "The perl script [fasta_to_fastq.pl](https://github.com/ekg/fasta-to-fastq) was downloaded from GitHub.\n",
    "\n",
    "`perl fasta_to_fastq.pl GSM3752862_O-10A-H3K27ac.fa > GSM3752862_O-10A-H3K27ac.fq`\n",
    "\n",
    "Afterwards, FastQC was applied and a summary report was created with MultiQC. The reports can be found in the repository."
   ]
  },
  {
   "cell_type": "markdown",
   "id": "11393845-4a5f-496a-8fea-64bed8ee0ede",
   "metadata": {},
   "source": [
    "## Data Analysis RNA-seq"
   ]
  },
  {
   "cell_type": "markdown",
   "id": "dcb7a0e1-e6b5-4218-99ac-6c21b1df7513",
   "metadata": {},
   "source": [
    "The Data Analysis for the RNA sequences was done with the R package [DESeq2](https://bioconductor.org/packages/release/bioc/html/DESeq2.html). It can be found in the R Markdown file GenePeakAnno.Rmd in the repository, in the section ***Differential Gene Analysis***."
   ]
  },
  {
   "cell_type": "markdown",
   "id": "838fe2ec-d803-4395-a521-644874fc1e0a",
   "metadata": {},
   "source": [
    "## Data Analysis ChIP-seq"
   ]
  },
  {
   "cell_type": "markdown",
   "id": "2b74c970-95fc-429d-bdb6-1512b7665586",
   "metadata": {},
   "source": [
    "The Data Analysis for the ChIP-seq data was done with [deeptools](https://deeptools.readthedocs.io/en/develop/). The advantage is that deeptools can directly work with our BigWig files we already have and does not need BAM files.\n",
    "\n",
    "First, we generate a compressed matrix of values with multiBigwigSummary for all four ChIP-seq datasets."
   ]
  },
  {
   "cell_type": "code",
   "execution_count": 1,
   "id": "6b26d958-e331-465d-8907-7e680bc0adbc",
   "metadata": {},
   "outputs": [
    {
     "name": "stderr",
     "output_type": "stream",
     "text": [
      "\n",
      "The following chromosome names did not match between the bigwig files\n",
      "chromosome\tlength\n",
      " chrUn_gl000230\t     43691\n",
      " chrUn_gl000247\t     36422\n",
      "chr8_gl000197_random\t     37175\n",
      " chrUn_gl000233\t     45941\n",
      " chrUn_gl000246\t     38154\n",
      " chrUn_gl000227\t    128374\n",
      " chrUn_gl000249\t     38502\n",
      " chrUn_gl000238\t     39939\n",
      " chrUn_gl000243\t     43341\n",
      "chr21_gl000210_random\t     27682\n",
      " chrUn_gl000239\t     33824\n",
      " chrUn_gl000242\t     43523\n",
      " chrUn_gl000215\t    172545\n",
      "chr17_gl000206_random\t     41001\n",
      "chr19_gl000209_random\t    159169\n",
      " chrUn_gl000236\t     41934\n",
      " chrUn_gl000244\t     39929\n",
      " chrUn_gl000213\t    164239\n",
      " chrUn_gl000248\t     39786\n",
      " chrUn_gl000222\t    186861\n",
      "chr8_gl000196_random\t     38914\n",
      " chrUn_gl000240\t     41933\n",
      "chr18_gl000207_random\t      4262\n",
      " chrUn_gl000223\t    180455\n",
      "chr9_gl000201_random\t     36148\n",
      " chrUn_gl000245\t     36651\n",
      " chrUn_gl000221\t    155397\n",
      " chrUn_gl000226\t     15008\n",
      "Number of bins found: 309996\n",
      "\n",
      "The following chromosome names did not match between the bigwig files\n",
      "chromosome\tlength\n",
      " chrUn_gl000244\t     39929\n",
      " chrUn_gl000245\t     36651\n",
      " chrUn_gl000227\t    128374\n",
      " chrUn_gl000243\t     43341\n",
      "chr17_gl000206_random\t     41001\n",
      " chrUn_gl000236\t     41934\n",
      " chrUn_gl000238\t     39939\n",
      "chr19_gl000209_random\t    159169\n",
      " chrUn_gl000247\t     36422\n",
      " chrUn_gl000246\t     38154\n",
      "chr9_gl000201_random\t     36148\n",
      " chrUn_gl000215\t    172545\n",
      " chrUn_gl000240\t     41933\n",
      " chrUn_gl000223\t    180455\n",
      " chrUn_gl000242\t     43523\n",
      "chr21_gl000210_random\t     27682\n",
      "chr8_gl000197_random\t     37175\n",
      " chrUn_gl000213\t    164239\n",
      " chrUn_gl000239\t     33824\n",
      "Number of bins found: 310048\n",
      "\n",
      "The following chromosome names did not match between the bigwig files\n",
      "chromosome\tlength\n",
      " chrUn_gl000246\t     38154\n",
      " chrUn_gl000242\t     43523\n",
      "chr9_gl000201_random\t     36148\n",
      " chrUn_gl000213\t    164239\n",
      " chrUn_gl000215\t    172545\n",
      " chrUn_gl000245\t     36651\n",
      " chrUn_gl000240\t     41933\n",
      " chrUn_gl000221\t    155397\n",
      " chrUn_gl000223\t    180455\n",
      " chrUn_gl000238\t     39939\n",
      "chr8_gl000197_random\t     37175\n",
      "chr19_gl000209_random\t    159169\n",
      " chrUn_gl000243\t     43341\n",
      " chrUn_gl000247\t     36422\n",
      "chr21_gl000210_random\t     27682\n",
      " chrUn_gl000227\t    128374\n",
      " chrUn_gl000248\t     39786\n",
      " chrUn_gl000239\t     33824\n",
      " chrUn_gl000236\t     41934\n",
      "Number of bins found: 310028\n"
     ]
    },
    {
     "data": {
      "text/plain": [
       "0"
      ]
     },
     "execution_count": 1,
     "metadata": {},
     "output_type": "execute_result"
    }
   ],
   "source": [
    "import subprocess\n",
    "\n",
    "H3K4me1 = 'multiBigwigSummary bins -p 4 --smartLabels \\\n",
    "          -b /mnt/c/Users/Christina/Documents/Sonstiges/data/H3K4me1/*_Y-15T-*.bw \\\n",
    "          /mnt/c/Users/Christina/Documents/Sonstiges/data/H3K4me1/*_Y-17T-*.bw \\\n",
    "          /mnt/c/Users/Christina/Documents/Sonstiges/data/H3K4me1/*_Y-13A-*.bw \\\n",
    "          /mnt/c/Users/Christina/Documents/Sonstiges/data/H3K4me1/*_Y-18T-*.bw \\\n",
    "          /mnt/c/Users/Christina/Documents/Sonstiges/data/H3K4me1/*_Y-14A-*.bw \\\n",
    "          /mnt/c/Users/Christina/Documents/Sonstiges/data/H3K4me1/*_Y-19T-*.bw \\\n",
    "          /mnt/c/Users/Christina/Documents/Sonstiges/data/H3K4me1/*_Y-15A-*.bw \\\n",
    "          /mnt/c/Users/Christina/Documents/Sonstiges/data/H3K4me1/*_Y-16A-*.bw \\\n",
    "          /mnt/c/Users/Christina/Documents/Sonstiges/data/H3K4me1/*_O-8A-*.bw \\\n",
    "          /mnt/c/Users/Christina/Documents/Sonstiges/data/H3K4me1/*_O-10T-*.bw \\\n",
    "          /mnt/c/Users/Christina/Documents/Sonstiges/data/H3K4me1/*_O-6A-*.bw \\\n",
    "          /mnt/c/Users/Christina/Documents/Sonstiges/data/H3K4me1/*_O-11T-*.bw \\\n",
    "          /mnt/c/Users/Christina/Documents/Sonstiges/data/H3K4me1/*_O-7A-*.bw \\\n",
    "          /mnt/c/Users/Christina/Documents/Sonstiges/data/H3K4me1/*_O-13T-*.bw \\\n",
    "          /mnt/c/Users/Christina/Documents/Sonstiges/data/H3K4me1/*_O-14T-*.bw \\\n",
    "          /mnt/c/Users/Christina/Documents/Sonstiges/data/H3K4me1/*_O-9A-*.bw \\\n",
    "          /mnt/c/Users/Christina/Documents/Sonstiges/data/H3K4me1/*_O-10A-*.bw \\\n",
    "          /mnt/c/Users/Christina/Documents/Sonstiges/data/H3K4me1/*_O-11A-*.bw \\\n",
    "          /mnt/c/Users/Christina/Documents/Sonstiges/data/H3K4me1/*_AD-1T-*.bw \\\n",
    "          /mnt/c/Users/Christina/Documents/Sonstiges/data/H3K4me1/*_AD-1A-*.bw \\\n",
    "          /mnt/c/Users/Christina/Documents/Sonstiges/data/H3K4me1/*_AD-2T-*.bw \\\n",
    "          /mnt/c/Users/Christina/Documents/Sonstiges/data/H3K4me1/*_AD-2A-*.bw \\\n",
    "          /mnt/c/Users/Christina/Documents/Sonstiges/data/H3K4me1/*_AD-3T-*.bw \\\n",
    "          /mnt/c/Users/Christina/Documents/Sonstiges/data/H3K4me1/*_AD-5T-*.bw \\\n",
    "          /mnt/c/Users/Christina/Documents/Sonstiges/data/H3K4me1/*_AD-3A-*.bw \\\n",
    "          /mnt/c/Users/Christina/Documents/Sonstiges/data/H3K4me1/*_AD-5A-*.bw \\\n",
    "          /mnt/c/Users/Christina/Documents/Sonstiges/data/H3K4me1/*_AD-8T-*.bw \\\n",
    "          /mnt/c/Users/Christina/Documents/Sonstiges/data/H3K4me1/*_AD-6T-*.bw \\\n",
    "          /mnt/c/Users/Christina/Documents/Sonstiges/data/H3K4me1/*_AD-7T-*.bw \\\n",
    "          -o results_H3K4me1.npz'\n",
    "subprocess.call(H3K4me1, shell=True)\n",
    "\n",
    "H3K9ac = 'multiBigwigSummary bins -p 4 --smartLabels \\\n",
    "          -b /mnt/c/Users/Christina/Documents/Sonstiges/data/H3K9ac/*_Y-15T-*.bw \\\n",
    "          /mnt/c/Users/Christina/Documents/Sonstiges/data/H3K9ac/*_Y-12A-*.bw \\\n",
    "          /mnt/c/Users/Christina/Documents/Sonstiges/data/H3K9ac/*_Y-17T-*.bw \\\n",
    "          /mnt/c/Users/Christina/Documents/Sonstiges/data/H3K9ac/*_Y-13A-*.bw \\\n",
    "          /mnt/c/Users/Christina/Documents/Sonstiges/data/H3K9ac/*_Y-18T-*.bw \\\n",
    "          /mnt/c/Users/Christina/Documents/Sonstiges/data/H3K9ac/*_Y-14A-*.bw \\\n",
    "          /mnt/c/Users/Christina/Documents/Sonstiges/data/H3K9ac/*_Y-19T-*.bw \\\n",
    "          /mnt/c/Users/Christina/Documents/Sonstiges/data/H3K9ac/*_Y-15A-*.bw \\\n",
    "          /mnt/c/Users/Christina/Documents/Sonstiges/data/H3K9ac/*_Y-16A-*.bw \\\n",
    "          /mnt/c/Users/Christina/Documents/Sonstiges/data/H3K9ac/*_O-8A-*.bw \\\n",
    "          /mnt/c/Users/Christina/Documents/Sonstiges/data/H3K9ac/*_O-10T-*.bw \\\n",
    "          /mnt/c/Users/Christina/Documents/Sonstiges/data/H3K9ac/*_O-6A-*.bw \\\n",
    "          /mnt/c/Users/Christina/Documents/Sonstiges/data/H3K9ac/*_O-11T-*.bw \\\n",
    "          /mnt/c/Users/Christina/Documents/Sonstiges/data/H3K9ac/*_O-7A-*.bw \\\n",
    "          /mnt/c/Users/Christina/Documents/Sonstiges/data/H3K9ac/*_O-13T-*.bw \\\n",
    "          /mnt/c/Users/Christina/Documents/Sonstiges/data/H3K9ac/*_O-14T-*.bw \\\n",
    "          /mnt/c/Users/Christina/Documents/Sonstiges/data/H3K9ac/*_O-9A-*.bw \\\n",
    "          /mnt/c/Users/Christina/Documents/Sonstiges/data/H3K9ac/*_O-10A-*.bw \\\n",
    "          /mnt/c/Users/Christina/Documents/Sonstiges/data/H3K9ac/*_O-11A-*.bw \\\n",
    "          /mnt/c/Users/Christina/Documents/Sonstiges/data/H3K9ac/*_AD-1T-*.bw \\\n",
    "          /mnt/c/Users/Christina/Documents/Sonstiges/data/H3K9ac/*_AD-1A-*.bw \\\n",
    "          /mnt/c/Users/Christina/Documents/Sonstiges/data/H3K9ac/*_AD-2T-*.bw \\\n",
    "          /mnt/c/Users/Christina/Documents/Sonstiges/data/H3K9ac/*_AD-2A-*.bw \\\n",
    "          /mnt/c/Users/Christina/Documents/Sonstiges/data/H3K9ac/*_AD-3T-*.bw \\\n",
    "          /mnt/c/Users/Christina/Documents/Sonstiges/data/H3K9ac/*_AD-5T-*.bw \\\n",
    "          /mnt/c/Users/Christina/Documents/Sonstiges/data/H3K9ac/*_AD-3A-*.bw \\\n",
    "          /mnt/c/Users/Christina/Documents/Sonstiges/data/H3K9ac/*_AD-5A-*.bw \\\n",
    "          /mnt/c/Users/Christina/Documents/Sonstiges/data/H3K9ac/*_AD-8T-*.bw \\\n",
    "          /mnt/c/Users/Christina/Documents/Sonstiges/data/H3K9ac/*_AD-6T-*.bw \\\n",
    "          /mnt/c/Users/Christina/Documents/Sonstiges/data/H3K9ac/*_AD-7T-*.bw \\\n",
    "          -o results_H3K9ac.npz'\n",
    "subprocess.call(H3K9ac, shell=True)\n",
    "\n",
    "H3K27ac = 'multiBigwigSummary bins -p 4 --smartLabels \\\n",
    "          -b /mnt/c/Users/Christina/Documents/Sonstiges/data/H3K27ac/*_Y-15T-*.bw \\\n",
    "          /mnt/c/Users/Christina/Documents/Sonstiges/data/H3K27ac/*_Y-12A-*.bw \\\n",
    "          /mnt/c/Users/Christina/Documents/Sonstiges/data/H3K27ac/*_Y-17T-*.bw \\\n",
    "          /mnt/c/Users/Christina/Documents/Sonstiges/data/H3K27ac/*_Y-13A-*.bw \\\n",
    "          /mnt/c/Users/Christina/Documents/Sonstiges/data/H3K27ac/*_Y-18T-*.bw \\\n",
    "          /mnt/c/Users/Christina/Documents/Sonstiges/data/H3K27ac/*_Y-14A-*.bw \\\n",
    "          /mnt/c/Users/Christina/Documents/Sonstiges/data/H3K27ac/*_Y-19T-*.bw \\\n",
    "          /mnt/c/Users/Christina/Documents/Sonstiges/data/H3K27ac/*_Y-15A-*.bw \\\n",
    "          /mnt/c/Users/Christina/Documents/Sonstiges/data/H3K27ac/*_Y-16A-*.bw \\\n",
    "          /mnt/c/Users/Christina/Documents/Sonstiges/data/H3K27ac/*_O-8A-*.bw \\\n",
    "          /mnt/c/Users/Christina/Documents/Sonstiges/data/H3K27ac/*_O-10T-*.bw \\\n",
    "          /mnt/c/Users/Christina/Documents/Sonstiges/data/H3K27ac/*_O-6A-*.bw \\\n",
    "          /mnt/c/Users/Christina/Documents/Sonstiges/data/H3K27ac/*_O-11T-*.bw \\\n",
    "          /mnt/c/Users/Christina/Documents/Sonstiges/data/H3K27ac/*_O-7A-*.bw \\\n",
    "          /mnt/c/Users/Christina/Documents/Sonstiges/data/H3K27ac/*_O-13T-*.bw \\\n",
    "          /mnt/c/Users/Christina/Documents/Sonstiges/data/H3K27ac/*_O-14T-*.bw \\\n",
    "          /mnt/c/Users/Christina/Documents/Sonstiges/data/H3K27ac/*_O-9A-*.bw \\\n",
    "          /mnt/c/Users/Christina/Documents/Sonstiges/data/H3K27ac/*_O-10A-*.bw \\\n",
    "          /mnt/c/Users/Christina/Documents/Sonstiges/data/H3K27ac/*_O-11A-*.bw \\\n",
    "          /mnt/c/Users/Christina/Documents/Sonstiges/data/H3K27ac/*_AD-1T-*.bw \\\n",
    "          /mnt/c/Users/Christina/Documents/Sonstiges/data/H3K27ac/*_AD-1A-*.bw \\\n",
    "          /mnt/c/Users/Christina/Documents/Sonstiges/data/H3K27ac/*_AD-2T-*.bw \\\n",
    "          /mnt/c/Users/Christina/Documents/Sonstiges/data/H3K27ac/*_AD-2A-*.bw \\\n",
    "          /mnt/c/Users/Christina/Documents/Sonstiges/data/H3K27ac/*_AD-3T-*.bw \\\n",
    "          /mnt/c/Users/Christina/Documents/Sonstiges/data/H3K27ac/*_AD-5T-*.bw \\\n",
    "          /mnt/c/Users/Christina/Documents/Sonstiges/data/H3K27ac/*_AD-3A-*.bw \\\n",
    "          /mnt/c/Users/Christina/Documents/Sonstiges/data/H3K27ac/*_AD-5A-*.bw \\\n",
    "          /mnt/c/Users/Christina/Documents/Sonstiges/data/H3K27ac/*_AD-8T-*.bw \\\n",
    "          /mnt/c/Users/Christina/Documents/Sonstiges/data/H3K27ac/*_AD-6T-*.bw \\\n",
    "          /mnt/c/Users/Christina/Documents/Sonstiges/data/H3K27ac/*_AD-7T-*.bw \\\n",
    "          -o results_H3K27ac.npz'\n",
    "subprocess.call(H3K27ac, shell=True)\n",
    "\n",
    "H3k122ac = 'multiBigwigSummary bins -p 4 --smartLabels \\\n",
    "          -b /mnt/c/Users/Christina/Documents/Sonstiges/data/H3K122ac/*_Y-15T-*.bw \\\n",
    "          /mnt/c/Users/Christina/Documents/Sonstiges/data/H3K122ac/*_Y-17T-*.bw \\\n",
    "          /mnt/c/Users/Christina/Documents/Sonstiges/data/H3K122ac/*_Y-13A-*.bw \\\n",
    "          /mnt/c/Users/Christina/Documents/Sonstiges/data/H3K122ac/*_Y-18T-*.bw \\\n",
    "          /mnt/c/Users/Christina/Documents/Sonstiges/data/H3K122ac/*_Y-14A-*.bw \\\n",
    "          /mnt/c/Users/Christina/Documents/Sonstiges/data/H3K122ac/*_Y-19T-*.bw \\\n",
    "          /mnt/c/Users/Christina/Documents/Sonstiges/data/H3K122ac/*_Y-15A-*.bw \\\n",
    "          /mnt/c/Users/Christina/Documents/Sonstiges/data/H3K122ac/*_Y-16A-*.bw \\\n",
    "          /mnt/c/Users/Christina/Documents/Sonstiges/data/H3K122ac/*_O-8A-*.bw \\\n",
    "          /mnt/c/Users/Christina/Documents/Sonstiges/data/H3K122ac/*_O-10T-*.bw \\\n",
    "          /mnt/c/Users/Christina/Documents/Sonstiges/data/H3K122ac/*_O-6A-*.bw \\\n",
    "          /mnt/c/Users/Christina/Documents/Sonstiges/data/H3K122ac/*_O-11T-*.bw \\\n",
    "          /mnt/c/Users/Christina/Documents/Sonstiges/data/H3K122ac/*_O-7A-*.bw \\\n",
    "          /mnt/c/Users/Christina/Documents/Sonstiges/data/H3K122ac/*_O-13T-*.bw \\\n",
    "          /mnt/c/Users/Christina/Documents/Sonstiges/data/H3K122ac/*_O-14T-*.bw \\\n",
    "          /mnt/c/Users/Christina/Documents/Sonstiges/data/H3K122ac/*_O-9A-*.bw \\\n",
    "          /mnt/c/Users/Christina/Documents/Sonstiges/data/H3K122ac/*_O-10A-*.bw \\\n",
    "          /mnt/c/Users/Christina/Documents/Sonstiges/data/H3K122ac/*_O-11A-*.bw \\\n",
    "          /mnt/c/Users/Christina/Documents/Sonstiges/data/H3K122ac/*_AD-1T-*.bw \\\n",
    "          /mnt/c/Users/Christina/Documents/Sonstiges/data/H3K122ac/*_AD-1A-*.bw \\\n",
    "          /mnt/c/Users/Christina/Documents/Sonstiges/data/H3K122ac/*_AD-2T-*.bw \\\n",
    "          /mnt/c/Users/Christina/Documents/Sonstiges/data/H3K122ac/*_AD-2A-*.bw \\\n",
    "          /mnt/c/Users/Christina/Documents/Sonstiges/data/H3K122ac/*_AD-5T-*.bw \\\n",
    "          /mnt/c/Users/Christina/Documents/Sonstiges/data/H3K122ac/*_AD-3A-*.bw \\\n",
    "          /mnt/c/Users/Christina/Documents/Sonstiges/data/H3K122ac/*_AD-5A-*.bw \\\n",
    "          /mnt/c/Users/Christina/Documents/Sonstiges/data/H3K122ac/*_AD-8T-*.bw \\\n",
    "          /mnt/c/Users/Christina/Documents/Sonstiges/data/H3K122ac/*_AD-7T-*.bw \\\n",
    "          -o results_H3k122ac.npz'\n",
    "subprocess.call(H3k122ac, shell=True)"
   ]
  },
  {
   "cell_type": "markdown",
   "id": "43d6365a-f57b-4d6e-963e-ee2b5724f944",
   "metadata": {},
   "source": []
  },
  {
   "cell_type": "code",
   "execution_count": 8,
   "id": "337c895c-6f4e-46fc-b590-8611d7abecd6",
   "metadata": {},
   "outputs": [
    {
     "name": "stderr",
     "output_type": "stream",
     "text": [
      "*Warning*. 915803 NaN values were found. They will be removed along with the corresponding bins in other samples for the computation and plotting\n",
      "*Warning*. 972302 NaN values were found. They will be removed along with the corresponding bins in other samples for the computation and plotting\n",
      "*Warning*. 875886 NaN values were found. They will be removed along with the corresponding bins in other samples for the computation and plotting\n",
      "*Warning*. 858371 NaN values were found. They will be removed along with the corresponding bins in other samples for the computation and plotting\n"
     ]
    },
    {
     "data": {
      "text/plain": [
       "0"
      ]
     },
     "execution_count": 8,
     "metadata": {},
     "output_type": "execute_result"
    }
   ],
   "source": [
    "H3K4me1 = 'plotCorrelation --corData results_H3K4me1.npz \\\n",
    "          --corMethod pearson --whatToPlot heatmap \\\n",
    "          --plotFile H3K4me1_corheatmap.png --plotNumbers\\\n",
    "          --plotTitle CorrelationHeatmapH3K4me1'\n",
    "subprocess.call(H3K4me1, shell=True)\n",
    "\n",
    "H3K9ac = 'plotCorrelation --corData results_H3K9ac.npz \\\n",
    "          --corMethod pearson --whatToPlot heatmap \\\n",
    "          --plotFile H3K9ac_corheatmap.png --plotNumbers\\\n",
    "          --plotTitle CorrelationHeatmapH3K9ac'\n",
    "subprocess.call(H3K9ac, shell=True)\n",
    "\n",
    "H3K27ac = 'plotCorrelation --corData results_H3K27ac.npz \\\n",
    "          --corMethod pearson --whatToPlot heatmap \\\n",
    "          --plotFile H3K27ac_corheatmap.png --plotNumbers\\\n",
    "          --plotTitle CorrelationHeatmapH3K27ac'\n",
    "subprocess.call(H3K27ac, shell=True)\n",
    "\n",
    "H3K122ac = 'plotCorrelation --corData results_H3K122ac.npz \\\n",
    "          --corMethod pearson --whatToPlot heatmap \\\n",
    "          --plotFile H3K122ac_corheatmap.png --plotNumbers\\\n",
    "          --plotTitle CorrelationHeatmapH3K122ac'\n",
    "subprocess.call(H3K122ac, shell=True)"
   ]
  },
  {
   "cell_type": "code",
   "execution_count": 9,
   "id": "1ef6f29d-0d31-4aaa-8069-1f8cd25f5a5c",
   "metadata": {},
   "outputs": [
    {
     "name": "stderr",
     "output_type": "stream",
     "text": [
      "*Warning*. 915803 NaN values were found. They will be removed along with the corresponding bins in other samples for the computation and plotting\n",
      "*Warning*. 972302 NaN values were found. They will be removed along with the corresponding bins in other samples for the computation and plotting\n",
      "*Warning*. 875886 NaN values were found. They will be removed along with the corresponding bins in other samples for the computation and plotting\n",
      "*Warning*. 858371 NaN values were found. They will be removed along with the corresponding bins in other samples for the computation and plotting\n"
     ]
    },
    {
     "data": {
      "text/plain": [
       "0"
      ]
     },
     "execution_count": 9,
     "metadata": {},
     "output_type": "execute_result"
    }
   ],
   "source": [
    "H3K4me1 = 'plotCorrelation --corData results_H3K4me1.npz \\\n",
    "          --corMethod spearman --whatToPlot heatmap \\\n",
    "          --plotFile H3K4me1_heatmap_spearman.png --plotNumbers\\\n",
    "          --plotTitle CorrelationHeatmapH3K4me1'\n",
    "subprocess.call(H3K4me1, shell=True)\n",
    "\n",
    "H3K9ac = 'plotCorrelation --corData results_H3K9ac.npz \\\n",
    "          --corMethod spearman --whatToPlot heatmap \\\n",
    "          --plotFile H3K9ac_heatmap_spearman.png --plotNumbers\\\n",
    "          --plotTitle CorrelationHeatmapH3K9ac'\n",
    "subprocess.call(H3K9ac, shell=True)\n",
    "\n",
    "H3K27ac = 'plotCorrelation --corData results_H3K27ac.npz \\\n",
    "          --corMethod spearman --whatToPlot heatmap \\\n",
    "          --plotFile H3K27ac_heatmap_spearman.png --plotNumbers\\\n",
    "          --plotTitle CorrelationHeatmapH3K27ac'\n",
    "subprocess.call(H3K27ac, shell=True)\n",
    "\n",
    "H3K122ac = 'plotCorrelation --corData results_H3K122ac.npz \\\n",
    "           --corMethod spearman --whatToPlot heatmap \\\n",
    "           --plotFile H3K122ac_heatmap_spearman.png --plotNumbers\\\n",
    "           --plotTitle CorrelationHeatmapH3K122ac'\n",
    "subprocess.call(H3K122ac, shell=True)"
   ]
  },
  {
   "cell_type": "markdown",
   "id": "1c99df5b-3080-414f-900c-6669dd14dd72",
   "metadata": {},
   "source": []
  },
  {
   "cell_type": "code",
   "execution_count": 11,
   "id": "2c6d1713-a908-4c70-858a-a81cbd180b0e",
   "metadata": {},
   "outputs": [
    {
     "name": "stderr",
     "output_type": "stream",
     "text": [
      "*Warning*. 915803 NaN values were found. They will be removed along with the corresponding bins in other samples for the computation and plotting\n",
      "*Warning*. 972302 NaN values were found. They will be removed along with the corresponding bins in other samples for the computation and plotting\n",
      "*Warning*. 875886 NaN values were found. They will be removed along with the corresponding bins in other samples for the computation and plotting\n",
      "*Warning*. 858371 NaN values were found. They will be removed along with the corresponding bins in other samples for the computation and plotting\n"
     ]
    },
    {
     "data": {
      "text/plain": [
       "0"
      ]
     },
     "execution_count": 11,
     "metadata": {},
     "output_type": "execute_result"
    }
   ],
   "source": [
    "H3K4me1 = 'plotPCA --corData results_H3K4me1.npz \\\n",
    "          --plotFile H3K4me1_pca.png \\\n",
    "          --plotTitle \"PCA for H3K4me1\"'\n",
    "subprocess.call(H3K4me1, shell=True)\n",
    "\n",
    "H3K9ac = 'plotPCA --corData results_H3K9ac.npz \\\n",
    "          --plotFile H3K9ac_pca.png \\\n",
    "          --plotTitle \"PCA for H3K9ac\"'\n",
    "subprocess.call(H3K9ac, shell=True)\n",
    "\n",
    "H3K27ac = 'plotPCA --corData results_H3K27ac.npz \\\n",
    "          --plotFile H3K27ac_pca.png \\\n",
    "          --plotTitle \"PCA for H3K27ac\"'\n",
    "subprocess.call(H3K27ac, shell=True)\n",
    "\n",
    "H3K122ac = 'plotPCA --corData results_H3K122ac.npz \\\n",
    "           --plotFile H3K122ac_pca.png \\\n",
    "           --plotTitle \"PCA for H3K122ac\"'\n",
    "subprocess.call(H3K122ac, shell=True)"
   ]
  },
  {
   "cell_type": "markdown",
   "id": "970f655a-557f-4c59-8fac-d9a34ac4aba6",
   "metadata": {},
   "source": [
    "## Machine Learning\n",
    "\n",
    "### Count matrix for ChIP-seq\n",
    "\n",
    "To be able to use the ChIP-seq data we generated count matrices for every modification. For this, all bed files for a modification were sorted. Afterwards, the columns for chromosome (column 1), start (column 2), end (column 3) and score (column 5) were extracted. Finally, the count matrix was build with unionbedg from bedtools."
   ]
  },
  {
   "cell_type": "code",
   "execution_count": 2,
   "id": "1f311d05-3f88-4764-8f4a-263bf49b42ea",
   "metadata": {},
   "outputs": [
    {
     "data": {
      "text/plain": [
       "0"
      ]
     },
     "execution_count": 2,
     "metadata": {},
     "output_type": "execute_result"
    }
   ],
   "source": [
    "import os\n",
    "import subprocess\n",
    "\n",
    "path = '/mnt/c/Users/Christina/Documents/Sonstiges/data/H3K4me1/'\n",
    "files = os.listdir(path)\n",
    "\n",
    "for sample in files:\n",
    "    if sample.endswith('.bw'):\n",
    "        files.remove(sample)\n",
    "\n",
    "for sample in files:\n",
    "    sort = 'sortBed -i ' + path + sample + ' > /mnt/c/Users/Christina/Documents/GitHub/DataScience_finalProjekt_Group2/H3K4me1/sort_' + sample\n",
    "    subprocess.call(sort, shell = True)\n",
    "    cut = 'cut -f1,2,3,5 /mnt/c/Users/Christina/Documents/GitHub/DataScience_finalProjekt_Group2/H3K4me1/sort_' + sample + '\\\n",
    "           > /mnt/c/Users/Christina/Documents/GitHub/DataScience_finalProjekt_Group2/H3K4me1/' + sample\n",
    "    subprocess.call(cut, shell = True)\n",
    "    \n",
    "    \n",
    "H3K4me1 = 'bedtools unionbedg \\\n",
    "          -i /mnt/c/Users/Christina/Documents/GitHub/DataScience_finalProjekt_Group2/H3K4me1/G*_Y-15T-*.bed \\\n",
    "          /mnt/c/Users/Christina/Documents/GitHub/DataScience_finalProjekt_Group2/H3K4me1/G*_Y-17T-*.bed \\\n",
    "          /mnt/c/Users/Christina/Documents/GitHub/DataScience_finalProjekt_Group2/H3K4me1/G*_Y-13A-*.bed \\\n",
    "          /mnt/c/Users/Christina/Documents/GitHub/DataScience_finalProjekt_Group2/H3K4me1/G*_Y-18T-*.bed \\\n",
    "          /mnt/c/Users/Christina/Documents/GitHub/DataScience_finalProjekt_Group2/H3K4me1/G*_Y-14A-*.bed \\\n",
    "          /mnt/c/Users/Christina/Documents/GitHub/DataScience_finalProjekt_Group2/H3K4me1/G*_Y-19T-*.bed \\\n",
    "          /mnt/c/Users/Christina/Documents/GitHub/DataScience_finalProjekt_Group2/H3K4me1/G*_Y-15A-*.bed \\\n",
    "          /mnt/c/Users/Christina/Documents/GitHub/DataScience_finalProjekt_Group2/H3K4me1/G*_Y-16A-*.bed \\\n",
    "          /mnt/c/Users/Christina/Documents/GitHub/DataScience_finalProjekt_Group2/H3K4me1/G*_O-8A-*.bed \\\n",
    "          /mnt/c/Users/Christina/Documents/GitHub/DataScience_finalProjekt_Group2/H3K4me1/G*_O-10T-*.bed \\\n",
    "          /mnt/c/Users/Christina/Documents/GitHub/DataScience_finalProjekt_Group2/H3K4me1/G*_O-6A-*.bed \\\n",
    "          /mnt/c/Users/Christina/Documents/GitHub/DataScience_finalProjekt_Group2/H3K4me1/G*_O-11T-*.bed \\\n",
    "          /mnt/c/Users/Christina/Documents/GitHub/DataScience_finalProjekt_Group2/H3K4me1/G*_O-7A-*.bed \\\n",
    "          /mnt/c/Users/Christina/Documents/GitHub/DataScience_finalProjekt_Group2/H3K4me1/G*_O-13T-*.bed \\\n",
    "          /mnt/c/Users/Christina/Documents/GitHub/DataScience_finalProjekt_Group2/H3K4me1/G*_O-14T-*.bed \\\n",
    "          /mnt/c/Users/Christina/Documents/GitHub/DataScience_finalProjekt_Group2/H3K4me1/G*_O-9A-*.bed \\\n",
    "          /mnt/c/Users/Christina/Documents/GitHub/DataScience_finalProjekt_Group2/H3K4me1/G*_O-10A-*.bed \\\n",
    "          /mnt/c/Users/Christina/Documents/GitHub/DataScience_finalProjekt_Group2/H3K4me1/G*_O-11A-*.bed \\\n",
    "          /mnt/c/Users/Christina/Documents/GitHub/DataScience_finalProjekt_Group2/H3K4me1/G*_AD-1T-*.bed \\\n",
    "          /mnt/c/Users/Christina/Documents/GitHub/DataScience_finalProjekt_Group2/H3K4me1/G*_AD-1A-*.bed \\\n",
    "          /mnt/c/Users/Christina/Documents/GitHub/DataScience_finalProjekt_Group2/H3K4me1/G*_AD-2T-*.bed \\\n",
    "          /mnt/c/Users/Christina/Documents/GitHub/DataScience_finalProjekt_Group2/H3K4me1/G*_AD-2A-*.bed \\\n",
    "          /mnt/c/Users/Christina/Documents/GitHub/DataScience_finalProjekt_Group2/H3K4me1/G*_AD-3T-*.bed \\\n",
    "          /mnt/c/Users/Christina/Documents/GitHub/DataScience_finalProjekt_Group2/H3K4me1/G*_AD-5T-*.bed \\\n",
    "          /mnt/c/Users/Christina/Documents/GitHub/DataScience_finalProjekt_Group2/H3K4me1/G*_AD-3A-*.bed \\\n",
    "          /mnt/c/Users/Christina/Documents/GitHub/DataScience_finalProjekt_Group2/H3K4me1/G*_AD-5A-*.bed \\\n",
    "          /mnt/c/Users/Christina/Documents/GitHub/DataScience_finalProjekt_Group2/H3K4me1/G*_AD-8T-*.bed \\\n",
    "          /mnt/c/Users/Christina/Documents/GitHub/DataScience_finalProjekt_Group2/H3K4me1/G*_AD-6T-*.bed \\\n",
    "          /mnt/c/Users/Christina/Documents/GitHub/DataScience_finalProjekt_Group2/H3K4me1/G*_AD-7T-*.bed \\\n",
    "          -header \\\n",
    "          -names Y-15T Y-17T Y-13A Y-18T Y-14A Y-19T Y-15A Y-16A O-8A O-10T O-6A O-11T O-7A O-13T O-14T \\\n",
    "          O-9A O-10A O-11A AD-1T AD-1A AD-2T AD-2A AD-3T AD-5T AD-3A AD-5A AD-8T AD-6T AD-7T \\\n",
    "          > H3K4me1_counts.txt'\n",
    "subprocess.call(H3K4me1, shell=True)"
   ]
  },
  {
   "cell_type": "code",
   "execution_count": 3,
   "id": "c5f09575-04b7-489a-9573-64c98e5e83cd",
   "metadata": {},
   "outputs": [
    {
     "data": {
      "text/plain": [
       "0"
      ]
     },
     "execution_count": 3,
     "metadata": {},
     "output_type": "execute_result"
    }
   ],
   "source": [
    "path = '/mnt/c/Users/Christina/Documents/Sonstiges/data/H3K9ac/'\n",
    "files = os.listdir(path)\n",
    "\n",
    "for sample in files:\n",
    "    if sample.endswith('.bw'):\n",
    "        files.remove(sample)\n",
    "\n",
    "for sample in files:\n",
    "    sort = 'sortBed -i ' + path + sample + ' > /mnt/c/Users/Christina/Documents/GitHub/DataScience_finalProjekt_Group2/H3K9ac/sort_' + sample\n",
    "    subprocess.call(sort, shell = True)\n",
    "    cut = 'cut -f1,2,3,5 /mnt/c/Users/Christina/Documents/GitHub/DataScience_finalProjekt_Group2/H3K9ac/sort_' + sample + '\\\n",
    "           > /mnt/c/Users/Christina/Documents/GitHub/DataScience_finalProjekt_Group2/H3K9ac/' + sample\n",
    "    subprocess.call(cut, shell = True)\n",
    "\n",
    "H3K9ac = 'bedtools unionbedg \\\n",
    "          -i /mnt/c/Users/Christina/Documents/GitHub/DataScience_finalProjekt_Group2/H3K9ac/G*_Y-15T-*.bed \\\n",
    "          /mnt/c/Users/Christina/Documents/GitHub/DataScience_finalProjekt_Group2/H3K9ac/G*_Y-12A-*.bed \\\n",
    "          /mnt/c/Users/Christina/Documents/GitHub/DataScience_finalProjekt_Group2/H3K9ac/G*_Y-17T-*.bed \\\n",
    "          /mnt/c/Users/Christina/Documents/GitHub/DataScience_finalProjekt_Group2/H3K9ac/G*_Y-13A-*.bed \\\n",
    "          /mnt/c/Users/Christina/Documents/GitHub/DataScience_finalProjekt_Group2/H3K9ac/G*_Y-18T-*.bed \\\n",
    "          /mnt/c/Users/Christina/Documents/GitHub/DataScience_finalProjekt_Group2/H3K9ac/G*_Y-14A-*.bed \\\n",
    "          /mnt/c/Users/Christina/Documents/GitHub/DataScience_finalProjekt_Group2/H3K9ac/G*_Y-19T-*.bed \\\n",
    "          /mnt/c/Users/Christina/Documents/GitHub/DataScience_finalProjekt_Group2/H3K9ac/G*_Y-15A-*.bed \\\n",
    "          /mnt/c/Users/Christina/Documents/GitHub/DataScience_finalProjekt_Group2/H3K9ac/G*_Y-16A-*.bed \\\n",
    "          /mnt/c/Users/Christina/Documents/GitHub/DataScience_finalProjekt_Group2/H3K9ac/G*_O-8A-*.bed \\\n",
    "          /mnt/c/Users/Christina/Documents/GitHub/DataScience_finalProjekt_Group2/H3K9ac/G*_O-10T-*.bed \\\n",
    "          /mnt/c/Users/Christina/Documents/GitHub/DataScience_finalProjekt_Group2/H3K9ac/G*_O-6A-*.bed \\\n",
    "          /mnt/c/Users/Christina/Documents/GitHub/DataScience_finalProjekt_Group2/H3K9ac/G*_O-11T-*.bed \\\n",
    "          /mnt/c/Users/Christina/Documents/GitHub/DataScience_finalProjekt_Group2/H3K9ac/G*_O-7A-*.bed \\\n",
    "          /mnt/c/Users/Christina/Documents/GitHub/DataScience_finalProjekt_Group2/H3K9ac/G*_O-13T-*.bed \\\n",
    "          /mnt/c/Users/Christina/Documents/GitHub/DataScience_finalProjekt_Group2/H3K9ac/G*_O-14T-*.bed \\\n",
    "          /mnt/c/Users/Christina/Documents/GitHub/DataScience_finalProjekt_Group2/H3K9ac/G*_O-9A-*.bed \\\n",
    "          /mnt/c/Users/Christina/Documents/GitHub/DataScience_finalProjekt_Group2/H3K9ac/G*_O-10A-*.bed \\\n",
    "          /mnt/c/Users/Christina/Documents/GitHub/DataScience_finalProjekt_Group2/H3K9ac/G*_O-11A-*.bed \\\n",
    "          /mnt/c/Users/Christina/Documents/GitHub/DataScience_finalProjekt_Group2/H3K9ac/G*_AD-1T-*.bed \\\n",
    "          /mnt/c/Users/Christina/Documents/GitHub/DataScience_finalProjekt_Group2/H3K9ac/G*_AD-1A-*.bed \\\n",
    "          /mnt/c/Users/Christina/Documents/GitHub/DataScience_finalProjekt_Group2/H3K9ac/G*_AD-2T-*.bed \\\n",
    "          /mnt/c/Users/Christina/Documents/GitHub/DataScience_finalProjekt_Group2/H3K9ac/G*_AD-2A-*.bed \\\n",
    "          /mnt/c/Users/Christina/Documents/GitHub/DataScience_finalProjekt_Group2/H3K9ac/G*_AD-3T-*.bed \\\n",
    "          /mnt/c/Users/Christina/Documents/GitHub/DataScience_finalProjekt_Group2/H3K9ac/G*_AD-5T-*.bed \\\n",
    "          /mnt/c/Users/Christina/Documents/GitHub/DataScience_finalProjekt_Group2/H3K9ac/G*_AD-3A-*.bed \\\n",
    "          /mnt/c/Users/Christina/Documents/GitHub/DataScience_finalProjekt_Group2/H3K9ac/G*_AD-5A-*.bed \\\n",
    "          /mnt/c/Users/Christina/Documents/GitHub/DataScience_finalProjekt_Group2/H3K9ac/G*_AD-8T-*.bed \\\n",
    "          /mnt/c/Users/Christina/Documents/GitHub/DataScience_finalProjekt_Group2/H3K9ac/G*_AD-6T-*.bed \\\n",
    "          /mnt/c/Users/Christina/Documents/GitHub/DataScience_finalProjekt_Group2/H3K9ac/G*_AD-7T-*.bed \\\n",
    "          -header \\\n",
    "          -names Y-15T Y-12A Y-17T Y-13A Y-18T Y-14A Y-19T Y-15A Y-16A O-8A O-10T O-6A O-11T O-7A O-13T O-14T \\\n",
    "          O-9A O-10A O-11A AD-1T AD-1A AD-2T AD-2A AD-3T AD-5T AD-3A AD-5A AD-8T AD-6T AD-7T \\\n",
    "          > H3K9ac_counts.txt'\n",
    "subprocess.call(H3K9ac, shell=True)"
   ]
  },
  {
   "cell_type": "code",
   "execution_count": 4,
   "id": "ffeeb376-e6a4-406d-8f37-8f338457b51e",
   "metadata": {},
   "outputs": [
    {
     "data": {
      "text/plain": [
       "0"
      ]
     },
     "execution_count": 4,
     "metadata": {},
     "output_type": "execute_result"
    }
   ],
   "source": [
    "path = '/mnt/c/Users/Christina/Documents/Sonstiges/data/H3K27ac/'\n",
    "files = os.listdir(path)\n",
    "\n",
    "for sample in files:\n",
    "    if sample.endswith('.bw'):\n",
    "        files.remove(sample)\n",
    "\n",
    "for sample in files:\n",
    "    sort = 'sortBed -i ' + path + sample + ' > /mnt/c/Users/Christina/Documents/GitHub/DataScience_finalProjekt_Group2/H3K27ac/sort_' + sample\n",
    "    subprocess.call(sort, shell = True)\n",
    "    cut = 'cut -f1,2,3,5 /mnt/c/Users/Christina/Documents/GitHub/DataScience_finalProjekt_Group2/H3K27ac/sort_' + sample + '\\\n",
    "           > /mnt/c/Users/Christina/Documents/GitHub/DataScience_finalProjekt_Group2/H3K27ac/' + sample\n",
    "    subprocess.call(cut, shell = True)\n",
    "\n",
    "H3K27ac = 'bedtools unionbedg \\\n",
    "          -i /mnt/c/Users/Christina/Documents/GitHub/DataScience_finalProjekt_Group2/H3K27ac/G*_Y-15T-*.bed \\\n",
    "          /mnt/c/Users/Christina/Documents/GitHub/DataScience_finalProjekt_Group2/H3K27ac/G*_Y-12A-*.bed \\\n",
    "          /mnt/c/Users/Christina/Documents/GitHub/DataScience_finalProjekt_Group2/H3K27ac/G*_Y-17T-*.bed \\\n",
    "          /mnt/c/Users/Christina/Documents/GitHub/DataScience_finalProjekt_Group2/H3K27ac/G*_Y-13A-*.bed \\\n",
    "          /mnt/c/Users/Christina/Documents/GitHub/DataScience_finalProjekt_Group2/H3K27ac/G*_Y-18T-*.bed \\\n",
    "          /mnt/c/Users/Christina/Documents/GitHub/DataScience_finalProjekt_Group2/H3K27ac/G*_Y-14A-*.bed \\\n",
    "          /mnt/c/Users/Christina/Documents/GitHub/DataScience_finalProjekt_Group2/H3K27ac/G*_Y-19T-*.bed \\\n",
    "          /mnt/c/Users/Christina/Documents/GitHub/DataScience_finalProjekt_Group2/H3K27ac/G*_Y-15A-*.bed \\\n",
    "          /mnt/c/Users/Christina/Documents/GitHub/DataScience_finalProjekt_Group2/H3K27ac/G*_Y-16A-*.bed \\\n",
    "          /mnt/c/Users/Christina/Documents/GitHub/DataScience_finalProjekt_Group2/H3K27ac/G*_O-8A-*.bed \\\n",
    "          /mnt/c/Users/Christina/Documents/GitHub/DataScience_finalProjekt_Group2/H3K27ac/G*_O-10T-*.bed \\\n",
    "          /mnt/c/Users/Christina/Documents/GitHub/DataScience_finalProjekt_Group2/H3K27ac/G*_O-6A-*.bed \\\n",
    "          /mnt/c/Users/Christina/Documents/GitHub/DataScience_finalProjekt_Group2/H3K27ac/G*_O-11T-*.bed \\\n",
    "          /mnt/c/Users/Christina/Documents/GitHub/DataScience_finalProjekt_Group2/H3K27ac/G*_O-7A-*.bed \\\n",
    "          /mnt/c/Users/Christina/Documents/GitHub/DataScience_finalProjekt_Group2/H3K27ac/G*_O-13T-*.bed \\\n",
    "          /mnt/c/Users/Christina/Documents/GitHub/DataScience_finalProjekt_Group2/H3K27ac/G*_O-14T-*.bed \\\n",
    "          /mnt/c/Users/Christina/Documents/GitHub/DataScience_finalProjekt_Group2/H3K27ac/G*_O-9A-*.bed \\\n",
    "          /mnt/c/Users/Christina/Documents/GitHub/DataScience_finalProjekt_Group2/H3K27ac/G*_O-10A-*.bed \\\n",
    "          /mnt/c/Users/Christina/Documents/GitHub/DataScience_finalProjekt_Group2/H3K27ac/G*_O-11A-*.bed \\\n",
    "          /mnt/c/Users/Christina/Documents/GitHub/DataScience_finalProjekt_Group2/H3K27ac/G*_AD-1T-*.bed \\\n",
    "          /mnt/c/Users/Christina/Documents/GitHub/DataScience_finalProjekt_Group2/H3K27ac/G*_AD-1A-*.bed \\\n",
    "          /mnt/c/Users/Christina/Documents/GitHub/DataScience_finalProjekt_Group2/H3K27ac/G*_AD-2T-*.bed \\\n",
    "          /mnt/c/Users/Christina/Documents/GitHub/DataScience_finalProjekt_Group2/H3K27ac/G*_AD-2A-*.bed \\\n",
    "          /mnt/c/Users/Christina/Documents/GitHub/DataScience_finalProjekt_Group2/H3K27ac/G*_AD-3T-*.bed \\\n",
    "          /mnt/c/Users/Christina/Documents/GitHub/DataScience_finalProjekt_Group2/H3K27ac/G*_AD-5T-*.bed \\\n",
    "          /mnt/c/Users/Christina/Documents/GitHub/DataScience_finalProjekt_Group2/H3K27ac/G*_AD-3A-*.bed \\\n",
    "          /mnt/c/Users/Christina/Documents/GitHub/DataScience_finalProjekt_Group2/H3K27ac/G*_AD-5A-*.bed \\\n",
    "          /mnt/c/Users/Christina/Documents/GitHub/DataScience_finalProjekt_Group2/H3K27ac/G*_AD-8T-*.bed \\\n",
    "          /mnt/c/Users/Christina/Documents/GitHub/DataScience_finalProjekt_Group2/H3K27ac/G*_AD-6T-*.bed \\\n",
    "          /mnt/c/Users/Christina/Documents/GitHub/DataScience_finalProjekt_Group2/H3K27ac/G*_AD-7T-*.bed \\\n",
    "          -header \\\n",
    "          -names Y-15T Y-12A Y-17T Y-13A Y-18T Y-14A Y-19T Y-15A Y-16A O-8A O-10T O-6A O-11T O-7A O-13T O-14T \\\n",
    "          O-9A O-10A O-11A AD-1T AD-1A AD-2T AD-2A AD-3T AD-5T AD-3A AD-5A AD-8T AD-6T AD-7T \\\n",
    "          > H3K27ac_counts.txt'\n",
    "subprocess.call(H3K27ac, shell=True)"
   ]
  },
  {
   "cell_type": "code",
   "execution_count": 5,
   "id": "8ea21f84-cc30-41d6-ac00-bac229f7006c",
   "metadata": {},
   "outputs": [
    {
     "data": {
      "text/plain": [
       "0"
      ]
     },
     "execution_count": 5,
     "metadata": {},
     "output_type": "execute_result"
    }
   ],
   "source": [
    "path = '/mnt/c/Users/Christina/Documents/Sonstiges/data/H3K122ac/'\n",
    "files = os.listdir(path)\n",
    "\n",
    "for sample in files:\n",
    "    if sample.endswith('.bw'):\n",
    "        files.remove(sample)\n",
    "\n",
    "for sample in files:\n",
    "    sort = 'sortBed -i ' + path + sample + ' > /mnt/c/Users/Christina/Documents/GitHub/DataScience_finalProjekt_Group2/H3K122ac/sort_' + sample\n",
    "    subprocess.call(sort, shell = True)\n",
    "    cut = 'cut -f1,2,3,5 /mnt/c/Users/Christina/Documents/GitHub/DataScience_finalProjekt_Group2/H3K122ac/sort_' + sample + '\\\n",
    "           > /mnt/c/Users/Christina/Documents/GitHub/DataScience_finalProjekt_Group2/H3K122ac/' + sample\n",
    "    subprocess.call(cut, shell = True)\n",
    "\n",
    "H3k122ac = 'bedtools unionbedg \\\n",
    "          -i /mnt/c/Users/Christina/Documents/GitHub/DataScience_finalProjekt_Group2/H3K122ac/G*_Y-15T-*.bed \\\n",
    "          /mnt/c/Users/Christina/Documents/GitHub/DataScience_finalProjekt_Group2/H3K122ac/G*_Y-17T-*.bed \\\n",
    "          /mnt/c/Users/Christina/Documents/GitHub/DataScience_finalProjekt_Group2/H3K122ac/G*_Y-13A-*.bed \\\n",
    "          /mnt/c/Users/Christina/Documents/GitHub/DataScience_finalProjekt_Group2/H3K122ac/G*_Y-18T-*.bed \\\n",
    "          /mnt/c/Users/Christina/Documents/GitHub/DataScience_finalProjekt_Group2/H3K122ac/G*_Y-14A-*.bed \\\n",
    "          /mnt/c/Users/Christina/Documents/GitHub/DataScience_finalProjekt_Group2/H3K122ac/G*_Y-19T-*.bed \\\n",
    "          /mnt/c/Users/Christina/Documents/GitHub/DataScience_finalProjekt_Group2/H3K122ac/G*_Y-15A-*.bed \\\n",
    "          /mnt/c/Users/Christina/Documents/GitHub/DataScience_finalProjekt_Group2/H3K122ac/G*_Y-16A-*.bed \\\n",
    "          /mnt/c/Users/Christina/Documents/GitHub/DataScience_finalProjekt_Group2/H3K122ac/G*_O-8A-*.bed \\\n",
    "          /mnt/c/Users/Christina/Documents/GitHub/DataScience_finalProjekt_Group2/H3K122ac/G*_O-10T-*.bed \\\n",
    "          /mnt/c/Users/Christina/Documents/GitHub/DataScience_finalProjekt_Group2/H3K122ac/G*_O-6A-*.bed \\\n",
    "          /mnt/c/Users/Christina/Documents/GitHub/DataScience_finalProjekt_Group2/H3K122ac/G*_O-11T-*.bed \\\n",
    "          /mnt/c/Users/Christina/Documents/GitHub/DataScience_finalProjekt_Group2/H3K122ac/G*_O-7A-*.bed \\\n",
    "          /mnt/c/Users/Christina/Documents/GitHub/DataScience_finalProjekt_Group2/H3K122ac/G*_O-13T-*.bed \\\n",
    "          /mnt/c/Users/Christina/Documents/GitHub/DataScience_finalProjekt_Group2/H3K122ac/G*_O-14T-*.bed \\\n",
    "          /mnt/c/Users/Christina/Documents/GitHub/DataScience_finalProjekt_Group2/H3K122ac/G*_O-9A-*.bed \\\n",
    "          /mnt/c/Users/Christina/Documents/GitHub/DataScience_finalProjekt_Group2/H3K122ac/G*_O-10A-*.bed \\\n",
    "          /mnt/c/Users/Christina/Documents/GitHub/DataScience_finalProjekt_Group2/H3K122ac/G*_O-11A-*.bed \\\n",
    "          /mnt/c/Users/Christina/Documents/GitHub/DataScience_finalProjekt_Group2/H3K122ac/G*_AD-1T-*.bed \\\n",
    "          /mnt/c/Users/Christina/Documents/GitHub/DataScience_finalProjekt_Group2/H3K122ac/G*_AD-1A-*.bed \\\n",
    "          /mnt/c/Users/Christina/Documents/GitHub/DataScience_finalProjekt_Group2/H3K122ac/G*_AD-2T-*.bed \\\n",
    "          /mnt/c/Users/Christina/Documents/GitHub/DataScience_finalProjekt_Group2/H3K122ac/G*_AD-2A-*.bed \\\n",
    "          /mnt/c/Users/Christina/Documents/GitHub/DataScience_finalProjekt_Group2/H3K122ac/G*_AD-5T-*.bed \\\n",
    "          /mnt/c/Users/Christina/Documents/GitHub/DataScience_finalProjekt_Group2/H3K122ac/G*_AD-3A-*.bed \\\n",
    "          /mnt/c/Users/Christina/Documents/GitHub/DataScience_finalProjekt_Group2/H3K122ac/G*_AD-5A-*.bed \\\n",
    "          /mnt/c/Users/Christina/Documents/GitHub/DataScience_finalProjekt_Group2/H3K122ac/G*_AD-8T-*.bed \\\n",
    "          /mnt/c/Users/Christina/Documents/GitHub/DataScience_finalProjekt_Group2/H3K122ac/G*_AD-7T-*.bed \\\n",
    "          -header \\\n",
    "          -names Y-15T Y-17T Y-13A Y-18T Y-14A Y-19T Y-15A Y-16A O-8A O-10T O-6A O-11T O-7A O-13T O-14T \\\n",
    "          O-9A O-10A O-11A AD-1T AD-1A AD-2T AD-2A AD-5T AD-3A AD-5A AD-8T AD-7T \\\n",
    "          > H3K122ac_counts.txt'\n",
    "subprocess.call(H3k122ac, shell=True)"
   ]
  },
  {
   "cell_type": "code",
   "execution_count": null,
   "id": "841f53d4-5cab-4fb5-9086-b616f021c7ac",
   "metadata": {},
   "outputs": [],
   "source": [
    "### Prepare RNA-seq data"
   ]
  },
  {
   "cell_type": "code",
   "execution_count": 2,
   "id": "0222fd8f-6c0f-4e9e-bcf1-5ad5c235fc7a",
   "metadata": {
    "id": "PaaVhXQFc80l"
   },
   "outputs": [],
   "source": [
    "# perfom tuning of the hyper-parameter \n",
    "# difference between hyper and model parameter -> model parameter: configuration\n",
    "# variable internal of a model whose value can be estimated from data\n",
    "# hyper parameter: external, value can not be estimated from data\n",
    "# used https://www.kaggle.com/kanncaa1/feature-selection-and-data-visualization\n",
    "\n",
    "# libraries \n",
    "#from google.colab import files \n",
    "import pandas as pd\n",
    "import numpy as np\n",
    "import seaborn as sns # data visualization library \n",
    "import matplotlib.pyplot as plt\n",
    "from pprint import pprint\n",
    "\n",
    "import sklearn\n",
    "from sklearn.ensemble import RandomForestClassifier, RandomForestRegressor\n",
    "from sklearn.metrics import precision_score, recall_score, f1_score, accuracy_score, confusion_matrix, r2_score, roc_auc_score, roc_curve, auc\n",
    "from sklearn.decomposition import PCA\n",
    "from sklearn.model_selection import RepeatedStratifiedKFold, cross_val_score, train_test_split, RandomizedSearchCV, GridSearchCV\n",
    "from sklearn.pipeline import Pipeline\n",
    "from sklearn.datasets import make_blobs\n",
    "\n",
    "seed = 7"
   ]
  },
  {
   "cell_type": "code",
   "execution_count": 3,
   "id": "735ec705-4a46-48ba-8d34-031c348fc645",
   "metadata": {
    "colab": {
     "base_uri": "https://localhost:8080/"
    },
    "id": "6iHcyNMsc-u7",
    "outputId": "7de41f06-23da-4227-bad8-d49ed85a2452"
   },
   "outputs": [],
   "source": [
    "#!pip install rfpimp\n",
    "#pip install pandas==1.0.1\n",
    "#!pip install git+ssh://git@github.com/pandas-dev/pandas.git@1.0.x"
   ]
  },
  {
   "cell_type": "code",
   "execution_count": 4,
   "id": "0cec5615-0d0a-40c8-a54b-21feda4ad803",
   "metadata": {
    "id": "9IkPipbu0GCZ"
   },
   "outputs": [],
   "source": [
    "def change_labels(x):\n",
    "  print(x)\n",
    "  if 'AD' in x:\n",
    "    return 1\n",
    "  return 0"
   ]
  },
  {
   "cell_type": "code",
   "execution_count": 5,
   "id": "337fde76-0224-42df-9322-8b5b2df646e9",
   "metadata": {
    "id": "8ZAPzRc_e0Zm"
   },
   "outputs": [],
   "source": [
    "df = pd.read_csv(\"data/gene_summary.txt\", sep=\"\\t\", index_col=0)"
   ]
  },
  {
   "cell_type": "code",
   "execution_count": 6,
   "id": "aefef6d1-1614-4eb3-979e-8f6d31f6a1b4",
   "metadata": {
    "colab": {
     "base_uri": "https://localhost:8080/"
    },
    "id": "cTVvs-h10lAN",
    "outputId": "df83ddf4-a289-4d10-a381-cd0d11a9a8cf"
   },
   "outputs": [
    {
     "name": "stdout",
     "output_type": "stream",
     "text": [
      "(27130, 30)\n"
     ]
    }
   ],
   "source": [
    "print(df.shape)"
   ]
  },
  {
   "cell_type": "code",
   "execution_count": 7,
   "id": "79164ed9-1f19-426c-b8e4-cb1dfbea1152",
   "metadata": {
    "colab": {
     "base_uri": "https://localhost:8080/"
    },
    "id": "MkWvxcXh7UbR",
    "outputId": "4f1cefc4-8118-4ae2-c8c0-e4d629053248"
   },
   "outputs": [
    {
     "name": "stdout",
     "output_type": "stream",
     "text": [
      "           21-1A-AD  20-1T-AD  23-2A-AD  22-2T-AD  26-3A-AD  24-3T-AD  \\\n",
      "refGene                                                                 \n",
      "SGIP1          1137      1633       900      1398      1257       858   \n",
      "NECAP2          270       261       353       395       326       388   \n",
      "AZIN2           217       300       229       458       258       209   \n",
      "AGBL4           144       139       134       100       136        44   \n",
      "CLIC4           871       770      1067      3641       879       937   \n",
      "SLC45A1         179       306       207       227       220       174   \n",
      "TGFBR3          633       476       746       495       419       365   \n",
      "DBT             532       608       719       517       603       393   \n",
      "PRUNE1          244       254       205       228       281       257   \n",
      "C1orf21        1835      2452      2194      1448      2244      2081   \n",
      "RFWD2           417       484       507       468       464       475   \n",
      "LIN9             53        49        51        25        59        41   \n",
      "PRKCZ           909      1407       900      1233      1324      1439   \n",
      "PRDM16          559       450       880       407       713       541   \n",
      "ICMT            563       676       757       441       750       636   \n",
      "CAMTA1         1988      2346      1643      1529      2110      1059   \n",
      "C1orf159        185       160       169       260       182       165   \n",
      "PRAMEF18          0         0         0         0         0         0   \n",
      "PRAMEF10          0         0         0         0         0         0   \n",
      "PRAMEF33P         0         0         0         0         0         0   \n",
      "\n",
      "           27-5A-AD  25-5T-AD  29-6T-AD  31-7T-AD  ...  10-8A-Old  17-9A-Old  \\\n",
      "refGene                                            ...                         \n",
      "SGIP1           784       742      1088      1020  ...       2609       2027   \n",
      "NECAP2          290       481       329       305  ...        205        379   \n",
      "AZIN2           180       522       247       266  ...        389        327   \n",
      "AGBL4            85        48       131       163  ...        312        238   \n",
      "CLIC4           751      2079       700       675  ...        673       3900   \n",
      "SLC45A1         136       129       194       216  ...        464        296   \n",
      "TGFBR3          553       196       252       546  ...        374        463   \n",
      "DBT             387       451       455       488  ...        669        708   \n",
      "PRUNE1          191       193       198       245  ...        276        273   \n",
      "C1orf21        1701      1052      1930      1968  ...       2905       2004   \n",
      "RFWD2           352       466       429       470  ...        674        647   \n",
      "LIN9             29        33        24        46  ...         63         44   \n",
      "PRKCZ           797      1033      1350      1268  ...       1502       1298   \n",
      "PRDM16          822       277       630       737  ...        387        430   \n",
      "ICMT            510       482       509       666  ...        627        721   \n",
      "CAMTA1         1292       946      1577      2180  ...       3699       2843   \n",
      "C1orf159        157       231       211       188  ...        175        171   \n",
      "PRAMEF18          0         0         0         0  ...          0          0   \n",
      "PRAMEF10          0         0         0         0  ...          0          0   \n",
      "PRAMEF33P         0         0         0         0  ...          0          0   \n",
      "\n",
      "           2-12A-Young  4-13A-Young  6-14A-Young  8-15A-Young  9-16A-Young  \\\n",
      "refGene                                                                      \n",
      "SGIP1             2502         2529         2526         1127         1241   \n",
      "NECAP2             353          219          162          301          305   \n",
      "AZIN2              639          271          336          335          342   \n",
      "AGBL4              278          274          358           26          181   \n",
      "CLIC4             2539         1031          618         6372          573   \n",
      "SLC45A1            594          433          462          220          321   \n",
      "TGFBR3             501          270          354          172          460   \n",
      "DBT               1048          826          668          799          316   \n",
      "PRUNE1             411          348          282          215          190   \n",
      "C1orf21           2725         3176         2867          394         1660   \n",
      "RFWD2              749          632          580          571          503   \n",
      "LIN9                65           44           51           52           32   \n",
      "PRKCZ             2270         2046         1681          858         1309   \n",
      "PRDM16             700          501          387          110          576   \n",
      "ICMT               882          871          656          772          491   \n",
      "CAMTA1            4391         3703         3745          865         2365   \n",
      "C1orf159           224          178          179          220          297   \n",
      "PRAMEF18             0            0            0            0            0   \n",
      "PRAMEF10             0            0            0            0            0   \n",
      "PRAMEF33P            0            0            0            0            0   \n",
      "\n",
      "           3-17T-Young  5-18T-Young  7-19T-Young  \n",
      "refGene                                           \n",
      "SGIP1              581         1187         1175  \n",
      "NECAP2             399          531          324  \n",
      "AZIN2              548          761          574  \n",
      "AGBL4               36           81          144  \n",
      "CLIC4             2791         5881         1154  \n",
      "SLC45A1            116          233          282  \n",
      "TGFBR3             263          423          274  \n",
      "DBT                513          795          471  \n",
      "PRUNE1             174          250          217  \n",
      "C1orf21            626         1072         1432  \n",
      "RFWD2              385          546          518  \n",
      "LIN9                15           31           27  \n",
      "PRKCZ              770         1267         1614  \n",
      "PRDM16             226          312          391  \n",
      "ICMT               424          632          468  \n",
      "CAMTA1             715         1515         1949  \n",
      "C1orf159           191          277          218  \n",
      "PRAMEF18             0            0            0  \n",
      "PRAMEF10             0            0            0  \n",
      "PRAMEF33P            0            0            0  \n",
      "\n",
      "[20 rows x 30 columns]\n"
     ]
    }
   ],
   "source": [
    "print(df.head(20))"
   ]
  },
  {
   "cell_type": "code",
   "execution_count": 8,
   "id": "5d9f2633-d970-42f8-954a-dcba34d2ead0",
   "metadata": {
    "colab": {
     "base_uri": "https://localhost:8080/"
    },
    "id": "hiXyqfmW7h5s",
    "outputId": "c1f7c057-f15b-4948-9aeb-4790d4178d72"
   },
   "outputs": [
    {
     "name": "stdout",
     "output_type": "stream",
     "text": [
      "            21-1A-AD       20-1T-AD       23-2A-AD       22-2T-AD  \\\n",
      "count   27130.000000   27130.000000   27130.000000   27130.000000   \n",
      "mean      390.385146     443.332436     424.012459     535.622189   \n",
      "std      2531.586111    2074.966307    2414.071081    3456.987415   \n",
      "min         0.000000       0.000000       0.000000       0.000000   \n",
      "25%         2.000000       2.000000       2.000000       2.000000   \n",
      "50%        51.000000      53.000000      59.000000      60.000000   \n",
      "75%       320.000000     366.000000     360.000000     402.000000   \n",
      "max    320795.000000  224850.000000  301019.000000  306188.000000   \n",
      "\n",
      "            26-3A-AD       24-3T-AD       27-5A-AD       25-5T-AD  \\\n",
      "count   27130.000000   27130.000000   27130.000000   27130.000000   \n",
      "mean      464.482823     411.720015     349.693918     453.947328   \n",
      "std      2878.542321    3211.355907    2095.245447    4294.041359   \n",
      "min         0.000000       0.000000       0.000000       0.000000   \n",
      "25%         2.000000       2.000000       2.000000       2.000000   \n",
      "50%        54.000000      53.000000      42.000000      50.000000   \n",
      "75%       368.000000     330.000000     273.000000     328.000000   \n",
      "max    298165.000000  329250.000000  235616.000000  574831.000000   \n",
      "\n",
      "            29-6T-AD       31-7T-AD  ...      10-8A-Old      17-9A-Old  \\\n",
      "count   27130.000000   27130.000000  ...   27130.000000   27130.000000   \n",
      "mean      443.249171     421.421895  ...     532.795687     547.721673   \n",
      "std      3002.554446    2379.972145  ...    2284.896630    2658.862205   \n",
      "min         0.000000       0.000000  ...       0.000000       0.000000   \n",
      "25%         2.000000       2.000000  ...       2.000000       2.000000   \n",
      "50%        50.000000      55.000000  ...      53.000000      60.000000   \n",
      "75%       336.000000     340.000000  ...     410.000000     449.000000   \n",
      "max    354456.000000  309730.000000  ...  208718.000000  228489.000000   \n",
      "\n",
      "         2-12A-Young    4-13A-Young    6-14A-Young    8-15A-Young  \\\n",
      "count   27130.000000   27130.000000   27130.000000   27130.000000   \n",
      "mean      693.374604     568.950240     515.699926     497.752672   \n",
      "std      2989.594808    2474.414959    2095.189103    3559.838428   \n",
      "min         0.000000       0.000000       0.000000       0.000000   \n",
      "25%         2.000000       2.000000       2.000000       1.000000   \n",
      "50%        65.000000      51.000000      48.000000      38.000000   \n",
      "75%       542.000000     431.750000     386.000000     336.000000   \n",
      "max    218888.000000  180458.000000  161988.000000  405426.000000   \n",
      "\n",
      "         9-16A-Young    3-17T-Young    5-18T-Young    7-19T-Young  \n",
      "count   27130.000000   27130.000000   27130.000000   27130.000000  \n",
      "mean      443.310579     380.743568     575.593734     489.768964  \n",
      "std      2017.290307    2720.188959    3426.524944    3055.636304  \n",
      "min         0.000000       0.000000       0.000000       0.000000  \n",
      "25%         2.000000       1.000000       2.000000       2.000000  \n",
      "50%        49.000000      38.000000      60.000000      59.000000  \n",
      "75%       336.000000     268.000000     428.000000     380.000000  \n",
      "max    210564.000000  303626.000000  310269.000000  341524.000000  \n",
      "\n",
      "[8 rows x 30 columns]\n"
     ]
    }
   ],
   "source": [
    "print(df.describe())"
   ]
  },
  {
   "cell_type": "code",
   "execution_count": 9,
   "id": "3d6bad99-921e-407e-b5bf-854abea94dd0",
   "metadata": {
    "colab": {
     "base_uri": "https://localhost:8080/"
    },
    "id": "vcERa7y-0tXP",
    "outputId": "4415e9ac-8e0d-4a2e-b16d-f1b06a44cbb8"
   },
   "outputs": [
    {
     "name": "stdout",
     "output_type": "stream",
     "text": [
      "21-1A-AD\n",
      "20-1T-AD\n",
      "23-2A-AD\n",
      "22-2T-AD\n",
      "26-3A-AD\n",
      "24-3T-AD\n",
      "27-5A-AD\n",
      "25-5T-AD\n",
      "29-6T-AD\n",
      "31-7T-AD\n",
      "28-8T-AD\n",
      "30-9T-AD\n",
      "18-10A-Old\n",
      "11-10T-Old\n",
      "19-11A-Old\n",
      "13-11T-Old\n",
      "15-13T-Old\n",
      "16-14T-Old\n",
      "12-6A-Old\n",
      "14-7A-Old\n",
      "10-8A-Old\n",
      "17-9A-Old\n",
      "2-12A-Young\n",
      "4-13A-Young\n",
      "6-14A-Young\n",
      "8-15A-Young\n",
      "9-16A-Young\n",
      "3-17T-Young\n",
      "5-18T-Young\n",
      "7-19T-Young\n"
     ]
    }
   ],
   "source": [
    "df_T = df.T\n",
    "df_T[\"class\"] = df_T.apply(lambda x: change_labels(x.name), axis=1)"
   ]
  },
  {
   "cell_type": "code",
   "execution_count": 10,
   "id": "9f4d9410-05a0-47ee-8057-5a30f7f89578",
   "metadata": {
    "colab": {
     "base_uri": "https://localhost:8080/",
     "height": 1000
    },
    "id": "v_-4IpoR0ELo",
    "outputId": "80d9c41a-9e39-4f63-8e3c-ca2ee2b5026f"
   },
   "outputs": [
    {
     "data": {
      "text/html": [
       "<div>\n",
       "<style scoped>\n",
       "    .dataframe tbody tr th:only-of-type {\n",
       "        vertical-align: middle;\n",
       "    }\n",
       "\n",
       "    .dataframe tbody tr th {\n",
       "        vertical-align: top;\n",
       "    }\n",
       "\n",
       "    .dataframe thead th {\n",
       "        text-align: right;\n",
       "    }\n",
       "</style>\n",
       "<table border=\"1\" class=\"dataframe\">\n",
       "  <thead>\n",
       "    <tr style=\"text-align: right;\">\n",
       "      <th>refGene</th>\n",
       "      <th>SGIP1</th>\n",
       "      <th>NECAP2</th>\n",
       "      <th>AZIN2</th>\n",
       "      <th>AGBL4</th>\n",
       "      <th>CLIC4</th>\n",
       "      <th>SLC45A1</th>\n",
       "      <th>TGFBR3</th>\n",
       "      <th>DBT</th>\n",
       "      <th>PRUNE1</th>\n",
       "      <th>C1orf21</th>\n",
       "      <th>...</th>\n",
       "      <th>MGC70870</th>\n",
       "      <th>KIR2DL5A</th>\n",
       "      <th>KIR2DS2</th>\n",
       "      <th>KIR2DL2</th>\n",
       "      <th>KIR3DS1</th>\n",
       "      <th>KIR2DS3</th>\n",
       "      <th>KIR2DS5</th>\n",
       "      <th>KIR2DS1</th>\n",
       "      <th>KIR2DL5B</th>\n",
       "      <th>class</th>\n",
       "    </tr>\n",
       "  </thead>\n",
       "  <tbody>\n",
       "    <tr>\n",
       "      <th>21-1A-AD</th>\n",
       "      <td>1137</td>\n",
       "      <td>270</td>\n",
       "      <td>217</td>\n",
       "      <td>144</td>\n",
       "      <td>871</td>\n",
       "      <td>179</td>\n",
       "      <td>633</td>\n",
       "      <td>532</td>\n",
       "      <td>244</td>\n",
       "      <td>1835</td>\n",
       "      <td>...</td>\n",
       "      <td>33</td>\n",
       "      <td>0</td>\n",
       "      <td>0</td>\n",
       "      <td>0</td>\n",
       "      <td>1</td>\n",
       "      <td>0</td>\n",
       "      <td>0</td>\n",
       "      <td>0</td>\n",
       "      <td>0</td>\n",
       "      <td>1</td>\n",
       "    </tr>\n",
       "    <tr>\n",
       "      <th>20-1T-AD</th>\n",
       "      <td>1633</td>\n",
       "      <td>261</td>\n",
       "      <td>300</td>\n",
       "      <td>139</td>\n",
       "      <td>770</td>\n",
       "      <td>306</td>\n",
       "      <td>476</td>\n",
       "      <td>608</td>\n",
       "      <td>254</td>\n",
       "      <td>2452</td>\n",
       "      <td>...</td>\n",
       "      <td>15</td>\n",
       "      <td>0</td>\n",
       "      <td>0</td>\n",
       "      <td>0</td>\n",
       "      <td>0</td>\n",
       "      <td>0</td>\n",
       "      <td>0</td>\n",
       "      <td>0</td>\n",
       "      <td>0</td>\n",
       "      <td>1</td>\n",
       "    </tr>\n",
       "    <tr>\n",
       "      <th>23-2A-AD</th>\n",
       "      <td>900</td>\n",
       "      <td>353</td>\n",
       "      <td>229</td>\n",
       "      <td>134</td>\n",
       "      <td>1067</td>\n",
       "      <td>207</td>\n",
       "      <td>746</td>\n",
       "      <td>719</td>\n",
       "      <td>205</td>\n",
       "      <td>2194</td>\n",
       "      <td>...</td>\n",
       "      <td>11</td>\n",
       "      <td>0</td>\n",
       "      <td>0</td>\n",
       "      <td>0</td>\n",
       "      <td>0</td>\n",
       "      <td>0</td>\n",
       "      <td>0</td>\n",
       "      <td>0</td>\n",
       "      <td>0</td>\n",
       "      <td>1</td>\n",
       "    </tr>\n",
       "    <tr>\n",
       "      <th>22-2T-AD</th>\n",
       "      <td>1398</td>\n",
       "      <td>395</td>\n",
       "      <td>458</td>\n",
       "      <td>100</td>\n",
       "      <td>3641</td>\n",
       "      <td>227</td>\n",
       "      <td>495</td>\n",
       "      <td>517</td>\n",
       "      <td>228</td>\n",
       "      <td>1448</td>\n",
       "      <td>...</td>\n",
       "      <td>31</td>\n",
       "      <td>0</td>\n",
       "      <td>0</td>\n",
       "      <td>0</td>\n",
       "      <td>0</td>\n",
       "      <td>0</td>\n",
       "      <td>0</td>\n",
       "      <td>0</td>\n",
       "      <td>0</td>\n",
       "      <td>1</td>\n",
       "    </tr>\n",
       "    <tr>\n",
       "      <th>26-3A-AD</th>\n",
       "      <td>1257</td>\n",
       "      <td>326</td>\n",
       "      <td>258</td>\n",
       "      <td>136</td>\n",
       "      <td>879</td>\n",
       "      <td>220</td>\n",
       "      <td>419</td>\n",
       "      <td>603</td>\n",
       "      <td>281</td>\n",
       "      <td>2244</td>\n",
       "      <td>...</td>\n",
       "      <td>5</td>\n",
       "      <td>0</td>\n",
       "      <td>0</td>\n",
       "      <td>0</td>\n",
       "      <td>1</td>\n",
       "      <td>0</td>\n",
       "      <td>0</td>\n",
       "      <td>0</td>\n",
       "      <td>0</td>\n",
       "      <td>1</td>\n",
       "    </tr>\n",
       "    <tr>\n",
       "      <th>24-3T-AD</th>\n",
       "      <td>858</td>\n",
       "      <td>388</td>\n",
       "      <td>209</td>\n",
       "      <td>44</td>\n",
       "      <td>937</td>\n",
       "      <td>174</td>\n",
       "      <td>365</td>\n",
       "      <td>393</td>\n",
       "      <td>257</td>\n",
       "      <td>2081</td>\n",
       "      <td>...</td>\n",
       "      <td>12</td>\n",
       "      <td>0</td>\n",
       "      <td>0</td>\n",
       "      <td>0</td>\n",
       "      <td>0</td>\n",
       "      <td>0</td>\n",
       "      <td>0</td>\n",
       "      <td>0</td>\n",
       "      <td>0</td>\n",
       "      <td>1</td>\n",
       "    </tr>\n",
       "    <tr>\n",
       "      <th>27-5A-AD</th>\n",
       "      <td>784</td>\n",
       "      <td>290</td>\n",
       "      <td>180</td>\n",
       "      <td>85</td>\n",
       "      <td>751</td>\n",
       "      <td>136</td>\n",
       "      <td>553</td>\n",
       "      <td>387</td>\n",
       "      <td>191</td>\n",
       "      <td>1701</td>\n",
       "      <td>...</td>\n",
       "      <td>98</td>\n",
       "      <td>0</td>\n",
       "      <td>0</td>\n",
       "      <td>0</td>\n",
       "      <td>0</td>\n",
       "      <td>0</td>\n",
       "      <td>0</td>\n",
       "      <td>0</td>\n",
       "      <td>0</td>\n",
       "      <td>1</td>\n",
       "    </tr>\n",
       "    <tr>\n",
       "      <th>25-5T-AD</th>\n",
       "      <td>742</td>\n",
       "      <td>481</td>\n",
       "      <td>522</td>\n",
       "      <td>48</td>\n",
       "      <td>2079</td>\n",
       "      <td>129</td>\n",
       "      <td>196</td>\n",
       "      <td>451</td>\n",
       "      <td>193</td>\n",
       "      <td>1052</td>\n",
       "      <td>...</td>\n",
       "      <td>160</td>\n",
       "      <td>0</td>\n",
       "      <td>0</td>\n",
       "      <td>0</td>\n",
       "      <td>0</td>\n",
       "      <td>0</td>\n",
       "      <td>0</td>\n",
       "      <td>0</td>\n",
       "      <td>0</td>\n",
       "      <td>1</td>\n",
       "    </tr>\n",
       "    <tr>\n",
       "      <th>29-6T-AD</th>\n",
       "      <td>1088</td>\n",
       "      <td>329</td>\n",
       "      <td>247</td>\n",
       "      <td>131</td>\n",
       "      <td>700</td>\n",
       "      <td>194</td>\n",
       "      <td>252</td>\n",
       "      <td>455</td>\n",
       "      <td>198</td>\n",
       "      <td>1930</td>\n",
       "      <td>...</td>\n",
       "      <td>35</td>\n",
       "      <td>0</td>\n",
       "      <td>0</td>\n",
       "      <td>0</td>\n",
       "      <td>0</td>\n",
       "      <td>0</td>\n",
       "      <td>0</td>\n",
       "      <td>0</td>\n",
       "      <td>0</td>\n",
       "      <td>1</td>\n",
       "    </tr>\n",
       "    <tr>\n",
       "      <th>31-7T-AD</th>\n",
       "      <td>1020</td>\n",
       "      <td>305</td>\n",
       "      <td>266</td>\n",
       "      <td>163</td>\n",
       "      <td>675</td>\n",
       "      <td>216</td>\n",
       "      <td>546</td>\n",
       "      <td>488</td>\n",
       "      <td>245</td>\n",
       "      <td>1968</td>\n",
       "      <td>...</td>\n",
       "      <td>30</td>\n",
       "      <td>0</td>\n",
       "      <td>0</td>\n",
       "      <td>0</td>\n",
       "      <td>0</td>\n",
       "      <td>0</td>\n",
       "      <td>0</td>\n",
       "      <td>0</td>\n",
       "      <td>0</td>\n",
       "      <td>1</td>\n",
       "    </tr>\n",
       "    <tr>\n",
       "      <th>28-8T-AD</th>\n",
       "      <td>897</td>\n",
       "      <td>363</td>\n",
       "      <td>257</td>\n",
       "      <td>85</td>\n",
       "      <td>1371</td>\n",
       "      <td>156</td>\n",
       "      <td>432</td>\n",
       "      <td>404</td>\n",
       "      <td>219</td>\n",
       "      <td>1705</td>\n",
       "      <td>...</td>\n",
       "      <td>42</td>\n",
       "      <td>0</td>\n",
       "      <td>0</td>\n",
       "      <td>0</td>\n",
       "      <td>0</td>\n",
       "      <td>0</td>\n",
       "      <td>0</td>\n",
       "      <td>0</td>\n",
       "      <td>0</td>\n",
       "      <td>1</td>\n",
       "    </tr>\n",
       "    <tr>\n",
       "      <th>30-9T-AD</th>\n",
       "      <td>1675</td>\n",
       "      <td>336</td>\n",
       "      <td>353</td>\n",
       "      <td>240</td>\n",
       "      <td>1190</td>\n",
       "      <td>293</td>\n",
       "      <td>561</td>\n",
       "      <td>635</td>\n",
       "      <td>243</td>\n",
       "      <td>2069</td>\n",
       "      <td>...</td>\n",
       "      <td>39</td>\n",
       "      <td>0</td>\n",
       "      <td>0</td>\n",
       "      <td>0</td>\n",
       "      <td>0</td>\n",
       "      <td>0</td>\n",
       "      <td>0</td>\n",
       "      <td>0</td>\n",
       "      <td>0</td>\n",
       "      <td>1</td>\n",
       "    </tr>\n",
       "    <tr>\n",
       "      <th>18-10A-Old</th>\n",
       "      <td>1556</td>\n",
       "      <td>355</td>\n",
       "      <td>356</td>\n",
       "      <td>220</td>\n",
       "      <td>1214</td>\n",
       "      <td>246</td>\n",
       "      <td>433</td>\n",
       "      <td>639</td>\n",
       "      <td>215</td>\n",
       "      <td>2163</td>\n",
       "      <td>...</td>\n",
       "      <td>76</td>\n",
       "      <td>0</td>\n",
       "      <td>0</td>\n",
       "      <td>0</td>\n",
       "      <td>0</td>\n",
       "      <td>0</td>\n",
       "      <td>0</td>\n",
       "      <td>1</td>\n",
       "      <td>0</td>\n",
       "      <td>0</td>\n",
       "    </tr>\n",
       "    <tr>\n",
       "      <th>11-10T-Old</th>\n",
       "      <td>1054</td>\n",
       "      <td>379</td>\n",
       "      <td>594</td>\n",
       "      <td>147</td>\n",
       "      <td>599</td>\n",
       "      <td>368</td>\n",
       "      <td>452</td>\n",
       "      <td>422</td>\n",
       "      <td>340</td>\n",
       "      <td>1813</td>\n",
       "      <td>...</td>\n",
       "      <td>76</td>\n",
       "      <td>0</td>\n",
       "      <td>0</td>\n",
       "      <td>0</td>\n",
       "      <td>0</td>\n",
       "      <td>0</td>\n",
       "      <td>0</td>\n",
       "      <td>0</td>\n",
       "      <td>0</td>\n",
       "      <td>0</td>\n",
       "    </tr>\n",
       "    <tr>\n",
       "      <th>19-11A-Old</th>\n",
       "      <td>1143</td>\n",
       "      <td>279</td>\n",
       "      <td>237</td>\n",
       "      <td>181</td>\n",
       "      <td>716</td>\n",
       "      <td>228</td>\n",
       "      <td>440</td>\n",
       "      <td>458</td>\n",
       "      <td>157</td>\n",
       "      <td>1571</td>\n",
       "      <td>...</td>\n",
       "      <td>24</td>\n",
       "      <td>0</td>\n",
       "      <td>0</td>\n",
       "      <td>0</td>\n",
       "      <td>3</td>\n",
       "      <td>0</td>\n",
       "      <td>0</td>\n",
       "      <td>0</td>\n",
       "      <td>0</td>\n",
       "      <td>0</td>\n",
       "    </tr>\n",
       "    <tr>\n",
       "      <th>13-11T-Old</th>\n",
       "      <td>1508</td>\n",
       "      <td>497</td>\n",
       "      <td>268</td>\n",
       "      <td>180</td>\n",
       "      <td>1469</td>\n",
       "      <td>324</td>\n",
       "      <td>689</td>\n",
       "      <td>745</td>\n",
       "      <td>235</td>\n",
       "      <td>2157</td>\n",
       "      <td>...</td>\n",
       "      <td>65</td>\n",
       "      <td>0</td>\n",
       "      <td>0</td>\n",
       "      <td>0</td>\n",
       "      <td>0</td>\n",
       "      <td>0</td>\n",
       "      <td>0</td>\n",
       "      <td>0</td>\n",
       "      <td>0</td>\n",
       "      <td>0</td>\n",
       "    </tr>\n",
       "    <tr>\n",
       "      <th>15-13T-Old</th>\n",
       "      <td>1159</td>\n",
       "      <td>328</td>\n",
       "      <td>412</td>\n",
       "      <td>181</td>\n",
       "      <td>626</td>\n",
       "      <td>309</td>\n",
       "      <td>467</td>\n",
       "      <td>476</td>\n",
       "      <td>212</td>\n",
       "      <td>1907</td>\n",
       "      <td>...</td>\n",
       "      <td>17</td>\n",
       "      <td>0</td>\n",
       "      <td>0</td>\n",
       "      <td>0</td>\n",
       "      <td>0</td>\n",
       "      <td>0</td>\n",
       "      <td>0</td>\n",
       "      <td>0</td>\n",
       "      <td>0</td>\n",
       "      <td>0</td>\n",
       "    </tr>\n",
       "    <tr>\n",
       "      <th>16-14T-Old</th>\n",
       "      <td>2232</td>\n",
       "      <td>296</td>\n",
       "      <td>435</td>\n",
       "      <td>244</td>\n",
       "      <td>747</td>\n",
       "      <td>595</td>\n",
       "      <td>374</td>\n",
       "      <td>570</td>\n",
       "      <td>293</td>\n",
       "      <td>2802</td>\n",
       "      <td>...</td>\n",
       "      <td>35</td>\n",
       "      <td>0</td>\n",
       "      <td>0</td>\n",
       "      <td>0</td>\n",
       "      <td>0</td>\n",
       "      <td>0</td>\n",
       "      <td>0</td>\n",
       "      <td>0</td>\n",
       "      <td>0</td>\n",
       "      <td>0</td>\n",
       "    </tr>\n",
       "    <tr>\n",
       "      <th>12-6A-Old</th>\n",
       "      <td>2073</td>\n",
       "      <td>335</td>\n",
       "      <td>396</td>\n",
       "      <td>278</td>\n",
       "      <td>1592</td>\n",
       "      <td>299</td>\n",
       "      <td>437</td>\n",
       "      <td>777</td>\n",
       "      <td>279</td>\n",
       "      <td>2324</td>\n",
       "      <td>...</td>\n",
       "      <td>18</td>\n",
       "      <td>0</td>\n",
       "      <td>0</td>\n",
       "      <td>0</td>\n",
       "      <td>0</td>\n",
       "      <td>0</td>\n",
       "      <td>0</td>\n",
       "      <td>0</td>\n",
       "      <td>0</td>\n",
       "      <td>0</td>\n",
       "    </tr>\n",
       "    <tr>\n",
       "      <th>14-7A-Old</th>\n",
       "      <td>955</td>\n",
       "      <td>283</td>\n",
       "      <td>255</td>\n",
       "      <td>184</td>\n",
       "      <td>1156</td>\n",
       "      <td>172</td>\n",
       "      <td>490</td>\n",
       "      <td>441</td>\n",
       "      <td>149</td>\n",
       "      <td>1646</td>\n",
       "      <td>...</td>\n",
       "      <td>11</td>\n",
       "      <td>0</td>\n",
       "      <td>0</td>\n",
       "      <td>0</td>\n",
       "      <td>0</td>\n",
       "      <td>0</td>\n",
       "      <td>0</td>\n",
       "      <td>0</td>\n",
       "      <td>0</td>\n",
       "      <td>0</td>\n",
       "    </tr>\n",
       "    <tr>\n",
       "      <th>10-8A-Old</th>\n",
       "      <td>2609</td>\n",
       "      <td>205</td>\n",
       "      <td>389</td>\n",
       "      <td>312</td>\n",
       "      <td>673</td>\n",
       "      <td>464</td>\n",
       "      <td>374</td>\n",
       "      <td>669</td>\n",
       "      <td>276</td>\n",
       "      <td>2905</td>\n",
       "      <td>...</td>\n",
       "      <td>11</td>\n",
       "      <td>0</td>\n",
       "      <td>0</td>\n",
       "      <td>0</td>\n",
       "      <td>0</td>\n",
       "      <td>0</td>\n",
       "      <td>0</td>\n",
       "      <td>0</td>\n",
       "      <td>0</td>\n",
       "      <td>0</td>\n",
       "    </tr>\n",
       "    <tr>\n",
       "      <th>17-9A-Old</th>\n",
       "      <td>2027</td>\n",
       "      <td>379</td>\n",
       "      <td>327</td>\n",
       "      <td>238</td>\n",
       "      <td>3900</td>\n",
       "      <td>296</td>\n",
       "      <td>463</td>\n",
       "      <td>708</td>\n",
       "      <td>273</td>\n",
       "      <td>2004</td>\n",
       "      <td>...</td>\n",
       "      <td>29</td>\n",
       "      <td>0</td>\n",
       "      <td>0</td>\n",
       "      <td>0</td>\n",
       "      <td>0</td>\n",
       "      <td>0</td>\n",
       "      <td>0</td>\n",
       "      <td>0</td>\n",
       "      <td>0</td>\n",
       "      <td>0</td>\n",
       "    </tr>\n",
       "    <tr>\n",
       "      <th>2-12A-Young</th>\n",
       "      <td>2502</td>\n",
       "      <td>353</td>\n",
       "      <td>639</td>\n",
       "      <td>278</td>\n",
       "      <td>2539</td>\n",
       "      <td>594</td>\n",
       "      <td>501</td>\n",
       "      <td>1048</td>\n",
       "      <td>411</td>\n",
       "      <td>2725</td>\n",
       "      <td>...</td>\n",
       "      <td>114</td>\n",
       "      <td>0</td>\n",
       "      <td>0</td>\n",
       "      <td>0</td>\n",
       "      <td>0</td>\n",
       "      <td>0</td>\n",
       "      <td>0</td>\n",
       "      <td>0</td>\n",
       "      <td>0</td>\n",
       "      <td>0</td>\n",
       "    </tr>\n",
       "    <tr>\n",
       "      <th>4-13A-Young</th>\n",
       "      <td>2529</td>\n",
       "      <td>219</td>\n",
       "      <td>271</td>\n",
       "      <td>274</td>\n",
       "      <td>1031</td>\n",
       "      <td>433</td>\n",
       "      <td>270</td>\n",
       "      <td>826</td>\n",
       "      <td>348</td>\n",
       "      <td>3176</td>\n",
       "      <td>...</td>\n",
       "      <td>5</td>\n",
       "      <td>0</td>\n",
       "      <td>0</td>\n",
       "      <td>0</td>\n",
       "      <td>0</td>\n",
       "      <td>0</td>\n",
       "      <td>0</td>\n",
       "      <td>0</td>\n",
       "      <td>0</td>\n",
       "      <td>0</td>\n",
       "    </tr>\n",
       "    <tr>\n",
       "      <th>6-14A-Young</th>\n",
       "      <td>2526</td>\n",
       "      <td>162</td>\n",
       "      <td>336</td>\n",
       "      <td>358</td>\n",
       "      <td>618</td>\n",
       "      <td>462</td>\n",
       "      <td>354</td>\n",
       "      <td>668</td>\n",
       "      <td>282</td>\n",
       "      <td>2867</td>\n",
       "      <td>...</td>\n",
       "      <td>15</td>\n",
       "      <td>0</td>\n",
       "      <td>0</td>\n",
       "      <td>0</td>\n",
       "      <td>0</td>\n",
       "      <td>0</td>\n",
       "      <td>0</td>\n",
       "      <td>0</td>\n",
       "      <td>0</td>\n",
       "      <td>0</td>\n",
       "    </tr>\n",
       "    <tr>\n",
       "      <th>8-15A-Young</th>\n",
       "      <td>1127</td>\n",
       "      <td>301</td>\n",
       "      <td>335</td>\n",
       "      <td>26</td>\n",
       "      <td>6372</td>\n",
       "      <td>220</td>\n",
       "      <td>172</td>\n",
       "      <td>799</td>\n",
       "      <td>215</td>\n",
       "      <td>394</td>\n",
       "      <td>...</td>\n",
       "      <td>39</td>\n",
       "      <td>0</td>\n",
       "      <td>0</td>\n",
       "      <td>0</td>\n",
       "      <td>0</td>\n",
       "      <td>0</td>\n",
       "      <td>0</td>\n",
       "      <td>0</td>\n",
       "      <td>0</td>\n",
       "      <td>0</td>\n",
       "    </tr>\n",
       "    <tr>\n",
       "      <th>9-16A-Young</th>\n",
       "      <td>1241</td>\n",
       "      <td>305</td>\n",
       "      <td>342</td>\n",
       "      <td>181</td>\n",
       "      <td>573</td>\n",
       "      <td>321</td>\n",
       "      <td>460</td>\n",
       "      <td>316</td>\n",
       "      <td>190</td>\n",
       "      <td>1660</td>\n",
       "      <td>...</td>\n",
       "      <td>45</td>\n",
       "      <td>0</td>\n",
       "      <td>0</td>\n",
       "      <td>0</td>\n",
       "      <td>0</td>\n",
       "      <td>0</td>\n",
       "      <td>0</td>\n",
       "      <td>0</td>\n",
       "      <td>0</td>\n",
       "      <td>0</td>\n",
       "    </tr>\n",
       "    <tr>\n",
       "      <th>3-17T-Young</th>\n",
       "      <td>581</td>\n",
       "      <td>399</td>\n",
       "      <td>548</td>\n",
       "      <td>36</td>\n",
       "      <td>2791</td>\n",
       "      <td>116</td>\n",
       "      <td>263</td>\n",
       "      <td>513</td>\n",
       "      <td>174</td>\n",
       "      <td>626</td>\n",
       "      <td>...</td>\n",
       "      <td>56</td>\n",
       "      <td>0</td>\n",
       "      <td>0</td>\n",
       "      <td>0</td>\n",
       "      <td>0</td>\n",
       "      <td>0</td>\n",
       "      <td>0</td>\n",
       "      <td>0</td>\n",
       "      <td>0</td>\n",
       "      <td>0</td>\n",
       "    </tr>\n",
       "    <tr>\n",
       "      <th>5-18T-Young</th>\n",
       "      <td>1187</td>\n",
       "      <td>531</td>\n",
       "      <td>761</td>\n",
       "      <td>81</td>\n",
       "      <td>5881</td>\n",
       "      <td>233</td>\n",
       "      <td>423</td>\n",
       "      <td>795</td>\n",
       "      <td>250</td>\n",
       "      <td>1072</td>\n",
       "      <td>...</td>\n",
       "      <td>149</td>\n",
       "      <td>0</td>\n",
       "      <td>0</td>\n",
       "      <td>0</td>\n",
       "      <td>0</td>\n",
       "      <td>0</td>\n",
       "      <td>0</td>\n",
       "      <td>0</td>\n",
       "      <td>0</td>\n",
       "      <td>0</td>\n",
       "    </tr>\n",
       "    <tr>\n",
       "      <th>7-19T-Young</th>\n",
       "      <td>1175</td>\n",
       "      <td>324</td>\n",
       "      <td>574</td>\n",
       "      <td>144</td>\n",
       "      <td>1154</td>\n",
       "      <td>282</td>\n",
       "      <td>274</td>\n",
       "      <td>471</td>\n",
       "      <td>217</td>\n",
       "      <td>1432</td>\n",
       "      <td>...</td>\n",
       "      <td>29</td>\n",
       "      <td>0</td>\n",
       "      <td>0</td>\n",
       "      <td>0</td>\n",
       "      <td>0</td>\n",
       "      <td>0</td>\n",
       "      <td>0</td>\n",
       "      <td>0</td>\n",
       "      <td>0</td>\n",
       "      <td>0</td>\n",
       "    </tr>\n",
       "  </tbody>\n",
       "</table>\n",
       "<p>30 rows × 27131 columns</p>\n",
       "</div>"
      ],
      "text/plain": [
       "refGene      SGIP1  NECAP2  AZIN2  AGBL4  CLIC4  SLC45A1  TGFBR3   DBT  \\\n",
       "21-1A-AD      1137     270    217    144    871      179     633   532   \n",
       "20-1T-AD      1633     261    300    139    770      306     476   608   \n",
       "23-2A-AD       900     353    229    134   1067      207     746   719   \n",
       "22-2T-AD      1398     395    458    100   3641      227     495   517   \n",
       "26-3A-AD      1257     326    258    136    879      220     419   603   \n",
       "24-3T-AD       858     388    209     44    937      174     365   393   \n",
       "27-5A-AD       784     290    180     85    751      136     553   387   \n",
       "25-5T-AD       742     481    522     48   2079      129     196   451   \n",
       "29-6T-AD      1088     329    247    131    700      194     252   455   \n",
       "31-7T-AD      1020     305    266    163    675      216     546   488   \n",
       "28-8T-AD       897     363    257     85   1371      156     432   404   \n",
       "30-9T-AD      1675     336    353    240   1190      293     561   635   \n",
       "18-10A-Old    1556     355    356    220   1214      246     433   639   \n",
       "11-10T-Old    1054     379    594    147    599      368     452   422   \n",
       "19-11A-Old    1143     279    237    181    716      228     440   458   \n",
       "13-11T-Old    1508     497    268    180   1469      324     689   745   \n",
       "15-13T-Old    1159     328    412    181    626      309     467   476   \n",
       "16-14T-Old    2232     296    435    244    747      595     374   570   \n",
       "12-6A-Old     2073     335    396    278   1592      299     437   777   \n",
       "14-7A-Old      955     283    255    184   1156      172     490   441   \n",
       "10-8A-Old     2609     205    389    312    673      464     374   669   \n",
       "17-9A-Old     2027     379    327    238   3900      296     463   708   \n",
       "2-12A-Young   2502     353    639    278   2539      594     501  1048   \n",
       "4-13A-Young   2529     219    271    274   1031      433     270   826   \n",
       "6-14A-Young   2526     162    336    358    618      462     354   668   \n",
       "8-15A-Young   1127     301    335     26   6372      220     172   799   \n",
       "9-16A-Young   1241     305    342    181    573      321     460   316   \n",
       "3-17T-Young    581     399    548     36   2791      116     263   513   \n",
       "5-18T-Young   1187     531    761     81   5881      233     423   795   \n",
       "7-19T-Young   1175     324    574    144   1154      282     274   471   \n",
       "\n",
       "refGene      PRUNE1  C1orf21  ...  MGC70870  KIR2DL5A  KIR2DS2  KIR2DL2  \\\n",
       "21-1A-AD        244     1835  ...        33         0        0        0   \n",
       "20-1T-AD        254     2452  ...        15         0        0        0   \n",
       "23-2A-AD        205     2194  ...        11         0        0        0   \n",
       "22-2T-AD        228     1448  ...        31         0        0        0   \n",
       "26-3A-AD        281     2244  ...         5         0        0        0   \n",
       "24-3T-AD        257     2081  ...        12         0        0        0   \n",
       "27-5A-AD        191     1701  ...        98         0        0        0   \n",
       "25-5T-AD        193     1052  ...       160         0        0        0   \n",
       "29-6T-AD        198     1930  ...        35         0        0        0   \n",
       "31-7T-AD        245     1968  ...        30         0        0        0   \n",
       "28-8T-AD        219     1705  ...        42         0        0        0   \n",
       "30-9T-AD        243     2069  ...        39         0        0        0   \n",
       "18-10A-Old      215     2163  ...        76         0        0        0   \n",
       "11-10T-Old      340     1813  ...        76         0        0        0   \n",
       "19-11A-Old      157     1571  ...        24         0        0        0   \n",
       "13-11T-Old      235     2157  ...        65         0        0        0   \n",
       "15-13T-Old      212     1907  ...        17         0        0        0   \n",
       "16-14T-Old      293     2802  ...        35         0        0        0   \n",
       "12-6A-Old       279     2324  ...        18         0        0        0   \n",
       "14-7A-Old       149     1646  ...        11         0        0        0   \n",
       "10-8A-Old       276     2905  ...        11         0        0        0   \n",
       "17-9A-Old       273     2004  ...        29         0        0        0   \n",
       "2-12A-Young     411     2725  ...       114         0        0        0   \n",
       "4-13A-Young     348     3176  ...         5         0        0        0   \n",
       "6-14A-Young     282     2867  ...        15         0        0        0   \n",
       "8-15A-Young     215      394  ...        39         0        0        0   \n",
       "9-16A-Young     190     1660  ...        45         0        0        0   \n",
       "3-17T-Young     174      626  ...        56         0        0        0   \n",
       "5-18T-Young     250     1072  ...       149         0        0        0   \n",
       "7-19T-Young     217     1432  ...        29         0        0        0   \n",
       "\n",
       "refGene      KIR3DS1  KIR2DS3  KIR2DS5  KIR2DS1  KIR2DL5B  class  \n",
       "21-1A-AD           1        0        0        0         0      1  \n",
       "20-1T-AD           0        0        0        0         0      1  \n",
       "23-2A-AD           0        0        0        0         0      1  \n",
       "22-2T-AD           0        0        0        0         0      1  \n",
       "26-3A-AD           1        0        0        0         0      1  \n",
       "24-3T-AD           0        0        0        0         0      1  \n",
       "27-5A-AD           0        0        0        0         0      1  \n",
       "25-5T-AD           0        0        0        0         0      1  \n",
       "29-6T-AD           0        0        0        0         0      1  \n",
       "31-7T-AD           0        0        0        0         0      1  \n",
       "28-8T-AD           0        0        0        0         0      1  \n",
       "30-9T-AD           0        0        0        0         0      1  \n",
       "18-10A-Old         0        0        0        1         0      0  \n",
       "11-10T-Old         0        0        0        0         0      0  \n",
       "19-11A-Old         3        0        0        0         0      0  \n",
       "13-11T-Old         0        0        0        0         0      0  \n",
       "15-13T-Old         0        0        0        0         0      0  \n",
       "16-14T-Old         0        0        0        0         0      0  \n",
       "12-6A-Old          0        0        0        0         0      0  \n",
       "14-7A-Old          0        0        0        0         0      0  \n",
       "10-8A-Old          0        0        0        0         0      0  \n",
       "17-9A-Old          0        0        0        0         0      0  \n",
       "2-12A-Young        0        0        0        0         0      0  \n",
       "4-13A-Young        0        0        0        0         0      0  \n",
       "6-14A-Young        0        0        0        0         0      0  \n",
       "8-15A-Young        0        0        0        0         0      0  \n",
       "9-16A-Young        0        0        0        0         0      0  \n",
       "3-17T-Young        0        0        0        0         0      0  \n",
       "5-18T-Young        0        0        0        0         0      0  \n",
       "7-19T-Young        0        0        0        0         0      0  \n",
       "\n",
       "[30 rows x 27131 columns]"
      ]
     },
     "execution_count": 10,
     "metadata": {},
     "output_type": "execute_result"
    }
   ],
   "source": [
    "df_T.fillna(0)"
   ]
  },
  {
   "cell_type": "code",
   "execution_count": 11,
   "id": "e779ccd2-625f-4ef0-a99f-283276fd1b85",
   "metadata": {
    "colab": {
     "base_uri": "https://localhost:8080/"
    },
    "id": "tHLn-h-c0xZA",
    "outputId": "b2d6fd2d-69a8-431f-8555-0fe69c0e914d"
   },
   "outputs": [
    {
     "data": {
      "text/plain": [
       "class\n",
       "0    18\n",
       "1    12\n",
       "dtype: int64"
      ]
     },
     "execution_count": 11,
     "metadata": {},
     "output_type": "execute_result"
    }
   ],
   "source": [
    "df_T.groupby('class').size()"
   ]
  },
  {
   "cell_type": "code",
   "execution_count": 12,
   "id": "1b05ca34-0c15-46da-b1d4-c1665af4fd43",
   "metadata": {
    "id": "bmA1L5XR011R"
   },
   "outputs": [],
   "source": [
    "# Get labels for training data\n",
    "Y = df_T[\"class\"].values\n",
    "\n",
    "# Get training data as numpy array\n",
    "X = df_T.drop(['class'], axis=1).astype(float).values\n",
    "scaler = sklearn.preprocessing.StandardScaler()\n",
    "scaler.fit(X)\n",
    "X = scaler.transform(X)    \n",
    "\n",
    "# Split the data for cross-validation\n",
    "X_train, X_test, Y_train, Y_test = train_test_split(X, Y, test_size=0.33, random_state=seed)"
   ]
  },
  {
   "cell_type": "code",
   "execution_count": 13,
   "id": "6ad9debf-18e9-4818-bd39-bd3b0682dc38",
   "metadata": {
    "colab": {
     "base_uri": "https://localhost:8080/",
     "height": 171
    },
    "id": "Dd5Vk1yfGGCw",
    "outputId": "5f03f83f-a67d-4def-9265-c6c2f15d29bf"
   },
   "outputs": [
    {
     "data": {
      "text/plain": [
       "array([[ 0.23523345,  0.26460374, -0.06835483, ...,  0.        ,\n",
       "         5.38516481,  0.        ],\n",
       "       [-0.62734648,  0.57040582,  1.60880492, ...,  0.        ,\n",
       "        -0.18569534,  0.        ],\n",
       "       [-0.44692638, -0.0794236 ,  0.32627099, ...,  0.        ,\n",
       "        -0.18569534,  0.        ],\n",
       "       ...,\n",
       "       [-0.50191155, -0.42345093, -0.21633951, ...,  0.        ,\n",
       "        -0.18569534,  0.        ],\n",
       "       [-0.27853428, -0.1049071 , -0.75895002, ...,  0.        ,\n",
       "        -0.18569534,  0.        ],\n",
       "       [ 0.15275569,  2.0739327 , -0.68848113, ...,  0.        ,\n",
       "        -0.18569534,  0.        ]])"
      ]
     },
     "execution_count": 13,
     "metadata": {},
     "output_type": "execute_result"
    }
   ],
   "source": [
    "X_train"
   ]
  },
  {
   "cell_type": "markdown",
   "id": "5fe1cd8f-9084-41e5-b863-e2b3e62bc482",
   "metadata": {},
   "source": [
    "### Random Forest with RNA-seq only"
   ]
  },
  {
   "cell_type": "code",
   "execution_count": 14,
   "id": "54b5a732-c022-4080-84fe-7171f7d0bc5a",
   "metadata": {
    "colab": {
     "base_uri": "https://localhost:8080/"
    },
    "id": "enmZNTdnJU-k",
    "outputId": "eba85156-3dda-4d3e-ce30-0181d03055c4"
   },
   "outputs": [
    {
     "name": "stdout",
     "output_type": "stream",
     "text": [
      "Best: 0.812169 using {'max_features': 'sqrt', 'n_estimators': 500}\n"
     ]
    }
   ],
   "source": [
    "# define models and parameters\n",
    "model = RandomForestClassifier()\n",
    "n_estimators = [10, 50, 100, 500, 1000]\n",
    "max_features = ['sqrt', 'log2']\n",
    "\n",
    "# define grid search\n",
    "grid = dict(n_estimators=n_estimators, max_features=max_features)\n",
    "cv = RepeatedStratifiedKFold(n_splits=3, n_repeats=3, random_state=1)\n",
    "grid_search = GridSearchCV(estimator=model, param_grid=grid, n_jobs=-1, cv=cv, scoring='accuracy', error_score=0)\n",
    "grid_result = grid_search.fit(X_train, Y_train)\n",
    "print(\"Best: %f using %s\" % (grid_result.best_score_, grid_result.best_params_))"
   ]
  },
  {
   "cell_type": "code",
   "execution_count": 15,
   "id": "21df475c-8041-41f0-8922-c5d4d906e069",
   "metadata": {
    "id": "bemYLsYzllg6"
   },
   "outputs": [
    {
     "data": {
      "text/html": [
       "<style>#sk-container-id-1 {color: black;background-color: white;}#sk-container-id-1 pre{padding: 0;}#sk-container-id-1 div.sk-toggleable {background-color: white;}#sk-container-id-1 label.sk-toggleable__label {cursor: pointer;display: block;width: 100%;margin-bottom: 0;padding: 0.3em;box-sizing: border-box;text-align: center;}#sk-container-id-1 label.sk-toggleable__label-arrow:before {content: \"▸\";float: left;margin-right: 0.25em;color: #696969;}#sk-container-id-1 label.sk-toggleable__label-arrow:hover:before {color: black;}#sk-container-id-1 div.sk-estimator:hover label.sk-toggleable__label-arrow:before {color: black;}#sk-container-id-1 div.sk-toggleable__content {max-height: 0;max-width: 0;overflow: hidden;text-align: left;background-color: #f0f8ff;}#sk-container-id-1 div.sk-toggleable__content pre {margin: 0.2em;color: black;border-radius: 0.25em;background-color: #f0f8ff;}#sk-container-id-1 input.sk-toggleable__control:checked~div.sk-toggleable__content {max-height: 200px;max-width: 100%;overflow: auto;}#sk-container-id-1 input.sk-toggleable__control:checked~label.sk-toggleable__label-arrow:before {content: \"▾\";}#sk-container-id-1 div.sk-estimator input.sk-toggleable__control:checked~label.sk-toggleable__label {background-color: #d4ebff;}#sk-container-id-1 div.sk-label input.sk-toggleable__control:checked~label.sk-toggleable__label {background-color: #d4ebff;}#sk-container-id-1 input.sk-hidden--visually {border: 0;clip: rect(1px 1px 1px 1px);clip: rect(1px, 1px, 1px, 1px);height: 1px;margin: -1px;overflow: hidden;padding: 0;position: absolute;width: 1px;}#sk-container-id-1 div.sk-estimator {font-family: monospace;background-color: #f0f8ff;border: 1px dotted black;border-radius: 0.25em;box-sizing: border-box;margin-bottom: 0.5em;}#sk-container-id-1 div.sk-estimator:hover {background-color: #d4ebff;}#sk-container-id-1 div.sk-parallel-item::after {content: \"\";width: 100%;border-bottom: 1px solid gray;flex-grow: 1;}#sk-container-id-1 div.sk-label:hover label.sk-toggleable__label {background-color: #d4ebff;}#sk-container-id-1 div.sk-serial::before {content: \"\";position: absolute;border-left: 1px solid gray;box-sizing: border-box;top: 0;bottom: 0;left: 50%;z-index: 0;}#sk-container-id-1 div.sk-serial {display: flex;flex-direction: column;align-items: center;background-color: white;padding-right: 0.2em;padding-left: 0.2em;position: relative;}#sk-container-id-1 div.sk-item {position: relative;z-index: 1;}#sk-container-id-1 div.sk-parallel {display: flex;align-items: stretch;justify-content: center;background-color: white;position: relative;}#sk-container-id-1 div.sk-item::before, #sk-container-id-1 div.sk-parallel-item::before {content: \"\";position: absolute;border-left: 1px solid gray;box-sizing: border-box;top: 0;bottom: 0;left: 50%;z-index: -1;}#sk-container-id-1 div.sk-parallel-item {display: flex;flex-direction: column;z-index: 1;position: relative;background-color: white;}#sk-container-id-1 div.sk-parallel-item:first-child::after {align-self: flex-end;width: 50%;}#sk-container-id-1 div.sk-parallel-item:last-child::after {align-self: flex-start;width: 50%;}#sk-container-id-1 div.sk-parallel-item:only-child::after {width: 0;}#sk-container-id-1 div.sk-dashed-wrapped {border: 1px dashed gray;margin: 0 0.4em 0.5em 0.4em;box-sizing: border-box;padding-bottom: 0.4em;background-color: white;}#sk-container-id-1 div.sk-label label {font-family: monospace;font-weight: bold;display: inline-block;line-height: 1.2em;}#sk-container-id-1 div.sk-label-container {text-align: center;}#sk-container-id-1 div.sk-container {/* jupyter's `normalize.less` sets `[hidden] { display: none; }` but bootstrap.min.css set `[hidden] { display: none !important; }` so we also need the `!important` here to be able to override the default hidden behavior on the sphinx rendered scikit-learn.org. See: https://github.com/scikit-learn/scikit-learn/issues/21755 */display: inline-block !important;position: relative;}#sk-container-id-1 div.sk-text-repr-fallback {display: none;}</style><div id=\"sk-container-id-1\" class=\"sk-top-container\"><div class=\"sk-text-repr-fallback\"><pre>RandomForestClassifier(n_estimators=500, random_state=43)</pre><b>In a Jupyter environment, please rerun this cell to show the HTML representation or trust the notebook. <br />On GitHub, the HTML representation is unable to render, please try loading this page with nbviewer.org.</b></div><div class=\"sk-container\" hidden><div class=\"sk-item\"><div class=\"sk-estimator sk-toggleable\"><input class=\"sk-toggleable__control sk-hidden--visually\" id=\"sk-estimator-id-1\" type=\"checkbox\" checked><label for=\"sk-estimator-id-1\" class=\"sk-toggleable__label sk-toggleable__label-arrow\">RandomForestClassifier</label><div class=\"sk-toggleable__content\"><pre>RandomForestClassifier(n_estimators=500, random_state=43)</pre></div></div></div></div></div>"
      ],
      "text/plain": [
       "RandomForestClassifier(n_estimators=500, random_state=43)"
      ]
     },
     "execution_count": 15,
     "metadata": {},
     "output_type": "execute_result"
    }
   ],
   "source": [
    "# random forest classifier with n_estimators=10 (default)\n",
    "# without tuning clf_rf = RandomForestClassifier(random_state=43)\n",
    "# with tuning\n",
    "clf_rf = RandomForestClassifier(random_state=43, \n",
    "                                n_estimators=grid_result.best_params_.get('n_estimators'), \n",
    "                                max_features=grid_result.best_params_.get('max_features'))     \n",
    "clf_rf.fit(X_train,Y_train)"
   ]
  },
  {
   "cell_type": "code",
   "execution_count": 16,
   "id": "f0094e8f-2230-44f5-b811-612963c60bb8",
   "metadata": {
    "colab": {
     "base_uri": "https://localhost:8080/",
     "height": 305
    },
    "id": "DqZMerfOJFD6",
    "outputId": "ca19dcac-6649-49c4-815f-673d4aa3d858"
   },
   "outputs": [
    {
     "name": "stdout",
     "output_type": "stream",
     "text": [
      "Accuracy is:  0.7\n"
     ]
    },
    {
     "data": {
      "text/plain": [
       "<AxesSubplot:>"
      ]
     },
     "execution_count": 16,
     "metadata": {},
     "output_type": "execute_result"
    },
    {
     "data": {
      "image/png": "[encoded data removed]",
      "text/plain": [
       "<Figure size 432x288 with 2 Axes>"
      ]
     },
     "metadata": {
      "needs_background": "light"
     },
     "output_type": "display_data"
    }
   ],
   "source": [
    "ac = accuracy_score(Y_test,clf_rf.predict(X_test))\n",
    "print('Accuracy is: ', ac)\n",
    "\n",
    "# we get the true negative, false pos, false negative and true pos \n",
    "# we see the percentage of the represented data in each quadrant \n",
    "cm = confusion_matrix(Y_test,clf_rf.predict(X_test))\n",
    "sns.heatmap(cm/np.sum(cm),annot=True,fmt='.2%')"
   ]
  },
  {
   "cell_type": "code",
   "execution_count": 17,
   "id": "486334ad-b9d6-4c30-961d-0e40288726cb",
   "metadata": {
    "colab": {
     "base_uri": "https://localhost:8080/",
     "height": 287
    },
    "id": "2VRJUaFCJRDP",
    "outputId": "4cfaa5a4-316c-4e5f-c6e3-e2049f408e2c"
   },
   "outputs": [
    {
     "data": {
      "text/plain": [
       "<AxesSubplot:>"
      ]
     },
     "execution_count": 17,
     "metadata": {},
     "output_type": "execute_result"
    },
    {
     "data": {
      "image/png": "[encoded data removed]",
      "text/plain": [
       "<Figure size 432x288 with 2 Axes>"
      ]
     },
     "metadata": {
      "needs_background": "light"
     },
     "output_type": "display_data"
    }
   ],
   "source": [
    "group_names = [\"True Neg\", \"False Pos\", \"False Neg\", \"True Pos\"]\n",
    "group_counts = [\"{0:0.0f}\".format(value) for value in cm.flatten()]\n",
    "group_percentages = [\"{0:.2%}\".format(value) for value in cm.flatten()/np.sum(cm)]\n",
    "\n",
    "labels = [f\"{v1}\\n{v2}\\n{v3}\" for v1, v2, v3 in\n",
    "          zip(group_names,group_counts,group_percentages)]\n",
    "labels = np.asarray(labels).reshape(2,2)\n",
    "\n",
    "sns.heatmap(cm, annot=labels, fmt='', cmap='Blues')"
   ]
  },
  {
   "cell_type": "code",
   "execution_count": 18,
   "id": "df7a3065-45c0-400e-8b49-3da2c3a8c7e1",
   "metadata": {},
   "outputs": [
    {
     "name": "stdout",
     "output_type": "stream",
     "text": [
      "Summary: Random Forest with RNA\n",
      "Precision: 0.750\n",
      "Accuracy: 0.700\n",
      "F1 Score: 0.667\n",
      "Recall: 0.600\n",
      "Roc-score: 0.700\n"
     ]
    }
   ],
   "source": [
    "# Get the predictions\n",
    "y_pred = clf_rf.predict(X_test)\n",
    "\n",
    "# Calculate the confusion matrix\n",
    "conf_matrix = confusion_matrix(y_true=Y_test, y_pred=y_pred)\n",
    "\n",
    "print(\"Summary: Random Forest with RNA\")\n",
    "print('Precision: %.3f' % precision_score(Y_test, y_pred))\n",
    "print('Accuracy: %.3f' % accuracy_score(Y_test, y_pred))\n",
    "print('F1 Score: %.3f' % f1_score(Y_test, y_pred))\n",
    "print('Recall: %.3f' % recall_score(Y_test, y_pred))\n",
    "print('Roc-score: %.3f' % roc_auc_score(Y_test, y_pred))"
   ]
  },
  {
   "cell_type": "code",
   "execution_count": 19,
   "id": "1af32d22-9b78-4052-a5dc-ba966a2d2b70",
   "metadata": {},
   "outputs": [],
   "source": [
    "#def r2(clf_rf, X_train, Y_train):\n",
    "#    return r2_score(Y_train, clf_rf.predict(X_train))\n",
    "\n",
    "#perm_imp_rfpimp = permutation_importances(clf_rf, X_train, Y_train, r2)"
   ]
  },
  {
   "cell_type": "code",
   "execution_count": 20,
   "id": "1d1dd1e9-46be-43f7-88f9-cd1af3edd83e",
   "metadata": {},
   "outputs": [
    {
     "data": {
      "text/plain": [
       "<AxesSubplot:title={'center':'Feature Importance: Random Forest with RNA'}, ylabel='refGene'>"
      ]
     },
     "execution_count": 20,
     "metadata": {},
     "output_type": "execute_result"
    },
    {
     "data": {
      "image/png": "[encoded data removed]",
      "text/plain": [
       "<Figure size 432x288 with 1 Axes>"
      ]
     },
     "metadata": {
      "needs_background": "light"
     },
     "output_type": "display_data"
    }
   ],
   "source": [
    "feat_imp = pd.Series(clf_rf.feature_importances_, index = df_T.iloc[:, 1:].columns)\n",
    "feat_imp.nlargest(10).plot(kind='barh', \n",
    "                           color='green',\n",
    "                           title='Feature Importance: Random Forest with RNA')"
   ]
  },
  {
   "cell_type": "code",
   "execution_count": 21,
   "id": "c568b89b-90da-40f5-8702-2e7fa4a72c56",
   "metadata": {},
   "outputs": [
    {
     "name": "stdout",
     "output_type": "stream",
     "text": [
      "Best: 0.865079 using {'gamma': 'scale', 'kernel': 'linear'}\n"
     ]
    }
   ],
   "source": [
    "# define models and parameters\n",
    "model = sklearn.svm.SVC()\n",
    "kernel = ['linear', 'poly', 'rbf', 'sigmoid']\n",
    "gamma = ['scale', 'auto'] # for poly, rbf, sigmoid\n",
    "\n",
    "# define grid search\n",
    "grid = dict(kernel=kernel, gamma=gamma)\n",
    "cv = RepeatedStratifiedKFold(n_splits=3, n_repeats=3, random_state=1)\n",
    "grid_search = GridSearchCV(estimator=model, param_grid=grid, n_jobs=-1, cv=cv, scoring='accuracy', error_score=0)\n",
    "grid_result = grid_search.fit(X_train, Y_train)\n",
    "print(\"Best: %f using %s\" % (grid_result.best_score_, grid_result.best_params_))"
   ]
  },
  {
   "cell_type": "code",
   "execution_count": 22,
   "id": "8e27c5fa-095f-400f-9acf-c1175ef467b9",
   "metadata": {},
   "outputs": [
    {
     "data": {
      "text/html": [
       "<style>#sk-container-id-2 {color: black;background-color: white;}#sk-container-id-2 pre{padding: 0;}#sk-container-id-2 div.sk-toggleable {background-color: white;}#sk-container-id-2 label.sk-toggleable__label {cursor: pointer;display: block;width: 100%;margin-bottom: 0;padding: 0.3em;box-sizing: border-box;text-align: center;}#sk-container-id-2 label.sk-toggleable__label-arrow:before {content: \"▸\";float: left;margin-right: 0.25em;color: #696969;}#sk-container-id-2 label.sk-toggleable__label-arrow:hover:before {color: black;}#sk-container-id-2 div.sk-estimator:hover label.sk-toggleable__label-arrow:before {color: black;}#sk-container-id-2 div.sk-toggleable__content {max-height: 0;max-width: 0;overflow: hidden;text-align: left;background-color: #f0f8ff;}#sk-container-id-2 div.sk-toggleable__content pre {margin: 0.2em;color: black;border-radius: 0.25em;background-color: #f0f8ff;}#sk-container-id-2 input.sk-toggleable__control:checked~div.sk-toggleable__content {max-height: 200px;max-width: 100%;overflow: auto;}#sk-container-id-2 input.sk-toggleable__control:checked~label.sk-toggleable__label-arrow:before {content: \"▾\";}#sk-container-id-2 div.sk-estimator input.sk-toggleable__control:checked~label.sk-toggleable__label {background-color: #d4ebff;}#sk-container-id-2 div.sk-label input.sk-toggleable__control:checked~label.sk-toggleable__label {background-color: #d4ebff;}#sk-container-id-2 input.sk-hidden--visually {border: 0;clip: rect(1px 1px 1px 1px);clip: rect(1px, 1px, 1px, 1px);height: 1px;margin: -1px;overflow: hidden;padding: 0;position: absolute;width: 1px;}#sk-container-id-2 div.sk-estimator {font-family: monospace;background-color: #f0f8ff;border: 1px dotted black;border-radius: 0.25em;box-sizing: border-box;margin-bottom: 0.5em;}#sk-container-id-2 div.sk-estimator:hover {background-color: #d4ebff;}#sk-container-id-2 div.sk-parallel-item::after {content: \"\";width: 100%;border-bottom: 1px solid gray;flex-grow: 1;}#sk-container-id-2 div.sk-label:hover label.sk-toggleable__label {background-color: #d4ebff;}#sk-container-id-2 div.sk-serial::before {content: \"\";position: absolute;border-left: 1px solid gray;box-sizing: border-box;top: 0;bottom: 0;left: 50%;z-index: 0;}#sk-container-id-2 div.sk-serial {display: flex;flex-direction: column;align-items: center;background-color: white;padding-right: 0.2em;padding-left: 0.2em;position: relative;}#sk-container-id-2 div.sk-item {position: relative;z-index: 1;}#sk-container-id-2 div.sk-parallel {display: flex;align-items: stretch;justify-content: center;background-color: white;position: relative;}#sk-container-id-2 div.sk-item::before, #sk-container-id-2 div.sk-parallel-item::before {content: \"\";position: absolute;border-left: 1px solid gray;box-sizing: border-box;top: 0;bottom: 0;left: 50%;z-index: -1;}#sk-container-id-2 div.sk-parallel-item {display: flex;flex-direction: column;z-index: 1;position: relative;background-color: white;}#sk-container-id-2 div.sk-parallel-item:first-child::after {align-self: flex-end;width: 50%;}#sk-container-id-2 div.sk-parallel-item:last-child::after {align-self: flex-start;width: 50%;}#sk-container-id-2 div.sk-parallel-item:only-child::after {width: 0;}#sk-container-id-2 div.sk-dashed-wrapped {border: 1px dashed gray;margin: 0 0.4em 0.5em 0.4em;box-sizing: border-box;padding-bottom: 0.4em;background-color: white;}#sk-container-id-2 div.sk-label label {font-family: monospace;font-weight: bold;display: inline-block;line-height: 1.2em;}#sk-container-id-2 div.sk-label-container {text-align: center;}#sk-container-id-2 div.sk-container {/* jupyter's `normalize.less` sets `[hidden] { display: none; }` but bootstrap.min.css set `[hidden] { display: none !important; }` so we also need the `!important` here to be able to override the default hidden behavior on the sphinx rendered scikit-learn.org. See: https://github.com/scikit-learn/scikit-learn/issues/21755 */display: inline-block !important;position: relative;}#sk-container-id-2 div.sk-text-repr-fallback {display: none;}</style><div id=\"sk-container-id-2\" class=\"sk-top-container\"><div class=\"sk-text-repr-fallback\"><pre>SVC(kernel=&#x27;linear&#x27;)</pre><b>In a Jupyter environment, please rerun this cell to show the HTML representation or trust the notebook. <br />On GitHub, the HTML representation is unable to render, please try loading this page with nbviewer.org.</b></div><div class=\"sk-container\" hidden><div class=\"sk-item\"><div class=\"sk-estimator sk-toggleable\"><input class=\"sk-toggleable__control sk-hidden--visually\" id=\"sk-estimator-id-2\" type=\"checkbox\" checked><label for=\"sk-estimator-id-2\" class=\"sk-toggleable__label sk-toggleable__label-arrow\">SVC</label><div class=\"sk-toggleable__content\"><pre>SVC(kernel=&#x27;linear&#x27;)</pre></div></div></div></div></div>"
      ],
      "text/plain": [
       "SVC(kernel='linear')"
      ]
     },
     "execution_count": 22,
     "metadata": {},
     "output_type": "execute_result"
    }
   ],
   "source": [
    "clf_svm = sklearn.svm.SVC(kernel=grid_result.best_params_.get('kernel'), \n",
    "                  gamma=grid_result.best_params_.get('gamma'))     \n",
    "clf_svm.fit(X_train,Y_train)"
   ]
  },
  {
   "cell_type": "code",
   "execution_count": 23,
   "id": "ff8b994a-55bd-4ad1-8f43-a771866d0b03",
   "metadata": {},
   "outputs": [
    {
     "name": "stdout",
     "output_type": "stream",
     "text": [
      "Accuracy is:  0.8\n"
     ]
    },
    {
     "data": {
      "text/plain": [
       "<AxesSubplot:>"
      ]
     },
     "execution_count": 23,
     "metadata": {},
     "output_type": "execute_result"
    },
    {
     "data": {
      "image/png": "[encoded data removed]",
      "text/plain": [
       "<Figure size 432x288 with 2 Axes>"
      ]
     },
     "metadata": {
      "needs_background": "light"
     },
     "output_type": "display_data"
    }
   ],
   "source": [
    "ac = accuracy_score(Y_test,clf_svm.predict(X_test))\n",
    "print('Accuracy is: ', ac)\n",
    "\n",
    "# we get the true negative, false pos, false negative and true pos \n",
    "# we see the percentage of the represented data in each quadrant \n",
    "cm = confusion_matrix(Y_test, clf_svm.predict(X_test))\n",
    "sns.heatmap(cm/np.sum(cm),annot=True,fmt='.2%')"
   ]
  },
  {
   "cell_type": "code",
   "execution_count": 24,
   "id": "31a26dd4-bdb9-471c-a08e-d30b244ecec7",
   "metadata": {},
   "outputs": [
    {
     "data": {
      "text/plain": [
       "<AxesSubplot:>"
      ]
     },
     "execution_count": 24,
     "metadata": {},
     "output_type": "execute_result"
    },
    {
     "data": {
      "image/png": "[encoded data removed]",
      "text/plain": [
       "<Figure size 432x288 with 2 Axes>"
      ]
     },
     "metadata": {
      "needs_background": "light"
     },
     "output_type": "display_data"
    }
   ],
   "source": [
    "group_names = [\"True Neg\", \"False Pos\", \"False Neg\", \"True Pos\"]\n",
    "group_counts = [\"{0:0.0f}\".format(value) for value in cm.flatten()]\n",
    "group_percentages = [\"{0:.2%}\".format(value) for value in cm.flatten()/np.sum(cm)]\n",
    "\n",
    "labels = [f\"{v1}\\n{v2}\\n{v3}\" for v1, v2, v3 in\n",
    "          zip(group_names, group_counts, group_percentages)]\n",
    "labels = np.asarray(labels).reshape(2,2)\n",
    "\n",
    "sns.heatmap(cm, annot=labels, fmt='', cmap='Blues')"
   ]
  },
  {
   "cell_type": "code",
   "execution_count": 25,
   "id": "d8dc9017-391e-4e7e-a992-117d47127e45",
   "metadata": {},
   "outputs": [
    {
     "name": "stdout",
     "output_type": "stream",
     "text": [
      "Summary: Support Vector Machine with RNA\n",
      "Precision: 0.800\n",
      "Accuracy: 0.800\n",
      "F1 Score: 0.800\n",
      "Recall: 0.800\n",
      "Roc-score: 0.800\n"
     ]
    }
   ],
   "source": [
    "# Get the predictions\n",
    "y_pred = clf_svm.predict(X_test)\n",
    "\n",
    "# Calculate the confusion matrix\n",
    "conf_matrix = confusion_matrix(y_true=Y_test, y_pred=y_pred)\n",
    "\n",
    "print(\"Summary: Support Vector Machine with RNA\")\n",
    "print('Precision: %.3f' % precision_score(Y_test, y_pred))\n",
    "print('Accuracy: %.3f' % accuracy_score(Y_test, y_pred))\n",
    "print('F1 Score: %.3f' % f1_score(Y_test, y_pred))\n",
    "print('Recall: %.3f' % recall_score(Y_test, y_pred))\n",
    "print('Roc-score: %.3f' % roc_auc_score(Y_test, y_pred))"
   ]
  },
  {
   "cell_type": "code",
   "execution_count": 26,
   "id": "529b4e26-75fd-401b-b9ec-6879b8040528",
   "metadata": {},
   "outputs": [
    {
     "data": {
      "image/png": "[encoded data removed]",
      "text/plain": [
       "<Figure size 432x288 with 1 Axes>"
      ]
     },
     "metadata": {
      "needs_background": "light"
     },
     "output_type": "display_data"
    }
   ],
   "source": [
    "fpr_rf, tpr_rf, _ = roc_curve(Y_test, clf_rf.predict(X_test), pos_label=1)\n",
    "roc_auc_rf = auc(fpr_rf, tpr_rf)\n",
    "\n",
    "fpr_svm, tpr_svm, _ = roc_curve(Y_test, clf_svm.predict(X_test), pos_label=1)\n",
    "roc_auc_svm = auc(fpr_svm, tpr_svm)\n",
    "\n",
    "plt.figure()\n",
    "plt.plot(fpr_rf, tpr_rf, color=\"darkorange\", lw=2,\n",
    "         label=\"Random Forest (area = %0.2f)\" % roc_auc_rf)\n",
    "plt.plot(fpr_svm, tpr_svm, color=\"green\", lw=2,\n",
    "         label=\"SVM (area = %0.2f)\" % roc_auc_svm)\n",
    "plt.plot([0, 1], [0, 1], color=\"navy\", lw=2, linestyle=\"--\")\n",
    "plt.xlim([0.0, 1.0])\n",
    "plt.ylim([0.0, 1.0])\n",
    "plt.xlabel(\"False Positive Rate\")\n",
    "plt.ylabel(\"True Positive Rate\")\n",
    "plt.title(\"ROC curve for Random Forest and SVM\")\n",
    "plt.legend(loc=\"lower right\")\n",
    "plt.show()"
   ]
  },
  {
   "cell_type": "code",
   "execution_count": 27,
   "id": "d1bf8c76-4894-49d6-aa65-1a19da1cc3cc",
   "metadata": {},
   "outputs": [
    {
     "data": {
      "text/plain": [
       "<AxesSubplot:title={'center':'Feature Importance: SVM with RNA'}, ylabel='refGene'>"
      ]
     },
     "execution_count": 27,
     "metadata": {},
     "output_type": "execute_result"
    },
    {
     "data": {
      "image/png": "[encoded data removed]",
      "text/plain": [
       "<Figure size 432x288 with 1 Axes>"
      ]
     },
     "metadata": {
      "needs_background": "light"
     },
     "output_type": "display_data"
    }
   ],
   "source": [
    "feat_imp = pd.Series(list(clf_svm.coef_[0]), index = df_T.iloc[:, 1:].columns)\n",
    "feat_imp.nlargest(10).plot(kind='barh', \n",
    "                           color='green',\n",
    "                           title='Feature Importance: SVM with RNA')"
   ]
  },
  {
   "cell_type": "markdown",
   "id": "e6872980-fa1d-4ada-85ba-914dae197de3",
   "metadata": {},
   "source": [
    "### Preparing ChIP-seq data"
   ]
  },
  {
   "cell_type": "code",
   "execution_count": 28,
   "id": "9634d82d-b93c-4952-b751-f12e5702cacd",
   "metadata": {},
   "outputs": [],
   "source": [
    "df = pd.read_csv(\"data/H3K122ac_counts.txt\", sep=\"\\t\", index_col=0)"
   ]
  },
  {
   "cell_type": "code",
   "execution_count": 29,
   "id": "91b59976-5445-4829-9321-99033aef46c4",
   "metadata": {},
   "outputs": [
    {
     "name": "stdout",
     "output_type": "stream",
     "text": [
      "(2240520, 29)\n"
     ]
    }
   ],
   "source": [
    "print(df.shape)"
   ]
  },
  {
   "cell_type": "code",
   "execution_count": 30,
   "id": "505f4211-c440-4dee-9353-1fc7d141f811",
   "metadata": {},
   "outputs": [
    {
     "name": "stdout",
     "output_type": "stream",
     "text": [
      "start\n",
      "end\n",
      "Y-15T\n",
      "Y-17T\n",
      "Y-13A\n",
      "Y-18T\n",
      "Y-14A\n",
      "Y-19T\n",
      "Y-15A\n",
      "Y-16A\n",
      "O-8A\n",
      "O-10T\n",
      "O-6A\n",
      "O-11T\n",
      "O-7A\n",
      "O-13T\n",
      "O-14T\n",
      "O-9A\n",
      "O-10A\n",
      "O-11A\n",
      "AD-1T\n",
      "AD-1A\n",
      "AD-2T\n",
      "AD-2A\n",
      "AD-5T\n",
      "AD-3A\n",
      "AD-5A\n",
      "AD-8T\n",
      "AD-7T\n"
     ]
    }
   ],
   "source": [
    "df_T = df.T\n",
    "df_T[\"class\"] = df_T.apply(lambda x: change_labels(x.name), axis=1)"
   ]
  },
  {
   "cell_type": "code",
   "execution_count": 31,
   "id": "ac3a5343-f96f-4eba-a92f-7a79d78d4f19",
   "metadata": {},
   "outputs": [
    {
     "data": {
      "text/html": [
       "<div>\n",
       "<style scoped>\n",
       "    .dataframe tbody tr th:only-of-type {\n",
       "        vertical-align: middle;\n",
       "    }\n",
       "\n",
       "    .dataframe tbody tr th {\n",
       "        vertical-align: top;\n",
       "    }\n",
       "\n",
       "    .dataframe thead th {\n",
       "        text-align: right;\n",
       "    }\n",
       "</style>\n",
       "<table border=\"1\" class=\"dataframe\">\n",
       "  <thead>\n",
       "    <tr style=\"text-align: right;\">\n",
       "      <th>chrom</th>\n",
       "      <th>chr1</th>\n",
       "      <th>chr1</th>\n",
       "      <th>chr1</th>\n",
       "      <th>chr1</th>\n",
       "      <th>chr1</th>\n",
       "      <th>chr1</th>\n",
       "      <th>chr1</th>\n",
       "      <th>chr1</th>\n",
       "      <th>chr1</th>\n",
       "      <th>chr1</th>\n",
       "      <th>...</th>\n",
       "      <th>chrY</th>\n",
       "      <th>chrY</th>\n",
       "      <th>chrY</th>\n",
       "      <th>chrY</th>\n",
       "      <th>chrY</th>\n",
       "      <th>chrY</th>\n",
       "      <th>chrY</th>\n",
       "      <th>chrY</th>\n",
       "      <th>chrY</th>\n",
       "      <th>class</th>\n",
       "    </tr>\n",
       "  </thead>\n",
       "  <tbody>\n",
       "    <tr>\n",
       "      <th>start</th>\n",
       "      <td>713810</td>\n",
       "      <td>713860</td>\n",
       "      <td>713861</td>\n",
       "      <td>713882</td>\n",
       "      <td>713885</td>\n",
       "      <td>713891</td>\n",
       "      <td>713904</td>\n",
       "      <td>713938</td>\n",
       "      <td>713944</td>\n",
       "      <td>713949</td>\n",
       "      <td>...</td>\n",
       "      <td>22738064</td>\n",
       "      <td>22738088</td>\n",
       "      <td>22738113</td>\n",
       "      <td>22738235</td>\n",
       "      <td>23764353</td>\n",
       "      <td>23764935</td>\n",
       "      <td>23765114</td>\n",
       "      <td>23765197</td>\n",
       "      <td>23765201</td>\n",
       "      <td>0</td>\n",
       "    </tr>\n",
       "    <tr>\n",
       "      <th>end</th>\n",
       "      <td>713860</td>\n",
       "      <td>713861</td>\n",
       "      <td>713882</td>\n",
       "      <td>713885</td>\n",
       "      <td>713891</td>\n",
       "      <td>713904</td>\n",
       "      <td>713938</td>\n",
       "      <td>713944</td>\n",
       "      <td>713949</td>\n",
       "      <td>713973</td>\n",
       "      <td>...</td>\n",
       "      <td>22738088</td>\n",
       "      <td>22738113</td>\n",
       "      <td>22738235</td>\n",
       "      <td>22738243</td>\n",
       "      <td>23764935</td>\n",
       "      <td>23765114</td>\n",
       "      <td>23765197</td>\n",
       "      <td>23765201</td>\n",
       "      <td>23765332</td>\n",
       "      <td>0</td>\n",
       "    </tr>\n",
       "    <tr>\n",
       "      <th>Y-15T</th>\n",
       "      <td>0</td>\n",
       "      <td>0</td>\n",
       "      <td>0</td>\n",
       "      <td>0</td>\n",
       "      <td>0</td>\n",
       "      <td>0</td>\n",
       "      <td>0</td>\n",
       "      <td>0</td>\n",
       "      <td>0</td>\n",
       "      <td>0</td>\n",
       "      <td>...</td>\n",
       "      <td>20</td>\n",
       "      <td>20</td>\n",
       "      <td>20</td>\n",
       "      <td>0</td>\n",
       "      <td>16</td>\n",
       "      <td>16</td>\n",
       "      <td>16</td>\n",
       "      <td>0</td>\n",
       "      <td>0</td>\n",
       "      <td>0</td>\n",
       "    </tr>\n",
       "    <tr>\n",
       "      <th>Y-17T</th>\n",
       "      <td>0</td>\n",
       "      <td>0</td>\n",
       "      <td>0</td>\n",
       "      <td>0</td>\n",
       "      <td>0</td>\n",
       "      <td>0</td>\n",
       "      <td>0</td>\n",
       "      <td>0</td>\n",
       "      <td>0</td>\n",
       "      <td>0</td>\n",
       "      <td>...</td>\n",
       "      <td>0</td>\n",
       "      <td>0</td>\n",
       "      <td>0</td>\n",
       "      <td>0</td>\n",
       "      <td>0</td>\n",
       "      <td>0</td>\n",
       "      <td>20</td>\n",
       "      <td>20</td>\n",
       "      <td>20</td>\n",
       "      <td>0</td>\n",
       "    </tr>\n",
       "    <tr>\n",
       "      <th>Y-13A</th>\n",
       "      <td>0</td>\n",
       "      <td>0</td>\n",
       "      <td>0</td>\n",
       "      <td>0</td>\n",
       "      <td>0</td>\n",
       "      <td>0</td>\n",
       "      <td>0</td>\n",
       "      <td>0</td>\n",
       "      <td>0</td>\n",
       "      <td>0</td>\n",
       "      <td>...</td>\n",
       "      <td>0</td>\n",
       "      <td>0</td>\n",
       "      <td>0</td>\n",
       "      <td>0</td>\n",
       "      <td>0</td>\n",
       "      <td>0</td>\n",
       "      <td>0</td>\n",
       "      <td>0</td>\n",
       "      <td>0</td>\n",
       "      <td>0</td>\n",
       "    </tr>\n",
       "    <tr>\n",
       "      <th>Y-18T</th>\n",
       "      <td>0</td>\n",
       "      <td>0</td>\n",
       "      <td>0</td>\n",
       "      <td>0</td>\n",
       "      <td>0</td>\n",
       "      <td>0</td>\n",
       "      <td>0</td>\n",
       "      <td>0</td>\n",
       "      <td>0</td>\n",
       "      <td>0</td>\n",
       "      <td>...</td>\n",
       "      <td>0</td>\n",
       "      <td>0</td>\n",
       "      <td>0</td>\n",
       "      <td>0</td>\n",
       "      <td>0</td>\n",
       "      <td>0</td>\n",
       "      <td>0</td>\n",
       "      <td>0</td>\n",
       "      <td>0</td>\n",
       "      <td>0</td>\n",
       "    </tr>\n",
       "    <tr>\n",
       "      <th>Y-14A</th>\n",
       "      <td>0</td>\n",
       "      <td>0</td>\n",
       "      <td>0</td>\n",
       "      <td>0</td>\n",
       "      <td>0</td>\n",
       "      <td>0</td>\n",
       "      <td>0</td>\n",
       "      <td>0</td>\n",
       "      <td>0</td>\n",
       "      <td>0</td>\n",
       "      <td>...</td>\n",
       "      <td>0</td>\n",
       "      <td>0</td>\n",
       "      <td>0</td>\n",
       "      <td>0</td>\n",
       "      <td>0</td>\n",
       "      <td>0</td>\n",
       "      <td>0</td>\n",
       "      <td>0</td>\n",
       "      <td>0</td>\n",
       "      <td>0</td>\n",
       "    </tr>\n",
       "    <tr>\n",
       "      <th>Y-19T</th>\n",
       "      <td>0</td>\n",
       "      <td>0</td>\n",
       "      <td>0</td>\n",
       "      <td>0</td>\n",
       "      <td>0</td>\n",
       "      <td>0</td>\n",
       "      <td>0</td>\n",
       "      <td>0</td>\n",
       "      <td>21</td>\n",
       "      <td>21</td>\n",
       "      <td>...</td>\n",
       "      <td>0</td>\n",
       "      <td>0</td>\n",
       "      <td>0</td>\n",
       "      <td>0</td>\n",
       "      <td>0</td>\n",
       "      <td>0</td>\n",
       "      <td>0</td>\n",
       "      <td>0</td>\n",
       "      <td>0</td>\n",
       "      <td>0</td>\n",
       "    </tr>\n",
       "    <tr>\n",
       "      <th>Y-15A</th>\n",
       "      <td>0</td>\n",
       "      <td>0</td>\n",
       "      <td>0</td>\n",
       "      <td>0</td>\n",
       "      <td>0</td>\n",
       "      <td>0</td>\n",
       "      <td>0</td>\n",
       "      <td>0</td>\n",
       "      <td>0</td>\n",
       "      <td>0</td>\n",
       "      <td>...</td>\n",
       "      <td>0</td>\n",
       "      <td>0</td>\n",
       "      <td>0</td>\n",
       "      <td>0</td>\n",
       "      <td>0</td>\n",
       "      <td>0</td>\n",
       "      <td>0</td>\n",
       "      <td>0</td>\n",
       "      <td>0</td>\n",
       "      <td>0</td>\n",
       "    </tr>\n",
       "    <tr>\n",
       "      <th>Y-16A</th>\n",
       "      <td>0</td>\n",
       "      <td>0</td>\n",
       "      <td>0</td>\n",
       "      <td>0</td>\n",
       "      <td>0</td>\n",
       "      <td>0</td>\n",
       "      <td>0</td>\n",
       "      <td>0</td>\n",
       "      <td>0</td>\n",
       "      <td>0</td>\n",
       "      <td>...</td>\n",
       "      <td>0</td>\n",
       "      <td>0</td>\n",
       "      <td>0</td>\n",
       "      <td>0</td>\n",
       "      <td>0</td>\n",
       "      <td>0</td>\n",
       "      <td>0</td>\n",
       "      <td>0</td>\n",
       "      <td>0</td>\n",
       "      <td>0</td>\n",
       "    </tr>\n",
       "    <tr>\n",
       "      <th>O-8A</th>\n",
       "      <td>0</td>\n",
       "      <td>0</td>\n",
       "      <td>0</td>\n",
       "      <td>0</td>\n",
       "      <td>0</td>\n",
       "      <td>0</td>\n",
       "      <td>0</td>\n",
       "      <td>0</td>\n",
       "      <td>0</td>\n",
       "      <td>0</td>\n",
       "      <td>...</td>\n",
       "      <td>0</td>\n",
       "      <td>0</td>\n",
       "      <td>0</td>\n",
       "      <td>0</td>\n",
       "      <td>0</td>\n",
       "      <td>0</td>\n",
       "      <td>0</td>\n",
       "      <td>0</td>\n",
       "      <td>0</td>\n",
       "      <td>0</td>\n",
       "    </tr>\n",
       "    <tr>\n",
       "      <th>O-10T</th>\n",
       "      <td>0</td>\n",
       "      <td>0</td>\n",
       "      <td>0</td>\n",
       "      <td>0</td>\n",
       "      <td>0</td>\n",
       "      <td>16</td>\n",
       "      <td>16</td>\n",
       "      <td>16</td>\n",
       "      <td>16</td>\n",
       "      <td>16</td>\n",
       "      <td>...</td>\n",
       "      <td>0</td>\n",
       "      <td>0</td>\n",
       "      <td>0</td>\n",
       "      <td>0</td>\n",
       "      <td>0</td>\n",
       "      <td>0</td>\n",
       "      <td>0</td>\n",
       "      <td>0</td>\n",
       "      <td>0</td>\n",
       "      <td>0</td>\n",
       "    </tr>\n",
       "    <tr>\n",
       "      <th>O-6A</th>\n",
       "      <td>0</td>\n",
       "      <td>0</td>\n",
       "      <td>0</td>\n",
       "      <td>0</td>\n",
       "      <td>0</td>\n",
       "      <td>0</td>\n",
       "      <td>0</td>\n",
       "      <td>0</td>\n",
       "      <td>0</td>\n",
       "      <td>0</td>\n",
       "      <td>...</td>\n",
       "      <td>0</td>\n",
       "      <td>0</td>\n",
       "      <td>0</td>\n",
       "      <td>0</td>\n",
       "      <td>0</td>\n",
       "      <td>0</td>\n",
       "      <td>0</td>\n",
       "      <td>0</td>\n",
       "      <td>0</td>\n",
       "      <td>0</td>\n",
       "    </tr>\n",
       "    <tr>\n",
       "      <th>O-11T</th>\n",
       "      <td>0</td>\n",
       "      <td>0</td>\n",
       "      <td>0</td>\n",
       "      <td>0</td>\n",
       "      <td>0</td>\n",
       "      <td>0</td>\n",
       "      <td>0</td>\n",
       "      <td>0</td>\n",
       "      <td>0</td>\n",
       "      <td>0</td>\n",
       "      <td>...</td>\n",
       "      <td>0</td>\n",
       "      <td>0</td>\n",
       "      <td>0</td>\n",
       "      <td>0</td>\n",
       "      <td>0</td>\n",
       "      <td>0</td>\n",
       "      <td>0</td>\n",
       "      <td>0</td>\n",
       "      <td>0</td>\n",
       "      <td>0</td>\n",
       "    </tr>\n",
       "    <tr>\n",
       "      <th>O-7A</th>\n",
       "      <td>0</td>\n",
       "      <td>0</td>\n",
       "      <td>0</td>\n",
       "      <td>0</td>\n",
       "      <td>54</td>\n",
       "      <td>54</td>\n",
       "      <td>54</td>\n",
       "      <td>54</td>\n",
       "      <td>54</td>\n",
       "      <td>54</td>\n",
       "      <td>...</td>\n",
       "      <td>47</td>\n",
       "      <td>47</td>\n",
       "      <td>0</td>\n",
       "      <td>0</td>\n",
       "      <td>0</td>\n",
       "      <td>0</td>\n",
       "      <td>0</td>\n",
       "      <td>0</td>\n",
       "      <td>0</td>\n",
       "      <td>0</td>\n",
       "    </tr>\n",
       "    <tr>\n",
       "      <th>O-13T</th>\n",
       "      <td>0</td>\n",
       "      <td>0</td>\n",
       "      <td>0</td>\n",
       "      <td>0</td>\n",
       "      <td>0</td>\n",
       "      <td>0</td>\n",
       "      <td>0</td>\n",
       "      <td>0</td>\n",
       "      <td>0</td>\n",
       "      <td>0</td>\n",
       "      <td>...</td>\n",
       "      <td>0</td>\n",
       "      <td>0</td>\n",
       "      <td>0</td>\n",
       "      <td>0</td>\n",
       "      <td>0</td>\n",
       "      <td>0</td>\n",
       "      <td>0</td>\n",
       "      <td>0</td>\n",
       "      <td>0</td>\n",
       "      <td>0</td>\n",
       "    </tr>\n",
       "    <tr>\n",
       "      <th>O-14T</th>\n",
       "      <td>0</td>\n",
       "      <td>0</td>\n",
       "      <td>13</td>\n",
       "      <td>13</td>\n",
       "      <td>13</td>\n",
       "      <td>13</td>\n",
       "      <td>13</td>\n",
       "      <td>13</td>\n",
       "      <td>13</td>\n",
       "      <td>13</td>\n",
       "      <td>...</td>\n",
       "      <td>0</td>\n",
       "      <td>0</td>\n",
       "      <td>0</td>\n",
       "      <td>0</td>\n",
       "      <td>0</td>\n",
       "      <td>0</td>\n",
       "      <td>0</td>\n",
       "      <td>0</td>\n",
       "      <td>0</td>\n",
       "      <td>0</td>\n",
       "    </tr>\n",
       "    <tr>\n",
       "      <th>O-9A</th>\n",
       "      <td>0</td>\n",
       "      <td>0</td>\n",
       "      <td>0</td>\n",
       "      <td>0</td>\n",
       "      <td>0</td>\n",
       "      <td>0</td>\n",
       "      <td>0</td>\n",
       "      <td>0</td>\n",
       "      <td>0</td>\n",
       "      <td>0</td>\n",
       "      <td>...</td>\n",
       "      <td>0</td>\n",
       "      <td>0</td>\n",
       "      <td>0</td>\n",
       "      <td>0</td>\n",
       "      <td>0</td>\n",
       "      <td>0</td>\n",
       "      <td>0</td>\n",
       "      <td>0</td>\n",
       "      <td>0</td>\n",
       "      <td>0</td>\n",
       "    </tr>\n",
       "    <tr>\n",
       "      <th>O-10A</th>\n",
       "      <td>0</td>\n",
       "      <td>0</td>\n",
       "      <td>0</td>\n",
       "      <td>0</td>\n",
       "      <td>0</td>\n",
       "      <td>0</td>\n",
       "      <td>0</td>\n",
       "      <td>0</td>\n",
       "      <td>0</td>\n",
       "      <td>0</td>\n",
       "      <td>...</td>\n",
       "      <td>0</td>\n",
       "      <td>0</td>\n",
       "      <td>0</td>\n",
       "      <td>0</td>\n",
       "      <td>0</td>\n",
       "      <td>0</td>\n",
       "      <td>0</td>\n",
       "      <td>0</td>\n",
       "      <td>0</td>\n",
       "      <td>0</td>\n",
       "    </tr>\n",
       "    <tr>\n",
       "      <th>O-11A</th>\n",
       "      <td>0</td>\n",
       "      <td>0</td>\n",
       "      <td>0</td>\n",
       "      <td>0</td>\n",
       "      <td>0</td>\n",
       "      <td>0</td>\n",
       "      <td>0</td>\n",
       "      <td>0</td>\n",
       "      <td>0</td>\n",
       "      <td>23</td>\n",
       "      <td>...</td>\n",
       "      <td>0</td>\n",
       "      <td>0</td>\n",
       "      <td>0</td>\n",
       "      <td>0</td>\n",
       "      <td>0</td>\n",
       "      <td>0</td>\n",
       "      <td>0</td>\n",
       "      <td>0</td>\n",
       "      <td>0</td>\n",
       "      <td>0</td>\n",
       "    </tr>\n",
       "    <tr>\n",
       "      <th>AD-1T</th>\n",
       "      <td>0</td>\n",
       "      <td>0</td>\n",
       "      <td>0</td>\n",
       "      <td>0</td>\n",
       "      <td>0</td>\n",
       "      <td>0</td>\n",
       "      <td>0</td>\n",
       "      <td>0</td>\n",
       "      <td>0</td>\n",
       "      <td>0</td>\n",
       "      <td>...</td>\n",
       "      <td>16</td>\n",
       "      <td>0</td>\n",
       "      <td>0</td>\n",
       "      <td>0</td>\n",
       "      <td>0</td>\n",
       "      <td>0</td>\n",
       "      <td>0</td>\n",
       "      <td>0</td>\n",
       "      <td>0</td>\n",
       "      <td>1</td>\n",
       "    </tr>\n",
       "    <tr>\n",
       "      <th>AD-1A</th>\n",
       "      <td>0</td>\n",
       "      <td>0</td>\n",
       "      <td>0</td>\n",
       "      <td>0</td>\n",
       "      <td>0</td>\n",
       "      <td>0</td>\n",
       "      <td>26</td>\n",
       "      <td>26</td>\n",
       "      <td>26</td>\n",
       "      <td>26</td>\n",
       "      <td>...</td>\n",
       "      <td>0</td>\n",
       "      <td>0</td>\n",
       "      <td>0</td>\n",
       "      <td>0</td>\n",
       "      <td>0</td>\n",
       "      <td>0</td>\n",
       "      <td>0</td>\n",
       "      <td>0</td>\n",
       "      <td>0</td>\n",
       "      <td>1</td>\n",
       "    </tr>\n",
       "    <tr>\n",
       "      <th>AD-2T</th>\n",
       "      <td>38</td>\n",
       "      <td>38</td>\n",
       "      <td>38</td>\n",
       "      <td>38</td>\n",
       "      <td>38</td>\n",
       "      <td>38</td>\n",
       "      <td>38</td>\n",
       "      <td>38</td>\n",
       "      <td>38</td>\n",
       "      <td>38</td>\n",
       "      <td>...</td>\n",
       "      <td>0</td>\n",
       "      <td>0</td>\n",
       "      <td>0</td>\n",
       "      <td>0</td>\n",
       "      <td>0</td>\n",
       "      <td>0</td>\n",
       "      <td>0</td>\n",
       "      <td>0</td>\n",
       "      <td>0</td>\n",
       "      <td>1</td>\n",
       "    </tr>\n",
       "    <tr>\n",
       "      <th>AD-2A</th>\n",
       "      <td>0</td>\n",
       "      <td>0</td>\n",
       "      <td>0</td>\n",
       "      <td>0</td>\n",
       "      <td>0</td>\n",
       "      <td>0</td>\n",
       "      <td>0</td>\n",
       "      <td>18</td>\n",
       "      <td>18</td>\n",
       "      <td>18</td>\n",
       "      <td>...</td>\n",
       "      <td>0</td>\n",
       "      <td>0</td>\n",
       "      <td>0</td>\n",
       "      <td>0</td>\n",
       "      <td>0</td>\n",
       "      <td>0</td>\n",
       "      <td>0</td>\n",
       "      <td>0</td>\n",
       "      <td>0</td>\n",
       "      <td>1</td>\n",
       "    </tr>\n",
       "    <tr>\n",
       "      <th>AD-5T</th>\n",
       "      <td>0</td>\n",
       "      <td>0</td>\n",
       "      <td>0</td>\n",
       "      <td>0</td>\n",
       "      <td>0</td>\n",
       "      <td>0</td>\n",
       "      <td>0</td>\n",
       "      <td>0</td>\n",
       "      <td>0</td>\n",
       "      <td>0</td>\n",
       "      <td>...</td>\n",
       "      <td>0</td>\n",
       "      <td>0</td>\n",
       "      <td>0</td>\n",
       "      <td>0</td>\n",
       "      <td>0</td>\n",
       "      <td>24</td>\n",
       "      <td>24</td>\n",
       "      <td>24</td>\n",
       "      <td>0</td>\n",
       "      <td>1</td>\n",
       "    </tr>\n",
       "    <tr>\n",
       "      <th>AD-3A</th>\n",
       "      <td>0</td>\n",
       "      <td>0</td>\n",
       "      <td>0</td>\n",
       "      <td>0</td>\n",
       "      <td>0</td>\n",
       "      <td>0</td>\n",
       "      <td>23</td>\n",
       "      <td>23</td>\n",
       "      <td>23</td>\n",
       "      <td>23</td>\n",
       "      <td>...</td>\n",
       "      <td>0</td>\n",
       "      <td>0</td>\n",
       "      <td>0</td>\n",
       "      <td>0</td>\n",
       "      <td>0</td>\n",
       "      <td>0</td>\n",
       "      <td>0</td>\n",
       "      <td>0</td>\n",
       "      <td>0</td>\n",
       "      <td>1</td>\n",
       "    </tr>\n",
       "    <tr>\n",
       "      <th>AD-5A</th>\n",
       "      <td>0</td>\n",
       "      <td>0</td>\n",
       "      <td>0</td>\n",
       "      <td>0</td>\n",
       "      <td>0</td>\n",
       "      <td>0</td>\n",
       "      <td>0</td>\n",
       "      <td>0</td>\n",
       "      <td>0</td>\n",
       "      <td>0</td>\n",
       "      <td>...</td>\n",
       "      <td>0</td>\n",
       "      <td>0</td>\n",
       "      <td>0</td>\n",
       "      <td>0</td>\n",
       "      <td>0</td>\n",
       "      <td>0</td>\n",
       "      <td>0</td>\n",
       "      <td>0</td>\n",
       "      <td>0</td>\n",
       "      <td>1</td>\n",
       "    </tr>\n",
       "    <tr>\n",
       "      <th>AD-8T</th>\n",
       "      <td>0</td>\n",
       "      <td>21</td>\n",
       "      <td>21</td>\n",
       "      <td>21</td>\n",
       "      <td>21</td>\n",
       "      <td>21</td>\n",
       "      <td>21</td>\n",
       "      <td>21</td>\n",
       "      <td>21</td>\n",
       "      <td>21</td>\n",
       "      <td>...</td>\n",
       "      <td>0</td>\n",
       "      <td>0</td>\n",
       "      <td>0</td>\n",
       "      <td>0</td>\n",
       "      <td>0</td>\n",
       "      <td>0</td>\n",
       "      <td>0</td>\n",
       "      <td>0</td>\n",
       "      <td>0</td>\n",
       "      <td>1</td>\n",
       "    </tr>\n",
       "    <tr>\n",
       "      <th>AD-7T</th>\n",
       "      <td>0</td>\n",
       "      <td>0</td>\n",
       "      <td>0</td>\n",
       "      <td>20</td>\n",
       "      <td>20</td>\n",
       "      <td>20</td>\n",
       "      <td>20</td>\n",
       "      <td>20</td>\n",
       "      <td>20</td>\n",
       "      <td>20</td>\n",
       "      <td>...</td>\n",
       "      <td>16</td>\n",
       "      <td>16</td>\n",
       "      <td>16</td>\n",
       "      <td>16</td>\n",
       "      <td>0</td>\n",
       "      <td>0</td>\n",
       "      <td>0</td>\n",
       "      <td>0</td>\n",
       "      <td>0</td>\n",
       "      <td>1</td>\n",
       "    </tr>\n",
       "  </tbody>\n",
       "</table>\n",
       "<p>29 rows × 2240521 columns</p>\n",
       "</div>"
      ],
      "text/plain": [
       "chrom    chr1    chr1    chr1    chr1    chr1    chr1    chr1    chr1    chr1  \\\n",
       "start  713810  713860  713861  713882  713885  713891  713904  713938  713944   \n",
       "end    713860  713861  713882  713885  713891  713904  713938  713944  713949   \n",
       "Y-15T       0       0       0       0       0       0       0       0       0   \n",
       "Y-17T       0       0       0       0       0       0       0       0       0   \n",
       "Y-13A       0       0       0       0       0       0       0       0       0   \n",
       "Y-18T       0       0       0       0       0       0       0       0       0   \n",
       "Y-14A       0       0       0       0       0       0       0       0       0   \n",
       "Y-19T       0       0       0       0       0       0       0       0      21   \n",
       "Y-15A       0       0       0       0       0       0       0       0       0   \n",
       "Y-16A       0       0       0       0       0       0       0       0       0   \n",
       "O-8A        0       0       0       0       0       0       0       0       0   \n",
       "O-10T       0       0       0       0       0      16      16      16      16   \n",
       "O-6A        0       0       0       0       0       0       0       0       0   \n",
       "O-11T       0       0       0       0       0       0       0       0       0   \n",
       "O-7A        0       0       0       0      54      54      54      54      54   \n",
       "O-13T       0       0       0       0       0       0       0       0       0   \n",
       "O-14T       0       0      13      13      13      13      13      13      13   \n",
       "O-9A        0       0       0       0       0       0       0       0       0   \n",
       "O-10A       0       0       0       0       0       0       0       0       0   \n",
       "O-11A       0       0       0       0       0       0       0       0       0   \n",
       "AD-1T       0       0       0       0       0       0       0       0       0   \n",
       "AD-1A       0       0       0       0       0       0      26      26      26   \n",
       "AD-2T      38      38      38      38      38      38      38      38      38   \n",
       "AD-2A       0       0       0       0       0       0       0      18      18   \n",
       "AD-5T       0       0       0       0       0       0       0       0       0   \n",
       "AD-3A       0       0       0       0       0       0      23      23      23   \n",
       "AD-5A       0       0       0       0       0       0       0       0       0   \n",
       "AD-8T       0      21      21      21      21      21      21      21      21   \n",
       "AD-7T       0       0       0      20      20      20      20      20      20   \n",
       "\n",
       "chrom    chr1  ...      chrY      chrY      chrY      chrY      chrY  \\\n",
       "start  713949  ...  22738064  22738088  22738113  22738235  23764353   \n",
       "end    713973  ...  22738088  22738113  22738235  22738243  23764935   \n",
       "Y-15T       0  ...        20        20        20         0        16   \n",
       "Y-17T       0  ...         0         0         0         0         0   \n",
       "Y-13A       0  ...         0         0         0         0         0   \n",
       "Y-18T       0  ...         0         0         0         0         0   \n",
       "Y-14A       0  ...         0         0         0         0         0   \n",
       "Y-19T      21  ...         0         0         0         0         0   \n",
       "Y-15A       0  ...         0         0         0         0         0   \n",
       "Y-16A       0  ...         0         0         0         0         0   \n",
       "O-8A        0  ...         0         0         0         0         0   \n",
       "O-10T      16  ...         0         0         0         0         0   \n",
       "O-6A        0  ...         0         0         0         0         0   \n",
       "O-11T       0  ...         0         0         0         0         0   \n",
       "O-7A       54  ...        47        47         0         0         0   \n",
       "O-13T       0  ...         0         0         0         0         0   \n",
       "O-14T      13  ...         0         0         0         0         0   \n",
       "O-9A        0  ...         0         0         0         0         0   \n",
       "O-10A       0  ...         0         0         0         0         0   \n",
       "O-11A      23  ...         0         0         0         0         0   \n",
       "AD-1T       0  ...        16         0         0         0         0   \n",
       "AD-1A      26  ...         0         0         0         0         0   \n",
       "AD-2T      38  ...         0         0         0         0         0   \n",
       "AD-2A      18  ...         0         0         0         0         0   \n",
       "AD-5T       0  ...         0         0         0         0         0   \n",
       "AD-3A      23  ...         0         0         0         0         0   \n",
       "AD-5A       0  ...         0         0         0         0         0   \n",
       "AD-8T      21  ...         0         0         0         0         0   \n",
       "AD-7T      20  ...        16        16        16        16         0   \n",
       "\n",
       "chrom      chrY      chrY      chrY      chrY  class  \n",
       "start  23764935  23765114  23765197  23765201      0  \n",
       "end    23765114  23765197  23765201  23765332      0  \n",
       "Y-15T        16        16         0         0      0  \n",
       "Y-17T         0        20        20        20      0  \n",
       "Y-13A         0         0         0         0      0  \n",
       "Y-18T         0         0         0         0      0  \n",
       "Y-14A         0         0         0         0      0  \n",
       "Y-19T         0         0         0         0      0  \n",
       "Y-15A         0         0         0         0      0  \n",
       "Y-16A         0         0         0         0      0  \n",
       "O-8A          0         0         0         0      0  \n",
       "O-10T         0         0         0         0      0  \n",
       "O-6A          0         0         0         0      0  \n",
       "O-11T         0         0         0         0      0  \n",
       "O-7A          0         0         0         0      0  \n",
       "O-13T         0         0         0         0      0  \n",
       "O-14T         0         0         0         0      0  \n",
       "O-9A          0         0         0         0      0  \n",
       "O-10A         0         0         0         0      0  \n",
       "O-11A         0         0         0         0      0  \n",
       "AD-1T         0         0         0         0      1  \n",
       "AD-1A         0         0         0         0      1  \n",
       "AD-2T         0         0         0         0      1  \n",
       "AD-2A         0         0         0         0      1  \n",
       "AD-5T        24        24        24         0      1  \n",
       "AD-3A         0         0         0         0      1  \n",
       "AD-5A         0         0         0         0      1  \n",
       "AD-8T         0         0         0         0      1  \n",
       "AD-7T         0         0         0         0      1  \n",
       "\n",
       "[29 rows x 2240521 columns]"
      ]
     },
     "execution_count": 31,
     "metadata": {},
     "output_type": "execute_result"
    }
   ],
   "source": [
    "df_T.fillna(0)"
   ]
  },
  {
   "cell_type": "code",
   "execution_count": 32,
   "id": "a85fc751-061b-4c6f-834f-3652941d9f92",
   "metadata": {},
   "outputs": [
    {
     "data": {
      "text/plain": [
       "class\n",
       "0    20\n",
       "1     9\n",
       "dtype: int64"
      ]
     },
     "execution_count": 32,
     "metadata": {},
     "output_type": "execute_result"
    }
   ],
   "source": [
    "df_T.groupby('class').size()"
   ]
  },
  {
   "cell_type": "code",
   "execution_count": 33,
   "id": "1d89c71f-9188-4f82-8a69-5ef03349aac7",
   "metadata": {},
   "outputs": [],
   "source": [
    "# Get labels for training data\n",
    "Y = df_T[\"class\"].values\n",
    "\n",
    "# Get training data as numpy array\n",
    "X = df_T.drop(['class'], axis=1).astype(float).values\n",
    "scaler = sklearn.preprocessing.StandardScaler()\n",
    "scaler.fit(X)\n",
    "X=scaler.transform(X)    \n",
    "\n",
    "# Split the data for cross-validation\n",
    "X_train, X_test, Y_train, Y_test = train_test_split(X, Y, test_size=0.33, random_state=seed)"
   ]
  },
  {
   "cell_type": "code",
   "execution_count": 34,
   "id": "6efbc3c8-5919-4112-82e3-902844506ea4",
   "metadata": {},
   "outputs": [
    {
     "data": {
      "text/plain": [
       "array([[-0.27217331, -0.27217761, -0.27218027, ..., -0.2721659 ,\n",
       "        -0.2721658 , -0.27216565],\n",
       "       [-0.27217331, -0.27217761, -0.27218027, ..., -0.2721659 ,\n",
       "        -0.2721658 , -0.27216565],\n",
       "       [-0.27217331, -0.27217761, -0.2721084 , ..., -0.2721659 ,\n",
       "        -0.2721658 , -0.27216565],\n",
       "       ...,\n",
       "       [-0.27217331, -0.27217761, -0.27218027, ..., -0.2721659 ,\n",
       "        -0.2721658 , -0.27216565],\n",
       "       [-0.27217331, -0.27217761, -0.27218027, ..., -0.2721659 ,\n",
       "        -0.2721658 , -0.27216565],\n",
       "       [-0.27217331, -0.27217761, -0.27218027, ..., -0.2721659 ,\n",
       "        -0.2721658 , -0.27216565]])"
      ]
     },
     "execution_count": 34,
     "metadata": {},
     "output_type": "execute_result"
    }
   ],
   "source": [
    "X_train"
   ]
  },
  {
   "cell_type": "code",
   "execution_count": 35,
   "id": "b0abca0f-69e5-43b1-b0a4-47d2fe6b860d",
   "metadata": {},
   "outputs": [
    {
     "data": {
      "text/plain": [
       "array([0, 0, 0, 0, 1, 0, 1, 1, 0, 1, 0, 0, 0, 0, 0, 1, 1, 0, 0])"
      ]
     },
     "execution_count": 35,
     "metadata": {},
     "output_type": "execute_result"
    }
   ],
   "source": [
    "Y_train"
   ]
  },
  {
   "cell_type": "markdown",
   "id": "3b0a9fbe-4cdd-41e0-8494-dac8fd555c00",
   "metadata": {},
   "source": [
    "### Random Forest with ChIP-seq only"
   ]
  },
  {
   "cell_type": "code",
   "execution_count": 36,
   "id": "72b0b947-9fa3-4d34-8182-6bbe90493a83",
   "metadata": {},
   "outputs": [
    {
     "name": "stdout",
     "output_type": "stream",
     "text": [
      "Best: 0.666667 using {'max_features': 'sqrt', 'n_estimators': 10}\n"
     ]
    }
   ],
   "source": [
    "# define models and parameters\n",
    "model = RandomForestClassifier()\n",
    "n_estimators = [10, 50, 100, 500, 1000]\n",
    "max_features = ['sqrt', 'log2']\n",
    "\n",
    "# define grid search\n",
    "grid = dict(n_estimators=n_estimators, max_features=max_features)\n",
    "cv = RepeatedStratifiedKFold(n_splits=3, n_repeats=3, random_state=1)\n",
    "grid_search = GridSearchCV(estimator=model, param_grid=grid, n_jobs=-1, cv=cv, scoring='accuracy', error_score=0)\n",
    "grid_result = grid_search.fit(X_train, Y_train)\n",
    "print(\"Best: %f using %s\" % (grid_result.best_score_, grid_result.best_params_))"
   ]
  },
  {
   "cell_type": "code",
   "execution_count": 37,
   "id": "958d195c-5c5a-4063-a9c0-d8c9261619d0",
   "metadata": {},
   "outputs": [
    {
     "data": {
      "text/html": [
       "<style>#sk-container-id-3 {color: black;background-color: white;}#sk-container-id-3 pre{padding: 0;}#sk-container-id-3 div.sk-toggleable {background-color: white;}#sk-container-id-3 label.sk-toggleable__label {cursor: pointer;display: block;width: 100%;margin-bottom: 0;padding: 0.3em;box-sizing: border-box;text-align: center;}#sk-container-id-3 label.sk-toggleable__label-arrow:before {content: \"▸\";float: left;margin-right: 0.25em;color: #696969;}#sk-container-id-3 label.sk-toggleable__label-arrow:hover:before {color: black;}#sk-container-id-3 div.sk-estimator:hover label.sk-toggleable__label-arrow:before {color: black;}#sk-container-id-3 div.sk-toggleable__content {max-height: 0;max-width: 0;overflow: hidden;text-align: left;background-color: #f0f8ff;}#sk-container-id-3 div.sk-toggleable__content pre {margin: 0.2em;color: black;border-radius: 0.25em;background-color: #f0f8ff;}#sk-container-id-3 input.sk-toggleable__control:checked~div.sk-toggleable__content {max-height: 200px;max-width: 100%;overflow: auto;}#sk-container-id-3 input.sk-toggleable__control:checked~label.sk-toggleable__label-arrow:before {content: \"▾\";}#sk-container-id-3 div.sk-estimator input.sk-toggleable__control:checked~label.sk-toggleable__label {background-color: #d4ebff;}#sk-container-id-3 div.sk-label input.sk-toggleable__control:checked~label.sk-toggleable__label {background-color: #d4ebff;}#sk-container-id-3 input.sk-hidden--visually {border: 0;clip: rect(1px 1px 1px 1px);clip: rect(1px, 1px, 1px, 1px);height: 1px;margin: -1px;overflow: hidden;padding: 0;position: absolute;width: 1px;}#sk-container-id-3 div.sk-estimator {font-family: monospace;background-color: #f0f8ff;border: 1px dotted black;border-radius: 0.25em;box-sizing: border-box;margin-bottom: 0.5em;}#sk-container-id-3 div.sk-estimator:hover {background-color: #d4ebff;}#sk-container-id-3 div.sk-parallel-item::after {content: \"\";width: 100%;border-bottom: 1px solid gray;flex-grow: 1;}#sk-container-id-3 div.sk-label:hover label.sk-toggleable__label {background-color: #d4ebff;}#sk-container-id-3 div.sk-serial::before {content: \"\";position: absolute;border-left: 1px solid gray;box-sizing: border-box;top: 0;bottom: 0;left: 50%;z-index: 0;}#sk-container-id-3 div.sk-serial {display: flex;flex-direction: column;align-items: center;background-color: white;padding-right: 0.2em;padding-left: 0.2em;position: relative;}#sk-container-id-3 div.sk-item {position: relative;z-index: 1;}#sk-container-id-3 div.sk-parallel {display: flex;align-items: stretch;justify-content: center;background-color: white;position: relative;}#sk-container-id-3 div.sk-item::before, #sk-container-id-3 div.sk-parallel-item::before {content: \"\";position: absolute;border-left: 1px solid gray;box-sizing: border-box;top: 0;bottom: 0;left: 50%;z-index: -1;}#sk-container-id-3 div.sk-parallel-item {display: flex;flex-direction: column;z-index: 1;position: relative;background-color: white;}#sk-container-id-3 div.sk-parallel-item:first-child::after {align-self: flex-end;width: 50%;}#sk-container-id-3 div.sk-parallel-item:last-child::after {align-self: flex-start;width: 50%;}#sk-container-id-3 div.sk-parallel-item:only-child::after {width: 0;}#sk-container-id-3 div.sk-dashed-wrapped {border: 1px dashed gray;margin: 0 0.4em 0.5em 0.4em;box-sizing: border-box;padding-bottom: 0.4em;background-color: white;}#sk-container-id-3 div.sk-label label {font-family: monospace;font-weight: bold;display: inline-block;line-height: 1.2em;}#sk-container-id-3 div.sk-label-container {text-align: center;}#sk-container-id-3 div.sk-container {/* jupyter's `normalize.less` sets `[hidden] { display: none; }` but bootstrap.min.css set `[hidden] { display: none !important; }` so we also need the `!important` here to be able to override the default hidden behavior on the sphinx rendered scikit-learn.org. See: https://github.com/scikit-learn/scikit-learn/issues/21755 */display: inline-block !important;position: relative;}#sk-container-id-3 div.sk-text-repr-fallback {display: none;}</style><div id=\"sk-container-id-3\" class=\"sk-top-container\"><div class=\"sk-text-repr-fallback\"><pre>RandomForestClassifier(n_estimators=10, random_state=43)</pre><b>In a Jupyter environment, please rerun this cell to show the HTML representation or trust the notebook. <br />On GitHub, the HTML representation is unable to render, please try loading this page with nbviewer.org.</b></div><div class=\"sk-container\" hidden><div class=\"sk-item\"><div class=\"sk-estimator sk-toggleable\"><input class=\"sk-toggleable__control sk-hidden--visually\" id=\"sk-estimator-id-3\" type=\"checkbox\" checked><label for=\"sk-estimator-id-3\" class=\"sk-toggleable__label sk-toggleable__label-arrow\">RandomForestClassifier</label><div class=\"sk-toggleable__content\"><pre>RandomForestClassifier(n_estimators=10, random_state=43)</pre></div></div></div></div></div>"
      ],
      "text/plain": [
       "RandomForestClassifier(n_estimators=10, random_state=43)"
      ]
     },
     "execution_count": 37,
     "metadata": {},
     "output_type": "execute_result"
    }
   ],
   "source": [
    "clf_rf = RandomForestClassifier(random_state=43, \n",
    "                                n_estimators=grid_result.best_params_.get('n_estimators'), \n",
    "                                max_features=grid_result.best_params_.get('max_features'))     \n",
    "clf_rf.fit(X_train,Y_train)"
   ]
  },
  {
   "cell_type": "code",
   "execution_count": 38,
   "id": "45f1419b-e8cc-4c60-a5af-346096063de9",
   "metadata": {},
   "outputs": [
    {
     "name": "stdout",
     "output_type": "stream",
     "text": [
      "Accuracy is:  0.8\n"
     ]
    },
    {
     "data": {
      "text/plain": [
       "<AxesSubplot:>"
      ]
     },
     "execution_count": 38,
     "metadata": {},
     "output_type": "execute_result"
    },
    {
     "data": {
      "image/png": "[encoded data removed]",
      "text/plain": [
       "<Figure size 432x288 with 2 Axes>"
      ]
     },
     "metadata": {
      "needs_background": "light"
     },
     "output_type": "display_data"
    }
   ],
   "source": [
    "ac = accuracy_score(Y_test,clf_rf.predict(X_test))\n",
    "print('Accuracy is: ', ac)\n",
    "\n",
    "# we get the true negative, false pos, false negative and true pos \n",
    "# we see the percentage of the represented data in each quadrant \n",
    "cm = confusion_matrix(Y_test,clf_rf.predict(X_test))\n",
    "sns.heatmap(cm/np.sum(cm),annot=True,fmt='.2%')"
   ]
  },
  {
   "cell_type": "code",
   "execution_count": null,
   "id": "050064ca-feaa-4858-9ebf-f9f5f8ce8cd3",
   "metadata": {},
   "outputs": [
    {
     "data": {
      "text/plain": [
       "<AxesSubplot:>"
      ]
     },
     "execution_count": 39,
     "metadata": {},
     "output_type": "execute_result"
    },
    {
     "data": {
      "image/png": "[encoded data removed]",
      "text/plain": [
       "<Figure size 432x288 with 2 Axes>"
      ]
     },
     "metadata": {
      "needs_background": "light"
     },
     "output_type": "display_data"
    }
   ],
   "source": [
    "group_names = [\"True Neg\", \"False Pos\", \"False Neg\", \"True Pos\"]\n",
    "group_counts = [\"{0:0.0f}\".format(value) for value in cm.flatten()]\n",
    "group_percentages = [\"{0:.2%}\".format(value) for value in cm.flatten()/np.sum(cm)]\n",
    "\n",
    "labels = [f\"{v1}\\n{v2}\\n{v3}\" for v1, v2, v3 in\n",
    "          zip(group_names,group_counts,group_percentages)]\n",
    "labels = np.asarray(labels).reshape(2,2)\n",
    "\n",
    "sns.heatmap(cm, annot=labels, fmt='', cmap='Blues')"
   ]
  },
  {
   "cell_type": "code",
   "execution_count": null,
   "id": "3e57fdba-f051-4524-9509-266fa3c69504",
   "metadata": {},
   "outputs": [],
   "source": [
    "# Get the predictions\n",
    "y_pred = clf_rf.predict(X_test)\n",
    "\n",
    "# Calculate the confusion matrix\n",
    "conf_matrix = confusion_matrix(y_true=Y_test, y_pred=y_pred)\n",
    "print()\n",
    "print(\"Summary: Random Forest with ChIP-seq\")\n",
    "print('Precision: %.3f' % precision_score(Y_test, y_pred))\n",
    "print('Accuracy: %.3f' % accuracy_score(Y_test, y_pred))\n",
    "print('F1 Score: %.3f' % f1_score(Y_test, y_pred))\n",
    "print('Recall: %.3f' % recall_score(Y_test, y_pred))\n",
    "print('Roc-score: %.3f' % roc_auc_score(Y_test, y_pred))"
   ]
  },
  {
   "cell_type": "markdown",
   "id": "025a03ec-ac5a-4cb6-ba4e-61f7e5cc1959",
   "metadata": {},
   "source": [
    "### SVM with ChIP-seq only"
   ]
  },
  {
   "cell_type": "code",
   "execution_count": null,
   "id": "3f9d3a56-3448-4fc3-8b2e-9f4897d78df3",
   "metadata": {},
   "outputs": [],
   "source": [
    "# define models and parameters\n",
    "model = sklearn.svm.SVC()\n",
    "kernel = ['linear', 'poly', 'rbf', 'sigmoid']\n",
    "gamma = ['scale', 'auto'] # for poly, rbf, sigmoid\n",
    "\n",
    "# define grid search\n",
    "grid = dict(kernel=kernel, gamma=gamma)\n",
    "cv = RepeatedStratifiedKFold(n_splits=3, n_repeats=3, random_state=1)\n",
    "grid_search = GridSearchCV(estimator=model, param_grid=grid, n_jobs=-1, cv=cv, scoring='accuracy', error_score=0)\n",
    "grid_result = grid_search.fit(X_train, Y_train)\n",
    "print(\"Best: %f using %s\" % (grid_result.best_score_, grid_result.best_params_))"
   ]
  },
  {
   "cell_type": "code",
   "execution_count": null,
   "id": "b0cf884d-d04d-443e-aefb-f08f19fbddcb",
   "metadata": {},
   "outputs": [],
   "source": [
    "clf_svm = sklearn.svm.SVC(kernel=grid_result.best_params_.get('kernel'), \n",
    "                  gamma=grid_result.best_params_.get('gamma'))     \n",
    "clf_svm.fit(X_train,Y_train)"
   ]
  },
  {
   "cell_type": "code",
   "execution_count": null,
   "id": "f2d1ef3b-a26d-4985-ae0a-fb992eec42a5",
   "metadata": {},
   "outputs": [],
   "source": [
    "ac = accuracy_score(Y_test,clf_svm.predict(X_test))\n",
    "print('Accuracy is: ', ac)\n",
    "\n",
    "# we get the true negative, false pos, false negative and true pos \n",
    "# we see the percentage of the represented data in each quadrant \n",
    "cm = confusion_matrix(Y_test, clf_svm.predict(X_test))\n",
    "sns.heatmap(cm/np.sum(cm),annot=True,fmt='.2%')"
   ]
  },
  {
   "cell_type": "code",
   "execution_count": null,
   "id": "eeb74e9d-6c90-4364-99e1-e0a23527baec",
   "metadata": {},
   "outputs": [],
   "source": [
    "group_names = [\"True Neg\", \"False Pos\", \"False Neg\", \"True Pos\"]\n",
    "group_counts = [\"{0:0.0f}\".format(value) for value in cm.flatten()]\n",
    "group_percentages = [\"{0:.2%}\".format(value) for value in cm.flatten()/np.sum(cm)]\n",
    "\n",
    "labels = [f\"{v1}\\n{v2}\\n{v3}\" for v1, v2, v3 in\n",
    "          zip(group_names, group_counts, group_percentages)]\n",
    "labels = np.asarray(labels).reshape(2,2)\n",
    "\n",
    "sns.heatmap(cm, annot=labels, fmt='', cmap='Blues')"
   ]
  },
  {
   "cell_type": "code",
   "execution_count": null,
   "id": "e6ed39d6-2b22-4704-aaae-d2e250502dbf",
   "metadata": {},
   "outputs": [],
   "source": [
    "# Get the predictions\n",
    "y_pred = clf_svm.predict(X_test)\n",
    "\n",
    "# Calculate the confusion matrix\n",
    "conf_matrix = confusion_matrix(y_true=Y_test, y_pred=y_pred)\n",
    "\n",
    "print(\"Summary: Support Vector Machine with ChIP-seq\")\n",
    "print('Precision: %.3f' % precision_score(Y_test, y_pred))\n",
    "print('Accuracy: %.3f' % accuracy_score(Y_test, y_pred))\n",
    "print('F1 Score: %.3f' % f1_score(Y_test, y_pred))\n",
    "print('Recall: %.3f' % recall_score(Y_test, y_pred))\n",
    "print('Roc-score: %.3f' % roc_auc_score(Y_test, y_pred))"
   ]
  },
  {
   "cell_type": "code",
   "execution_count": null,
   "id": "29c6c3cb-9e29-4cee-b2f4-0143d5ff95a8",
   "metadata": {},
   "outputs": [],
   "source": [
    "fpr_rf, tpr_rf, _ = roc_curve(Y_test, clf_rf.predict(X_test), pos_label=1)\n",
    "roc_auc_rf = auc(fpr_rf, tpr_rf)\n",
    "\n",
    "fpr_svm, tpr_svm, _ = roc_curve(Y_test, clf_svm.predict(X_test), pos_label=1)\n",
    "roc_auc_svm = auc(fpr_svm, tpr_svm)\n",
    "\n",
    "plt.figure()\n",
    "plt.plot(fpr_rf, tpr_rf, color=\"darkorange\", lw=2,\n",
    "         label=\"Random Forest (area = %0.2f)\" % roc_auc_rf)\n",
    "plt.plot(fpr_svm, tpr_svm, color=\"green\", lw=2,\n",
    "         label=\"SVM (area = %0.2f)\" % roc_auc_svm)\n",
    "plt.plot([0, 1], [0, 1], color=\"navy\", lw=2, linestyle=\"--\")\n",
    "plt.xlim([0.0, 1.0])\n",
    "plt.ylim([0.0, 1.0])\n",
    "plt.xlabel(\"False Positive Rate\")\n",
    "plt.ylabel(\"True Positive Rate\")\n",
    "plt.title(\"ROC curve for Random Forest and SVM\")\n",
    "plt.legend(loc=\"lower right\")\n",
    "plt.show()"
   ]
  }
 ],
 "metadata": {
  "kernelspec": {
   "display_name": "Python 3 (ipykernel)",
   "language": "python",
   "name": "python3"
  },
  "language_info": {
   "codemirror_mode": {
    "name": "ipython",
    "version": 3
   },
   "file_extension": ".py",
   "mimetype": "text/x-python",
   "name": "python",
   "nbconvert_exporter": "python",
   "pygments_lexer": "ipython3",
   "version": "3.9.13"
  },
  "vscode": {
   "interpreter": {
    "hash": "77efda19133223beae4d8202f64c0ed7ef77e02bd33099328534a5c00204ca3d"
   }
  }
 },
 "nbformat": 4,
 "nbformat_minor": 5
}
