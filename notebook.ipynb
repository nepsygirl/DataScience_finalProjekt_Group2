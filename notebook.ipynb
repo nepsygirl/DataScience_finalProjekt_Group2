{
 "cells": [
  {
   "cell_type": "markdown",
   "id": "6678a3bf-e7b9-4c41-aaa3-9a71d026376c",
   "metadata": {},
   "source": [
    "# Data Science | Final Project | Group 02\n",
    "\n",
    "## Identify epigenetic alterations associated with Alzheimer’s disease and classification of gene expressions between healthy and sick patients\n",
    "\n",
    "#### Carmen Calle Huerta, Christina Kirschbaum, Pushpa Koirala, Melika Moradi"
   ]
  },
  {
   "cell_type": "markdown",
   "id": "e7b47320-9337-494f-a0af-932f496c4ca3",
   "metadata": {},
   "source": [
    "## Our Project\n",
    "\n",
    "Alzheimer’s disease is the most prevalent kind of dementia and a fatal brain ailment. More study into this illness might lead to a better understanding of the condition and more effective treatment options. \n",
    "\n",
    "In this project, ChIP-seq data for H3K27ac, H3K9ac, H3K122ac and H3K4me1 as well as RNA-seq data from the from the lateral temporal lobe of the human brain for young healthy patients, old heathy patients and patients with Alzheimers disease will be analyzed and the differences between normal aging and cognitive impairment will be explored. The epigenomic or transcriptomic profiles will be analyzed to find relevant epigenetic alterations associated with the disease and help to better understand the molecular pathophysiology underlying.\n",
    "\n",
    "Afterwards, with Machine Learning models the presence and absence of Alzheimer’s disease based on the data. The models will be built with Support Vector Machines and Random Forest.\n",
    "\n",
    "Finally, the findings will be compared to them in related papers, we will look into relevant *in vivo* experiments with model organisms and use the Genome Browser to generate ChIP-seq tracks.\n",
    "\n",
    "For our project we were inspirated by the paper:\n",
    "Nativio R, Lan Y, Donahue G et al. [\"An integrated multi-omics approach identifies\n",
    "epigenetic alterations associated with Alzheimer’s disease.\"](https://www.ncbi.nlm.nih.gov/pmc/articles/PMC8098004/)\n",
    "\n",
    "The data is derived from GEO, [Series GSE153875](https://www.ncbi.nlm.nih.gov/geo/query/acc.cgi?acc=GSE153875), for the CHiP-seq data and the raw RNA-seq data [Series GSE159699](https://www.ncbi.nlm.nih.gov/Traces/study/?acc=PRJNA670209&o=acc_s%3Aa). "
   ]
  },
  {
   "cell_type": "markdown",
   "id": "2e7a13d3",
   "metadata": {},
   "source": [
    "## Import packages\n",
    "\n",
    "First, we import some of the most frequently used packages in Python. [NumPy](https://numpy.org/doc/stable/) for working with arrays, matrices and linear algebra, [pandas](https://pandas.pydata.org/docs/) for data analysis and manipulation, [matplotlib](https://matplotlib.org/) and [seaborn](https://seaborn.pydata.org/) for visualizations."
   ]
  },
  {
   "cell_type": "code",
   "execution_count": null,
   "id": "d313e8ca",
   "metadata": {},
   "outputs": [],
   "source": [
    "import numpy as np\n",
    "import pandas as pd\n",
    "import matplotlib.pyplot as plt\n",
    "import seaborn as sns"
   ]
  },
  {
   "cell_type": "markdown",
   "id": "a67bd37d-c0e3-41d2-98ec-f7d302110cf1",
   "metadata": {},
   "source": [
    "## Data Integration and Preprocessing RNA-seq\n",
    "\n",
    "In the next step, we import our RNA-seq data from the SubSeries GSE159699 of the SuperSeries GSE153875 with SRA-Toolkit and fastq-dump. To integrate this process into Python, the package subrocess is used."
   ]
  },
  {
   "cell_type": "code",
   "execution_count": 3,
   "id": "cf943bf2-5f35-439d-ade7-2116ab5aaa0e",
   "metadata": {},
   "outputs": [],
   "source": [
    "import subprocess\n",
    "\n",
    "# sra numbers from accession list of our RNA-seq data from SuperSeries GSE153875 / SubSeries GSE159699\n",
    "sra_numbers = [\n",
    "    \"SRR12850830\", \"SRR12850831\", \"SRR12850832\", \"SRR12850833\", \"SRR12850834\",\n",
    "    \"SRR12850835\", \"SRR12850836\", \"SRR12850837\", \"SRR12850838\", \"SRR12850839\",\n",
    "    \"SRR12850840\", \"SRR12850841\", \"SRR12850842\", \"SRR12850843\", \"SRR12850844\",\n",
    "    \"SRR12850845\", \"SRR12850846\", \"SRR12850847\", \"SRR12850848\", \"SRR12850849\",\n",
    "    \"SRR12850850\", \"SRR12850851\", \"SRR12850852\", \"SRR12850853\", \"SRR12850854\",\n",
    "    \"SRR12850855\", \"SRR12850856\", \"SRR12850857\", \"SRR12850858\", \"SRR12850859\"\n",
    "    ]"
   ]
  },
  {
   "cell_type": "code",
   "execution_count": null,
   "id": "d844c8bf-c638-4e31-85c2-6bb4b16ba761",
   "metadata": {
    "scrolled": true,
    "tags": []
   },
   "outputs": [],
   "source": [
    "# code from https://erilu.github.io/python-fastq-downloader/\n",
    "\n",
    "# this will download the .sra files to ~/ncbi/public/sra/ \n",
    "for sra_id in sra_numbers:\n",
    "    print (\"Currently downloading: \" + sra_id)\n",
    "    prefetch = \"prefetch \" + sra_id\n",
    "    print (\"The command used was: \" + prefetch)\n",
    "    subprocess.call(prefetch, shell=True)\n",
    "\n",
    "# this will extract the .sra files from above into a folder named 'fastq'\n",
    "for sra_id in sra_numbers:\n",
    "    print (\"Generating fastq for: \" + sra_id)\n",
    "    fastq_dump = \"fastq-dump --outdir fastq --gzip --skip-technical  --readids --read-filter pass --dumpbase --split-3 --clip ~/ncbi/public/sra/\" + sra_id + \".sra\"\n",
    "    print (\"The command used was: \" + fastq_dump)\n",
    "    subprocess.call(fastq_dump, shell=True)"
   ]
  },
  {
   "cell_type": "markdown",
   "id": "78a150c2-3234-4dad-a697-6288ee49256a",
   "metadata": {},
   "source": [
    "## Data Integration for ChIP-seq\n",
    "\n",
    "The .bed and .bw files for the ChIP-seq data were downloaded. They are available as supplementary files of the SuperSeries GSE153875 from GEO. We split them into folders for H3K27ac, H3K9ac, H3K122ac and H3K4me1 (and peaks) to get smaller sets."
   ]
  },
  {
   "cell_type": "code",
   "execution_count": null,
   "id": "6e548718-125b-49d6-92cc-4b3a11b97248",
   "metadata": {},
   "outputs": [],
   "source": [
    "# The following code can get the metadata (if needed) for the ChIP-seq data with the library GEOparse (similar to GEOquery).\n",
    "import GEOparse\n",
    "\n",
    "gse = GEOparse.get_GEO(geo=\"GSE153875\", destdir=\"./\")"
   ]
  },
  {
   "cell_type": "code",
   "execution_count": null,
   "id": "e548f025-56f7-4b10-8776-fa3f6f29742a",
   "metadata": {},
   "outputs": [],
   "source": [
    "# prints the metadata for the first sample\n",
    "for gsm_name, gsm in gse.gsms.items():\n",
    "    print(\"Name: \", gsm_name)\n",
    "    print(\"Metadata:\",)\n",
    "    for key, value in gsm.metadata.items():\n",
    "        print(\" - %s : %s\" % (key, \", \".join(value)))\n",
    "    break"
   ]
  },
  {
   "cell_type": "markdown",
   "id": "d84557ac-8979-413f-b64e-b8b20fe0b3bb",
   "metadata": {},
   "source": [
    "## Quality Control RNA-seq\n",
    "\n",
    "### FastQC\n",
    "\n",
    "For the Quality Control of the RNA-seq data, [FastQC](https://www.bioinformatics.babraham.ac.uk/projects/fastqc/) was downloaded and reports were generated for every sequence. The reports can be found in the repository in the folder MultiQC_RNA."
   ]
  },
  {
   "cell_type": "code",
   "execution_count": 1,
   "id": "0b427ad5-0d72-4c4a-9e5f-c35f538d7375",
   "metadata": {},
   "outputs": [],
   "source": [
    "import subprocess\n",
    "\n",
    "path = \"/mnt/c/Users/Christina/Documents/GitHub/DataScience_finalProjekt_Group2/data/\"\n",
    "path_genomeDir = \"/mnt/c/Users/Christina/Documents/GitHub/DataScience_finalProjekt_Group2/GenomeDir/\"\n",
    "path_fastq = \"/mnt/c/Users/Christina/Documents/GitHub/DataScience_finalProjekt_Group2/data/fastq/\""
   ]
  },
  {
   "cell_type": "code",
   "execution_count": null,
   "id": "b371367f-3c35-445e-8b69-56d614419b58",
   "metadata": {},
   "outputs": [],
   "source": [
    "# unzip data\n",
    "for fastq in sra_numbers:\n",
    "    gunzip = \"gunzip \" + path_fastq + fastq + \"_pass.fastq.gz\"\n",
    "    subprocess.call(gunzip, shell=True)"
   ]
  },
  {
   "cell_type": "code",
   "execution_count": 5,
   "id": "1e66c3ed-eda3-4485-8a23-3d1702658898",
   "metadata": {},
   "outputs": [
    {
     "name": "stderr",
     "output_type": "stream",
     "text": [
      "Unknown option: readfilesin\n",
      "Started analysis of SRR12850830_pass.fastq\n",
      "Approx 5% complete for SRR12850830_pass.fastq\n",
      "Approx 10% complete for SRR12850830_pass.fastq\n",
      "Approx 15% complete for SRR12850830_pass.fastq\n",
      "Approx 20% complete for SRR12850830_pass.fastq\n",
      "Approx 25% complete for SRR12850830_pass.fastq\n",
      "Approx 30% complete for SRR12850830_pass.fastq\n",
      "Approx 35% complete for SRR12850830_pass.fastq\n",
      "Approx 40% complete for SRR12850830_pass.fastq\n",
      "Approx 45% complete for SRR12850830_pass.fastq\n",
      "Approx 50% complete for SRR12850830_pass.fastq\n",
      "Approx 55% complete for SRR12850830_pass.fastq\n",
      "Approx 60% complete for SRR12850830_pass.fastq\n",
      "Approx 65% complete for SRR12850830_pass.fastq\n",
      "Approx 70% complete for SRR12850830_pass.fastq\n",
      "Approx 75% complete for SRR12850830_pass.fastq\n",
      "Approx 80% complete for SRR12850830_pass.fastq\n",
      "Approx 85% complete for SRR12850830_pass.fastq\n",
      "Approx 90% complete for SRR12850830_pass.fastq\n",
      "Approx 95% complete for SRR12850830_pass.fastq\n"
     ]
    },
    {
     "name": "stdout",
     "output_type": "stream",
     "text": [
      "Analysis complete for SRR12850830_pass.fastq\n"
     ]
    },
    {
     "name": "stderr",
     "output_type": "stream",
     "text": [
      "Unknown option: readfilesin\n",
      "Started analysis of SRR12850831_pass.fastq\n",
      "Approx 5% complete for SRR12850831_pass.fastq\n",
      "Approx 10% complete for SRR12850831_pass.fastq\n",
      "Approx 15% complete for SRR12850831_pass.fastq\n",
      "Approx 20% complete for SRR12850831_pass.fastq\n",
      "Approx 25% complete for SRR12850831_pass.fastq\n",
      "Approx 30% complete for SRR12850831_pass.fastq\n",
      "Approx 35% complete for SRR12850831_pass.fastq\n",
      "Approx 40% complete for SRR12850831_pass.fastq\n",
      "Approx 45% complete for SRR12850831_pass.fastq\n",
      "Approx 50% complete for SRR12850831_pass.fastq\n",
      "Approx 55% complete for SRR12850831_pass.fastq\n",
      "Approx 60% complete for SRR12850831_pass.fastq\n",
      "Approx 65% complete for SRR12850831_pass.fastq\n",
      "Approx 70% complete for SRR12850831_pass.fastq\n",
      "Approx 75% complete for SRR12850831_pass.fastq\n",
      "Approx 80% complete for SRR12850831_pass.fastq\n",
      "Approx 85% complete for SRR12850831_pass.fastq\n",
      "Approx 90% complete for SRR12850831_pass.fastq\n",
      "Approx 95% complete for SRR12850831_pass.fastq\n"
     ]
    },
    {
     "name": "stdout",
     "output_type": "stream",
     "text": [
      "Analysis complete for SRR12850831_pass.fastq\n"
     ]
    },
    {
     "name": "stderr",
     "output_type": "stream",
     "text": [
      "Unknown option: readfilesin\n",
      "Started analysis of SRR12850832_pass.fastq\n",
      "Approx 5% complete for SRR12850832_pass.fastq\n",
      "Approx 10% complete for SRR12850832_pass.fastq\n",
      "Approx 15% complete for SRR12850832_pass.fastq\n",
      "Approx 20% complete for SRR12850832_pass.fastq\n",
      "Approx 25% complete for SRR12850832_pass.fastq\n",
      "Approx 30% complete for SRR12850832_pass.fastq\n",
      "Approx 35% complete for SRR12850832_pass.fastq\n",
      "Approx 40% complete for SRR12850832_pass.fastq\n",
      "Approx 45% complete for SRR12850832_pass.fastq\n",
      "Approx 50% complete for SRR12850832_pass.fastq\n",
      "Approx 55% complete for SRR12850832_pass.fastq\n",
      "Approx 60% complete for SRR12850832_pass.fastq\n",
      "Approx 65% complete for SRR12850832_pass.fastq\n",
      "Approx 70% complete for SRR12850832_pass.fastq\n",
      "Approx 75% complete for SRR12850832_pass.fastq\n",
      "Approx 80% complete for SRR12850832_pass.fastq\n",
      "Approx 85% complete for SRR12850832_pass.fastq\n",
      "Approx 90% complete for SRR12850832_pass.fastq\n",
      "Approx 95% complete for SRR12850832_pass.fastq\n"
     ]
    },
    {
     "name": "stdout",
     "output_type": "stream",
     "text": [
      "Analysis complete for SRR12850832_pass.fastq\n"
     ]
    },
    {
     "name": "stderr",
     "output_type": "stream",
     "text": [
      "Unknown option: readfilesin\n",
      "Started analysis of SRR12850833_pass.fastq\n",
      "Approx 5% complete for SRR12850833_pass.fastq\n",
      "Approx 10% complete for SRR12850833_pass.fastq\n",
      "Approx 15% complete for SRR12850833_pass.fastq\n",
      "Approx 20% complete for SRR12850833_pass.fastq\n",
      "Approx 25% complete for SRR12850833_pass.fastq\n",
      "Approx 30% complete for SRR12850833_pass.fastq\n",
      "Approx 35% complete for SRR12850833_pass.fastq\n",
      "Approx 40% complete for SRR12850833_pass.fastq\n",
      "Approx 45% complete for SRR12850833_pass.fastq\n",
      "Approx 50% complete for SRR12850833_pass.fastq\n",
      "Approx 55% complete for SRR12850833_pass.fastq\n",
      "Approx 60% complete for SRR12850833_pass.fastq\n",
      "Approx 65% complete for SRR12850833_pass.fastq\n",
      "Approx 70% complete for SRR12850833_pass.fastq\n",
      "Approx 75% complete for SRR12850833_pass.fastq\n",
      "Approx 80% complete for SRR12850833_pass.fastq\n",
      "Approx 85% complete for SRR12850833_pass.fastq\n",
      "Approx 90% complete for SRR12850833_pass.fastq\n",
      "Approx 95% complete for SRR12850833_pass.fastq\n"
     ]
    },
    {
     "name": "stdout",
     "output_type": "stream",
     "text": [
      "Analysis complete for SRR12850833_pass.fastq\n"
     ]
    },
    {
     "name": "stderr",
     "output_type": "stream",
     "text": [
      "Unknown option: readfilesin\n",
      "Started analysis of SRR12850834_pass.fastq\n",
      "Approx 5% complete for SRR12850834_pass.fastq\n",
      "Approx 10% complete for SRR12850834_pass.fastq\n",
      "Approx 15% complete for SRR12850834_pass.fastq\n",
      "Approx 20% complete for SRR12850834_pass.fastq\n",
      "Approx 25% complete for SRR12850834_pass.fastq\n",
      "Approx 30% complete for SRR12850834_pass.fastq\n",
      "Approx 35% complete for SRR12850834_pass.fastq\n",
      "Approx 40% complete for SRR12850834_pass.fastq\n",
      "Approx 45% complete for SRR12850834_pass.fastq\n",
      "Approx 50% complete for SRR12850834_pass.fastq\n",
      "Approx 55% complete for SRR12850834_pass.fastq\n",
      "Approx 60% complete for SRR12850834_pass.fastq\n",
      "Approx 65% complete for SRR12850834_pass.fastq\n",
      "Approx 70% complete for SRR12850834_pass.fastq\n",
      "Approx 75% complete for SRR12850834_pass.fastq\n",
      "Approx 80% complete for SRR12850834_pass.fastq\n",
      "Approx 85% complete for SRR12850834_pass.fastq\n",
      "Approx 90% complete for SRR12850834_pass.fastq\n",
      "Approx 95% complete for SRR12850834_pass.fastq\n"
     ]
    },
    {
     "name": "stdout",
     "output_type": "stream",
     "text": [
      "Analysis complete for SRR12850834_pass.fastq\n"
     ]
    },
    {
     "name": "stderr",
     "output_type": "stream",
     "text": [
      "Unknown option: readfilesin\n",
      "Started analysis of SRR12850835_pass.fastq\n",
      "Approx 5% complete for SRR12850835_pass.fastq\n",
      "Approx 10% complete for SRR12850835_pass.fastq\n",
      "Approx 15% complete for SRR12850835_pass.fastq\n",
      "Approx 20% complete for SRR12850835_pass.fastq\n",
      "Approx 25% complete for SRR12850835_pass.fastq\n",
      "Approx 30% complete for SRR12850835_pass.fastq\n",
      "Approx 35% complete for SRR12850835_pass.fastq\n",
      "Approx 40% complete for SRR12850835_pass.fastq\n",
      "Approx 45% complete for SRR12850835_pass.fastq\n",
      "Approx 50% complete for SRR12850835_pass.fastq\n",
      "Approx 55% complete for SRR12850835_pass.fastq\n",
      "Approx 60% complete for SRR12850835_pass.fastq\n",
      "Approx 65% complete for SRR12850835_pass.fastq\n",
      "Approx 70% complete for SRR12850835_pass.fastq\n",
      "Approx 75% complete for SRR12850835_pass.fastq\n",
      "Approx 80% complete for SRR12850835_pass.fastq\n",
      "Approx 85% complete for SRR12850835_pass.fastq\n",
      "Approx 90% complete for SRR12850835_pass.fastq\n",
      "Approx 95% complete for SRR12850835_pass.fastq\n"
     ]
    },
    {
     "name": "stdout",
     "output_type": "stream",
     "text": [
      "Analysis complete for SRR12850835_pass.fastq\n"
     ]
    },
    {
     "name": "stderr",
     "output_type": "stream",
     "text": [
      "Unknown option: readfilesin\n",
      "Started analysis of SRR12850836_pass.fastq\n",
      "Approx 5% complete for SRR12850836_pass.fastq\n",
      "Approx 10% complete for SRR12850836_pass.fastq\n",
      "Approx 15% complete for SRR12850836_pass.fastq\n",
      "Approx 20% complete for SRR12850836_pass.fastq\n",
      "Approx 25% complete for SRR12850836_pass.fastq\n",
      "Approx 30% complete for SRR12850836_pass.fastq\n",
      "Approx 35% complete for SRR12850836_pass.fastq\n",
      "Approx 40% complete for SRR12850836_pass.fastq\n",
      "Approx 45% complete for SRR12850836_pass.fastq\n",
      "Approx 50% complete for SRR12850836_pass.fastq\n",
      "Approx 55% complete for SRR12850836_pass.fastq\n",
      "Approx 60% complete for SRR12850836_pass.fastq\n",
      "Approx 65% complete for SRR12850836_pass.fastq\n",
      "Approx 70% complete for SRR12850836_pass.fastq\n",
      "Approx 75% complete for SRR12850836_pass.fastq\n",
      "Approx 80% complete for SRR12850836_pass.fastq\n",
      "Approx 85% complete for SRR12850836_pass.fastq\n",
      "Approx 90% complete for SRR12850836_pass.fastq\n",
      "Approx 95% complete for SRR12850836_pass.fastq\n"
     ]
    },
    {
     "name": "stdout",
     "output_type": "stream",
     "text": [
      "Analysis complete for SRR12850836_pass.fastq\n"
     ]
    },
    {
     "name": "stderr",
     "output_type": "stream",
     "text": [
      "Unknown option: readfilesin\n",
      "Started analysis of SRR12850837_pass.fastq\n",
      "Approx 5% complete for SRR12850837_pass.fastq\n",
      "Approx 10% complete for SRR12850837_pass.fastq\n",
      "Approx 15% complete for SRR12850837_pass.fastq\n",
      "Approx 20% complete for SRR12850837_pass.fastq\n",
      "Approx 25% complete for SRR12850837_pass.fastq\n",
      "Approx 30% complete for SRR12850837_pass.fastq\n",
      "Approx 35% complete for SRR12850837_pass.fastq\n",
      "Approx 40% complete for SRR12850837_pass.fastq\n",
      "Approx 45% complete for SRR12850837_pass.fastq\n",
      "Approx 50% complete for SRR12850837_pass.fastq\n",
      "Approx 55% complete for SRR12850837_pass.fastq\n",
      "Approx 60% complete for SRR12850837_pass.fastq\n",
      "Approx 65% complete for SRR12850837_pass.fastq\n",
      "Approx 70% complete for SRR12850837_pass.fastq\n",
      "Approx 75% complete for SRR12850837_pass.fastq\n",
      "Approx 80% complete for SRR12850837_pass.fastq\n",
      "Approx 85% complete for SRR12850837_pass.fastq\n",
      "Approx 90% complete for SRR12850837_pass.fastq\n",
      "Approx 95% complete for SRR12850837_pass.fastq\n"
     ]
    },
    {
     "name": "stdout",
     "output_type": "stream",
     "text": [
      "Analysis complete for SRR12850837_pass.fastq\n"
     ]
    },
    {
     "name": "stderr",
     "output_type": "stream",
     "text": [
      "Unknown option: readfilesin\n",
      "Started analysis of SRR12850838_pass.fastq\n",
      "Approx 5% complete for SRR12850838_pass.fastq\n",
      "Approx 10% complete for SRR12850838_pass.fastq\n",
      "Approx 15% complete for SRR12850838_pass.fastq\n",
      "Approx 20% complete for SRR12850838_pass.fastq\n",
      "Approx 25% complete for SRR12850838_pass.fastq\n",
      "Approx 30% complete for SRR12850838_pass.fastq\n",
      "Approx 35% complete for SRR12850838_pass.fastq\n",
      "Approx 40% complete for SRR12850838_pass.fastq\n",
      "Approx 45% complete for SRR12850838_pass.fastq\n",
      "Approx 50% complete for SRR12850838_pass.fastq\n",
      "Approx 55% complete for SRR12850838_pass.fastq\n",
      "Approx 60% complete for SRR12850838_pass.fastq\n",
      "Approx 65% complete for SRR12850838_pass.fastq\n",
      "Approx 70% complete for SRR12850838_pass.fastq\n",
      "Approx 75% complete for SRR12850838_pass.fastq\n",
      "Approx 80% complete for SRR12850838_pass.fastq\n",
      "Approx 85% complete for SRR12850838_pass.fastq\n",
      "Approx 90% complete for SRR12850838_pass.fastq\n",
      "Approx 95% complete for SRR12850838_pass.fastq\n"
     ]
    },
    {
     "name": "stdout",
     "output_type": "stream",
     "text": [
      "Analysis complete for SRR12850838_pass.fastq\n"
     ]
    },
    {
     "name": "stderr",
     "output_type": "stream",
     "text": [
      "Unknown option: readfilesin\n",
      "Started analysis of SRR12850839_pass.fastq\n",
      "Approx 5% complete for SRR12850839_pass.fastq\n",
      "Approx 10% complete for SRR12850839_pass.fastq\n",
      "Approx 15% complete for SRR12850839_pass.fastq\n",
      "Approx 20% complete for SRR12850839_pass.fastq\n",
      "Approx 25% complete for SRR12850839_pass.fastq\n",
      "Approx 30% complete for SRR12850839_pass.fastq\n",
      "Approx 35% complete for SRR12850839_pass.fastq\n",
      "Approx 40% complete for SRR12850839_pass.fastq\n",
      "Approx 45% complete for SRR12850839_pass.fastq\n",
      "Approx 50% complete for SRR12850839_pass.fastq\n",
      "Approx 55% complete for SRR12850839_pass.fastq\n",
      "Approx 60% complete for SRR12850839_pass.fastq\n",
      "Approx 65% complete for SRR12850839_pass.fastq\n",
      "Approx 70% complete for SRR12850839_pass.fastq\n",
      "Approx 75% complete for SRR12850839_pass.fastq\n",
      "Approx 80% complete for SRR12850839_pass.fastq\n",
      "Approx 85% complete for SRR12850839_pass.fastq\n",
      "Approx 90% complete for SRR12850839_pass.fastq\n",
      "Approx 95% complete for SRR12850839_pass.fastq\n"
     ]
    },
    {
     "name": "stdout",
     "output_type": "stream",
     "text": [
      "Analysis complete for SRR12850839_pass.fastq\n"
     ]
    },
    {
     "name": "stderr",
     "output_type": "stream",
     "text": [
      "Unknown option: readfilesin\n",
      "Started analysis of SRR12850840_pass.fastq\n",
      "Approx 5% complete for SRR12850840_pass.fastq\n",
      "Approx 10% complete for SRR12850840_pass.fastq\n",
      "Approx 15% complete for SRR12850840_pass.fastq\n",
      "Approx 20% complete for SRR12850840_pass.fastq\n",
      "Approx 25% complete for SRR12850840_pass.fastq\n",
      "Approx 30% complete for SRR12850840_pass.fastq\n",
      "Approx 35% complete for SRR12850840_pass.fastq\n",
      "Approx 40% complete for SRR12850840_pass.fastq\n",
      "Approx 45% complete for SRR12850840_pass.fastq\n",
      "Approx 50% complete for SRR12850840_pass.fastq\n",
      "Approx 55% complete for SRR12850840_pass.fastq\n",
      "Approx 60% complete for SRR12850840_pass.fastq\n",
      "Approx 65% complete for SRR12850840_pass.fastq\n",
      "Approx 70% complete for SRR12850840_pass.fastq\n",
      "Approx 75% complete for SRR12850840_pass.fastq\n",
      "Approx 80% complete for SRR12850840_pass.fastq\n",
      "Approx 85% complete for SRR12850840_pass.fastq\n",
      "Approx 90% complete for SRR12850840_pass.fastq\n",
      "Approx 95% complete for SRR12850840_pass.fastq\n"
     ]
    },
    {
     "name": "stdout",
     "output_type": "stream",
     "text": [
      "Analysis complete for SRR12850840_pass.fastq\n"
     ]
    },
    {
     "name": "stderr",
     "output_type": "stream",
     "text": [
      "Unknown option: readfilesin\n",
      "Started analysis of SRR12850841_pass.fastq\n",
      "Approx 5% complete for SRR12850841_pass.fastq\n",
      "Approx 10% complete for SRR12850841_pass.fastq\n",
      "Approx 15% complete for SRR12850841_pass.fastq\n",
      "Approx 20% complete for SRR12850841_pass.fastq\n",
      "Approx 25% complete for SRR12850841_pass.fastq\n",
      "Approx 30% complete for SRR12850841_pass.fastq\n",
      "Approx 35% complete for SRR12850841_pass.fastq\n",
      "Approx 40% complete for SRR12850841_pass.fastq\n",
      "Approx 45% complete for SRR12850841_pass.fastq\n",
      "Approx 50% complete for SRR12850841_pass.fastq\n",
      "Approx 55% complete for SRR12850841_pass.fastq\n",
      "Approx 60% complete for SRR12850841_pass.fastq\n",
      "Approx 65% complete for SRR12850841_pass.fastq\n",
      "Approx 70% complete for SRR12850841_pass.fastq\n",
      "Approx 75% complete for SRR12850841_pass.fastq\n",
      "Approx 80% complete for SRR12850841_pass.fastq\n",
      "Approx 85% complete for SRR12850841_pass.fastq\n",
      "Approx 90% complete for SRR12850841_pass.fastq\n",
      "Approx 95% complete for SRR12850841_pass.fastq\n"
     ]
    },
    {
     "name": "stdout",
     "output_type": "stream",
     "text": [
      "Analysis complete for SRR12850841_pass.fastq\n"
     ]
    },
    {
     "name": "stderr",
     "output_type": "stream",
     "text": [
      "Unknown option: readfilesin\n",
      "Started analysis of SRR12850842_pass.fastq\n",
      "Approx 5% complete for SRR12850842_pass.fastq\n",
      "Approx 10% complete for SRR12850842_pass.fastq\n",
      "Approx 15% complete for SRR12850842_pass.fastq\n",
      "Approx 20% complete for SRR12850842_pass.fastq\n",
      "Approx 25% complete for SRR12850842_pass.fastq\n",
      "Approx 30% complete for SRR12850842_pass.fastq\n",
      "Approx 35% complete for SRR12850842_pass.fastq\n",
      "Approx 40% complete for SRR12850842_pass.fastq\n",
      "Approx 45% complete for SRR12850842_pass.fastq\n",
      "Approx 50% complete for SRR12850842_pass.fastq\n",
      "Approx 55% complete for SRR12850842_pass.fastq\n",
      "Approx 60% complete for SRR12850842_pass.fastq\n",
      "Approx 65% complete for SRR12850842_pass.fastq\n",
      "Approx 70% complete for SRR12850842_pass.fastq\n",
      "Approx 75% complete for SRR12850842_pass.fastq\n",
      "Approx 80% complete for SRR12850842_pass.fastq\n",
      "Approx 85% complete for SRR12850842_pass.fastq\n",
      "Approx 90% complete for SRR12850842_pass.fastq\n",
      "Approx 95% complete for SRR12850842_pass.fastq\n"
     ]
    },
    {
     "name": "stdout",
     "output_type": "stream",
     "text": [
      "Analysis complete for SRR12850842_pass.fastq\n"
     ]
    },
    {
     "name": "stderr",
     "output_type": "stream",
     "text": [
      "Unknown option: readfilesin\n",
      "Started analysis of SRR12850843_pass.fastq\n",
      "Approx 5% complete for SRR12850843_pass.fastq\n",
      "Approx 10% complete for SRR12850843_pass.fastq\n",
      "Approx 15% complete for SRR12850843_pass.fastq\n",
      "Approx 20% complete for SRR12850843_pass.fastq\n",
      "Approx 25% complete for SRR12850843_pass.fastq\n",
      "Approx 30% complete for SRR12850843_pass.fastq\n",
      "Approx 35% complete for SRR12850843_pass.fastq\n",
      "Approx 40% complete for SRR12850843_pass.fastq\n",
      "Approx 45% complete for SRR12850843_pass.fastq\n",
      "Approx 50% complete for SRR12850843_pass.fastq\n",
      "Approx 55% complete for SRR12850843_pass.fastq\n",
      "Approx 60% complete for SRR12850843_pass.fastq\n",
      "Approx 65% complete for SRR12850843_pass.fastq\n",
      "Approx 70% complete for SRR12850843_pass.fastq\n",
      "Approx 75% complete for SRR12850843_pass.fastq\n",
      "Approx 80% complete for SRR12850843_pass.fastq\n",
      "Approx 85% complete for SRR12850843_pass.fastq\n",
      "Approx 90% complete for SRR12850843_pass.fastq\n",
      "Approx 95% complete for SRR12850843_pass.fastq\n"
     ]
    },
    {
     "name": "stdout",
     "output_type": "stream",
     "text": [
      "Analysis complete for SRR12850843_pass.fastq\n"
     ]
    },
    {
     "name": "stderr",
     "output_type": "stream",
     "text": [
      "Unknown option: readfilesin\n",
      "Started analysis of SRR12850844_pass.fastq\n",
      "Approx 5% complete for SRR12850844_pass.fastq\n",
      "Approx 10% complete for SRR12850844_pass.fastq\n",
      "Approx 15% complete for SRR12850844_pass.fastq\n",
      "Approx 20% complete for SRR12850844_pass.fastq\n",
      "Approx 25% complete for SRR12850844_pass.fastq\n",
      "Approx 30% complete for SRR12850844_pass.fastq\n",
      "Approx 35% complete for SRR12850844_pass.fastq\n",
      "Approx 40% complete for SRR12850844_pass.fastq\n",
      "Approx 45% complete for SRR12850844_pass.fastq\n",
      "Approx 50% complete for SRR12850844_pass.fastq\n",
      "Approx 55% complete for SRR12850844_pass.fastq\n",
      "Approx 60% complete for SRR12850844_pass.fastq\n",
      "Approx 65% complete for SRR12850844_pass.fastq\n",
      "Approx 70% complete for SRR12850844_pass.fastq\n",
      "Approx 75% complete for SRR12850844_pass.fastq\n",
      "Approx 80% complete for SRR12850844_pass.fastq\n",
      "Approx 85% complete for SRR12850844_pass.fastq\n",
      "Approx 90% complete for SRR12850844_pass.fastq\n",
      "Approx 95% complete for SRR12850844_pass.fastq\n"
     ]
    },
    {
     "name": "stdout",
     "output_type": "stream",
     "text": [
      "Analysis complete for SRR12850844_pass.fastq\n"
     ]
    },
    {
     "name": "stderr",
     "output_type": "stream",
     "text": [
      "Unknown option: readfilesin\n",
      "Started analysis of SRR12850845_pass.fastq\n",
      "Approx 5% complete for SRR12850845_pass.fastq\n",
      "Approx 10% complete for SRR12850845_pass.fastq\n",
      "Approx 15% complete for SRR12850845_pass.fastq\n",
      "Approx 20% complete for SRR12850845_pass.fastq\n",
      "Approx 25% complete for SRR12850845_pass.fastq\n",
      "Approx 30% complete for SRR12850845_pass.fastq\n",
      "Approx 35% complete for SRR12850845_pass.fastq\n",
      "Approx 40% complete for SRR12850845_pass.fastq\n",
      "Approx 45% complete for SRR12850845_pass.fastq\n",
      "Approx 50% complete for SRR12850845_pass.fastq\n",
      "Approx 55% complete for SRR12850845_pass.fastq\n",
      "Approx 60% complete for SRR12850845_pass.fastq\n",
      "Approx 65% complete for SRR12850845_pass.fastq\n",
      "Approx 70% complete for SRR12850845_pass.fastq\n",
      "Approx 75% complete for SRR12850845_pass.fastq\n",
      "Approx 80% complete for SRR12850845_pass.fastq\n",
      "Approx 85% complete for SRR12850845_pass.fastq\n",
      "Approx 90% complete for SRR12850845_pass.fastq\n",
      "Approx 95% complete for SRR12850845_pass.fastq\n"
     ]
    },
    {
     "name": "stdout",
     "output_type": "stream",
     "text": [
      "Analysis complete for SRR12850845_pass.fastq\n"
     ]
    },
    {
     "name": "stderr",
     "output_type": "stream",
     "text": [
      "Unknown option: readfilesin\n",
      "Started analysis of SRR12850846_pass.fastq\n",
      "Approx 5% complete for SRR12850846_pass.fastq\n",
      "Approx 10% complete for SRR12850846_pass.fastq\n",
      "Approx 15% complete for SRR12850846_pass.fastq\n",
      "Approx 20% complete for SRR12850846_pass.fastq\n",
      "Approx 25% complete for SRR12850846_pass.fastq\n",
      "Approx 30% complete for SRR12850846_pass.fastq\n",
      "Approx 35% complete for SRR12850846_pass.fastq\n",
      "Approx 40% complete for SRR12850846_pass.fastq\n",
      "Approx 45% complete for SRR12850846_pass.fastq\n",
      "Approx 50% complete for SRR12850846_pass.fastq\n",
      "Approx 55% complete for SRR12850846_pass.fastq\n",
      "Approx 60% complete for SRR12850846_pass.fastq\n",
      "Approx 65% complete for SRR12850846_pass.fastq\n",
      "Approx 70% complete for SRR12850846_pass.fastq\n",
      "Approx 75% complete for SRR12850846_pass.fastq\n",
      "Approx 80% complete for SRR12850846_pass.fastq\n",
      "Approx 85% complete for SRR12850846_pass.fastq\n",
      "Approx 90% complete for SRR12850846_pass.fastq\n",
      "Approx 95% complete for SRR12850846_pass.fastq\n"
     ]
    },
    {
     "name": "stdout",
     "output_type": "stream",
     "text": [
      "Analysis complete for SRR12850846_pass.fastq\n"
     ]
    },
    {
     "name": "stderr",
     "output_type": "stream",
     "text": [
      "Unknown option: readfilesin\n",
      "Started analysis of SRR12850847_pass.fastq\n",
      "Approx 5% complete for SRR12850847_pass.fastq\n",
      "Approx 10% complete for SRR12850847_pass.fastq\n",
      "Approx 15% complete for SRR12850847_pass.fastq\n",
      "Approx 20% complete for SRR12850847_pass.fastq\n",
      "Approx 25% complete for SRR12850847_pass.fastq\n",
      "Approx 30% complete for SRR12850847_pass.fastq\n",
      "Approx 35% complete for SRR12850847_pass.fastq\n",
      "Approx 40% complete for SRR12850847_pass.fastq\n",
      "Approx 45% complete for SRR12850847_pass.fastq\n",
      "Approx 50% complete for SRR12850847_pass.fastq\n",
      "Approx 55% complete for SRR12850847_pass.fastq\n",
      "Approx 60% complete for SRR12850847_pass.fastq\n",
      "Approx 65% complete for SRR12850847_pass.fastq\n",
      "Approx 70% complete for SRR12850847_pass.fastq\n",
      "Approx 75% complete for SRR12850847_pass.fastq\n",
      "Approx 80% complete for SRR12850847_pass.fastq\n",
      "Approx 85% complete for SRR12850847_pass.fastq\n",
      "Approx 90% complete for SRR12850847_pass.fastq\n",
      "Approx 95% complete for SRR12850847_pass.fastq\n"
     ]
    },
    {
     "name": "stdout",
     "output_type": "stream",
     "text": [
      "Analysis complete for SRR12850847_pass.fastq\n"
     ]
    },
    {
     "name": "stderr",
     "output_type": "stream",
     "text": [
      "Unknown option: readfilesin\n",
      "Started analysis of SRR12850848_pass.fastq\n",
      "Approx 5% complete for SRR12850848_pass.fastq\n",
      "Approx 10% complete for SRR12850848_pass.fastq\n",
      "Approx 15% complete for SRR12850848_pass.fastq\n",
      "Approx 20% complete for SRR12850848_pass.fastq\n",
      "Approx 25% complete for SRR12850848_pass.fastq\n",
      "Approx 30% complete for SRR12850848_pass.fastq\n",
      "Approx 35% complete for SRR12850848_pass.fastq\n",
      "Approx 40% complete for SRR12850848_pass.fastq\n",
      "Approx 45% complete for SRR12850848_pass.fastq\n",
      "Approx 50% complete for SRR12850848_pass.fastq\n",
      "Approx 55% complete for SRR12850848_pass.fastq\n",
      "Approx 60% complete for SRR12850848_pass.fastq\n",
      "Approx 65% complete for SRR12850848_pass.fastq\n",
      "Approx 70% complete for SRR12850848_pass.fastq\n",
      "Approx 75% complete for SRR12850848_pass.fastq\n",
      "Approx 80% complete for SRR12850848_pass.fastq\n",
      "Approx 85% complete for SRR12850848_pass.fastq\n",
      "Approx 90% complete for SRR12850848_pass.fastq\n",
      "Approx 95% complete for SRR12850848_pass.fastq\n"
     ]
    },
    {
     "name": "stdout",
     "output_type": "stream",
     "text": [
      "Analysis complete for SRR12850848_pass.fastq\n"
     ]
    },
    {
     "name": "stderr",
     "output_type": "stream",
     "text": [
      "Unknown option: readfilesin\n",
      "Started analysis of SRR12850849_pass.fastq\n",
      "Approx 5% complete for SRR12850849_pass.fastq\n",
      "Approx 10% complete for SRR12850849_pass.fastq\n",
      "Approx 15% complete for SRR12850849_pass.fastq\n",
      "Approx 20% complete for SRR12850849_pass.fastq\n",
      "Approx 25% complete for SRR12850849_pass.fastq\n",
      "Approx 30% complete for SRR12850849_pass.fastq\n",
      "Approx 35% complete for SRR12850849_pass.fastq\n",
      "Approx 40% complete for SRR12850849_pass.fastq\n",
      "Approx 45% complete for SRR12850849_pass.fastq\n",
      "Approx 50% complete for SRR12850849_pass.fastq\n",
      "Approx 55% complete for SRR12850849_pass.fastq\n",
      "Approx 60% complete for SRR12850849_pass.fastq\n",
      "Approx 65% complete for SRR12850849_pass.fastq\n",
      "Approx 70% complete for SRR12850849_pass.fastq\n",
      "Approx 75% complete for SRR12850849_pass.fastq\n",
      "Approx 80% complete for SRR12850849_pass.fastq\n",
      "Approx 85% complete for SRR12850849_pass.fastq\n",
      "Approx 90% complete for SRR12850849_pass.fastq\n",
      "Approx 95% complete for SRR12850849_pass.fastq\n"
     ]
    },
    {
     "name": "stdout",
     "output_type": "stream",
     "text": [
      "Analysis complete for SRR12850849_pass.fastq\n"
     ]
    },
    {
     "name": "stderr",
     "output_type": "stream",
     "text": [
      "Unknown option: readfilesin\n",
      "Started analysis of SRR12850850_pass.fastq\n",
      "Approx 5% complete for SRR12850850_pass.fastq\n",
      "Approx 10% complete for SRR12850850_pass.fastq\n",
      "Approx 15% complete for SRR12850850_pass.fastq\n",
      "Approx 20% complete for SRR12850850_pass.fastq\n",
      "Approx 25% complete for SRR12850850_pass.fastq\n",
      "Approx 30% complete for SRR12850850_pass.fastq\n",
      "Approx 35% complete for SRR12850850_pass.fastq\n",
      "Approx 40% complete for SRR12850850_pass.fastq\n",
      "Approx 45% complete for SRR12850850_pass.fastq\n",
      "Approx 50% complete for SRR12850850_pass.fastq\n",
      "Approx 55% complete for SRR12850850_pass.fastq\n",
      "Approx 60% complete for SRR12850850_pass.fastq\n",
      "Approx 65% complete for SRR12850850_pass.fastq\n",
      "Approx 70% complete for SRR12850850_pass.fastq\n",
      "Approx 75% complete for SRR12850850_pass.fastq\n",
      "Approx 80% complete for SRR12850850_pass.fastq\n",
      "Approx 85% complete for SRR12850850_pass.fastq\n",
      "Approx 90% complete for SRR12850850_pass.fastq\n",
      "Approx 95% complete for SRR12850850_pass.fastq\n"
     ]
    },
    {
     "name": "stdout",
     "output_type": "stream",
     "text": [
      "Analysis complete for SRR12850850_pass.fastq\n"
     ]
    },
    {
     "name": "stderr",
     "output_type": "stream",
     "text": [
      "Unknown option: readfilesin\n",
      "Started analysis of SRR12850851_pass.fastq\n",
      "Approx 5% complete for SRR12850851_pass.fastq\n",
      "Approx 10% complete for SRR12850851_pass.fastq\n",
      "Approx 15% complete for SRR12850851_pass.fastq\n",
      "Approx 20% complete for SRR12850851_pass.fastq\n",
      "Approx 25% complete for SRR12850851_pass.fastq\n",
      "Approx 30% complete for SRR12850851_pass.fastq\n",
      "Approx 35% complete for SRR12850851_pass.fastq\n",
      "Approx 40% complete for SRR12850851_pass.fastq\n",
      "Approx 45% complete for SRR12850851_pass.fastq\n",
      "Approx 50% complete for SRR12850851_pass.fastq\n",
      "Approx 55% complete for SRR12850851_pass.fastq\n",
      "Approx 60% complete for SRR12850851_pass.fastq\n",
      "Approx 65% complete for SRR12850851_pass.fastq\n",
      "Approx 70% complete for SRR12850851_pass.fastq\n",
      "Approx 75% complete for SRR12850851_pass.fastq\n",
      "Approx 80% complete for SRR12850851_pass.fastq\n",
      "Approx 85% complete for SRR12850851_pass.fastq\n",
      "Approx 90% complete for SRR12850851_pass.fastq\n",
      "Approx 95% complete for SRR12850851_pass.fastq\n"
     ]
    },
    {
     "name": "stdout",
     "output_type": "stream",
     "text": [
      "Analysis complete for SRR12850851_pass.fastq\n"
     ]
    },
    {
     "name": "stderr",
     "output_type": "stream",
     "text": [
      "Unknown option: readfilesin\n",
      "Started analysis of SRR12850852_pass.fastq\n",
      "Approx 5% complete for SRR12850852_pass.fastq\n",
      "Approx 10% complete for SRR12850852_pass.fastq\n",
      "Approx 15% complete for SRR12850852_pass.fastq\n",
      "Approx 20% complete for SRR12850852_pass.fastq\n",
      "Approx 25% complete for SRR12850852_pass.fastq\n",
      "Approx 30% complete for SRR12850852_pass.fastq\n",
      "Approx 35% complete for SRR12850852_pass.fastq\n",
      "Approx 40% complete for SRR12850852_pass.fastq\n",
      "Approx 45% complete for SRR12850852_pass.fastq\n",
      "Approx 50% complete for SRR12850852_pass.fastq\n",
      "Approx 55% complete for SRR12850852_pass.fastq\n",
      "Approx 60% complete for SRR12850852_pass.fastq\n",
      "Approx 65% complete for SRR12850852_pass.fastq\n",
      "Approx 70% complete for SRR12850852_pass.fastq\n",
      "Approx 75% complete for SRR12850852_pass.fastq\n",
      "Approx 80% complete for SRR12850852_pass.fastq\n",
      "Approx 85% complete for SRR12850852_pass.fastq\n",
      "Approx 90% complete for SRR12850852_pass.fastq\n",
      "Approx 95% complete for SRR12850852_pass.fastq\n"
     ]
    },
    {
     "name": "stdout",
     "output_type": "stream",
     "text": [
      "Analysis complete for SRR12850852_pass.fastq\n"
     ]
    },
    {
     "name": "stderr",
     "output_type": "stream",
     "text": [
      "Unknown option: readfilesin\n",
      "Started analysis of SRR12850853_pass.fastq\n",
      "Approx 5% complete for SRR12850853_pass.fastq\n",
      "Approx 10% complete for SRR12850853_pass.fastq\n",
      "Approx 15% complete for SRR12850853_pass.fastq\n",
      "Approx 20% complete for SRR12850853_pass.fastq\n",
      "Approx 25% complete for SRR12850853_pass.fastq\n",
      "Approx 30% complete for SRR12850853_pass.fastq\n",
      "Approx 35% complete for SRR12850853_pass.fastq\n",
      "Approx 40% complete for SRR12850853_pass.fastq\n",
      "Approx 45% complete for SRR12850853_pass.fastq\n",
      "Approx 50% complete for SRR12850853_pass.fastq\n",
      "Approx 55% complete for SRR12850853_pass.fastq\n",
      "Approx 60% complete for SRR12850853_pass.fastq\n",
      "Approx 65% complete for SRR12850853_pass.fastq\n",
      "Approx 70% complete for SRR12850853_pass.fastq\n",
      "Approx 75% complete for SRR12850853_pass.fastq\n",
      "Approx 80% complete for SRR12850853_pass.fastq\n",
      "Approx 85% complete for SRR12850853_pass.fastq\n",
      "Approx 90% complete for SRR12850853_pass.fastq\n",
      "Approx 95% complete for SRR12850853_pass.fastq\n"
     ]
    },
    {
     "name": "stdout",
     "output_type": "stream",
     "text": [
      "Analysis complete for SRR12850853_pass.fastq\n"
     ]
    },
    {
     "name": "stderr",
     "output_type": "stream",
     "text": [
      "Unknown option: readfilesin\n",
      "Started analysis of SRR12850854_pass.fastq\n",
      "Approx 5% complete for SRR12850854_pass.fastq\n",
      "Approx 10% complete for SRR12850854_pass.fastq\n",
      "Approx 15% complete for SRR12850854_pass.fastq\n",
      "Approx 20% complete for SRR12850854_pass.fastq\n",
      "Approx 25% complete for SRR12850854_pass.fastq\n",
      "Approx 30% complete for SRR12850854_pass.fastq\n",
      "Approx 35% complete for SRR12850854_pass.fastq\n",
      "Approx 40% complete for SRR12850854_pass.fastq\n",
      "Approx 45% complete for SRR12850854_pass.fastq\n",
      "Approx 50% complete for SRR12850854_pass.fastq\n",
      "Approx 55% complete for SRR12850854_pass.fastq\n",
      "Approx 60% complete for SRR12850854_pass.fastq\n",
      "Approx 65% complete for SRR12850854_pass.fastq\n",
      "Approx 70% complete for SRR12850854_pass.fastq\n",
      "Approx 75% complete for SRR12850854_pass.fastq\n",
      "Approx 80% complete for SRR12850854_pass.fastq\n",
      "Approx 85% complete for SRR12850854_pass.fastq\n",
      "Approx 90% complete for SRR12850854_pass.fastq\n",
      "Approx 95% complete for SRR12850854_pass.fastq\n"
     ]
    },
    {
     "name": "stdout",
     "output_type": "stream",
     "text": [
      "Analysis complete for SRR12850854_pass.fastq\n"
     ]
    },
    {
     "name": "stderr",
     "output_type": "stream",
     "text": [
      "Unknown option: readfilesin\n",
      "Started analysis of SRR12850855_pass.fastq\n",
      "Approx 5% complete for SRR12850855_pass.fastq\n",
      "Approx 10% complete for SRR12850855_pass.fastq\n",
      "Approx 15% complete for SRR12850855_pass.fastq\n",
      "Approx 20% complete for SRR12850855_pass.fastq\n",
      "Approx 25% complete for SRR12850855_pass.fastq\n",
      "Approx 30% complete for SRR12850855_pass.fastq\n",
      "Approx 35% complete for SRR12850855_pass.fastq\n",
      "Approx 40% complete for SRR12850855_pass.fastq\n",
      "Approx 45% complete for SRR12850855_pass.fastq\n",
      "Approx 50% complete for SRR12850855_pass.fastq\n",
      "Approx 55% complete for SRR12850855_pass.fastq\n",
      "Approx 60% complete for SRR12850855_pass.fastq\n",
      "Approx 65% complete for SRR12850855_pass.fastq\n",
      "Approx 70% complete for SRR12850855_pass.fastq\n",
      "Approx 75% complete for SRR12850855_pass.fastq\n",
      "Approx 80% complete for SRR12850855_pass.fastq\n",
      "Approx 85% complete for SRR12850855_pass.fastq\n",
      "Approx 90% complete for SRR12850855_pass.fastq\n",
      "Approx 95% complete for SRR12850855_pass.fastq\n"
     ]
    },
    {
     "name": "stdout",
     "output_type": "stream",
     "text": [
      "Analysis complete for SRR12850855_pass.fastq\n"
     ]
    },
    {
     "name": "stderr",
     "output_type": "stream",
     "text": [
      "Unknown option: readfilesin\n",
      "Started analysis of SRR12850856_pass.fastq\n",
      "Approx 5% complete for SRR12850856_pass.fastq\n",
      "Approx 10% complete for SRR12850856_pass.fastq\n",
      "Approx 15% complete for SRR12850856_pass.fastq\n",
      "Approx 20% complete for SRR12850856_pass.fastq\n",
      "Approx 25% complete for SRR12850856_pass.fastq\n",
      "Approx 30% complete for SRR12850856_pass.fastq\n",
      "Approx 35% complete for SRR12850856_pass.fastq\n",
      "Approx 40% complete for SRR12850856_pass.fastq\n",
      "Approx 45% complete for SRR12850856_pass.fastq\n",
      "Approx 50% complete for SRR12850856_pass.fastq\n",
      "Approx 55% complete for SRR12850856_pass.fastq\n",
      "Approx 60% complete for SRR12850856_pass.fastq\n",
      "Approx 65% complete for SRR12850856_pass.fastq\n",
      "Approx 70% complete for SRR12850856_pass.fastq\n",
      "Approx 75% complete for SRR12850856_pass.fastq\n",
      "Approx 80% complete for SRR12850856_pass.fastq\n",
      "Approx 85% complete for SRR12850856_pass.fastq\n",
      "Approx 90% complete for SRR12850856_pass.fastq\n",
      "Approx 95% complete for SRR12850856_pass.fastq\n"
     ]
    },
    {
     "name": "stdout",
     "output_type": "stream",
     "text": [
      "Analysis complete for SRR12850856_pass.fastq\n"
     ]
    },
    {
     "name": "stderr",
     "output_type": "stream",
     "text": [
      "Unknown option: readfilesin\n",
      "Started analysis of SRR12850857_pass.fastq\n",
      "Approx 5% complete for SRR12850857_pass.fastq\n",
      "Approx 10% complete for SRR12850857_pass.fastq\n",
      "Approx 15% complete for SRR12850857_pass.fastq\n",
      "Approx 20% complete for SRR12850857_pass.fastq\n",
      "Approx 25% complete for SRR12850857_pass.fastq\n",
      "Approx 30% complete for SRR12850857_pass.fastq\n",
      "Approx 35% complete for SRR12850857_pass.fastq\n",
      "Approx 40% complete for SRR12850857_pass.fastq\n",
      "Approx 45% complete for SRR12850857_pass.fastq\n",
      "Approx 50% complete for SRR12850857_pass.fastq\n",
      "Approx 55% complete for SRR12850857_pass.fastq\n",
      "Approx 60% complete for SRR12850857_pass.fastq\n",
      "Approx 65% complete for SRR12850857_pass.fastq\n",
      "Approx 70% complete for SRR12850857_pass.fastq\n",
      "Approx 75% complete for SRR12850857_pass.fastq\n",
      "Approx 80% complete for SRR12850857_pass.fastq\n",
      "Approx 85% complete for SRR12850857_pass.fastq\n",
      "Approx 90% complete for SRR12850857_pass.fastq\n",
      "Approx 95% complete for SRR12850857_pass.fastq\n"
     ]
    },
    {
     "name": "stdout",
     "output_type": "stream",
     "text": [
      "Analysis complete for SRR12850857_pass.fastq\n"
     ]
    },
    {
     "name": "stderr",
     "output_type": "stream",
     "text": [
      "Unknown option: readfilesin\n",
      "Started analysis of SRR12850858_pass.fastq\n",
      "Approx 5% complete for SRR12850858_pass.fastq\n",
      "Approx 10% complete for SRR12850858_pass.fastq\n",
      "Approx 15% complete for SRR12850858_pass.fastq\n",
      "Approx 20% complete for SRR12850858_pass.fastq\n",
      "Approx 25% complete for SRR12850858_pass.fastq\n",
      "Approx 30% complete for SRR12850858_pass.fastq\n",
      "Approx 35% complete for SRR12850858_pass.fastq\n",
      "Approx 40% complete for SRR12850858_pass.fastq\n",
      "Approx 45% complete for SRR12850858_pass.fastq\n",
      "Approx 50% complete for SRR12850858_pass.fastq\n",
      "Approx 55% complete for SRR12850858_pass.fastq\n",
      "Approx 60% complete for SRR12850858_pass.fastq\n",
      "Approx 65% complete for SRR12850858_pass.fastq\n",
      "Approx 70% complete for SRR12850858_pass.fastq\n",
      "Approx 75% complete for SRR12850858_pass.fastq\n",
      "Approx 80% complete for SRR12850858_pass.fastq\n",
      "Approx 85% complete for SRR12850858_pass.fastq\n",
      "Approx 90% complete for SRR12850858_pass.fastq\n",
      "Approx 95% complete for SRR12850858_pass.fastq\n"
     ]
    },
    {
     "name": "stdout",
     "output_type": "stream",
     "text": [
      "Analysis complete for SRR12850858_pass.fastq\n"
     ]
    },
    {
     "name": "stderr",
     "output_type": "stream",
     "text": [
      "Unknown option: readfilesin\n",
      "Started analysis of SRR12850859_pass.fastq\n",
      "Approx 5% complete for SRR12850859_pass.fastq\n",
      "Approx 10% complete for SRR12850859_pass.fastq\n",
      "Approx 15% complete for SRR12850859_pass.fastq\n",
      "Approx 20% complete for SRR12850859_pass.fastq\n",
      "Approx 25% complete for SRR12850859_pass.fastq\n",
      "Approx 30% complete for SRR12850859_pass.fastq\n",
      "Approx 35% complete for SRR12850859_pass.fastq\n",
      "Approx 40% complete for SRR12850859_pass.fastq\n",
      "Approx 45% complete for SRR12850859_pass.fastq\n",
      "Approx 50% complete for SRR12850859_pass.fastq\n",
      "Approx 55% complete for SRR12850859_pass.fastq\n",
      "Approx 60% complete for SRR12850859_pass.fastq\n",
      "Approx 65% complete for SRR12850859_pass.fastq\n",
      "Approx 70% complete for SRR12850859_pass.fastq\n",
      "Approx 75% complete for SRR12850859_pass.fastq\n",
      "Approx 80% complete for SRR12850859_pass.fastq\n",
      "Approx 85% complete for SRR12850859_pass.fastq\n",
      "Approx 90% complete for SRR12850859_pass.fastq\n",
      "Approx 95% complete for SRR12850859_pass.fastq\n"
     ]
    },
    {
     "name": "stdout",
     "output_type": "stream",
     "text": [
      "Analysis complete for SRR12850859_pass.fastq\n"
     ]
    }
   ],
   "source": [
    "for fastq in sra_numbers:\n",
    "    fastqc = \"/home/christina/FastQC/fastqc \\\n",
    "              --readFilesIn \" + path_fastq + fastq + \"_pass.fastq\"\n",
    "    subprocess.call(fastqc, shell=True)"
   ]
  },
  {
   "cell_type": "markdown",
   "id": "d4f5fdba-0d9e-4a51-9c1e-0d7f9bbdd596",
   "metadata": {},
   "source": [
    "### STAR\n",
    "\n",
    "Afterwards, we will now preprocess the data with STAR, an aligner for RNA-seq data mapping. Like in the paper of *Nativio et al.*, we will align our RNA-seq reads to the human reference genome (assembly GRCh37.75/hg19) using [STAR](https://github.com/alexdobin/STAR) with default parameters.\n",
    "The [fasta](http://ftp.ensembl.org/pub/release-75/fasta/homo_sapiens/dna/) and the [gtf](http://ftp.ensembl.org/pub/release-75/gtf/homo_sapiens/) file used for the genomeGenerate run were downloaded from Ensembl. \n",
    "\n",
    "This will create .sam files out of the .fastq files. The logfiles for all sequences are saved in the folder MultiQC_RNA."
   ]
  },
  {
   "cell_type": "code",
   "execution_count": null,
   "id": "28ee4c4e-2a4a-4ff5-9ecb-ce708b582a42",
   "metadata": {},
   "outputs": [],
   "source": [
    "# get Genome Index (assembly GRCh37.75)\n",
    "genomeIndex = \"STAR --runThreadN 4 \\\n",
    "               --runMode genomeGenerate \\\n",
    "               --genomeDir \" + path_genomeDir + \" \\\n",
    "               --genomeFastaFiles \" + path + \"Homo_sapiens.GRCh37.75.dna_sm.primary_assembly.fa \\\n",
    "               --sjdbGTFfile \" + path + \"Homo_sapiens.GRCh37.75.gtf\"\n",
    "subprocess.call(genomeIndex, shell=True)"
   ]
  },
  {
   "cell_type": "markdown",
   "id": "775a6438-c2b4-4699-9e30-bf198bdde1ff",
   "metadata": {},
   "source": [
    "The logfile for genomeGenerate included many warnings for assembly GRCh37.75/h19, so the most recent version available was taken from Ensembl to check. The [fasta](http://ftp.ensembl.org/pub/release-106/fasta/homo_sapiens/dna/) (primary assembly soft masked) and the [gtf](http://ftp.ensembl.org/pub/release-106/gtf/homo_sapiens/) file can be found following the links.\n",
    "\n",
    "In the check with the most recent version of GRCh38, the warnings were absent. \n",
    "The problem was that the patches, which suggest how gaps in the genome sequence can be filled, are not integrated in the version GRCh37.75/h19, but in the most recent version of GRCh38."
   ]
  },
  {
   "cell_type": "code",
   "execution_count": null,
   "id": "07d24f8b-fb8e-4e4d-b08e-35e9c296819f",
   "metadata": {},
   "outputs": [],
   "source": [
    "# get Genome Index (most recent)\n",
    "genomeIndex = \"STAR --runThreadN 4 \\\n",
    "               --runMode genomeGenerate \\\n",
    "               --genomeDir \" + path_genomeDir + \" \\\n",
    "               --genomeFastaFiles \" + path + \"Homo_sapiens.GRCh38.dna_sm.primary_assembly.fa \\\n",
    "               --sjdbGTFfile \" + path + \"Homo_sapiens.GRCh38.106.gtf\"\n",
    "subprocess.call(genomeIndex, shell=True)"
   ]
  },
  {
   "cell_type": "markdown",
   "id": "515bf67a-c9ee-49ee-8073-f35efd37ef00",
   "metadata": {},
   "source": [
    "To get rid of the warnings, the patches were removed from the assembly and the Genome Index was built with the new file. Due to the removed patches the read count can be distorted because reads that should align to the patches align somewhere else.\n",
    "\n",
    "The argument `genomeSAindexNbases` was added and set to 12 according to the formula min(14, log2(GenomeLength)/2-1). The value is 14 by default and typically between 10 and 15. Longer strings use more memory but allow faster searches. Also, `genomeSAsparseD` was added and set to 3 because of the memory. This are also the recommended values for 16GB RAM from the inventor of STAR."
   ]
  },
  {
   "cell_type": "code",
   "execution_count": null,
   "id": "2de720bb-53b2-4a43-834a-3cc3665de988",
   "metadata": {},
   "outputs": [],
   "source": [
    "genomeIndex = \"STAR --runThreadN 4 \\\n",
    "               --runMode genomeGenerate \\\n",
    "               --genomeDir \" + path_genomeDir + \" \\\n",
    "               --genomeFastaFiles \" + path + \"Homo_sapiens.GRCh37.75.dna_sm.primary_assembly.fa \\\n",
    "               --sjdbGTFfile \" + path + \"Homo_sapiens.GRCh37.75.without_patch.gtf \\\n",
    "               --genomeSAindexNbases 10\"\n",
    "subprocess.call(genomeIndex, shell=True)"
   ]
  },
  {
   "cell_type": "code",
   "execution_count": null,
   "id": "02b890a6-a841-4a7c-b4a9-71750bd76aa0",
   "metadata": {},
   "outputs": [],
   "source": [
    "# Run mapping\n",
    "for fastq in sra_numbers:\n",
    "    mapping = \"STAR --runThreadN 4 \\\n",
    "               --genomeDir \" + path_genomeDir + \" \\\n",
    "               --readFilesIn \" + path_fastq + fastq + \"_pass.fastq \\\n",
    "               --outFileNamePrefix \" + path + fastq + \"/\"\n",
    "    subprocess.call(mapping, shell=True)"
   ]
  },
  {
   "cell_type": "markdown",
   "id": "881facc4-6803-4db9-9fb8-f342aa2078c4",
   "metadata": {},
   "source": [
    "In the end, the STAR process was killed on several computers in the step \"... sorting Suffix Array chunks and saving them to disk...\". This also happened with `genomeSAindexNbases 10`. We decided to apply a pseudoalignment with kallisto instead, since it needs much less memory.\n",
    "\n",
    "### kallisto\n",
    "\n",
    "First of all, we build an index with [kallisto](https://github.com/pachterlab/kallisto) to from the file [Homo_sapiens.GRCh37.75.cdna.all.fa.gz](http://ftp.ensembl.org/pub/release-75/fasta/homo_sapiens/cdna/)."
   ]
  },
  {
   "cell_type": "code",
   "execution_count": 4,
   "id": "89741066-e2c5-49c7-af6d-de5405ca2c66",
   "metadata": {},
   "outputs": [
    {
     "name": "stderr",
     "output_type": "stream",
     "text": [
      "\n",
      "[build] loading fasta file /mnt/c/Users/Christina/Documents/GitHub/DataScience_finalProjekt_Group2/data/Homo_sapiens.GRCh37.75.cdna.all.fa.gz\n",
      "[build] k-mer length: 31\n",
      "[build] warning: clipped off poly-A tail (longer than 10)\n",
      "        from 1401 target sequences\n",
      "[build] counting k-mers ... done.\n",
      "[build] building target de Bruijn graph ...  done \n",
      "[build] creating equivalence classes ...  done\n",
      "[build] target de Bruijn graph has 1022307 contigs and contains 101446106 k-mers \n",
      "\n"
     ]
    },
    {
     "data": {
      "text/plain": [
       "0"
      ]
     },
     "execution_count": 4,
     "metadata": {},
     "output_type": "execute_result"
    }
   ],
   "source": [
    "import subprocess\n",
    "\n",
    "kallistoIndex = \"kallisto index -i Homo_sapiens.idx /mnt/c/Users/Christina/Documents/GitHub/DataScience_finalProjekt_Group2/data/Homo_sapiens.GRCh37.75.cdna.all.fa.gz\"\n",
    "subprocess.call(kallistoIndex, shell=True)"
   ]
  },
  {
   "cell_type": "markdown",
   "id": "9e5a1fb4-415c-40c8-b7c1-efcb01e7f3b5",
   "metadata": {},
   "source": [
    "In the second step, we align all our RNA sequences. Because we want .bam files for featureCounts, the parameters `genomebam` and `gtf` need to be added."
   ]
  },
  {
   "cell_type": "code",
   "execution_count": 2,
   "id": "cae666c5-38ae-4a19-b9fb-697ea65e1436",
   "metadata": {},
   "outputs": [],
   "source": [
    "for fastq in sra_numbers:\n",
    "    kallisto = \"(kallisto quant -t 2 --single -l 200 -s 30 \\\n",
    "                --genomebam --gtf /mnt/c/Users/Christina/Documents/GitHub/DataScience_finalProjekt_Group2/data/Homo_sapiens.GRCh37.75.without_patch.gtf \\\n",
    "                -i Homo_sapiens.idx \\\n",
    "                -o /mnt/c/Users/Christina/Documents/GitHub/DataScience_finalProjekt_Group2/data/\" + fastq + \" \\\n",
    "                /mnt/c/Users/Christina/Documents/GitHub/DataScience_finalProjekt_Group2/data/fastq/\" + fastq + \"_pass.fastq) \\\n",
    "                2>\" + fastq + \".log\"\n",
    "    subprocess.call(kallisto, shell=True)"
   ]
  },
  {
   "cell_type": "markdown",
   "id": "5289dd68-2c1c-405a-aef9-2a60d3d36c19",
   "metadata": {},
   "source": [
    "### featureCounts\n",
    "\n",
    "Finally, they used featureCounts in the paper. featureCounts is part of the [Subread/RSubread](http://subread.sourceforge.net/) package."
   ]
  },
  {
   "cell_type": "code",
   "execution_count": 9,
   "id": "8b2a9916-5dad-45fc-aea0-368ceac5c0f7",
   "metadata": {},
   "outputs": [
    {
     "data": {
      "text/plain": [
       "0"
      ]
     },
     "execution_count": 9,
     "metadata": {},
     "output_type": "execute_result"
    }
   ],
   "source": [
    "path = \"/mnt/c/Users/Christina/Documents/GitHub/DataScience_finalProjekt_Group2/\"\n",
    "\n",
    "featurecounts = \"(/home/christina/subread-2.0.3-Linux-x86_64/bin/featureCounts -T 2 -t exon -g gene_id \\\n",
    "                 -a \" + path + \"data/Homo_sapiens.GRCh37.75.gtf \\\n",
    "                 -o \" + path + \"/MultiQC_RNA/counts.txt \\\n",
    "                 \" + path + \"/data/*.bam) \\\n",
    "                 2> counts.log\"\n",
    "subprocess.call(featurecounts, shell=True)"
   ]
  },
  {
   "cell_type": "markdown",
   "id": "dc52bff2-1365-4030-b23d-333e321ed55e",
   "metadata": {},
   "source": [
    "### MultiQC\n",
    "\n",
    "Now all the generated reports and logfiles for the RNA-seq will be summarized by the tool [MultiQC](https://multiqc.info/).\n",
    "\n",
    "Note that MultiQC can not run in JupyterLab because JavaScript is blocked and so the figures in the report are not created. Alternatively, it can run in JupyterNotebook or Visual Studio Code. It can also be applied through running the multiqc command in the terminal."
   ]
  },
  {
   "cell_type": "code",
   "execution_count": null,
   "id": "fc53aff7-74db-4a86-ad23-4e3501e99e4a",
   "metadata": {},
   "outputs": [],
   "source": [
    "#multiqc = \"multiqc /mnt/c/Users/Christina/Documents/GitHub/DataScience_finalProjekt_Group2/MultiQC_RNA/\"\n",
    "#subprocess.call(multiqc, shell=True)\n",
    "\n",
    "import multiqc\n",
    "multiqc.run(\"/mnt/c/Users/Christina/Documents/GitHub/DataScience_finalProjekt_Group2/MultiQC_RNA/\")"
   ]
  },
  {
   "cell_type": "markdown",
   "id": "2f42f17e-2537-411f-a1e2-04c9c86f8208",
   "metadata": {},
   "source": [
    "## Quality Control ChIP-seq\n",
    "\n",
    "To get an insight into the quality of the BigWig files which are used for the peak analysis, they were converted to fastq files so that FastQC could be applied. The following commands were used for the conversion, in this example the file GSM3752862_O-10A-H3K27ac.bw was converted:\n",
    "\n",
    "`bigWigTowig GSM3752862_O-10A-H3K27ac.bw GSM3752862_O-10A-H3K27ac.wig`\n",
    "\n",
    "For the `wig2bed` command, the -x was added. `bigWigToWig` generates zero-indexed, half-open WIG files. The option allows to generate coordinate output without reindexing.\n",
    "\n",
    "`wig2bed -x  < GSM3752862_O-10A-H3K27ac.wig > GSM3752862_O-10A-H3K27ac.bed`\n",
    "\n",
    "The file [hg19.fa](https://hgdownload.soe.ucsc.edu/goldenPath/hg19/bigZips/) was downloaded from the link and unzipped before the first usage of bedtools.\n",
    "\n",
    "`bedtools getfasta -fi hg19.fa -bed GSM3752862_O-10A-H3K27ac.bed -fo GSM3752862_O-10A-H3K27ac.fa`\n",
    "\n",
    "The perl script [fasta_to_fastq.pl](https://github.com/ekg/fasta-to-fastq) was downloaded from GitHub.\n",
    "\n",
    "`perl fasta_to_fastq.pl GSM3752862_O-10A-H3K27ac.fa > GSM3752862_O-10A-H3K27ac.fq`\n",
    "\n",
    "Afterwards, FastQC was applied and a summary report was created with MultiQC. The reports can be found in the repository."
   ]
  },
  {
   "cell_type": "markdown",
   "id": "11393845-4a5f-496a-8fea-64bed8ee0ede",
   "metadata": {},
   "source": [
    "## Data Analysis RNA-seq"
   ]
  },
  {
   "cell_type": "code",
   "execution_count": null,
   "id": "aeed24aa-6a2c-4ebd-84e0-e8f7d0f2e702",
   "metadata": {},
   "outputs": [],
   "source": []
  },
  {
   "cell_type": "markdown",
   "id": "838fe2ec-d803-4395-a521-644874fc1e0a",
   "metadata": {},
   "source": [
    "## Data Analysis ChIP-seq"
   ]
  }
 ],
 "metadata": {
  "kernelspec": {
   "display_name": "Python 3 (ipykernel)",
   "language": "python",
   "name": "python3"
  },
  "language_info": {
   "codemirror_mode": {
    "name": "ipython",
    "version": 3
   },
   "file_extension": ".py",
   "mimetype": "text/x-python",
   "name": "python",
   "nbconvert_exporter": "python",
   "pygments_lexer": "ipython3",
   "version": "3.9.13"
  },
  "vscode": {
   "interpreter": {
    "hash": "77efda19133223beae4d8202f64c0ed7ef77e02bd33099328534a5c00204ca3d"
   }
  }
 },
 "nbformat": 4,
 "nbformat_minor": 5
}
