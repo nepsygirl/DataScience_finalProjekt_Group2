{
 "cells": [
  {
   "cell_type": "markdown",
   "metadata": {},
   "source": [
    "### Random Forest with RNA only"
   ]
  },
  {
   "cell_type": "code",
   "execution_count": 1,
   "metadata": {
    "id": "PaaVhXQFc80l"
   },
   "outputs": [],
   "source": [
    "# perfom tuning of the hyper-parameter \n",
    "# difference between hyper and model parameter -> model parameter: configuration\n",
    "# variable internal of a model whose value can be estimated from data\n",
    "# hyper parameter: external, value can not be estimated from data\n",
    "# used https://www.kaggle.com/kanncaa1/feature-selection-and-data-visualization\n",
    "\n",
    "# libraries \n",
    "#from google.colab import files \n",
    "import pandas as pd\n",
    "import numpy as np\n",
    "import seaborn as sns # data visualization library \n",
    "import matplotlib.pyplot as plt\n",
    "from pprint import pprint\n",
    "import sklearn\n",
    "from sklearn.ensemble import RandomForestClassifier, RandomForestRegressor\n",
    "from sklearn.metrics import precision_score, recall_score, f1_score, accuracy_score, confusion_matrix, r2_score, roc_auc_score, roc_curve, auc\n",
    "from sklearn.decomposition import PCA\n",
    "from sklearn.model_selection import RepeatedStratifiedKFold, cross_val_score, train_test_split, RandomizedSearchCV, GridSearchCV\n",
    "from sklearn.pipeline import Pipeline\n",
    "from sklearn.datasets import make_blobs\n",
    "from rfpimp import permutation_importances\n",
    "seed = 7"
   ]
  },
  {
   "cell_type": "code",
   "execution_count": 2,
   "metadata": {
    "colab": {
     "base_uri": "https://localhost:8080/"
    },
    "id": "6iHcyNMsc-u7",
    "outputId": "7de41f06-23da-4227-bad8-d49ed85a2452"
   },
   "outputs": [],
   "source": [
    "#!pip install rfpimp\n",
    "#pip install pandas==1.0.1\n",
    "#!pip install git+ssh://git@github.com/pandas-dev/pandas.git@1.0.x"
   ]
  },
  {
   "cell_type": "code",
   "execution_count": 3,
   "metadata": {
    "id": "8ZAPzRc_e0Zm"
   },
   "outputs": [],
   "source": [
    "df = pd.read_csv(\"gene_summary.txt\", sep=\"\\t\", index_col=0)"
   ]
  },
  {
   "cell_type": "code",
   "execution_count": 4,
   "metadata": {
    "id": "9IkPipbu0GCZ"
   },
   "outputs": [],
   "source": [
    "def change_labels(x):\n",
    "  print(x)\n",
    "  if 'AD' in x:\n",
    "    return 1\n",
    "  return 0"
   ]
  },
  {
   "cell_type": "code",
   "execution_count": 5,
   "metadata": {
    "colab": {
     "base_uri": "https://localhost:8080/"
    },
    "id": "cTVvs-h10lAN",
    "outputId": "df83ddf4-a289-4d10-a381-cd0d11a9a8cf"
   },
   "outputs": [
    {
     "name": "stdout",
     "output_type": "stream",
     "text": [
      "(27130, 30)\n"
     ]
    }
   ],
   "source": [
    "print(df.shape)"
   ]
  },
  {
   "cell_type": "code",
   "execution_count": 6,
   "metadata": {
    "colab": {
     "base_uri": "https://localhost:8080/"
    },
    "id": "MkWvxcXh7UbR",
    "outputId": "4f1cefc4-8118-4ae2-c8c0-e4d629053248"
   },
   "outputs": [
    {
     "name": "stdout",
     "output_type": "stream",
     "text": [
      "           21-1A-AD  20-1T-AD  23-2A-AD  22-2T-AD  26-3A-AD  24-3T-AD  \\\n",
      "refGene                                                                 \n",
      "SGIP1          1137      1633       900      1398      1257       858   \n",
      "NECAP2          270       261       353       395       326       388   \n",
      "AZIN2           217       300       229       458       258       209   \n",
      "AGBL4           144       139       134       100       136        44   \n",
      "CLIC4           871       770      1067      3641       879       937   \n",
      "SLC45A1         179       306       207       227       220       174   \n",
      "TGFBR3          633       476       746       495       419       365   \n",
      "DBT             532       608       719       517       603       393   \n",
      "PRUNE1          244       254       205       228       281       257   \n",
      "C1orf21        1835      2452      2194      1448      2244      2081   \n",
      "RFWD2           417       484       507       468       464       475   \n",
      "LIN9             53        49        51        25        59        41   \n",
      "PRKCZ           909      1407       900      1233      1324      1439   \n",
      "PRDM16          559       450       880       407       713       541   \n",
      "ICMT            563       676       757       441       750       636   \n",
      "CAMTA1         1988      2346      1643      1529      2110      1059   \n",
      "C1orf159        185       160       169       260       182       165   \n",
      "PRAMEF18          0         0         0         0         0         0   \n",
      "PRAMEF10          0         0         0         0         0         0   \n",
      "PRAMEF33P         0         0         0         0         0         0   \n",
      "\n",
      "           27-5A-AD  25-5T-AD  29-6T-AD  31-7T-AD  ...  10-8A-Old  17-9A-Old  \\\n",
      "refGene                                            ...                         \n",
      "SGIP1           784       742      1088      1020  ...       2609       2027   \n",
      "NECAP2          290       481       329       305  ...        205        379   \n",
      "AZIN2           180       522       247       266  ...        389        327   \n",
      "AGBL4            85        48       131       163  ...        312        238   \n",
      "CLIC4           751      2079       700       675  ...        673       3900   \n",
      "SLC45A1         136       129       194       216  ...        464        296   \n",
      "TGFBR3          553       196       252       546  ...        374        463   \n",
      "DBT             387       451       455       488  ...        669        708   \n",
      "PRUNE1          191       193       198       245  ...        276        273   \n",
      "C1orf21        1701      1052      1930      1968  ...       2905       2004   \n",
      "RFWD2           352       466       429       470  ...        674        647   \n",
      "LIN9             29        33        24        46  ...         63         44   \n",
      "PRKCZ           797      1033      1350      1268  ...       1502       1298   \n",
      "PRDM16          822       277       630       737  ...        387        430   \n",
      "ICMT            510       482       509       666  ...        627        721   \n",
      "CAMTA1         1292       946      1577      2180  ...       3699       2843   \n",
      "C1orf159        157       231       211       188  ...        175        171   \n",
      "PRAMEF18          0         0         0         0  ...          0          0   \n",
      "PRAMEF10          0         0         0         0  ...          0          0   \n",
      "PRAMEF33P         0         0         0         0  ...          0          0   \n",
      "\n",
      "           2-12A-Young  4-13A-Young  6-14A-Young  8-15A-Young  9-16A-Young  \\\n",
      "refGene                                                                      \n",
      "SGIP1             2502         2529         2526         1127         1241   \n",
      "NECAP2             353          219          162          301          305   \n",
      "AZIN2              639          271          336          335          342   \n",
      "AGBL4              278          274          358           26          181   \n",
      "CLIC4             2539         1031          618         6372          573   \n",
      "SLC45A1            594          433          462          220          321   \n",
      "TGFBR3             501          270          354          172          460   \n",
      "DBT               1048          826          668          799          316   \n",
      "PRUNE1             411          348          282          215          190   \n",
      "C1orf21           2725         3176         2867          394         1660   \n",
      "RFWD2              749          632          580          571          503   \n",
      "LIN9                65           44           51           52           32   \n",
      "PRKCZ             2270         2046         1681          858         1309   \n",
      "PRDM16             700          501          387          110          576   \n",
      "ICMT               882          871          656          772          491   \n",
      "CAMTA1            4391         3703         3745          865         2365   \n",
      "C1orf159           224          178          179          220          297   \n",
      "PRAMEF18             0            0            0            0            0   \n",
      "PRAMEF10             0            0            0            0            0   \n",
      "PRAMEF33P            0            0            0            0            0   \n",
      "\n",
      "           3-17T-Young  5-18T-Young  7-19T-Young  \n",
      "refGene                                           \n",
      "SGIP1              581         1187         1175  \n",
      "NECAP2             399          531          324  \n",
      "AZIN2              548          761          574  \n",
      "AGBL4               36           81          144  \n",
      "CLIC4             2791         5881         1154  \n",
      "SLC45A1            116          233          282  \n",
      "TGFBR3             263          423          274  \n",
      "DBT                513          795          471  \n",
      "PRUNE1             174          250          217  \n",
      "C1orf21            626         1072         1432  \n",
      "RFWD2              385          546          518  \n",
      "LIN9                15           31           27  \n",
      "PRKCZ              770         1267         1614  \n",
      "PRDM16             226          312          391  \n",
      "ICMT               424          632          468  \n",
      "CAMTA1             715         1515         1949  \n",
      "C1orf159           191          277          218  \n",
      "PRAMEF18             0            0            0  \n",
      "PRAMEF10             0            0            0  \n",
      "PRAMEF33P            0            0            0  \n",
      "\n",
      "[20 rows x 30 columns]\n"
     ]
    }
   ],
   "source": [
    "print(df.head(20))"
   ]
  },
  {
   "cell_type": "code",
   "execution_count": 7,
   "metadata": {
    "colab": {
     "base_uri": "https://localhost:8080/"
    },
    "id": "hiXyqfmW7h5s",
    "outputId": "c1f7c057-f15b-4948-9aeb-4790d4178d72"
   },
   "outputs": [
    {
     "name": "stdout",
     "output_type": "stream",
     "text": [
      "            21-1A-AD       20-1T-AD       23-2A-AD       22-2T-AD  \\\n",
      "count   27130.000000   27130.000000   27130.000000   27130.000000   \n",
      "mean      390.385146     443.332436     424.012459     535.622189   \n",
      "std      2531.586111    2074.966307    2414.071081    3456.987415   \n",
      "min         0.000000       0.000000       0.000000       0.000000   \n",
      "25%         2.000000       2.000000       2.000000       2.000000   \n",
      "50%        51.000000      53.000000      59.000000      60.000000   \n",
      "75%       320.000000     366.000000     360.000000     402.000000   \n",
      "max    320795.000000  224850.000000  301019.000000  306188.000000   \n",
      "\n",
      "            26-3A-AD       24-3T-AD       27-5A-AD       25-5T-AD  \\\n",
      "count   27130.000000   27130.000000   27130.000000   27130.000000   \n",
      "mean      464.482823     411.720015     349.693918     453.947328   \n",
      "std      2878.542321    3211.355907    2095.245447    4294.041359   \n",
      "min         0.000000       0.000000       0.000000       0.000000   \n",
      "25%         2.000000       2.000000       2.000000       2.000000   \n",
      "50%        54.000000      53.000000      42.000000      50.000000   \n",
      "75%       368.000000     330.000000     273.000000     328.000000   \n",
      "max    298165.000000  329250.000000  235616.000000  574831.000000   \n",
      "\n",
      "            29-6T-AD       31-7T-AD  ...      10-8A-Old      17-9A-Old  \\\n",
      "count   27130.000000   27130.000000  ...   27130.000000   27130.000000   \n",
      "mean      443.249171     421.421895  ...     532.795687     547.721673   \n",
      "std      3002.554446    2379.972145  ...    2284.896630    2658.862205   \n",
      "min         0.000000       0.000000  ...       0.000000       0.000000   \n",
      "25%         2.000000       2.000000  ...       2.000000       2.000000   \n",
      "50%        50.000000      55.000000  ...      53.000000      60.000000   \n",
      "75%       336.000000     340.000000  ...     410.000000     449.000000   \n",
      "max    354456.000000  309730.000000  ...  208718.000000  228489.000000   \n",
      "\n",
      "         2-12A-Young    4-13A-Young    6-14A-Young    8-15A-Young  \\\n",
      "count   27130.000000   27130.000000   27130.000000   27130.000000   \n",
      "mean      693.374604     568.950240     515.699926     497.752672   \n",
      "std      2989.594808    2474.414959    2095.189103    3559.838428   \n",
      "min         0.000000       0.000000       0.000000       0.000000   \n",
      "25%         2.000000       2.000000       2.000000       1.000000   \n",
      "50%        65.000000      51.000000      48.000000      38.000000   \n",
      "75%       542.000000     431.750000     386.000000     336.000000   \n",
      "max    218888.000000  180458.000000  161988.000000  405426.000000   \n",
      "\n",
      "         9-16A-Young    3-17T-Young    5-18T-Young    7-19T-Young  \n",
      "count   27130.000000   27130.000000   27130.000000   27130.000000  \n",
      "mean      443.310579     380.743568     575.593734     489.768964  \n",
      "std      2017.290307    2720.188959    3426.524944    3055.636304  \n",
      "min         0.000000       0.000000       0.000000       0.000000  \n",
      "25%         2.000000       1.000000       2.000000       2.000000  \n",
      "50%        49.000000      38.000000      60.000000      59.000000  \n",
      "75%       336.000000     268.000000     428.000000     380.000000  \n",
      "max    210564.000000  303626.000000  310269.000000  341524.000000  \n",
      "\n",
      "[8 rows x 30 columns]\n"
     ]
    }
   ],
   "source": [
    "print(df.describe())"
   ]
  },
  {
   "cell_type": "code",
   "execution_count": 8,
   "metadata": {
    "colab": {
     "base_uri": "https://localhost:8080/"
    },
    "id": "vcERa7y-0tXP",
    "outputId": "4415e9ac-8e0d-4a2e-b16d-f1b06a44cbb8"
   },
   "outputs": [
    {
     "name": "stdout",
     "output_type": "stream",
     "text": [
      "21-1A-AD\n",
      "20-1T-AD\n",
      "23-2A-AD\n",
      "22-2T-AD\n",
      "26-3A-AD\n",
      "24-3T-AD\n",
      "27-5A-AD\n",
      "25-5T-AD\n",
      "29-6T-AD\n",
      "31-7T-AD\n",
      "28-8T-AD\n",
      "30-9T-AD\n",
      "18-10A-Old\n",
      "11-10T-Old\n",
      "19-11A-Old\n",
      "13-11T-Old\n",
      "15-13T-Old\n",
      "16-14T-Old\n",
      "12-6A-Old\n",
      "14-7A-Old\n",
      "10-8A-Old\n",
      "17-9A-Old\n",
      "2-12A-Young\n",
      "4-13A-Young\n",
      "6-14A-Young\n",
      "8-15A-Young\n",
      "9-16A-Young\n",
      "3-17T-Young\n",
      "5-18T-Young\n",
      "7-19T-Young\n"
     ]
    }
   ],
   "source": [
    "df_T = df.T\n",
    "df_T[\"class\"] = df_T.apply(lambda x: change_labels(x.name), axis=1)"
   ]
  },
  {
   "cell_type": "code",
   "execution_count": 9,
   "metadata": {
    "colab": {
     "base_uri": "https://localhost:8080/",
     "height": 1000
    },
    "id": "v_-4IpoR0ELo",
    "outputId": "80d9c41a-9e39-4f63-8e3c-ca2ee2b5026f"
   },
   "outputs": [
    {
     "data": {
      "text/html": [
       "<div>\n",
       "<style scoped>\n",
       "    .dataframe tbody tr th:only-of-type {\n",
       "        vertical-align: middle;\n",
       "    }\n",
       "\n",
       "    .dataframe tbody tr th {\n",
       "        vertical-align: top;\n",
       "    }\n",
       "\n",
       "    .dataframe thead th {\n",
       "        text-align: right;\n",
       "    }\n",
       "</style>\n",
       "<table border=\"1\" class=\"dataframe\">\n",
       "  <thead>\n",
       "    <tr style=\"text-align: right;\">\n",
       "      <th>refGene</th>\n",
       "      <th>SGIP1</th>\n",
       "      <th>NECAP2</th>\n",
       "      <th>AZIN2</th>\n",
       "      <th>AGBL4</th>\n",
       "      <th>CLIC4</th>\n",
       "      <th>SLC45A1</th>\n",
       "      <th>TGFBR3</th>\n",
       "      <th>DBT</th>\n",
       "      <th>PRUNE1</th>\n",
       "      <th>C1orf21</th>\n",
       "      <th>...</th>\n",
       "      <th>MGC70870</th>\n",
       "      <th>KIR2DL5A</th>\n",
       "      <th>KIR2DS2</th>\n",
       "      <th>KIR2DL2</th>\n",
       "      <th>KIR3DS1</th>\n",
       "      <th>KIR2DS3</th>\n",
       "      <th>KIR2DS5</th>\n",
       "      <th>KIR2DS1</th>\n",
       "      <th>KIR2DL5B</th>\n",
       "      <th>class</th>\n",
       "    </tr>\n",
       "  </thead>\n",
       "  <tbody>\n",
       "    <tr>\n",
       "      <th>21-1A-AD</th>\n",
       "      <td>1137</td>\n",
       "      <td>270</td>\n",
       "      <td>217</td>\n",
       "      <td>144</td>\n",
       "      <td>871</td>\n",
       "      <td>179</td>\n",
       "      <td>633</td>\n",
       "      <td>532</td>\n",
       "      <td>244</td>\n",
       "      <td>1835</td>\n",
       "      <td>...</td>\n",
       "      <td>33</td>\n",
       "      <td>0</td>\n",
       "      <td>0</td>\n",
       "      <td>0</td>\n",
       "      <td>1</td>\n",
       "      <td>0</td>\n",
       "      <td>0</td>\n",
       "      <td>0</td>\n",
       "      <td>0</td>\n",
       "      <td>1</td>\n",
       "    </tr>\n",
       "    <tr>\n",
       "      <th>20-1T-AD</th>\n",
       "      <td>1633</td>\n",
       "      <td>261</td>\n",
       "      <td>300</td>\n",
       "      <td>139</td>\n",
       "      <td>770</td>\n",
       "      <td>306</td>\n",
       "      <td>476</td>\n",
       "      <td>608</td>\n",
       "      <td>254</td>\n",
       "      <td>2452</td>\n",
       "      <td>...</td>\n",
       "      <td>15</td>\n",
       "      <td>0</td>\n",
       "      <td>0</td>\n",
       "      <td>0</td>\n",
       "      <td>0</td>\n",
       "      <td>0</td>\n",
       "      <td>0</td>\n",
       "      <td>0</td>\n",
       "      <td>0</td>\n",
       "      <td>1</td>\n",
       "    </tr>\n",
       "    <tr>\n",
       "      <th>23-2A-AD</th>\n",
       "      <td>900</td>\n",
       "      <td>353</td>\n",
       "      <td>229</td>\n",
       "      <td>134</td>\n",
       "      <td>1067</td>\n",
       "      <td>207</td>\n",
       "      <td>746</td>\n",
       "      <td>719</td>\n",
       "      <td>205</td>\n",
       "      <td>2194</td>\n",
       "      <td>...</td>\n",
       "      <td>11</td>\n",
       "      <td>0</td>\n",
       "      <td>0</td>\n",
       "      <td>0</td>\n",
       "      <td>0</td>\n",
       "      <td>0</td>\n",
       "      <td>0</td>\n",
       "      <td>0</td>\n",
       "      <td>0</td>\n",
       "      <td>1</td>\n",
       "    </tr>\n",
       "    <tr>\n",
       "      <th>22-2T-AD</th>\n",
       "      <td>1398</td>\n",
       "      <td>395</td>\n",
       "      <td>458</td>\n",
       "      <td>100</td>\n",
       "      <td>3641</td>\n",
       "      <td>227</td>\n",
       "      <td>495</td>\n",
       "      <td>517</td>\n",
       "      <td>228</td>\n",
       "      <td>1448</td>\n",
       "      <td>...</td>\n",
       "      <td>31</td>\n",
       "      <td>0</td>\n",
       "      <td>0</td>\n",
       "      <td>0</td>\n",
       "      <td>0</td>\n",
       "      <td>0</td>\n",
       "      <td>0</td>\n",
       "      <td>0</td>\n",
       "      <td>0</td>\n",
       "      <td>1</td>\n",
       "    </tr>\n",
       "    <tr>\n",
       "      <th>26-3A-AD</th>\n",
       "      <td>1257</td>\n",
       "      <td>326</td>\n",
       "      <td>258</td>\n",
       "      <td>136</td>\n",
       "      <td>879</td>\n",
       "      <td>220</td>\n",
       "      <td>419</td>\n",
       "      <td>603</td>\n",
       "      <td>281</td>\n",
       "      <td>2244</td>\n",
       "      <td>...</td>\n",
       "      <td>5</td>\n",
       "      <td>0</td>\n",
       "      <td>0</td>\n",
       "      <td>0</td>\n",
       "      <td>1</td>\n",
       "      <td>0</td>\n",
       "      <td>0</td>\n",
       "      <td>0</td>\n",
       "      <td>0</td>\n",
       "      <td>1</td>\n",
       "    </tr>\n",
       "    <tr>\n",
       "      <th>24-3T-AD</th>\n",
       "      <td>858</td>\n",
       "      <td>388</td>\n",
       "      <td>209</td>\n",
       "      <td>44</td>\n",
       "      <td>937</td>\n",
       "      <td>174</td>\n",
       "      <td>365</td>\n",
       "      <td>393</td>\n",
       "      <td>257</td>\n",
       "      <td>2081</td>\n",
       "      <td>...</td>\n",
       "      <td>12</td>\n",
       "      <td>0</td>\n",
       "      <td>0</td>\n",
       "      <td>0</td>\n",
       "      <td>0</td>\n",
       "      <td>0</td>\n",
       "      <td>0</td>\n",
       "      <td>0</td>\n",
       "      <td>0</td>\n",
       "      <td>1</td>\n",
       "    </tr>\n",
       "    <tr>\n",
       "      <th>27-5A-AD</th>\n",
       "      <td>784</td>\n",
       "      <td>290</td>\n",
       "      <td>180</td>\n",
       "      <td>85</td>\n",
       "      <td>751</td>\n",
       "      <td>136</td>\n",
       "      <td>553</td>\n",
       "      <td>387</td>\n",
       "      <td>191</td>\n",
       "      <td>1701</td>\n",
       "      <td>...</td>\n",
       "      <td>98</td>\n",
       "      <td>0</td>\n",
       "      <td>0</td>\n",
       "      <td>0</td>\n",
       "      <td>0</td>\n",
       "      <td>0</td>\n",
       "      <td>0</td>\n",
       "      <td>0</td>\n",
       "      <td>0</td>\n",
       "      <td>1</td>\n",
       "    </tr>\n",
       "    <tr>\n",
       "      <th>25-5T-AD</th>\n",
       "      <td>742</td>\n",
       "      <td>481</td>\n",
       "      <td>522</td>\n",
       "      <td>48</td>\n",
       "      <td>2079</td>\n",
       "      <td>129</td>\n",
       "      <td>196</td>\n",
       "      <td>451</td>\n",
       "      <td>193</td>\n",
       "      <td>1052</td>\n",
       "      <td>...</td>\n",
       "      <td>160</td>\n",
       "      <td>0</td>\n",
       "      <td>0</td>\n",
       "      <td>0</td>\n",
       "      <td>0</td>\n",
       "      <td>0</td>\n",
       "      <td>0</td>\n",
       "      <td>0</td>\n",
       "      <td>0</td>\n",
       "      <td>1</td>\n",
       "    </tr>\n",
       "    <tr>\n",
       "      <th>29-6T-AD</th>\n",
       "      <td>1088</td>\n",
       "      <td>329</td>\n",
       "      <td>247</td>\n",
       "      <td>131</td>\n",
       "      <td>700</td>\n",
       "      <td>194</td>\n",
       "      <td>252</td>\n",
       "      <td>455</td>\n",
       "      <td>198</td>\n",
       "      <td>1930</td>\n",
       "      <td>...</td>\n",
       "      <td>35</td>\n",
       "      <td>0</td>\n",
       "      <td>0</td>\n",
       "      <td>0</td>\n",
       "      <td>0</td>\n",
       "      <td>0</td>\n",
       "      <td>0</td>\n",
       "      <td>0</td>\n",
       "      <td>0</td>\n",
       "      <td>1</td>\n",
       "    </tr>\n",
       "    <tr>\n",
       "      <th>31-7T-AD</th>\n",
       "      <td>1020</td>\n",
       "      <td>305</td>\n",
       "      <td>266</td>\n",
       "      <td>163</td>\n",
       "      <td>675</td>\n",
       "      <td>216</td>\n",
       "      <td>546</td>\n",
       "      <td>488</td>\n",
       "      <td>245</td>\n",
       "      <td>1968</td>\n",
       "      <td>...</td>\n",
       "      <td>30</td>\n",
       "      <td>0</td>\n",
       "      <td>0</td>\n",
       "      <td>0</td>\n",
       "      <td>0</td>\n",
       "      <td>0</td>\n",
       "      <td>0</td>\n",
       "      <td>0</td>\n",
       "      <td>0</td>\n",
       "      <td>1</td>\n",
       "    </tr>\n",
       "    <tr>\n",
       "      <th>28-8T-AD</th>\n",
       "      <td>897</td>\n",
       "      <td>363</td>\n",
       "      <td>257</td>\n",
       "      <td>85</td>\n",
       "      <td>1371</td>\n",
       "      <td>156</td>\n",
       "      <td>432</td>\n",
       "      <td>404</td>\n",
       "      <td>219</td>\n",
       "      <td>1705</td>\n",
       "      <td>...</td>\n",
       "      <td>42</td>\n",
       "      <td>0</td>\n",
       "      <td>0</td>\n",
       "      <td>0</td>\n",
       "      <td>0</td>\n",
       "      <td>0</td>\n",
       "      <td>0</td>\n",
       "      <td>0</td>\n",
       "      <td>0</td>\n",
       "      <td>1</td>\n",
       "    </tr>\n",
       "    <tr>\n",
       "      <th>30-9T-AD</th>\n",
       "      <td>1675</td>\n",
       "      <td>336</td>\n",
       "      <td>353</td>\n",
       "      <td>240</td>\n",
       "      <td>1190</td>\n",
       "      <td>293</td>\n",
       "      <td>561</td>\n",
       "      <td>635</td>\n",
       "      <td>243</td>\n",
       "      <td>2069</td>\n",
       "      <td>...</td>\n",
       "      <td>39</td>\n",
       "      <td>0</td>\n",
       "      <td>0</td>\n",
       "      <td>0</td>\n",
       "      <td>0</td>\n",
       "      <td>0</td>\n",
       "      <td>0</td>\n",
       "      <td>0</td>\n",
       "      <td>0</td>\n",
       "      <td>1</td>\n",
       "    </tr>\n",
       "    <tr>\n",
       "      <th>18-10A-Old</th>\n",
       "      <td>1556</td>\n",
       "      <td>355</td>\n",
       "      <td>356</td>\n",
       "      <td>220</td>\n",
       "      <td>1214</td>\n",
       "      <td>246</td>\n",
       "      <td>433</td>\n",
       "      <td>639</td>\n",
       "      <td>215</td>\n",
       "      <td>2163</td>\n",
       "      <td>...</td>\n",
       "      <td>76</td>\n",
       "      <td>0</td>\n",
       "      <td>0</td>\n",
       "      <td>0</td>\n",
       "      <td>0</td>\n",
       "      <td>0</td>\n",
       "      <td>0</td>\n",
       "      <td>1</td>\n",
       "      <td>0</td>\n",
       "      <td>0</td>\n",
       "    </tr>\n",
       "    <tr>\n",
       "      <th>11-10T-Old</th>\n",
       "      <td>1054</td>\n",
       "      <td>379</td>\n",
       "      <td>594</td>\n",
       "      <td>147</td>\n",
       "      <td>599</td>\n",
       "      <td>368</td>\n",
       "      <td>452</td>\n",
       "      <td>422</td>\n",
       "      <td>340</td>\n",
       "      <td>1813</td>\n",
       "      <td>...</td>\n",
       "      <td>76</td>\n",
       "      <td>0</td>\n",
       "      <td>0</td>\n",
       "      <td>0</td>\n",
       "      <td>0</td>\n",
       "      <td>0</td>\n",
       "      <td>0</td>\n",
       "      <td>0</td>\n",
       "      <td>0</td>\n",
       "      <td>0</td>\n",
       "    </tr>\n",
       "    <tr>\n",
       "      <th>19-11A-Old</th>\n",
       "      <td>1143</td>\n",
       "      <td>279</td>\n",
       "      <td>237</td>\n",
       "      <td>181</td>\n",
       "      <td>716</td>\n",
       "      <td>228</td>\n",
       "      <td>440</td>\n",
       "      <td>458</td>\n",
       "      <td>157</td>\n",
       "      <td>1571</td>\n",
       "      <td>...</td>\n",
       "      <td>24</td>\n",
       "      <td>0</td>\n",
       "      <td>0</td>\n",
       "      <td>0</td>\n",
       "      <td>3</td>\n",
       "      <td>0</td>\n",
       "      <td>0</td>\n",
       "      <td>0</td>\n",
       "      <td>0</td>\n",
       "      <td>0</td>\n",
       "    </tr>\n",
       "    <tr>\n",
       "      <th>13-11T-Old</th>\n",
       "      <td>1508</td>\n",
       "      <td>497</td>\n",
       "      <td>268</td>\n",
       "      <td>180</td>\n",
       "      <td>1469</td>\n",
       "      <td>324</td>\n",
       "      <td>689</td>\n",
       "      <td>745</td>\n",
       "      <td>235</td>\n",
       "      <td>2157</td>\n",
       "      <td>...</td>\n",
       "      <td>65</td>\n",
       "      <td>0</td>\n",
       "      <td>0</td>\n",
       "      <td>0</td>\n",
       "      <td>0</td>\n",
       "      <td>0</td>\n",
       "      <td>0</td>\n",
       "      <td>0</td>\n",
       "      <td>0</td>\n",
       "      <td>0</td>\n",
       "    </tr>\n",
       "    <tr>\n",
       "      <th>15-13T-Old</th>\n",
       "      <td>1159</td>\n",
       "      <td>328</td>\n",
       "      <td>412</td>\n",
       "      <td>181</td>\n",
       "      <td>626</td>\n",
       "      <td>309</td>\n",
       "      <td>467</td>\n",
       "      <td>476</td>\n",
       "      <td>212</td>\n",
       "      <td>1907</td>\n",
       "      <td>...</td>\n",
       "      <td>17</td>\n",
       "      <td>0</td>\n",
       "      <td>0</td>\n",
       "      <td>0</td>\n",
       "      <td>0</td>\n",
       "      <td>0</td>\n",
       "      <td>0</td>\n",
       "      <td>0</td>\n",
       "      <td>0</td>\n",
       "      <td>0</td>\n",
       "    </tr>\n",
       "    <tr>\n",
       "      <th>16-14T-Old</th>\n",
       "      <td>2232</td>\n",
       "      <td>296</td>\n",
       "      <td>435</td>\n",
       "      <td>244</td>\n",
       "      <td>747</td>\n",
       "      <td>595</td>\n",
       "      <td>374</td>\n",
       "      <td>570</td>\n",
       "      <td>293</td>\n",
       "      <td>2802</td>\n",
       "      <td>...</td>\n",
       "      <td>35</td>\n",
       "      <td>0</td>\n",
       "      <td>0</td>\n",
       "      <td>0</td>\n",
       "      <td>0</td>\n",
       "      <td>0</td>\n",
       "      <td>0</td>\n",
       "      <td>0</td>\n",
       "      <td>0</td>\n",
       "      <td>0</td>\n",
       "    </tr>\n",
       "    <tr>\n",
       "      <th>12-6A-Old</th>\n",
       "      <td>2073</td>\n",
       "      <td>335</td>\n",
       "      <td>396</td>\n",
       "      <td>278</td>\n",
       "      <td>1592</td>\n",
       "      <td>299</td>\n",
       "      <td>437</td>\n",
       "      <td>777</td>\n",
       "      <td>279</td>\n",
       "      <td>2324</td>\n",
       "      <td>...</td>\n",
       "      <td>18</td>\n",
       "      <td>0</td>\n",
       "      <td>0</td>\n",
       "      <td>0</td>\n",
       "      <td>0</td>\n",
       "      <td>0</td>\n",
       "      <td>0</td>\n",
       "      <td>0</td>\n",
       "      <td>0</td>\n",
       "      <td>0</td>\n",
       "    </tr>\n",
       "    <tr>\n",
       "      <th>14-7A-Old</th>\n",
       "      <td>955</td>\n",
       "      <td>283</td>\n",
       "      <td>255</td>\n",
       "      <td>184</td>\n",
       "      <td>1156</td>\n",
       "      <td>172</td>\n",
       "      <td>490</td>\n",
       "      <td>441</td>\n",
       "      <td>149</td>\n",
       "      <td>1646</td>\n",
       "      <td>...</td>\n",
       "      <td>11</td>\n",
       "      <td>0</td>\n",
       "      <td>0</td>\n",
       "      <td>0</td>\n",
       "      <td>0</td>\n",
       "      <td>0</td>\n",
       "      <td>0</td>\n",
       "      <td>0</td>\n",
       "      <td>0</td>\n",
       "      <td>0</td>\n",
       "    </tr>\n",
       "    <tr>\n",
       "      <th>10-8A-Old</th>\n",
       "      <td>2609</td>\n",
       "      <td>205</td>\n",
       "      <td>389</td>\n",
       "      <td>312</td>\n",
       "      <td>673</td>\n",
       "      <td>464</td>\n",
       "      <td>374</td>\n",
       "      <td>669</td>\n",
       "      <td>276</td>\n",
       "      <td>2905</td>\n",
       "      <td>...</td>\n",
       "      <td>11</td>\n",
       "      <td>0</td>\n",
       "      <td>0</td>\n",
       "      <td>0</td>\n",
       "      <td>0</td>\n",
       "      <td>0</td>\n",
       "      <td>0</td>\n",
       "      <td>0</td>\n",
       "      <td>0</td>\n",
       "      <td>0</td>\n",
       "    </tr>\n",
       "    <tr>\n",
       "      <th>17-9A-Old</th>\n",
       "      <td>2027</td>\n",
       "      <td>379</td>\n",
       "      <td>327</td>\n",
       "      <td>238</td>\n",
       "      <td>3900</td>\n",
       "      <td>296</td>\n",
       "      <td>463</td>\n",
       "      <td>708</td>\n",
       "      <td>273</td>\n",
       "      <td>2004</td>\n",
       "      <td>...</td>\n",
       "      <td>29</td>\n",
       "      <td>0</td>\n",
       "      <td>0</td>\n",
       "      <td>0</td>\n",
       "      <td>0</td>\n",
       "      <td>0</td>\n",
       "      <td>0</td>\n",
       "      <td>0</td>\n",
       "      <td>0</td>\n",
       "      <td>0</td>\n",
       "    </tr>\n",
       "    <tr>\n",
       "      <th>2-12A-Young</th>\n",
       "      <td>2502</td>\n",
       "      <td>353</td>\n",
       "      <td>639</td>\n",
       "      <td>278</td>\n",
       "      <td>2539</td>\n",
       "      <td>594</td>\n",
       "      <td>501</td>\n",
       "      <td>1048</td>\n",
       "      <td>411</td>\n",
       "      <td>2725</td>\n",
       "      <td>...</td>\n",
       "      <td>114</td>\n",
       "      <td>0</td>\n",
       "      <td>0</td>\n",
       "      <td>0</td>\n",
       "      <td>0</td>\n",
       "      <td>0</td>\n",
       "      <td>0</td>\n",
       "      <td>0</td>\n",
       "      <td>0</td>\n",
       "      <td>0</td>\n",
       "    </tr>\n",
       "    <tr>\n",
       "      <th>4-13A-Young</th>\n",
       "      <td>2529</td>\n",
       "      <td>219</td>\n",
       "      <td>271</td>\n",
       "      <td>274</td>\n",
       "      <td>1031</td>\n",
       "      <td>433</td>\n",
       "      <td>270</td>\n",
       "      <td>826</td>\n",
       "      <td>348</td>\n",
       "      <td>3176</td>\n",
       "      <td>...</td>\n",
       "      <td>5</td>\n",
       "      <td>0</td>\n",
       "      <td>0</td>\n",
       "      <td>0</td>\n",
       "      <td>0</td>\n",
       "      <td>0</td>\n",
       "      <td>0</td>\n",
       "      <td>0</td>\n",
       "      <td>0</td>\n",
       "      <td>0</td>\n",
       "    </tr>\n",
       "    <tr>\n",
       "      <th>6-14A-Young</th>\n",
       "      <td>2526</td>\n",
       "      <td>162</td>\n",
       "      <td>336</td>\n",
       "      <td>358</td>\n",
       "      <td>618</td>\n",
       "      <td>462</td>\n",
       "      <td>354</td>\n",
       "      <td>668</td>\n",
       "      <td>282</td>\n",
       "      <td>2867</td>\n",
       "      <td>...</td>\n",
       "      <td>15</td>\n",
       "      <td>0</td>\n",
       "      <td>0</td>\n",
       "      <td>0</td>\n",
       "      <td>0</td>\n",
       "      <td>0</td>\n",
       "      <td>0</td>\n",
       "      <td>0</td>\n",
       "      <td>0</td>\n",
       "      <td>0</td>\n",
       "    </tr>\n",
       "    <tr>\n",
       "      <th>8-15A-Young</th>\n",
       "      <td>1127</td>\n",
       "      <td>301</td>\n",
       "      <td>335</td>\n",
       "      <td>26</td>\n",
       "      <td>6372</td>\n",
       "      <td>220</td>\n",
       "      <td>172</td>\n",
       "      <td>799</td>\n",
       "      <td>215</td>\n",
       "      <td>394</td>\n",
       "      <td>...</td>\n",
       "      <td>39</td>\n",
       "      <td>0</td>\n",
       "      <td>0</td>\n",
       "      <td>0</td>\n",
       "      <td>0</td>\n",
       "      <td>0</td>\n",
       "      <td>0</td>\n",
       "      <td>0</td>\n",
       "      <td>0</td>\n",
       "      <td>0</td>\n",
       "    </tr>\n",
       "    <tr>\n",
       "      <th>9-16A-Young</th>\n",
       "      <td>1241</td>\n",
       "      <td>305</td>\n",
       "      <td>342</td>\n",
       "      <td>181</td>\n",
       "      <td>573</td>\n",
       "      <td>321</td>\n",
       "      <td>460</td>\n",
       "      <td>316</td>\n",
       "      <td>190</td>\n",
       "      <td>1660</td>\n",
       "      <td>...</td>\n",
       "      <td>45</td>\n",
       "      <td>0</td>\n",
       "      <td>0</td>\n",
       "      <td>0</td>\n",
       "      <td>0</td>\n",
       "      <td>0</td>\n",
       "      <td>0</td>\n",
       "      <td>0</td>\n",
       "      <td>0</td>\n",
       "      <td>0</td>\n",
       "    </tr>\n",
       "    <tr>\n",
       "      <th>3-17T-Young</th>\n",
       "      <td>581</td>\n",
       "      <td>399</td>\n",
       "      <td>548</td>\n",
       "      <td>36</td>\n",
       "      <td>2791</td>\n",
       "      <td>116</td>\n",
       "      <td>263</td>\n",
       "      <td>513</td>\n",
       "      <td>174</td>\n",
       "      <td>626</td>\n",
       "      <td>...</td>\n",
       "      <td>56</td>\n",
       "      <td>0</td>\n",
       "      <td>0</td>\n",
       "      <td>0</td>\n",
       "      <td>0</td>\n",
       "      <td>0</td>\n",
       "      <td>0</td>\n",
       "      <td>0</td>\n",
       "      <td>0</td>\n",
       "      <td>0</td>\n",
       "    </tr>\n",
       "    <tr>\n",
       "      <th>5-18T-Young</th>\n",
       "      <td>1187</td>\n",
       "      <td>531</td>\n",
       "      <td>761</td>\n",
       "      <td>81</td>\n",
       "      <td>5881</td>\n",
       "      <td>233</td>\n",
       "      <td>423</td>\n",
       "      <td>795</td>\n",
       "      <td>250</td>\n",
       "      <td>1072</td>\n",
       "      <td>...</td>\n",
       "      <td>149</td>\n",
       "      <td>0</td>\n",
       "      <td>0</td>\n",
       "      <td>0</td>\n",
       "      <td>0</td>\n",
       "      <td>0</td>\n",
       "      <td>0</td>\n",
       "      <td>0</td>\n",
       "      <td>0</td>\n",
       "      <td>0</td>\n",
       "    </tr>\n",
       "    <tr>\n",
       "      <th>7-19T-Young</th>\n",
       "      <td>1175</td>\n",
       "      <td>324</td>\n",
       "      <td>574</td>\n",
       "      <td>144</td>\n",
       "      <td>1154</td>\n",
       "      <td>282</td>\n",
       "      <td>274</td>\n",
       "      <td>471</td>\n",
       "      <td>217</td>\n",
       "      <td>1432</td>\n",
       "      <td>...</td>\n",
       "      <td>29</td>\n",
       "      <td>0</td>\n",
       "      <td>0</td>\n",
       "      <td>0</td>\n",
       "      <td>0</td>\n",
       "      <td>0</td>\n",
       "      <td>0</td>\n",
       "      <td>0</td>\n",
       "      <td>0</td>\n",
       "      <td>0</td>\n",
       "    </tr>\n",
       "  </tbody>\n",
       "</table>\n",
       "<p>30 rows × 27131 columns</p>\n",
       "</div>"
      ],
      "text/plain": [
       "refGene      SGIP1  NECAP2  AZIN2  AGBL4  CLIC4  SLC45A1  TGFBR3   DBT  \\\n",
       "21-1A-AD      1137     270    217    144    871      179     633   532   \n",
       "20-1T-AD      1633     261    300    139    770      306     476   608   \n",
       "23-2A-AD       900     353    229    134   1067      207     746   719   \n",
       "22-2T-AD      1398     395    458    100   3641      227     495   517   \n",
       "26-3A-AD      1257     326    258    136    879      220     419   603   \n",
       "24-3T-AD       858     388    209     44    937      174     365   393   \n",
       "27-5A-AD       784     290    180     85    751      136     553   387   \n",
       "25-5T-AD       742     481    522     48   2079      129     196   451   \n",
       "29-6T-AD      1088     329    247    131    700      194     252   455   \n",
       "31-7T-AD      1020     305    266    163    675      216     546   488   \n",
       "28-8T-AD       897     363    257     85   1371      156     432   404   \n",
       "30-9T-AD      1675     336    353    240   1190      293     561   635   \n",
       "18-10A-Old    1556     355    356    220   1214      246     433   639   \n",
       "11-10T-Old    1054     379    594    147    599      368     452   422   \n",
       "19-11A-Old    1143     279    237    181    716      228     440   458   \n",
       "13-11T-Old    1508     497    268    180   1469      324     689   745   \n",
       "15-13T-Old    1159     328    412    181    626      309     467   476   \n",
       "16-14T-Old    2232     296    435    244    747      595     374   570   \n",
       "12-6A-Old     2073     335    396    278   1592      299     437   777   \n",
       "14-7A-Old      955     283    255    184   1156      172     490   441   \n",
       "10-8A-Old     2609     205    389    312    673      464     374   669   \n",
       "17-9A-Old     2027     379    327    238   3900      296     463   708   \n",
       "2-12A-Young   2502     353    639    278   2539      594     501  1048   \n",
       "4-13A-Young   2529     219    271    274   1031      433     270   826   \n",
       "6-14A-Young   2526     162    336    358    618      462     354   668   \n",
       "8-15A-Young   1127     301    335     26   6372      220     172   799   \n",
       "9-16A-Young   1241     305    342    181    573      321     460   316   \n",
       "3-17T-Young    581     399    548     36   2791      116     263   513   \n",
       "5-18T-Young   1187     531    761     81   5881      233     423   795   \n",
       "7-19T-Young   1175     324    574    144   1154      282     274   471   \n",
       "\n",
       "refGene      PRUNE1  C1orf21  ...  MGC70870  KIR2DL5A  KIR2DS2  KIR2DL2  \\\n",
       "21-1A-AD        244     1835  ...        33         0        0        0   \n",
       "20-1T-AD        254     2452  ...        15         0        0        0   \n",
       "23-2A-AD        205     2194  ...        11         0        0        0   \n",
       "22-2T-AD        228     1448  ...        31         0        0        0   \n",
       "26-3A-AD        281     2244  ...         5         0        0        0   \n",
       "24-3T-AD        257     2081  ...        12         0        0        0   \n",
       "27-5A-AD        191     1701  ...        98         0        0        0   \n",
       "25-5T-AD        193     1052  ...       160         0        0        0   \n",
       "29-6T-AD        198     1930  ...        35         0        0        0   \n",
       "31-7T-AD        245     1968  ...        30         0        0        0   \n",
       "28-8T-AD        219     1705  ...        42         0        0        0   \n",
       "30-9T-AD        243     2069  ...        39         0        0        0   \n",
       "18-10A-Old      215     2163  ...        76         0        0        0   \n",
       "11-10T-Old      340     1813  ...        76         0        0        0   \n",
       "19-11A-Old      157     1571  ...        24         0        0        0   \n",
       "13-11T-Old      235     2157  ...        65         0        0        0   \n",
       "15-13T-Old      212     1907  ...        17         0        0        0   \n",
       "16-14T-Old      293     2802  ...        35         0        0        0   \n",
       "12-6A-Old       279     2324  ...        18         0        0        0   \n",
       "14-7A-Old       149     1646  ...        11         0        0        0   \n",
       "10-8A-Old       276     2905  ...        11         0        0        0   \n",
       "17-9A-Old       273     2004  ...        29         0        0        0   \n",
       "2-12A-Young     411     2725  ...       114         0        0        0   \n",
       "4-13A-Young     348     3176  ...         5         0        0        0   \n",
       "6-14A-Young     282     2867  ...        15         0        0        0   \n",
       "8-15A-Young     215      394  ...        39         0        0        0   \n",
       "9-16A-Young     190     1660  ...        45         0        0        0   \n",
       "3-17T-Young     174      626  ...        56         0        0        0   \n",
       "5-18T-Young     250     1072  ...       149         0        0        0   \n",
       "7-19T-Young     217     1432  ...        29         0        0        0   \n",
       "\n",
       "refGene      KIR3DS1  KIR2DS3  KIR2DS5  KIR2DS1  KIR2DL5B  class  \n",
       "21-1A-AD           1        0        0        0         0      1  \n",
       "20-1T-AD           0        0        0        0         0      1  \n",
       "23-2A-AD           0        0        0        0         0      1  \n",
       "22-2T-AD           0        0        0        0         0      1  \n",
       "26-3A-AD           1        0        0        0         0      1  \n",
       "24-3T-AD           0        0        0        0         0      1  \n",
       "27-5A-AD           0        0        0        0         0      1  \n",
       "25-5T-AD           0        0        0        0         0      1  \n",
       "29-6T-AD           0        0        0        0         0      1  \n",
       "31-7T-AD           0        0        0        0         0      1  \n",
       "28-8T-AD           0        0        0        0         0      1  \n",
       "30-9T-AD           0        0        0        0         0      1  \n",
       "18-10A-Old         0        0        0        1         0      0  \n",
       "11-10T-Old         0        0        0        0         0      0  \n",
       "19-11A-Old         3        0        0        0         0      0  \n",
       "13-11T-Old         0        0        0        0         0      0  \n",
       "15-13T-Old         0        0        0        0         0      0  \n",
       "16-14T-Old         0        0        0        0         0      0  \n",
       "12-6A-Old          0        0        0        0         0      0  \n",
       "14-7A-Old          0        0        0        0         0      0  \n",
       "10-8A-Old          0        0        0        0         0      0  \n",
       "17-9A-Old          0        0        0        0         0      0  \n",
       "2-12A-Young        0        0        0        0         0      0  \n",
       "4-13A-Young        0        0        0        0         0      0  \n",
       "6-14A-Young        0        0        0        0         0      0  \n",
       "8-15A-Young        0        0        0        0         0      0  \n",
       "9-16A-Young        0        0        0        0         0      0  \n",
       "3-17T-Young        0        0        0        0         0      0  \n",
       "5-18T-Young        0        0        0        0         0      0  \n",
       "7-19T-Young        0        0        0        0         0      0  \n",
       "\n",
       "[30 rows x 27131 columns]"
      ]
     },
     "execution_count": 9,
     "metadata": {},
     "output_type": "execute_result"
    }
   ],
   "source": [
    "df_T.fillna(0)"
   ]
  },
  {
   "cell_type": "code",
   "execution_count": 10,
   "metadata": {
    "colab": {
     "base_uri": "https://localhost:8080/"
    },
    "id": "tHLn-h-c0xZA",
    "outputId": "b2d6fd2d-69a8-431f-8555-0fe69c0e914d"
   },
   "outputs": [
    {
     "data": {
      "text/plain": [
       "class\n",
       "0    18\n",
       "1    12\n",
       "dtype: int64"
      ]
     },
     "execution_count": 10,
     "metadata": {},
     "output_type": "execute_result"
    }
   ],
   "source": [
    "df_T.groupby('class').size()"
   ]
  },
  {
   "cell_type": "code",
   "execution_count": 11,
   "metadata": {
    "id": "bmA1L5XR011R"
   },
   "outputs": [],
   "source": [
    "# Get labels for training data\n",
    "Y = df_T[\"class\"].values\n",
    "\n",
    "# Get training data as numpy array\n",
    "X = df_T.drop(['class'], axis=1).astype(float).values\n",
    "scaler = sklearn.preprocessing.StandardScaler()\n",
    "scaler.fit(X)\n",
    "X = scaler.transform(X)    \n",
    "\n",
    "# Split the data for cross-validation\n",
    "X_train, X_test, Y_train, Y_test = train_test_split(X, Y, test_size=0.33, random_state=seed)"
   ]
  },
  {
   "cell_type": "code",
   "execution_count": 12,
   "metadata": {
    "colab": {
     "base_uri": "https://localhost:8080/",
     "height": 171
    },
    "id": "Dd5Vk1yfGGCw",
    "outputId": "5f03f83f-a67d-4def-9265-c6c2f15d29bf"
   },
   "outputs": [
    {
     "data": {
      "text/plain": [
       "array([[ 0.23523345,  0.26460374, -0.06835483, ...,  0.        ,\n",
       "         5.38516481,  0.        ],\n",
       "       [-0.62734648,  0.57040582,  1.60880492, ...,  0.        ,\n",
       "        -0.18569534,  0.        ],\n",
       "       [-0.44692638, -0.0794236 ,  0.32627099, ...,  0.        ,\n",
       "        -0.18569534,  0.        ],\n",
       "       ...,\n",
       "       [-0.50191155, -0.42345093, -0.21633951, ...,  0.        ,\n",
       "        -0.18569534,  0.        ],\n",
       "       [-0.27853428, -0.1049071 , -0.75895002, ...,  0.        ,\n",
       "        -0.18569534,  0.        ],\n",
       "       [ 0.15275569,  2.0739327 , -0.68848113, ...,  0.        ,\n",
       "        -0.18569534,  0.        ]])"
      ]
     },
     "execution_count": 12,
     "metadata": {},
     "output_type": "execute_result"
    }
   ],
   "source": [
    "X_train"
   ]
  },
  {
   "cell_type": "code",
   "execution_count": 13,
   "metadata": {
    "colab": {
     "base_uri": "https://localhost:8080/"
    },
    "id": "enmZNTdnJU-k",
    "outputId": "eba85156-3dda-4d3e-ce30-0181d03055c4"
   },
   "outputs": [
    {
     "name": "stdout",
     "output_type": "stream",
     "text": [
      "Best: 0.830688 using {'max_features': 'sqrt', 'n_estimators': 1000}\n"
     ]
    }
   ],
   "source": [
    "# define models and parameters\n",
    "model = RandomForestClassifier()\n",
    "n_estimators = [10, 50, 100, 500, 1000]\n",
    "max_features = ['sqrt', 'log2']\n",
    "\n",
    "# define grid search\n",
    "grid = dict(n_estimators=n_estimators, max_features=max_features)\n",
    "cv = RepeatedStratifiedKFold(n_splits=3, n_repeats=3, random_state=1)\n",
    "grid_search = GridSearchCV(estimator=model, param_grid=grid, n_jobs=-1, cv=cv, scoring='accuracy', error_score=0)\n",
    "grid_result = grid_search.fit(X_train, Y_train)\n",
    "print(\"Best: %f using %s\" % (grid_result.best_score_, grid_result.best_params_))"
   ]
  },
  {
   "cell_type": "code",
   "execution_count": 14,
   "metadata": {
    "id": "bemYLsYzllg6"
   },
   "outputs": [],
   "source": [
    "# random forest classifier with n_estimators=10 (default)\n",
    "# without tuning clf_rf = RandomForestClassifier(random_state=43)\n",
    "# with tuning\n",
    "clf_rf = RandomForestClassifier(random_state=43, \n",
    "                                n_estimators=grid_result.best_params_.get('n_estimators'), \n",
    "                                max_features=grid_result.best_params_.get('max_features'))     \n",
    "clr_rf = clf_rf.fit(X_train,Y_train)"
   ]
  },
  {
   "cell_type": "code",
   "execution_count": 15,
   "metadata": {
    "colab": {
     "base_uri": "https://localhost:8080/",
     "height": 305
    },
    "id": "DqZMerfOJFD6",
    "outputId": "ca19dcac-6649-49c4-815f-673d4aa3d858"
   },
   "outputs": [
    {
     "name": "stdout",
     "output_type": "stream",
     "text": [
      "Accuracy is:  0.7\n"
     ]
    },
    {
     "data": {
      "text/plain": [
       "<AxesSubplot:>"
      ]
     },
     "execution_count": 15,
     "metadata": {},
     "output_type": "execute_result"
    },
    {
     "data": {
      "image/png": "[encoded data removed]",
      "text/plain": [
       "<Figure size 432x288 with 2 Axes>"
      ]
     },
     "metadata": {
      "needs_background": "light"
     },
     "output_type": "display_data"
    }
   ],
   "source": [
    "ac = accuracy_score(Y_test,clf_rf.predict(X_test))\n",
    "print('Accuracy is: ', ac)\n",
    "\n",
    "# we get the true negative, false pos, false negative and true pos \n",
    "# we see the percentage of the represented data in each quadrant \n",
    "cm = confusion_matrix(Y_test,clf_rf.predict(X_test))\n",
    "sns.heatmap(cm/np.sum(cm),annot=True,fmt='.2%')"
   ]
  },
  {
   "cell_type": "code",
   "execution_count": 16,
   "metadata": {
    "colab": {
     "base_uri": "https://localhost:8080/",
     "height": 287
    },
    "id": "2VRJUaFCJRDP",
    "outputId": "4cfaa5a4-316c-4e5f-c6e3-e2049f408e2c"
   },
   "outputs": [
    {
     "data": {
      "text/plain": [
       "<AxesSubplot:>"
      ]
     },
     "execution_count": 16,
     "metadata": {},
     "output_type": "execute_result"
    },
    {
     "data": {
      "image/png": "[encoded data removed]",
      "text/plain": [
       "<Figure size 432x288 with 2 Axes>"
      ]
     },
     "metadata": {
      "needs_background": "light"
     },
     "output_type": "display_data"
    }
   ],
   "source": [
    "group_names = [\"True Neg\", \"False Pos\", \"False Neg\", \"True Pos\"]\n",
    "group_counts = [\"{0:0.0f}\".format(value) for value in cm.flatten()]\n",
    "group_percentages = [\"{0:.2%}\".format(value) for value in cm.flatten()/np.sum(cm)]\n",
    "\n",
    "labels = [f\"{v1}\\n{v2}\\n{v3}\" for v1, v2, v3 in\n",
    "          zip(group_names,group_counts,group_percentages)]\n",
    "labels = np.asarray(labels).reshape(2,2)\n",
    "\n",
    "sns.heatmap(cm, annot=labels, fmt='', cmap='Blues')"
   ]
  },
  {
   "cell_type": "code",
   "execution_count": 17,
   "metadata": {},
   "outputs": [],
   "source": [
    "#def r2(clf_rf, X_train, Y_train):\n",
    "#    return r2_score(Y_train, clf_rf.predict(X_train))\n",
    "\n",
    "#perm_imp_rfpimp = permutation_importances(clf_rf, X_train, Y_train, r2)"
   ]
  },
  {
   "cell_type": "code",
   "execution_count": null,
   "metadata": {},
   "outputs": [],
   "source": [
    "from sklearn.inspection import permutation_importance\n",
    "r_rf = permutation_importance(clf_rf, X_test, Y_test,\n",
    "                           n_repeats=10,\n",
    "                           random_state=43)"
   ]
  },
  {
   "cell_type": "code",
   "execution_count": 18,
   "metadata": {
    "colab": {
     "base_uri": "https://localhost:8080/",
     "height": 395
    },
    "id": "B4dlEn1xJVK4",
    "outputId": "dbcefb09-679e-469f-ce1a-783aa1a6e96c"
   },
   "outputs": [
    {
     "ename": "TypeError",
     "evalue": "'builtin_function_or_method' object is not iterable",
     "output_type": "error",
     "traceback": [
      "\u001b[0;31m---------------------------------------------------------------------------\u001b[0m",
      "\u001b[0;31mTypeError\u001b[0m                                 Traceback (most recent call last)",
      "Input \u001b[0;32mIn [18]\u001b[0m, in \u001b[0;36m<cell line: 8>\u001b[0;34m()\u001b[0m\n\u001b[1;32m      6\u001b[0m fig \u001b[38;5;241m=\u001b[39m plt\u001b[38;5;241m.\u001b[39mfigure(figsize\u001b[38;5;241m=\u001b[39m(\u001b[38;5;241m10\u001b[39m,\u001b[38;5;241m10\u001b[39m))\n\u001b[1;32m      7\u001b[0m ax \u001b[38;5;241m=\u001b[39m fig\u001b[38;5;241m.\u001b[39madd_axes([\u001b[38;5;241m0\u001b[39m,\u001b[38;5;241m0\u001b[39m,\u001b[38;5;241m1\u001b[39m,\u001b[38;5;241m1\u001b[39m])\n\u001b[0;32m----> 8\u001b[0m flat_list \u001b[38;5;241m=\u001b[39m [item \u001b[38;5;28;01mfor\u001b[39;00m sublist \u001b[38;5;129;01min\u001b[39;00m r\u001b[38;5;241m.\u001b[39mvalues \u001b[38;5;28;01mfor\u001b[39;00m item \u001b[38;5;129;01min\u001b[39;00m sublist]\n\u001b[1;32m      9\u001b[0m ax\u001b[38;5;241m.\u001b[39mbar(\u001b[38;5;28mlist\u001b[39m(r\u001b[38;5;241m.\u001b[39mindex),flat_list)\n\u001b[1;32m     10\u001b[0m ax\u001b[38;5;241m.\u001b[39mset_xlabel(\u001b[38;5;124m'\u001b[39m\u001b[38;5;124mfeatures\u001b[39m\u001b[38;5;124m'\u001b[39m)\n",
      "\u001b[0;31mTypeError\u001b[0m: 'builtin_function_or_method' object is not iterable"
     ]
    },
    {
     "data": {
      "image/png": "[encoded data removed]",
      "text/plain": [
       "<Figure size 720x720 with 1 Axes>"
      ]
     },
     "metadata": {
      "needs_background": "light"
     },
     "output_type": "display_data"
    }
   ],
   "source": [
    "fig = plt.figure(figsize=(10,10))\n",
    "ax = fig.add_axes([0,0,1,1])\n",
    "flat_list = [item for sublist in r.values for item in sublist]\n",
    "ax.bar(list(r.index),flat_list)\n",
    "ax.set_xlabel('features')\n",
    "ax.set_ylabel('feature_importance')\n",
    "fig.autofmt_xdate(rotation=45)\n",
    "plt.show()"
   ]
  },
  {
   "cell_type": "markdown",
   "metadata": {},
   "source": [
    "### SVM with RNA only"
   ]
  },
  {
   "cell_type": "code",
   "execution_count": 19,
   "metadata": {},
   "outputs": [
    {
     "name": "stdout",
     "output_type": "stream",
     "text": [
      "Best: 0.865079 using {'gamma': 'scale', 'kernel': 'linear'}\n"
     ]
    }
   ],
   "source": [
    "# define models and parameters\n",
    "model = sklearn.svm.SVC()\n",
    "kernel = ['linear', 'poly', 'rbf', 'sigmoid']\n",
    "gamma = ['scale', 'auto'] # for poly, rbf, sigmoid\n",
    "\n",
    "# define grid search\n",
    "grid = dict(kernel=kernel, gamma=gamma)\n",
    "cv = RepeatedStratifiedKFold(n_splits=3, n_repeats=3, random_state=1)\n",
    "grid_search = GridSearchCV(estimator=model, param_grid=grid, n_jobs=-1, cv=cv, scoring='accuracy', error_score=0)\n",
    "grid_result = grid_search.fit(X_train, Y_train)\n",
    "print(\"Best: %f using %s\" % (grid_result.best_score_, grid_result.best_params_))"
   ]
  },
  {
   "cell_type": "code",
   "execution_count": 20,
   "metadata": {},
   "outputs": [],
   "source": [
    "clf_svm = sklearn.svm.SVC(kernel=grid_result.best_params_.get('kernel'), \n",
    "                  gamma=grid_result.best_params_.get('gamma'))     \n",
    "clr_svm = clf_svm.fit(X_train,Y_train)"
   ]
  },
  {
   "cell_type": "code",
   "execution_count": 21,
   "metadata": {},
   "outputs": [
    {
     "name": "stdout",
     "output_type": "stream",
     "text": [
      "Accuracy is:  0.8\n"
     ]
    },
    {
     "data": {
      "text/plain": [
       "<AxesSubplot:>"
      ]
     },
     "execution_count": 21,
     "metadata": {},
     "output_type": "execute_result"
    },
    {
     "data": {
      "image/png": "[encoded data removed]",
      "text/plain": [
       "<Figure size 432x288 with 2 Axes>"
      ]
     },
     "metadata": {
      "needs_background": "light"
     },
     "output_type": "display_data"
    }
   ],
   "source": [
    "ac = accuracy_score(Y_test,clf_svm.predict(X_test))\n",
    "print('Accuracy is: ', ac)\n",
    "\n",
    "# we get the true negative, false pos, false negative and true pos \n",
    "# we see the percentage of the represented data in each quadrant \n",
    "cm = confusion_matrix(Y_test, clf_svm.predict(X_test))\n",
    "sns.heatmap(cm/np.sum(cm),annot=True,fmt='.2%')"
   ]
  },
  {
   "cell_type": "code",
   "execution_count": 22,
   "metadata": {},
   "outputs": [
    {
     "data": {
      "text/plain": [
       "<AxesSubplot:>"
      ]
     },
     "execution_count": 22,
     "metadata": {},
     "output_type": "execute_result"
    },
    {
     "data": {
      "image/png": "[encoded data removed]",
      "text/plain": [
       "<Figure size 432x288 with 2 Axes>"
      ]
     },
     "metadata": {
      "needs_background": "light"
     },
     "output_type": "display_data"
    }
   ],
   "source": [
    "group_names = [\"True Neg\", \"False Pos\", \"False Neg\", \"True Pos\"]\n",
    "group_counts = [\"{0:0.0f}\".format(value) for value in cm.flatten()]\n",
    "group_percentages = [\"{0:.2%}\".format(value) for value in cm.flatten()/np.sum(cm)]\n",
    "\n",
    "labels = [f\"{v1}\\n{v2}\\n{v3}\" for v1, v2, v3 in\n",
    "          zip(group_names, group_counts, group_percentages)]\n",
    "labels = np.asarray(labels).reshape(2,2)\n",
    "\n",
    "sns.heatmap(cm, annot=labels, fmt='', cmap='Blues')"
   ]
  },
  {
   "cell_type": "code",
   "execution_count": 23,
   "metadata": {},
   "outputs": [
    {
     "data": {
      "image/png": "[encoded data removed]",
      "text/plain": [
       "<Figure size 432x288 with 1 Axes>"
      ]
     },
     "metadata": {
      "needs_background": "light"
     },
     "output_type": "display_data"
    }
   ],
   "source": [
    "fpr_rf, tpr_rf, _ = roc_curve(Y_test, clf_rf.predict(X_test), pos_label=1)\n",
    "roc_auc_rf = auc(fpr_rf, tpr_rf)\n",
    "\n",
    "fpr_svm, tpr_svm, _ = roc_curve(Y_test, clf_svm.predict(X_test), pos_label=1)\n",
    "roc_auc_svm = auc(fpr_svm, tpr_svm)\n",
    "\n",
    "plt.figure()\n",
    "plt.plot(fpr_rf, tpr_rf, color=\"darkorange\", lw=2,\n",
    "         label=\"Random Forest (area = %0.2f)\" % roc_auc_rf)\n",
    "plt.plot(fpr_svm, tpr_svm, color=\"green\", lw=2,\n",
    "         label=\"SVM (area = %0.2f)\" % roc_auc_svm)\n",
    "plt.plot([0, 1], [0, 1], color=\"navy\", lw=2, linestyle=\"--\")\n",
    "plt.xlim([0.0, 1.0])\n",
    "plt.ylim([0.0, 1.0])\n",
    "plt.xlabel(\"False Positive Rate\")\n",
    "plt.ylabel(\"True Positive Rate\")\n",
    "plt.title(\"ROC curve for Random Forest and SVM\")\n",
    "plt.legend(loc=\"lower right\")\n",
    "plt.show()"
   ]
  },
  {
   "cell_type": "code",
   "execution_count": 24,
   "metadata": {},
   "outputs": [],
   "source": [
    "r_svm = permutation_importance(clf_svm, X_test, Y_test,\n",
    "                           n_repeats=10,\n",
    "                           random_state=43)"
   ]
  },
  {
   "cell_type": "code",
   "execution_count": 25,
   "metadata": {},
   "outputs": [
    {
     "ename": "TypeError",
     "evalue": "'builtin_function_or_method' object is not iterable",
     "output_type": "error",
     "traceback": [
      "\u001b[0;31m---------------------------------------------------------------------------\u001b[0m",
      "\u001b[0;31mTypeError\u001b[0m                                 Traceback (most recent call last)",
      "Input \u001b[0;32mIn [25]\u001b[0m, in \u001b[0;36m<cell line: 3>\u001b[0;34m()\u001b[0m\n\u001b[1;32m      1\u001b[0m fig \u001b[38;5;241m=\u001b[39m plt\u001b[38;5;241m.\u001b[39mfigure(figsize\u001b[38;5;241m=\u001b[39m(\u001b[38;5;241m10\u001b[39m,\u001b[38;5;241m10\u001b[39m))\n\u001b[1;32m      2\u001b[0m ax \u001b[38;5;241m=\u001b[39m fig\u001b[38;5;241m.\u001b[39madd_axes([\u001b[38;5;241m0\u001b[39m,\u001b[38;5;241m0\u001b[39m,\u001b[38;5;241m1\u001b[39m,\u001b[38;5;241m1\u001b[39m])\n\u001b[0;32m----> 3\u001b[0m flat_list \u001b[38;5;241m=\u001b[39m [item \u001b[38;5;28;01mfor\u001b[39;00m sublist \u001b[38;5;129;01min\u001b[39;00m r\u001b[38;5;241m.\u001b[39mvalues \u001b[38;5;28;01mfor\u001b[39;00m item \u001b[38;5;129;01min\u001b[39;00m sublist]\n\u001b[1;32m      4\u001b[0m ax\u001b[38;5;241m.\u001b[39mbar(\u001b[38;5;28mlist\u001b[39m(r\u001b[38;5;241m.\u001b[39mindex),flat_list)\n\u001b[1;32m      5\u001b[0m ax\u001b[38;5;241m.\u001b[39mset_xlabel(\u001b[38;5;124m'\u001b[39m\u001b[38;5;124mfeatures\u001b[39m\u001b[38;5;124m'\u001b[39m)\n",
      "\u001b[0;31mTypeError\u001b[0m: 'builtin_function_or_method' object is not iterable"
     ]
    },
    {
     "data": {
      "image/png": "[encoded data removed]",
      "text/plain": [
       "<Figure size 720x720 with 1 Axes>"
      ]
     },
     "metadata": {
      "needs_background": "light"
     },
     "output_type": "display_data"
    }
   ],
   "source": [
    "fig = plt.figure(figsize=(10,10))\n",
    "ax = fig.add_axes([0,0,1,1])\n",
    "flat_list = [item for sublist in r.values for item in sublist]\n",
    "ax.bar(list(r.index),flat_list)\n",
    "ax.set_xlabel('features')\n",
    "ax.set_ylabel('feature_importance')\n",
    "fig.autofmt_xdate(rotation=45)\n",
    "plt.show()"
   ]
  },
  {
   "cell_type": "code",
   "execution_count": 29,
   "metadata": {},
   "outputs": [
    {
     "name": "stdout",
     "output_type": "stream",
     "text": [
      "{'importances_mean': array([0., 0., 0., ..., 0., 0., 0.]), 'importances_std': array([0., 0., 0., ..., 0., 0., 0.]), 'importances': array([[0., 0., 0., ..., 0., 0., 0.],\n",
      "       [0., 0., 0., ..., 0., 0., 0.],\n",
      "       [0., 0., 0., ..., 0., 0., 0.],\n",
      "       ...,\n",
      "       [0., 0., 0., ..., 0., 0., 0.],\n",
      "       [0., 0., 0., ..., 0., 0., 0.],\n",
      "       [0., 0., 0., ..., 0., 0., 0.]])}\n"
     ]
    }
   ],
   "source": [
    "print(r)"
   ]
  },
  {
   "cell_type": "code",
   "execution_count": null,
   "metadata": {},
   "outputs": [],
   "source": []
  },
  {
   "cell_type": "code",
   "execution_count": null,
   "metadata": {},
   "outputs": [],
   "source": []
  }
 ],
 "metadata": {
  "colab": {
   "name": "Untitled14.ipynb",
   "provenance": []
  },
  "kernelspec": {
   "display_name": "Python 3 (ipykernel)",
   "language": "python",
   "name": "python3"
  },
  "language_info": {
   "codemirror_mode": {
    "name": "ipython",
    "version": 3
   },
   "file_extension": ".py",
   "mimetype": "text/x-python",
   "name": "python",
   "nbconvert_exporter": "python",
   "pygments_lexer": "ipython3",
   "version": "3.9.13"
  }
 },
 "nbformat": 4,
 "nbformat_minor": 4
}
