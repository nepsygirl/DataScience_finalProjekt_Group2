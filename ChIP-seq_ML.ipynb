{
  "nbformat": 4,
  "nbformat_minor": 0,
  "metadata": {
    "colab": {
      "name": "Untitled15.ipynb",
      "provenance": []
    },
    "kernelspec": {
      "name": "python3",
      "display_name": "Python 3"
    },
    "language_info": {
      "name": "python"
    }
  },
  "cells": [
    {
      "cell_type": "code",
      "execution_count": 17,
      "metadata": {
        "id": "2Y4ZGOG4YBj4"
      },
      "outputs": [],
      "source": [
        "# libraries \n",
        "from google.colab import files \n",
        "import pandas as pd\n",
        "import numpy as np\n",
        "from sklearn.model_selection import train_test_split\n",
        "from sklearn.ensemble import RandomForestClassifier\n",
        "from sklearn.metrics import f1_score,confusion_matrix\n",
        "from sklearn.metrics import precision_score, recall_score, f1_score, accuracy_score\n",
        "import seaborn as sns # data visualization library \n",
        "import matplotlib.pyplot as plt\n",
        "from sklearn.model_selection import RandomizedSearchCV\n",
        "from pprint import pprint\n",
        "import sklearn\n",
        "from sklearn.decomposition import PCA\n",
        "from sklearn.model_selection import RepeatedStratifiedKFold\n",
        "from sklearn.pipeline import Pipeline\n",
        "from sklearn.model_selection import cross_val_score\n",
        "seed = 7"
      ]
    },
    {
      "cell_type": "markdown",
      "source": [
        "# New Section"
      ],
      "metadata": {
        "id": "sHlwSXggYGv4"
      }
    },
    {
      "cell_type": "code",
      "source": [
        "!pip install rfpimp"
      ],
      "metadata": {
        "colab": {
          "base_uri": "https://localhost:8080/"
        },
        "id": "8S5whDHqYrCg",
        "outputId": "4986d31d-5c7a-437d-cd81-268f4646942e"
      },
      "execution_count": 18,
      "outputs": [
        {
          "output_type": "stream",
          "name": "stdout",
          "text": [
            "Looking in indexes: https://pypi.org/simple, https://us-python.pkg.dev/colab-wheels/public/simple/\n",
            "Requirement already satisfied: rfpimp in /usr/local/lib/python3.7/dist-packages (1.3.7)\n",
            "Requirement already satisfied: pandas in /usr/local/lib/python3.7/dist-packages (from rfpimp) (1.3.5)\n",
            "Requirement already satisfied: numpy in /usr/local/lib/python3.7/dist-packages (from rfpimp) (1.21.6)\n",
            "Requirement already satisfied: matplotlib in /usr/local/lib/python3.7/dist-packages (from rfpimp) (3.2.2)\n",
            "Requirement already satisfied: scikit-learn in /usr/local/lib/python3.7/dist-packages (from rfpimp) (1.0.2)\n",
            "Requirement already satisfied: pyparsing!=2.0.4,!=2.1.2,!=2.1.6,>=2.0.1 in /usr/local/lib/python3.7/dist-packages (from matplotlib->rfpimp) (3.0.9)\n",
            "Requirement already satisfied: kiwisolver>=1.0.1 in /usr/local/lib/python3.7/dist-packages (from matplotlib->rfpimp) (1.4.3)\n",
            "Requirement already satisfied: python-dateutil>=2.1 in /usr/local/lib/python3.7/dist-packages (from matplotlib->rfpimp) (2.8.2)\n",
            "Requirement already satisfied: cycler>=0.10 in /usr/local/lib/python3.7/dist-packages (from matplotlib->rfpimp) (0.11.0)\n",
            "Requirement already satisfied: typing-extensions in /usr/local/lib/python3.7/dist-packages (from kiwisolver>=1.0.1->matplotlib->rfpimp) (4.1.1)\n",
            "Requirement already satisfied: six>=1.5 in /usr/local/lib/python3.7/dist-packages (from python-dateutil>=2.1->matplotlib->rfpimp) (1.15.0)\n",
            "Requirement already satisfied: pytz>=2017.3 in /usr/local/lib/python3.7/dist-packages (from pandas->rfpimp) (2022.1)\n",
            "Requirement already satisfied: scipy>=1.1.0 in /usr/local/lib/python3.7/dist-packages (from scikit-learn->rfpimp) (1.7.3)\n",
            "Requirement already satisfied: joblib>=0.11 in /usr/local/lib/python3.7/dist-packages (from scikit-learn->rfpimp) (1.1.0)\n",
            "Requirement already satisfied: threadpoolctl>=2.0.0 in /usr/local/lib/python3.7/dist-packages (from scikit-learn->rfpimp) (3.1.0)\n"
          ]
        }
      ]
    },
    {
      "cell_type": "code",
      "source": [
        "from sklearn.ensemble import RandomForestRegressor\n",
        "from rfpimp import permutation_importances\n",
        "from sklearn.metrics import r2_score\n",
        "from sklearn.metrics import roc_curve\n",
        "from sklearn.metrics import roc_auc_score"
      ],
      "metadata": {
        "id": "9Rf1Yu7bYrFu"
      },
      "execution_count": 19,
      "outputs": []
    },
    {
      "cell_type": "code",
      "source": [
        "df = pd.read_csv(\"/content/H3K122ac_counts.txt\", sep=\"\\t\", index_col=0)"
      ],
      "metadata": {
        "id": "Z5dYyPgHYrG2"
      },
      "execution_count": 20,
      "outputs": []
    },
    {
      "cell_type": "code",
      "source": [
        "df_T = df.T"
      ],
      "metadata": {
        "id": "vw-WPd8iYrIv"
      },
      "execution_count": 21,
      "outputs": []
    },
    {
      "cell_type": "code",
      "source": [
        "def change_labels(x):\n",
        "  print(x)\n",
        "  if 'AD' in x:\n",
        "    return 1\n",
        "  return 0"
      ],
      "metadata": {
        "id": "tFaGE6f_YrK0"
      },
      "execution_count": 22,
      "outputs": []
    },
    {
      "cell_type": "code",
      "source": [
        "print(df.shape)"
      ],
      "metadata": {
        "colab": {
          "base_uri": "https://localhost:8080/"
        },
        "id": "bR5igM5NYrNI",
        "outputId": "c6236031-827b-4c5e-cffb-18559d353c60"
      },
      "execution_count": 23,
      "outputs": [
        {
          "output_type": "stream",
          "name": "stdout",
          "text": [
            "(2240520, 29)\n"
          ]
        }
      ]
    },
    {
      "cell_type": "code",
      "source": [
        "df_T = df.T\n",
        "df_T.apply(lambda x: change_labels(x.name), axis=1)"
      ],
      "metadata": {
        "colab": {
          "base_uri": "https://localhost:8080/"
        },
        "id": "FzKVPUcUYrRA",
        "outputId": "10d16b70-26d7-4dfc-c75b-d4c6a402ba2a"
      },
      "execution_count": 24,
      "outputs": [
        {
          "output_type": "stream",
          "name": "stdout",
          "text": [
            "start\n",
            "end\n",
            "Y-15T\n",
            "Y-17T\n",
            "Y-13A\n",
            "Y-18T\n",
            "Y-14A\n",
            "Y-19T\n",
            "Y-15A\n",
            "Y-16A\n",
            "O-8A\n",
            "O-10T\n",
            "O-6A\n",
            "O-11T\n",
            "O-7A\n",
            "O-13T\n",
            "O-14T\n",
            "O-9A\n",
            "O-10A\n",
            "O-11A\n",
            "AD-1T\n",
            "AD-1A\n",
            "AD-2T\n",
            "AD-2A\n",
            "AD-5T\n",
            "AD-3A\n",
            "AD-5A\n",
            "AD-8T\n",
            "AD-7T\n"
          ]
        },
        {
          "output_type": "execute_result",
          "data": {
            "text/plain": [
              "start    0\n",
              "end      0\n",
              "Y-15T    0\n",
              "Y-17T    0\n",
              "Y-13A    0\n",
              "Y-18T    0\n",
              "Y-14A    0\n",
              "Y-19T    0\n",
              "Y-15A    0\n",
              "Y-16A    0\n",
              "O-8A     0\n",
              "O-10T    0\n",
              "O-6A     0\n",
              "O-11T    0\n",
              "O-7A     0\n",
              "O-13T    0\n",
              "O-14T    0\n",
              "O-9A     0\n",
              "O-10A    0\n",
              "O-11A    0\n",
              "AD-1T    1\n",
              "AD-1A    1\n",
              "AD-2T    1\n",
              "AD-2A    1\n",
              "AD-5T    1\n",
              "AD-3A    1\n",
              "AD-5A    1\n",
              "AD-8T    1\n",
              "AD-7T    1\n",
              "dtype: int64"
            ]
          },
          "metadata": {},
          "execution_count": 24
        }
      ]
    },
    {
      "cell_type": "code",
      "source": [
        "df_T[\"class\"] = df_T.apply(lambda x: change_labels(x.name), axis=1)\n",
        "df_T.fillna(0)\n",
        "\n",
        "\n"
      ],
      "metadata": {
        "colab": {
          "base_uri": "https://localhost:8080/",
          "height": 1000
        },
        "id": "UqnOLnynYrTJ",
        "outputId": "6b90e6e4-cb61-4fff-c865-8aaaabdc0d33"
      },
      "execution_count": 25,
      "outputs": [
        {
          "output_type": "stream",
          "name": "stdout",
          "text": [
            "start\n",
            "end\n",
            "Y-15T\n",
            "Y-17T\n",
            "Y-13A\n",
            "Y-18T\n",
            "Y-14A\n",
            "Y-19T\n",
            "Y-15A\n",
            "Y-16A\n",
            "O-8A\n",
            "O-10T\n",
            "O-6A\n",
            "O-11T\n",
            "O-7A\n",
            "O-13T\n",
            "O-14T\n",
            "O-9A\n",
            "O-10A\n",
            "O-11A\n",
            "AD-1T\n",
            "AD-1A\n",
            "AD-2T\n",
            "AD-2A\n",
            "AD-5T\n",
            "AD-3A\n",
            "AD-5A\n",
            "AD-8T\n",
            "AD-7T\n"
          ]
        },
        {
          "output_type": "execute_result",
          "data": {
            "text/plain": [
              "chrom    chr1    chr1    chr1    chr1    chr1    chr1    chr1    chr1    chr1  \\\n",
              "start  713810  713860  713861  713882  713885  713891  713904  713938  713944   \n",
              "end    713860  713861  713882  713885  713891  713904  713938  713944  713949   \n",
              "Y-15T       0       0       0       0       0       0       0       0       0   \n",
              "Y-17T       0       0       0       0       0       0       0       0       0   \n",
              "Y-13A       0       0       0       0       0       0       0       0       0   \n",
              "Y-18T       0       0       0       0       0       0       0       0       0   \n",
              "Y-14A       0       0       0       0       0       0       0       0       0   \n",
              "Y-19T       0       0       0       0       0       0       0       0      21   \n",
              "Y-15A       0       0       0       0       0       0       0       0       0   \n",
              "Y-16A       0       0       0       0       0       0       0       0       0   \n",
              "O-8A        0       0       0       0       0       0       0       0       0   \n",
              "O-10T       0       0       0       0       0      16      16      16      16   \n",
              "O-6A        0       0       0       0       0       0       0       0       0   \n",
              "O-11T       0       0       0       0       0       0       0       0       0   \n",
              "O-7A        0       0       0       0      54      54      54      54      54   \n",
              "O-13T       0       0       0       0       0       0       0       0       0   \n",
              "O-14T       0       0      13      13      13      13      13      13      13   \n",
              "O-9A        0       0       0       0       0       0       0       0       0   \n",
              "O-10A       0       0       0       0       0       0       0       0       0   \n",
              "O-11A       0       0       0       0       0       0       0       0       0   \n",
              "AD-1T       0       0       0       0       0       0       0       0       0   \n",
              "AD-1A       0       0       0       0       0       0      26      26      26   \n",
              "AD-2T      38      38      38      38      38      38      38      38      38   \n",
              "AD-2A       0       0       0       0       0       0       0      18      18   \n",
              "AD-5T       0       0       0       0       0       0       0       0       0   \n",
              "AD-3A       0       0       0       0       0       0      23      23      23   \n",
              "AD-5A       0       0       0       0       0       0       0       0       0   \n",
              "AD-8T       0      21      21      21      21      21      21      21      21   \n",
              "AD-7T       0       0       0      20      20      20      20      20      20   \n",
              "\n",
              "chrom    chr1  ...      chrY      chrY      chrY      chrY      chrY  \\\n",
              "start  713949  ...  22738064  22738088  22738113  22738235  23764353   \n",
              "end    713973  ...  22738088  22738113  22738235  22738243  23764935   \n",
              "Y-15T       0  ...        20        20        20         0        16   \n",
              "Y-17T       0  ...         0         0         0         0         0   \n",
              "Y-13A       0  ...         0         0         0         0         0   \n",
              "Y-18T       0  ...         0         0         0         0         0   \n",
              "Y-14A       0  ...         0         0         0         0         0   \n",
              "Y-19T      21  ...         0         0         0         0         0   \n",
              "Y-15A       0  ...         0         0         0         0         0   \n",
              "Y-16A       0  ...         0         0         0         0         0   \n",
              "O-8A        0  ...         0         0         0         0         0   \n",
              "O-10T      16  ...         0         0         0         0         0   \n",
              "O-6A        0  ...         0         0         0         0         0   \n",
              "O-11T       0  ...         0         0         0         0         0   \n",
              "O-7A       54  ...        47        47         0         0         0   \n",
              "O-13T       0  ...         0         0         0         0         0   \n",
              "O-14T      13  ...         0         0         0         0         0   \n",
              "O-9A        0  ...         0         0         0         0         0   \n",
              "O-10A       0  ...         0         0         0         0         0   \n",
              "O-11A      23  ...         0         0         0         0         0   \n",
              "AD-1T       0  ...        16         0         0         0         0   \n",
              "AD-1A      26  ...         0         0         0         0         0   \n",
              "AD-2T      38  ...         0         0         0         0         0   \n",
              "AD-2A      18  ...         0         0         0         0         0   \n",
              "AD-5T       0  ...         0         0         0         0         0   \n",
              "AD-3A      23  ...         0         0         0         0         0   \n",
              "AD-5A       0  ...         0         0         0         0         0   \n",
              "AD-8T      21  ...         0         0         0         0         0   \n",
              "AD-7T      20  ...        16        16        16        16         0   \n",
              "\n",
              "chrom      chrY      chrY      chrY      chrY  class  \n",
              "start  23764935  23765114  23765197  23765201      0  \n",
              "end    23765114  23765197  23765201  23765332      0  \n",
              "Y-15T        16        16         0         0      0  \n",
              "Y-17T         0        20        20        20      0  \n",
              "Y-13A         0         0         0         0      0  \n",
              "Y-18T         0         0         0         0      0  \n",
              "Y-14A         0         0         0         0      0  \n",
              "Y-19T         0         0         0         0      0  \n",
              "Y-15A         0         0         0         0      0  \n",
              "Y-16A         0         0         0         0      0  \n",
              "O-8A          0         0         0         0      0  \n",
              "O-10T         0         0         0         0      0  \n",
              "O-6A          0         0         0         0      0  \n",
              "O-11T         0         0         0         0      0  \n",
              "O-7A          0         0         0         0      0  \n",
              "O-13T         0         0         0         0      0  \n",
              "O-14T         0         0         0         0      0  \n",
              "O-9A          0         0         0         0      0  \n",
              "O-10A         0         0         0         0      0  \n",
              "O-11A         0         0         0         0      0  \n",
              "AD-1T         0         0         0         0      1  \n",
              "AD-1A         0         0         0         0      1  \n",
              "AD-2T         0         0         0         0      1  \n",
              "AD-2A         0         0         0         0      1  \n",
              "AD-5T        24        24        24         0      1  \n",
              "AD-3A         0         0         0         0      1  \n",
              "AD-5A         0         0         0         0      1  \n",
              "AD-8T         0         0         0         0      1  \n",
              "AD-7T         0         0         0         0      1  \n",
              "\n",
              "[29 rows x 2240521 columns]"
            ],
            "text/html": [
              "\n",
              "  <div id=\"df-a099a6da-fc46-4106-a88c-ff699c5c85e4\">\n",
              "    <div class=\"colab-df-container\">\n",
              "      <div>\n",
              "<style scoped>\n",
              "    .dataframe tbody tr th:only-of-type {\n",
              "        vertical-align: middle;\n",
              "    }\n",
              "\n",
              "    .dataframe tbody tr th {\n",
              "        vertical-align: top;\n",
              "    }\n",
              "\n",
              "    .dataframe thead th {\n",
              "        text-align: right;\n",
              "    }\n",
              "</style>\n",
              "<table border=\"1\" class=\"dataframe\">\n",
              "  <thead>\n",
              "    <tr style=\"text-align: right;\">\n",
              "      <th>chrom</th>\n",
              "      <th>chr1</th>\n",
              "      <th>chr1</th>\n",
              "      <th>chr1</th>\n",
              "      <th>chr1</th>\n",
              "      <th>chr1</th>\n",
              "      <th>chr1</th>\n",
              "      <th>chr1</th>\n",
              "      <th>chr1</th>\n",
              "      <th>chr1</th>\n",
              "      <th>chr1</th>\n",
              "      <th>...</th>\n",
              "      <th>chrY</th>\n",
              "      <th>chrY</th>\n",
              "      <th>chrY</th>\n",
              "      <th>chrY</th>\n",
              "      <th>chrY</th>\n",
              "      <th>chrY</th>\n",
              "      <th>chrY</th>\n",
              "      <th>chrY</th>\n",
              "      <th>chrY</th>\n",
              "      <th>class</th>\n",
              "    </tr>\n",
              "  </thead>\n",
              "  <tbody>\n",
              "    <tr>\n",
              "      <th>start</th>\n",
              "      <td>713810</td>\n",
              "      <td>713860</td>\n",
              "      <td>713861</td>\n",
              "      <td>713882</td>\n",
              "      <td>713885</td>\n",
              "      <td>713891</td>\n",
              "      <td>713904</td>\n",
              "      <td>713938</td>\n",
              "      <td>713944</td>\n",
              "      <td>713949</td>\n",
              "      <td>...</td>\n",
              "      <td>22738064</td>\n",
              "      <td>22738088</td>\n",
              "      <td>22738113</td>\n",
              "      <td>22738235</td>\n",
              "      <td>23764353</td>\n",
              "      <td>23764935</td>\n",
              "      <td>23765114</td>\n",
              "      <td>23765197</td>\n",
              "      <td>23765201</td>\n",
              "      <td>0</td>\n",
              "    </tr>\n",
              "    <tr>\n",
              "      <th>end</th>\n",
              "      <td>713860</td>\n",
              "      <td>713861</td>\n",
              "      <td>713882</td>\n",
              "      <td>713885</td>\n",
              "      <td>713891</td>\n",
              "      <td>713904</td>\n",
              "      <td>713938</td>\n",
              "      <td>713944</td>\n",
              "      <td>713949</td>\n",
              "      <td>713973</td>\n",
              "      <td>...</td>\n",
              "      <td>22738088</td>\n",
              "      <td>22738113</td>\n",
              "      <td>22738235</td>\n",
              "      <td>22738243</td>\n",
              "      <td>23764935</td>\n",
              "      <td>23765114</td>\n",
              "      <td>23765197</td>\n",
              "      <td>23765201</td>\n",
              "      <td>23765332</td>\n",
              "      <td>0</td>\n",
              "    </tr>\n",
              "    <tr>\n",
              "      <th>Y-15T</th>\n",
              "      <td>0</td>\n",
              "      <td>0</td>\n",
              "      <td>0</td>\n",
              "      <td>0</td>\n",
              "      <td>0</td>\n",
              "      <td>0</td>\n",
              "      <td>0</td>\n",
              "      <td>0</td>\n",
              "      <td>0</td>\n",
              "      <td>0</td>\n",
              "      <td>...</td>\n",
              "      <td>20</td>\n",
              "      <td>20</td>\n",
              "      <td>20</td>\n",
              "      <td>0</td>\n",
              "      <td>16</td>\n",
              "      <td>16</td>\n",
              "      <td>16</td>\n",
              "      <td>0</td>\n",
              "      <td>0</td>\n",
              "      <td>0</td>\n",
              "    </tr>\n",
              "    <tr>\n",
              "      <th>Y-17T</th>\n",
              "      <td>0</td>\n",
              "      <td>0</td>\n",
              "      <td>0</td>\n",
              "      <td>0</td>\n",
              "      <td>0</td>\n",
              "      <td>0</td>\n",
              "      <td>0</td>\n",
              "      <td>0</td>\n",
              "      <td>0</td>\n",
              "      <td>0</td>\n",
              "      <td>...</td>\n",
              "      <td>0</td>\n",
              "      <td>0</td>\n",
              "      <td>0</td>\n",
              "      <td>0</td>\n",
              "      <td>0</td>\n",
              "      <td>0</td>\n",
              "      <td>20</td>\n",
              "      <td>20</td>\n",
              "      <td>20</td>\n",
              "      <td>0</td>\n",
              "    </tr>\n",
              "    <tr>\n",
              "      <th>Y-13A</th>\n",
              "      <td>0</td>\n",
              "      <td>0</td>\n",
              "      <td>0</td>\n",
              "      <td>0</td>\n",
              "      <td>0</td>\n",
              "      <td>0</td>\n",
              "      <td>0</td>\n",
              "      <td>0</td>\n",
              "      <td>0</td>\n",
              "      <td>0</td>\n",
              "      <td>...</td>\n",
              "      <td>0</td>\n",
              "      <td>0</td>\n",
              "      <td>0</td>\n",
              "      <td>0</td>\n",
              "      <td>0</td>\n",
              "      <td>0</td>\n",
              "      <td>0</td>\n",
              "      <td>0</td>\n",
              "      <td>0</td>\n",
              "      <td>0</td>\n",
              "    </tr>\n",
              "    <tr>\n",
              "      <th>Y-18T</th>\n",
              "      <td>0</td>\n",
              "      <td>0</td>\n",
              "      <td>0</td>\n",
              "      <td>0</td>\n",
              "      <td>0</td>\n",
              "      <td>0</td>\n",
              "      <td>0</td>\n",
              "      <td>0</td>\n",
              "      <td>0</td>\n",
              "      <td>0</td>\n",
              "      <td>...</td>\n",
              "      <td>0</td>\n",
              "      <td>0</td>\n",
              "      <td>0</td>\n",
              "      <td>0</td>\n",
              "      <td>0</td>\n",
              "      <td>0</td>\n",
              "      <td>0</td>\n",
              "      <td>0</td>\n",
              "      <td>0</td>\n",
              "      <td>0</td>\n",
              "    </tr>\n",
              "    <tr>\n",
              "      <th>Y-14A</th>\n",
              "      <td>0</td>\n",
              "      <td>0</td>\n",
              "      <td>0</td>\n",
              "      <td>0</td>\n",
              "      <td>0</td>\n",
              "      <td>0</td>\n",
              "      <td>0</td>\n",
              "      <td>0</td>\n",
              "      <td>0</td>\n",
              "      <td>0</td>\n",
              "      <td>...</td>\n",
              "      <td>0</td>\n",
              "      <td>0</td>\n",
              "      <td>0</td>\n",
              "      <td>0</td>\n",
              "      <td>0</td>\n",
              "      <td>0</td>\n",
              "      <td>0</td>\n",
              "      <td>0</td>\n",
              "      <td>0</td>\n",
              "      <td>0</td>\n",
              "    </tr>\n",
              "    <tr>\n",
              "      <th>Y-19T</th>\n",
              "      <td>0</td>\n",
              "      <td>0</td>\n",
              "      <td>0</td>\n",
              "      <td>0</td>\n",
              "      <td>0</td>\n",
              "      <td>0</td>\n",
              "      <td>0</td>\n",
              "      <td>0</td>\n",
              "      <td>21</td>\n",
              "      <td>21</td>\n",
              "      <td>...</td>\n",
              "      <td>0</td>\n",
              "      <td>0</td>\n",
              "      <td>0</td>\n",
              "      <td>0</td>\n",
              "      <td>0</td>\n",
              "      <td>0</td>\n",
              "      <td>0</td>\n",
              "      <td>0</td>\n",
              "      <td>0</td>\n",
              "      <td>0</td>\n",
              "    </tr>\n",
              "    <tr>\n",
              "      <th>Y-15A</th>\n",
              "      <td>0</td>\n",
              "      <td>0</td>\n",
              "      <td>0</td>\n",
              "      <td>0</td>\n",
              "      <td>0</td>\n",
              "      <td>0</td>\n",
              "      <td>0</td>\n",
              "      <td>0</td>\n",
              "      <td>0</td>\n",
              "      <td>0</td>\n",
              "      <td>...</td>\n",
              "      <td>0</td>\n",
              "      <td>0</td>\n",
              "      <td>0</td>\n",
              "      <td>0</td>\n",
              "      <td>0</td>\n",
              "      <td>0</td>\n",
              "      <td>0</td>\n",
              "      <td>0</td>\n",
              "      <td>0</td>\n",
              "      <td>0</td>\n",
              "    </tr>\n",
              "    <tr>\n",
              "      <th>Y-16A</th>\n",
              "      <td>0</td>\n",
              "      <td>0</td>\n",
              "      <td>0</td>\n",
              "      <td>0</td>\n",
              "      <td>0</td>\n",
              "      <td>0</td>\n",
              "      <td>0</td>\n",
              "      <td>0</td>\n",
              "      <td>0</td>\n",
              "      <td>0</td>\n",
              "      <td>...</td>\n",
              "      <td>0</td>\n",
              "      <td>0</td>\n",
              "      <td>0</td>\n",
              "      <td>0</td>\n",
              "      <td>0</td>\n",
              "      <td>0</td>\n",
              "      <td>0</td>\n",
              "      <td>0</td>\n",
              "      <td>0</td>\n",
              "      <td>0</td>\n",
              "    </tr>\n",
              "    <tr>\n",
              "      <th>O-8A</th>\n",
              "      <td>0</td>\n",
              "      <td>0</td>\n",
              "      <td>0</td>\n",
              "      <td>0</td>\n",
              "      <td>0</td>\n",
              "      <td>0</td>\n",
              "      <td>0</td>\n",
              "      <td>0</td>\n",
              "      <td>0</td>\n",
              "      <td>0</td>\n",
              "      <td>...</td>\n",
              "      <td>0</td>\n",
              "      <td>0</td>\n",
              "      <td>0</td>\n",
              "      <td>0</td>\n",
              "      <td>0</td>\n",
              "      <td>0</td>\n",
              "      <td>0</td>\n",
              "      <td>0</td>\n",
              "      <td>0</td>\n",
              "      <td>0</td>\n",
              "    </tr>\n",
              "    <tr>\n",
              "      <th>O-10T</th>\n",
              "      <td>0</td>\n",
              "      <td>0</td>\n",
              "      <td>0</td>\n",
              "      <td>0</td>\n",
              "      <td>0</td>\n",
              "      <td>16</td>\n",
              "      <td>16</td>\n",
              "      <td>16</td>\n",
              "      <td>16</td>\n",
              "      <td>16</td>\n",
              "      <td>...</td>\n",
              "      <td>0</td>\n",
              "      <td>0</td>\n",
              "      <td>0</td>\n",
              "      <td>0</td>\n",
              "      <td>0</td>\n",
              "      <td>0</td>\n",
              "      <td>0</td>\n",
              "      <td>0</td>\n",
              "      <td>0</td>\n",
              "      <td>0</td>\n",
              "    </tr>\n",
              "    <tr>\n",
              "      <th>O-6A</th>\n",
              "      <td>0</td>\n",
              "      <td>0</td>\n",
              "      <td>0</td>\n",
              "      <td>0</td>\n",
              "      <td>0</td>\n",
              "      <td>0</td>\n",
              "      <td>0</td>\n",
              "      <td>0</td>\n",
              "      <td>0</td>\n",
              "      <td>0</td>\n",
              "      <td>...</td>\n",
              "      <td>0</td>\n",
              "      <td>0</td>\n",
              "      <td>0</td>\n",
              "      <td>0</td>\n",
              "      <td>0</td>\n",
              "      <td>0</td>\n",
              "      <td>0</td>\n",
              "      <td>0</td>\n",
              "      <td>0</td>\n",
              "      <td>0</td>\n",
              "    </tr>\n",
              "    <tr>\n",
              "      <th>O-11T</th>\n",
              "      <td>0</td>\n",
              "      <td>0</td>\n",
              "      <td>0</td>\n",
              "      <td>0</td>\n",
              "      <td>0</td>\n",
              "      <td>0</td>\n",
              "      <td>0</td>\n",
              "      <td>0</td>\n",
              "      <td>0</td>\n",
              "      <td>0</td>\n",
              "      <td>...</td>\n",
              "      <td>0</td>\n",
              "      <td>0</td>\n",
              "      <td>0</td>\n",
              "      <td>0</td>\n",
              "      <td>0</td>\n",
              "      <td>0</td>\n",
              "      <td>0</td>\n",
              "      <td>0</td>\n",
              "      <td>0</td>\n",
              "      <td>0</td>\n",
              "    </tr>\n",
              "    <tr>\n",
              "      <th>O-7A</th>\n",
              "      <td>0</td>\n",
              "      <td>0</td>\n",
              "      <td>0</td>\n",
              "      <td>0</td>\n",
              "      <td>54</td>\n",
              "      <td>54</td>\n",
              "      <td>54</td>\n",
              "      <td>54</td>\n",
              "      <td>54</td>\n",
              "      <td>54</td>\n",
              "      <td>...</td>\n",
              "      <td>47</td>\n",
              "      <td>47</td>\n",
              "      <td>0</td>\n",
              "      <td>0</td>\n",
              "      <td>0</td>\n",
              "      <td>0</td>\n",
              "      <td>0</td>\n",
              "      <td>0</td>\n",
              "      <td>0</td>\n",
              "      <td>0</td>\n",
              "    </tr>\n",
              "    <tr>\n",
              "      <th>O-13T</th>\n",
              "      <td>0</td>\n",
              "      <td>0</td>\n",
              "      <td>0</td>\n",
              "      <td>0</td>\n",
              "      <td>0</td>\n",
              "      <td>0</td>\n",
              "      <td>0</td>\n",
              "      <td>0</td>\n",
              "      <td>0</td>\n",
              "      <td>0</td>\n",
              "      <td>...</td>\n",
              "      <td>0</td>\n",
              "      <td>0</td>\n",
              "      <td>0</td>\n",
              "      <td>0</td>\n",
              "      <td>0</td>\n",
              "      <td>0</td>\n",
              "      <td>0</td>\n",
              "      <td>0</td>\n",
              "      <td>0</td>\n",
              "      <td>0</td>\n",
              "    </tr>\n",
              "    <tr>\n",
              "      <th>O-14T</th>\n",
              "      <td>0</td>\n",
              "      <td>0</td>\n",
              "      <td>13</td>\n",
              "      <td>13</td>\n",
              "      <td>13</td>\n",
              "      <td>13</td>\n",
              "      <td>13</td>\n",
              "      <td>13</td>\n",
              "      <td>13</td>\n",
              "      <td>13</td>\n",
              "      <td>...</td>\n",
              "      <td>0</td>\n",
              "      <td>0</td>\n",
              "      <td>0</td>\n",
              "      <td>0</td>\n",
              "      <td>0</td>\n",
              "      <td>0</td>\n",
              "      <td>0</td>\n",
              "      <td>0</td>\n",
              "      <td>0</td>\n",
              "      <td>0</td>\n",
              "    </tr>\n",
              "    <tr>\n",
              "      <th>O-9A</th>\n",
              "      <td>0</td>\n",
              "      <td>0</td>\n",
              "      <td>0</td>\n",
              "      <td>0</td>\n",
              "      <td>0</td>\n",
              "      <td>0</td>\n",
              "      <td>0</td>\n",
              "      <td>0</td>\n",
              "      <td>0</td>\n",
              "      <td>0</td>\n",
              "      <td>...</td>\n",
              "      <td>0</td>\n",
              "      <td>0</td>\n",
              "      <td>0</td>\n",
              "      <td>0</td>\n",
              "      <td>0</td>\n",
              "      <td>0</td>\n",
              "      <td>0</td>\n",
              "      <td>0</td>\n",
              "      <td>0</td>\n",
              "      <td>0</td>\n",
              "    </tr>\n",
              "    <tr>\n",
              "      <th>O-10A</th>\n",
              "      <td>0</td>\n",
              "      <td>0</td>\n",
              "      <td>0</td>\n",
              "      <td>0</td>\n",
              "      <td>0</td>\n",
              "      <td>0</td>\n",
              "      <td>0</td>\n",
              "      <td>0</td>\n",
              "      <td>0</td>\n",
              "      <td>0</td>\n",
              "      <td>...</td>\n",
              "      <td>0</td>\n",
              "      <td>0</td>\n",
              "      <td>0</td>\n",
              "      <td>0</td>\n",
              "      <td>0</td>\n",
              "      <td>0</td>\n",
              "      <td>0</td>\n",
              "      <td>0</td>\n",
              "      <td>0</td>\n",
              "      <td>0</td>\n",
              "    </tr>\n",
              "    <tr>\n",
              "      <th>O-11A</th>\n",
              "      <td>0</td>\n",
              "      <td>0</td>\n",
              "      <td>0</td>\n",
              "      <td>0</td>\n",
              "      <td>0</td>\n",
              "      <td>0</td>\n",
              "      <td>0</td>\n",
              "      <td>0</td>\n",
              "      <td>0</td>\n",
              "      <td>23</td>\n",
              "      <td>...</td>\n",
              "      <td>0</td>\n",
              "      <td>0</td>\n",
              "      <td>0</td>\n",
              "      <td>0</td>\n",
              "      <td>0</td>\n",
              "      <td>0</td>\n",
              "      <td>0</td>\n",
              "      <td>0</td>\n",
              "      <td>0</td>\n",
              "      <td>0</td>\n",
              "    </tr>\n",
              "    <tr>\n",
              "      <th>AD-1T</th>\n",
              "      <td>0</td>\n",
              "      <td>0</td>\n",
              "      <td>0</td>\n",
              "      <td>0</td>\n",
              "      <td>0</td>\n",
              "      <td>0</td>\n",
              "      <td>0</td>\n",
              "      <td>0</td>\n",
              "      <td>0</td>\n",
              "      <td>0</td>\n",
              "      <td>...</td>\n",
              "      <td>16</td>\n",
              "      <td>0</td>\n",
              "      <td>0</td>\n",
              "      <td>0</td>\n",
              "      <td>0</td>\n",
              "      <td>0</td>\n",
              "      <td>0</td>\n",
              "      <td>0</td>\n",
              "      <td>0</td>\n",
              "      <td>1</td>\n",
              "    </tr>\n",
              "    <tr>\n",
              "      <th>AD-1A</th>\n",
              "      <td>0</td>\n",
              "      <td>0</td>\n",
              "      <td>0</td>\n",
              "      <td>0</td>\n",
              "      <td>0</td>\n",
              "      <td>0</td>\n",
              "      <td>26</td>\n",
              "      <td>26</td>\n",
              "      <td>26</td>\n",
              "      <td>26</td>\n",
              "      <td>...</td>\n",
              "      <td>0</td>\n",
              "      <td>0</td>\n",
              "      <td>0</td>\n",
              "      <td>0</td>\n",
              "      <td>0</td>\n",
              "      <td>0</td>\n",
              "      <td>0</td>\n",
              "      <td>0</td>\n",
              "      <td>0</td>\n",
              "      <td>1</td>\n",
              "    </tr>\n",
              "    <tr>\n",
              "      <th>AD-2T</th>\n",
              "      <td>38</td>\n",
              "      <td>38</td>\n",
              "      <td>38</td>\n",
              "      <td>38</td>\n",
              "      <td>38</td>\n",
              "      <td>38</td>\n",
              "      <td>38</td>\n",
              "      <td>38</td>\n",
              "      <td>38</td>\n",
              "      <td>38</td>\n",
              "      <td>...</td>\n",
              "      <td>0</td>\n",
              "      <td>0</td>\n",
              "      <td>0</td>\n",
              "      <td>0</td>\n",
              "      <td>0</td>\n",
              "      <td>0</td>\n",
              "      <td>0</td>\n",
              "      <td>0</td>\n",
              "      <td>0</td>\n",
              "      <td>1</td>\n",
              "    </tr>\n",
              "    <tr>\n",
              "      <th>AD-2A</th>\n",
              "      <td>0</td>\n",
              "      <td>0</td>\n",
              "      <td>0</td>\n",
              "      <td>0</td>\n",
              "      <td>0</td>\n",
              "      <td>0</td>\n",
              "      <td>0</td>\n",
              "      <td>18</td>\n",
              "      <td>18</td>\n",
              "      <td>18</td>\n",
              "      <td>...</td>\n",
              "      <td>0</td>\n",
              "      <td>0</td>\n",
              "      <td>0</td>\n",
              "      <td>0</td>\n",
              "      <td>0</td>\n",
              "      <td>0</td>\n",
              "      <td>0</td>\n",
              "      <td>0</td>\n",
              "      <td>0</td>\n",
              "      <td>1</td>\n",
              "    </tr>\n",
              "    <tr>\n",
              "      <th>AD-5T</th>\n",
              "      <td>0</td>\n",
              "      <td>0</td>\n",
              "      <td>0</td>\n",
              "      <td>0</td>\n",
              "      <td>0</td>\n",
              "      <td>0</td>\n",
              "      <td>0</td>\n",
              "      <td>0</td>\n",
              "      <td>0</td>\n",
              "      <td>0</td>\n",
              "      <td>...</td>\n",
              "      <td>0</td>\n",
              "      <td>0</td>\n",
              "      <td>0</td>\n",
              "      <td>0</td>\n",
              "      <td>0</td>\n",
              "      <td>24</td>\n",
              "      <td>24</td>\n",
              "      <td>24</td>\n",
              "      <td>0</td>\n",
              "      <td>1</td>\n",
              "    </tr>\n",
              "    <tr>\n",
              "      <th>AD-3A</th>\n",
              "      <td>0</td>\n",
              "      <td>0</td>\n",
              "      <td>0</td>\n",
              "      <td>0</td>\n",
              "      <td>0</td>\n",
              "      <td>0</td>\n",
              "      <td>23</td>\n",
              "      <td>23</td>\n",
              "      <td>23</td>\n",
              "      <td>23</td>\n",
              "      <td>...</td>\n",
              "      <td>0</td>\n",
              "      <td>0</td>\n",
              "      <td>0</td>\n",
              "      <td>0</td>\n",
              "      <td>0</td>\n",
              "      <td>0</td>\n",
              "      <td>0</td>\n",
              "      <td>0</td>\n",
              "      <td>0</td>\n",
              "      <td>1</td>\n",
              "    </tr>\n",
              "    <tr>\n",
              "      <th>AD-5A</th>\n",
              "      <td>0</td>\n",
              "      <td>0</td>\n",
              "      <td>0</td>\n",
              "      <td>0</td>\n",
              "      <td>0</td>\n",
              "      <td>0</td>\n",
              "      <td>0</td>\n",
              "      <td>0</td>\n",
              "      <td>0</td>\n",
              "      <td>0</td>\n",
              "      <td>...</td>\n",
              "      <td>0</td>\n",
              "      <td>0</td>\n",
              "      <td>0</td>\n",
              "      <td>0</td>\n",
              "      <td>0</td>\n",
              "      <td>0</td>\n",
              "      <td>0</td>\n",
              "      <td>0</td>\n",
              "      <td>0</td>\n",
              "      <td>1</td>\n",
              "    </tr>\n",
              "    <tr>\n",
              "      <th>AD-8T</th>\n",
              "      <td>0</td>\n",
              "      <td>21</td>\n",
              "      <td>21</td>\n",
              "      <td>21</td>\n",
              "      <td>21</td>\n",
              "      <td>21</td>\n",
              "      <td>21</td>\n",
              "      <td>21</td>\n",
              "      <td>21</td>\n",
              "      <td>21</td>\n",
              "      <td>...</td>\n",
              "      <td>0</td>\n",
              "      <td>0</td>\n",
              "      <td>0</td>\n",
              "      <td>0</td>\n",
              "      <td>0</td>\n",
              "      <td>0</td>\n",
              "      <td>0</td>\n",
              "      <td>0</td>\n",
              "      <td>0</td>\n",
              "      <td>1</td>\n",
              "    </tr>\n",
              "    <tr>\n",
              "      <th>AD-7T</th>\n",
              "      <td>0</td>\n",
              "      <td>0</td>\n",
              "      <td>0</td>\n",
              "      <td>20</td>\n",
              "      <td>20</td>\n",
              "      <td>20</td>\n",
              "      <td>20</td>\n",
              "      <td>20</td>\n",
              "      <td>20</td>\n",
              "      <td>20</td>\n",
              "      <td>...</td>\n",
              "      <td>16</td>\n",
              "      <td>16</td>\n",
              "      <td>16</td>\n",
              "      <td>16</td>\n",
              "      <td>0</td>\n",
              "      <td>0</td>\n",
              "      <td>0</td>\n",
              "      <td>0</td>\n",
              "      <td>0</td>\n",
              "      <td>1</td>\n",
              "    </tr>\n",
              "  </tbody>\n",
              "</table>\n",
              "<p>29 rows × 2240521 columns</p>\n",
              "</div>\n",
              "      <button class=\"colab-df-convert\" onclick=\"convertToInteractive('df-a099a6da-fc46-4106-a88c-ff699c5c85e4')\"\n",
              "              title=\"Convert this dataframe to an interactive table.\"\n",
              "              style=\"display:none;\">\n",
              "        \n",
              "  <svg xmlns=\"http://www.w3.org/2000/svg\" height=\"24px\"viewBox=\"0 0 24 24\"\n",
              "       width=\"24px\">\n",
              "    <path d=\"M0 0h24v24H0V0z\" fill=\"none\"/>\n",
              "    <path d=\"M18.56 5.44l.94 2.06.94-2.06 2.06-.94-2.06-.94-.94-2.06-.94 2.06-2.06.94zm-11 1L8.5 8.5l.94-2.06 2.06-.94-2.06-.94L8.5 2.5l-.94 2.06-2.06.94zm10 10l.94 2.06.94-2.06 2.06-.94-2.06-.94-.94-2.06-.94 2.06-2.06.94z\"/><path d=\"M17.41 7.96l-1.37-1.37c-.4-.4-.92-.59-1.43-.59-.52 0-1.04.2-1.43.59L10.3 9.45l-7.72 7.72c-.78.78-.78 2.05 0 2.83L4 21.41c.39.39.9.59 1.41.59.51 0 1.02-.2 1.41-.59l7.78-7.78 2.81-2.81c.8-.78.8-2.07 0-2.86zM5.41 20L4 18.59l7.72-7.72 1.47 1.35L5.41 20z\"/>\n",
              "  </svg>\n",
              "      </button>\n",
              "      \n",
              "  <style>\n",
              "    .colab-df-container {\n",
              "      display:flex;\n",
              "      flex-wrap:wrap;\n",
              "      gap: 12px;\n",
              "    }\n",
              "\n",
              "    .colab-df-convert {\n",
              "      background-color: #E8F0FE;\n",
              "      border: none;\n",
              "      border-radius: 50%;\n",
              "      cursor: pointer;\n",
              "      display: none;\n",
              "      fill: #1967D2;\n",
              "      height: 32px;\n",
              "      padding: 0 0 0 0;\n",
              "      width: 32px;\n",
              "    }\n",
              "\n",
              "    .colab-df-convert:hover {\n",
              "      background-color: #E2EBFA;\n",
              "      box-shadow: 0px 1px 2px rgba(60, 64, 67, 0.3), 0px 1px 3px 1px rgba(60, 64, 67, 0.15);\n",
              "      fill: #174EA6;\n",
              "    }\n",
              "\n",
              "    [theme=dark] .colab-df-convert {\n",
              "      background-color: #3B4455;\n",
              "      fill: #D2E3FC;\n",
              "    }\n",
              "\n",
              "    [theme=dark] .colab-df-convert:hover {\n",
              "      background-color: #434B5C;\n",
              "      box-shadow: 0px 1px 3px 1px rgba(0, 0, 0, 0.15);\n",
              "      filter: drop-shadow(0px 1px 2px rgba(0, 0, 0, 0.3));\n",
              "      fill: #FFFFFF;\n",
              "    }\n",
              "  </style>\n",
              "\n",
              "      <script>\n",
              "        const buttonEl =\n",
              "          document.querySelector('#df-a099a6da-fc46-4106-a88c-ff699c5c85e4 button.colab-df-convert');\n",
              "        buttonEl.style.display =\n",
              "          google.colab.kernel.accessAllowed ? 'block' : 'none';\n",
              "\n",
              "        async function convertToInteractive(key) {\n",
              "          const element = document.querySelector('#df-a099a6da-fc46-4106-a88c-ff699c5c85e4');\n",
              "          const dataTable =\n",
              "            await google.colab.kernel.invokeFunction('convertToInteractive',\n",
              "                                                     [key], {});\n",
              "          if (!dataTable) return;\n",
              "\n",
              "          const docLinkHtml = 'Like what you see? Visit the ' +\n",
              "            '<a target=\"_blank\" href=https://colab.research.google.com/notebooks/data_table.ipynb>data table notebook</a>'\n",
              "            + ' to learn more about interactive tables.';\n",
              "          element.innerHTML = '';\n",
              "          dataTable['output_type'] = 'display_data';\n",
              "          await google.colab.output.renderOutput(dataTable, element);\n",
              "          const docLink = document.createElement('div');\n",
              "          docLink.innerHTML = docLinkHtml;\n",
              "          element.appendChild(docLink);\n",
              "        }\n",
              "      </script>\n",
              "    </div>\n",
              "  </div>\n",
              "  "
            ]
          },
          "metadata": {},
          "execution_count": 25
        }
      ]
    },
    {
      "cell_type": "code",
      "source": [
        "df_T.groupby('class').size()"
      ],
      "metadata": {
        "colab": {
          "base_uri": "https://localhost:8080/"
        },
        "id": "eNdRPB0fYrVW",
        "outputId": "03d81c1b-640c-42f4-dcd5-30bfef983c4e"
      },
      "execution_count": 26,
      "outputs": [
        {
          "output_type": "execute_result",
          "data": {
            "text/plain": [
              "class\n",
              "0    20\n",
              "1     9\n",
              "dtype: int64"
            ]
          },
          "metadata": {},
          "execution_count": 26
        }
      ]
    },
    {
      "cell_type": "code",
      "source": [
        "# Get labels for training data\n",
        "Y = df_T[\"class\"].values\n",
        "\n",
        "# Get training data as numpy array\n",
        "X = df_T.drop(['class'], axis=1).astype(float).values\n",
        "scaler = sklearn.preprocessing.StandardScaler()\n",
        "scaler.fit(X)\n",
        "X=scaler.transform(X)    \n",
        "\n",
        "# Split the data for cross-validation\n",
        "X_train, X_test, Y_train, Y_test = train_test_split(X, Y, test_size=0.33, random_state=seed)"
      ],
      "metadata": {
        "id": "ejMO0BknYrX2"
      },
      "execution_count": 27,
      "outputs": []
    },
    {
      "cell_type": "code",
      "source": [
        "x_time_train = X_train[:, 0]\n",
        "x_train = X_train[:, 1:]"
      ],
      "metadata": {
        "id": "NFi-NyQbcajY"
      },
      "execution_count": 28,
      "outputs": []
    },
    {
      "cell_type": "code",
      "source": [
        "X_train\n",
        "\n"
      ],
      "metadata": {
        "colab": {
          "base_uri": "https://localhost:8080/"
        },
        "id": "bfqBm_4QYrZv",
        "outputId": "dc27ec9a-5059-4627-bfa5-e07c361b3bb3"
      },
      "execution_count": 29,
      "outputs": [
        {
          "output_type": "execute_result",
          "data": {
            "text/plain": [
              "array([[-0.27217331, -0.27217761, -0.27218027, ..., -0.2721659 ,\n",
              "        -0.2721658 , -0.27216565],\n",
              "       [-0.27217331, -0.27217761, -0.27218027, ..., -0.2721659 ,\n",
              "        -0.2721658 , -0.27216565],\n",
              "       [-0.27217331, -0.27217761, -0.2721084 , ..., -0.2721659 ,\n",
              "        -0.2721658 , -0.27216565],\n",
              "       ...,\n",
              "       [-0.27217331, -0.27217761, -0.27218027, ..., -0.2721659 ,\n",
              "        -0.2721658 , -0.27216565],\n",
              "       [-0.27217331, -0.27217761, -0.27218027, ..., -0.2721659 ,\n",
              "        -0.2721658 , -0.27216565],\n",
              "       [-0.27217331, -0.27217761, -0.27218027, ..., -0.2721659 ,\n",
              "        -0.2721658 , -0.27216565]])"
            ]
          },
          "metadata": {},
          "execution_count": 29
        }
      ]
    },
    {
      "cell_type": "code",
      "source": [
        "Y_train"
      ],
      "metadata": {
        "colab": {
          "base_uri": "https://localhost:8080/"
        },
        "id": "dT3485XZboO7",
        "outputId": "8ec9608b-20ff-493b-9ffe-92ddfaa6d155"
      },
      "execution_count": 30,
      "outputs": [
        {
          "output_type": "execute_result",
          "data": {
            "text/plain": [
              "array([0, 0, 0, 0, 1, 0, 1, 1, 0, 1, 0, 0, 0, 0, 0, 1, 1, 0, 0])"
            ]
          },
          "metadata": {},
          "execution_count": 30
        }
      ]
    },
    {
      "cell_type": "code",
      "source": [
        "# define models and parameters\n",
        "# define models and parameters\n",
        "from sklearn.model_selection import GridSearchCV\n",
        "model = RandomForestClassifier()\n",
        "n_estimators = [10, 50, 100, 500, 1000]\n",
        "max_features = ['sqrt', 'log2']\n",
        "\n",
        "# define grid search\n",
        "grid = dict(n_estimators=n_estimators, max_features=max_features)\n",
        "cv = RepeatedStratifiedKFold(n_splits=3, n_repeats=3, random_state=1)\n",
        "grid_search = GridSearchCV(estimator=model, param_grid=grid, n_jobs=-1, cv=cv, scoring='accuracy', error_score=0)\n",
        "grid_result = grid_search.fit(X_train, Y_train)\n",
        "print(\"Best: %f using %s\" % (grid_result.best_score_, grid_result.best_params_))\n"
      ],
      "metadata": {
        "colab": {
          "base_uri": "https://localhost:8080/"
        },
        "id": "nZVFxk81Yrc5",
        "outputId": "3664374f-5b53-4e00-c6ca-331e7e7510f5"
      },
      "execution_count": 32,
      "outputs": [
        {
          "output_type": "stream",
          "name": "stdout",
          "text": [
            "Best: 0.695767 using {'max_features': 'sqrt', 'n_estimators': 10}\n",
            "Best: 0.645503 using {'max_features': 'log2', 'n_estimators': 50}\n"
          ]
        }
      ]
    },
    {
      "cell_type": "code",
      "source": [
        "# random forest classifier with n_estimators=10 (default)\n",
        "# without tuning clf_rf = RandomForestClassifier(random_state=43)\n",
        "# with tuning\n",
        "from sklearn.ensemble import RandomForestClassifier\n",
        "clf_rf = RandomForestClassifier(random_state=43, n_estimators=10, max_features=\"log2\")     \n",
        "clr_rf = clf_rf.fit(X_train,Y_train)"
      ],
      "metadata": {
        "id": "cm3rUNR3YJqo"
      },
      "execution_count": 47,
      "outputs": []
    },
    {
      "cell_type": "code",
      "source": [
        "ac = accuracy_score(Y_test,clf_rf.predict(X_test))\n",
        "print('Accuracy is: ',ac)\n",
        "# we get the true negative, false pos, false negative and true pos \n",
        "# we see the percentage of the represented data in each quadrant \n",
        "cm = confusion_matrix(Y_test,clf_rf.predict(X_test))\n",
        "sns.heatmap(cm/np.sum(cm),annot=True,fmt='.2%')"
      ],
      "metadata": {
        "colab": {
          "base_uri": "https://localhost:8080/",
          "height": 306
        },
        "id": "2rm1CodSZz-k",
        "outputId": "1db8da52-0ec2-431b-8463-7f8fcd5fe49c"
      },
      "execution_count": 48,
      "outputs": [
        {
          "output_type": "stream",
          "name": "stdout",
          "text": [
            "Accuracy is:  0.4\n"
          ]
        },
        {
          "output_type": "execute_result",
          "data": {
            "text/plain": [
              "<matplotlib.axes._subplots.AxesSubplot at 0x7fbc894a9b10>"
            ]
          },
          "metadata": {},
          "execution_count": 48
        },
        {
          "output_type": "display_data",
          "data": {
            "text/plain": [
              "<Figure size 432x288 with 2 Axes>"
            ],
            "image/png": "[encoded data removed]"
          },
          "metadata": {
            "needs_background": "light"
          }
        }
      ]
    },
    {
      "cell_type": "code",
      "source": [
        "group_names = [\"True Neg\",\"False Pos\",\"False Neg\",\"True Pos\"]\n",
        "group_counts = [\"{0:0.0f}\".format(value) for value in\n",
        "                cm.flatten()]\n",
        "group_percentages = [\"{0:.2%}\".format(value) for value in\n",
        "                    cm.flatten()/np.sum(cm)]\n",
        "labels = [f\"{v1}\\n{v2}\\n{v3}\" for v1, v2, v3 in\n",
        "          zip(group_names,group_counts,group_percentages)]\n",
        "labels = np.asarray(labels).reshape(2,2)\n",
        "sns.heatmap(cm, annot=labels, fmt='', cmap='Blues')"
      ],
      "metadata": {
        "colab": {
          "base_uri": "https://localhost:8080/",
          "height": 287
        },
        "id": "lx9R4ncRZ0B9",
        "outputId": "d92e3f0f-f3e2-4524-9702-e49d3bd49252"
      },
      "execution_count": 49,
      "outputs": [
        {
          "output_type": "execute_result",
          "data": {
            "text/plain": [
              "<matplotlib.axes._subplots.AxesSubplot at 0x7fbc891e9a10>"
            ]
          },
          "metadata": {},
          "execution_count": 49
        },
        {
          "output_type": "display_data",
          "data": {
            "text/plain": [
              "<Figure size 432x288 with 2 Axes>"
            ],
            "image/png": "[encoded data removed]"
          },
          "metadata": {
            "needs_background": "light"
          }
        }
      ]
    },
    {
      "cell_type": "code",
      "source": [
        "from sklearn.datasets import make_blobs\n",
        "from sklearn.model_selection import RepeatedStratifiedKFold\n",
        "from sklearn.model_selection import GridSearchCV\n",
        "from sklearn.ensemble import RandomForestClassifier\n",
        "from sklearn.ensemble import RandomForestRegressor\n",
        "#from rfpimp import permutation_importances\n",
        "from sklearn.metrics import r2_score\n",
        "from sklearn.metrics import roc_curve\n",
        "from sklearn.metrics import roc_auc_score\n",
        "# define models and parameters\n",
        "model = RandomForestClassifier()\n",
        "n_estimators = [10]\n",
        "max_features = ['sqrt', 'log2']\n",
        "# define grid search\n",
        "grid = dict(n_estimators=n_estimators,max_features=max_features)\n",
        "cv = RepeatedStratifiedKFold(n_splits=3, n_repeats=3, random_state=1)\n",
        "grid_search = GridSearchCV(estimator=model, param_grid=grid, n_jobs=-1, cv=cv, scoring='accuracy',error_score=0)\n",
        "grid_result = grid_search.fit(X_train, Y_train)\n",
        "print(\"Best: %f using %s\" % (grid_result.best_score_, grid_result.best_params_))"
      ],
      "metadata": {
        "colab": {
          "base_uri": "https://localhost:8080/"
        },
        "id": "TsnYDJPtZ0D0",
        "outputId": "1284cf01-9925-4188-b166-bbffa843e6c5"
      },
      "execution_count": 50,
      "outputs": [
        {
          "output_type": "stream",
          "name": "stdout",
          "text": [
            "Best: 0.616402 using {'max_features': 'sqrt', 'n_estimators': 10}\n"
          ]
        }
      ]
    },
    {
      "cell_type": "code",
      "source": [
        "# Get the predictions\n",
        "y_pred = clr_rf.predict(X_test)\n",
        "#\n",
        "# Calculate the confusion matrix\n",
        "#\n",
        "conf_matrix = confusion_matrix(y_true=Y_test, y_pred=y_pred)\n",
        "print()\n",
        "print(\"Summary:Random-Forest Classiefier\")\n",
        "print('Precision: %.3f' % precision_score(Y_test, y_pred))\n",
        "print('Accuracy: %.3f' % accuracy_score(Y_test, y_pred))\n",
        "print('F1 Score: %.3f' % f1_score(Y_test, y_pred))\n",
        "print('Recall: %.3f' % recall_score(Y_test, y_pred))\n",
        "print('Roc-score: %.3f' % roc_auc_score(Y_test, y_pred))\n",
        "print()\n",
        "\n",
        "print(\"Result for ROC-CURVE\")\n",
        "ns_fpr, ns_tpr, _ = roc_curve(Y_test, y_pred)\n",
        "fig = plt.figure(figsize=(10,10))\n",
        "ax = fig.add_axes([0,0,1,1])\n",
        "ax.plot(ns_fpr, ns_tpr, linestyle='--', label='No Skill')"
      ],
      "metadata": {
        "colab": {
          "base_uri": "https://localhost:8080/",
          "height": 953
        },
        "id": "7oyG8N0tsCn7",
        "outputId": "952338f1-2385-47b2-a76c-d4c04249d6c6"
      },
      "execution_count": 51,
      "outputs": [
        {
          "output_type": "stream",
          "name": "stdout",
          "text": [
            "\n",
            "Summary:Random-Forest Classiefier\n",
            "Precision: 0.000\n",
            "Accuracy: 0.400\n",
            "F1 Score: 0.000\n",
            "Recall: 0.000\n",
            "Roc-score: 0.286\n",
            "\n",
            "Result for ROC-CURVE\n"
          ]
        },
        {
          "output_type": "execute_result",
          "data": {
            "text/plain": [
              "[<matplotlib.lines.Line2D at 0x7fbc890dced0>]"
            ]
          },
          "metadata": {},
          "execution_count": 51
        },
        {
          "output_type": "display_data",
          "data": {
            "text/plain": [
              "<Figure size 720x720 with 1 Axes>"
            ],
            "image/png": "[encoded data removed]"
          },
          "metadata": {
            "needs_background": "light"
          }
        }
      ]
    },
    {
      "cell_type": "code",
      "source": [
        "# define models and parameters\n",
        "model = sklearn.svm.SVC()\n",
        "kernel = ['linear', 'poly', 'rbf', 'sigmoid']\n",
        "gamma = ['scale', 'auto'] # for poly, rbf, sigmoid\n",
        "\n",
        "# define grid search\n",
        "grid = dict(kernel=kernel, gamma=gamma)\n",
        "cv = RepeatedStratifiedKFold(n_splits=3, n_repeats=3, random_state=1)\n",
        "grid_search = GridSearchCV(estimator=model, param_grid=grid, n_jobs=-1, cv=cv, scoring='accuracy', error_score=0)\n",
        "grid_result = grid_search.fit(X_train, Y_train)\n",
        "print(\"Best: %f using %s\" % (grid_result.best_score_, grid_result.best_params_))"
      ],
      "metadata": {
        "colab": {
          "base_uri": "https://localhost:8080/"
        },
        "id": "OieLI03dsCqE",
        "outputId": "ce9db396-ca72-4bca-c181-9972a3288d86"
      },
      "execution_count": 52,
      "outputs": [
        {
          "output_type": "stream",
          "name": "stderr",
          "text": [
            "/usr/local/lib/python3.7/dist-packages/joblib/externals/loky/process_executor.py:705: UserWarning: A worker stopped while some jobs were given to the executor. This can be caused by a too short worker timeout or by a memory leak.\n",
            "  \"timeout or by a memory leak.\", UserWarning\n"
          ]
        },
        {
          "output_type": "stream",
          "name": "stdout",
          "text": [
            "Best: 0.698413 using {'gamma': 'scale', 'kernel': 'poly'}\n"
          ]
        }
      ]
    },
    {
      "cell_type": "code",
      "source": [
        "clf_svm = sklearn.svm.SVC(kernel=grid_result.best_params_.get('kernel'), \n",
        "                  gamma=grid_result.best_params_.get('gamma'))     \n",
        "clr_svm = clf_svm.fit(X_train,Y_train)"
      ],
      "metadata": {
        "id": "-gUO2Gcdt-KH"
      },
      "execution_count": 54,
      "outputs": []
    },
    {
      "cell_type": "code",
      "source": [
        "ac = accuracy_score(Y_test,clf_svm.predict(X_test))\n",
        "print('Accuracy is: ', ac)\n",
        "\n",
        "# we get the true negative, false pos, false negative and true pos \n",
        "# we see the percentage of the represented data in each quadrant \n",
        "cm = confusion_matrix(Y_test, clf_svm.predict(X_test))\n",
        "sns.heatmap(cm/np.sum(cm),annot=True,fmt='.2%')"
      ],
      "metadata": {
        "colab": {
          "base_uri": "https://localhost:8080/",
          "height": 306
        },
        "id": "vgBboOpWsCsQ",
        "outputId": "96682df1-dd93-4103-8f0f-96ac7778d08a"
      },
      "execution_count": 55,
      "outputs": [
        {
          "output_type": "stream",
          "name": "stdout",
          "text": [
            "Accuracy is:  0.7\n"
          ]
        },
        {
          "output_type": "execute_result",
          "data": {
            "text/plain": [
              "<matplotlib.axes._subplots.AxesSubplot at 0x7fbc855e1b90>"
            ]
          },
          "metadata": {},
          "execution_count": 55
        },
        {
          "output_type": "display_data",
          "data": {
            "text/plain": [
              "<Figure size 432x288 with 2 Axes>"
            ],
            "image/png": "[encoded data removed]"
          },
          "metadata": {
            "needs_background": "light"
          }
        }
      ]
    },
    {
      "cell_type": "code",
      "source": [
        "group_names = [\"True Neg\", \"False Pos\", \"False Neg\", \"True Pos\"]\n",
        "group_counts = [\"{0:0.0f}\".format(value) for value in cm.flatten()]\n",
        "group_percentages = [\"{0:.2%}\".format(value) for value in cm.flatten()/np.sum(cm)]\n",
        "\n",
        "labels = [f\"{v1}\\n{v2}\\n{v3}\" for v1, v2, v3 in\n",
        "          zip(group_names, group_counts, group_percentages)]\n",
        "labels = np.asarray(labels).reshape(2,2)\n",
        "\n",
        "sns.heatmap(cm, annot=labels, fmt='', cmap='Blues')"
      ],
      "metadata": {
        "colab": {
          "base_uri": "https://localhost:8080/",
          "height": 287
        },
        "id": "rsV9iHpfsCuj",
        "outputId": "5b455ec1-665d-4b2a-daa6-7aa7281565f6"
      },
      "execution_count": 56,
      "outputs": [
        {
          "output_type": "execute_result",
          "data": {
            "text/plain": [
              "<matplotlib.axes._subplots.AxesSubplot at 0x7fbc89186dd0>"
            ]
          },
          "metadata": {},
          "execution_count": 56
        },
        {
          "output_type": "display_data",
          "data": {
            "text/plain": [
              "<Figure size 432x288 with 2 Axes>"
            ],
            "image/png": "[encoded data removed]"
          },
          "metadata": {
            "needs_background": "light"
          }
        }
      ]
    },
    {
      "cell_type": "code",
      "source": [
        "\n",
        "\n",
        "from sklearn.metrics import precision_score, recall_score, f1_score, accuracy_score, confusion_matrix, r2_score, roc_auc_score, roc_curve, auc\n",
        "fpr_rf, tpr_rf, _ = roc_curve(Y_test, clf_rf.predict(X_test), pos_label=1)\n",
        "roc_auc_rf = auc(fpr_rf, tpr_rf)\n",
        "\n",
        "fpr_svm, tpr_svm, _ = roc_curve(Y_test, clf_svm.predict(X_test), pos_label=1)\n",
        "roc_auc_svm = auc(fpr_svm, tpr_svm)\n",
        "\n",
        "plt.figure()\n",
        "plt.plot(fpr_rf, tpr_rf, color=\"darkorange\", lw=2,\n",
        "         label=\"Random Forest (area = %0.2f)\" % roc_auc_rf)\n",
        "plt.plot(fpr_svm, tpr_svm, color=\"green\", lw=2,\n",
        "         label=\"SVM (area = %0.2f)\" % roc_auc_svm)\n",
        "plt.plot([0, 1], [0, 1], color=\"navy\", lw=2, linestyle=\"--\")\n",
        "plt.xlim([0.0, 1.0])\n",
        "plt.ylim([0.0, 1.0])\n",
        "plt.xlabel(\"False Positive Rate\")\n",
        "plt.ylabel(\"True Positive Rate\")\n",
        "plt.title(\"ROC curve for Random Forest and SVM using ChIP-seq\")\n",
        "plt.legend(loc=\"lower right\")\n",
        "plt.show()\n",
        "\n"
      ],
      "metadata": {
        "colab": {
          "base_uri": "https://localhost:8080/",
          "height": 295
        },
        "id": "Gtqlp1ZIsCyO",
        "outputId": "d6a35e9b-9275-4bfe-8d84-70e930a523bb"
      },
      "execution_count": 57,
      "outputs": [
        {
          "output_type": "display_data",
          "data": {
            "text/plain": [
              "<Figure size 432x288 with 1 Axes>"
            ],
            "image/png": "[encoded data removed]"
          },
          "metadata": {
            "needs_background": "light"
          }
        }
      ]
    },
    {
      "cell_type": "code",
      "source": [
        "# Get the predictions\n",
        "y_pred = clr_svm.predict(X_test)\n",
        "#\n",
        "# Calculate the confusion matrix\n",
        "#\n",
        "conf_matrix = confusion_matrix(y_true=Y_test, y_pred=y_pred)\n",
        "print()\n",
        "print(\"Summary: Support Vector Machine\")\n",
        "print('Precision: %.3f' % precision_score(Y_test, y_pred))\n",
        "print('Accuracy: %.3f' % accuracy_score(Y_test, y_pred))\n",
        "print('F1 Score: %.3f' % f1_score(Y_test, y_pred))\n",
        "print('Recall: %.3f' % recall_score(Y_test, y_pred))\n",
        "print('Roc-score: %.3f' % roc_auc_score(Y_test, y_pred))\n",
        "print()\n",
        "\n",
        "print(\"Result for ROC-CURVE\")\n",
        "ns_fpr, ns_tpr, _ = roc_curve(Y_test, y_pred)\n",
        "fig = plt.figure(figsize=(10,10))\n",
        "ax = fig.add_axes([0,0,1,1])\n",
        "ax.plot(ns_fpr, ns_tpr, linestyle='--', label='No Skill')"
      ],
      "metadata": {
        "colab": {
          "base_uri": "https://localhost:8080/",
          "height": 1000
        },
        "id": "teWo5LMt2QfP",
        "outputId": "079ea6ea-f425-4ef6-d120-6b1a1f2bc14e"
      },
      "execution_count": 58,
      "outputs": [
        {
          "output_type": "stream",
          "name": "stdout",
          "text": [
            "\n",
            "Summary: Support Vector Machine\n",
            "Precision: 0.000\n",
            "Accuracy: 0.700\n",
            "F1 Score: 0.000\n",
            "Recall: 0.000\n",
            "Roc-score: 0.500\n",
            "\n",
            "Result for ROC-CURVE\n"
          ]
        },
        {
          "output_type": "stream",
          "name": "stderr",
          "text": [
            "/usr/local/lib/python3.7/dist-packages/sklearn/metrics/_classification.py:1318: UndefinedMetricWarning: Precision is ill-defined and being set to 0.0 due to no predicted samples. Use `zero_division` parameter to control this behavior.\n",
            "  _warn_prf(average, modifier, msg_start, len(result))\n"
          ]
        },
        {
          "output_type": "execute_result",
          "data": {
            "text/plain": [
              "[<matplotlib.lines.Line2D at 0x7fbc88eaee90>]"
            ]
          },
          "metadata": {},
          "execution_count": 58
        },
        {
          "output_type": "display_data",
          "data": {
            "text/plain": [
              "<Figure size 720x720 with 1 Axes>"
            ],
            "image/png": "[encoded data removed]"
          },
          "metadata": {
            "needs_background": "light"
          }
        }
      ]
    },
    {
      "cell_type": "code",
      "source": [
        "fpr_rf, tpr_rf, _ = roc_curve(Y_test, clf_rf.predict(X_test), pos_label=1)\n",
        "roc_auc_rf = auc(fpr_rf, tpr_rf)\n",
        "\n",
        "fpr_svm, tpr_svm, _ = roc_curve(Y_test, clf_svm.predict(X_test), pos_label=1)\n",
        "roc_auc_svm = auc(fpr_svm, tpr_svm)\n",
        "\n",
        "plt.figure()\n",
        "plt.plot(fpr_rf, tpr_rf, color=\"darkorange\", lw=2,\n",
        "         label=\"Random Forest (area = %0.2f)\" % roc_auc_rf)\n",
        "plt.plot(fpr_svm, tpr_svm, color=\"green\", lw=2,\n",
        "         label=\"SVM (area = %0.2f)\" % roc_auc_svm)\n",
        "plt.plot([0, 1], [0, 1], color=\"navy\", lw=2, linestyle=\"--\")\n",
        "plt.xlim([0.0, 1.0])\n",
        "plt.ylim([0.0, 1.0])\n",
        "plt.xlabel(\"False Positive Rate\")\n",
        "plt.ylabel(\"True Positive Rate\")\n",
        "plt.title(\"ROC curve for Random Forest and SVM\")\n",
        "plt.legend(loc=\"lower right\")\n",
        "plt.show()"
      ],
      "metadata": {
        "colab": {
          "base_uri": "https://localhost:8080/",
          "height": 295
        },
        "id": "tpfPnt-PbznS",
        "outputId": "52fd02a7-7e34-44d5-9010-156a3009afda"
      },
      "execution_count": 46,
      "outputs": [
        {
          "output_type": "display_data",
          "data": {
            "text/plain": [
              "<Figure size 432x288 with 1 Axes>"
            ],
            "image/png": "[encoded data removed]"
          },
          "metadata": {
            "needs_background": "light"
          }
        }
      ]
    }
  ]
}