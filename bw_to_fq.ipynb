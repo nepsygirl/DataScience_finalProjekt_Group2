{
  "metadata": {
    "language_info": {
      "codemirror_mode": {
        "name": "python",
        "version": 3
      },
      "file_extension": ".py",
      "mimetype": "text/x-python",
      "name": "python",
      "nbconvert_exporter": "python",
      "pygments_lexer": "ipython3",
      "version": "3.8"
    },
    "kernelspec": {
      "name": "python",
      "display_name": "Python (Pyodide)",
      "language": "python"
    }
  },
  "nbformat_minor": 4,
  "nbformat": 4,
  "cells": [
    {
      "cell_type": "code",
      "source": "# for .bw files\n\n\nfrom pickle import TRUE\nimport subprocess\n\npath = '/home/melika/analysis/' \npath_bw= '/home/melika/analysis/H2K4me1/' \n\n\nimport os\n\nfiles = os.listdir(path)\nfor file in files:\n  if file.endswith('.gz'):\n        files.remove(file) \nfiles = [x[:-3] if x.endswith('.bw') else x for x in files]\n\n\n# steps of conversion the bigwig files to fastq to use them in FastQC.\n\nfor file in files:\n\n  #bigwig to wig foramt\n  bigwigtowig = \"bigWigToWig \" + path_bw + file + \".bw \" + path_bw + file + \".wig\"\n  subprocess.call(bigwigtowig,shell=True)\n \n  #wig to bed format\n  wigtobed = \"wig2bed  < \" + path_bw + file + \".wig -x > \" + path_bw + file + \".bed\"\n  subprocess.call(wigtobed, shell=True)\n\n  #bed to fa format using genome reference(hg19.fa)\n  getfasta = \"bedtools getfasta -fi \" + path + \"hg19.fa -bed \" + path_bw + file + \".bed -fo \" + path_bw + file + \".fa\"\n  subprocess.call(getfasta, shell=True)\n  \n  #fa to fq format using perl script\n  perl = \"perl \" + path + \"fasta_to_fastq.pl \" + path_bw + file + \".fa > \" + path_bw + file + \".fq\"\n  subprocess.call(perl, shell=True)\n\n\n\n\n",
      "metadata": {},
      "execution_count": null,
      "outputs": []
    }
  ]
}