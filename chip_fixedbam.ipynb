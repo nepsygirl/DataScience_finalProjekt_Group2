{
  "metadata": {
    "language_info": {
      "codemirror_mode": {
        "name": "python",
        "version": 3
      },
      "file_extension": ".py",
      "mimetype": "text/x-python",
      "name": "python",
      "nbconvert_exporter": "python",
      "pygments_lexer": "ipython3",
      "version": "3.8"
    },
    "kernelspec": {
      "name": "python",
      "display_name": "Python (Pyodide)",
      "language": "python"
    }
  },
  "nbformat_minor": 4,
  "nbformat": 4,
  "cells": [
    {
      "cell_type": "code",
      "source": "from pickle import TRUE\nimport subprocess\n\npath = '/home/melika/analysis/' \npath_bw= '/home/melika/analysis/H3K122ac/' \n\n\nimport os\n\nfiles = os.listdir(path)\nfor file in files:\n  if file.endswith('.gz'):\n        files.remove(file) \nfiles = [x[:-4] if x.endswith('.bed') else x for x in files]\n\n\n\n#this script was for conversion the chip-seq from bed to bam format \n#and creat the count matrix from bam files for each chip modification.\n#But unfortunately it did not work.\n\n\nfor file in files:\n\n  #bed to bam format\n  bedToBam = \"bedToBam -i \" + path + file + \".bed -g \" + path + \"hg19.txt > \" + path + file + \".bam\" \n  subprocess.call(bedToBam,shell=True)\n\n  #check the header of bam file\n  samtools = \"samtools view -H \" + path + file + \".bam > \" + path + file + \".txt\"\n  subprocess.call(samtools, shell=True)\n  \n  #Because bedtools enforces that each BAM has the same set and order of chromosomes in the BAM headers.\n  #replace the header in all bam files, because all bam file should have the same sorted header to create the count matrix\n  samtools1 =  \"samtools reheader \" + path + file + \".txt \" + path + file + \".bam > \" + path + file + \"fixed.bam\"\n  subprocess.call(samtools1,shell=True)\n  \n  #Indexing a sorted bam file enables rapid extraction of alignments that overlap with specific genomic regions.\n  #we needed this fixed bams and merged bed files containing the merged peaks to generate the count matrix \n  samtools2 = \"samtools index \" + path + file + \"fixed.bam \"\n  subprocess.call(samtools2, shell=True)\n  \n",
      "metadata": {},
      "execution_count": null,
      "outputs": []
    }
  ]
}